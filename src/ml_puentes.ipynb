{
 "cells": [
  {
   "cell_type": "code",
   "execution_count": 25,
   "id": "0ae64a4e",
   "metadata": {},
   "outputs": [
    {
     "name": "stdout",
     "output_type": "stream",
     "text": [
      "The autoreload extension is already loaded. To reload it, use:\n",
      "  %reload_ext autoreload\n"
     ]
    }
   ],
   "source": [
    "\n",
    "import pandas as pd\n",
    "\n",
    "from sklearn.model_selection import train_test_split, GridSearchCV, cross_validate, cross_val_score, RepeatedKFold, LeaveOneOut\n",
    "from sklearn.compose import ColumnTransformer, TransformedTargetRegressor\n",
    "from sklearn.preprocessing import OneHotEncoder, StandardScaler\n",
    "from sklearn.pipeline import Pipeline\n",
    "from sklearn.svm import SVR\n",
    "from sklearn.linear_model import HuberRegressor, LinearRegression\n",
    "from sklearn.metrics import r2_score, mean_absolute_error, mean_squared_error, make_scorer\n",
    "from sklearn.model_selection import cross_val_predict\n",
    "import numpy as np, seaborn as sns, matplotlib.pyplot as plt\n",
    "import plotly.graph_objects as go\n",
    "import plotly.express as px\n",
    "import os\n",
    "import sys\n",
    "from scipy.stats import linregress\n",
    "\n",
    "from sklearn.ensemble import IsolationForest\n",
    "from sklearn.neighbors import LocalOutlierFactor\n",
    "from sklearn.preprocessing import StandardScaler\n",
    "\n",
    "# Add project root to path (for Jupyter notebooks)\n",
    "# Get the current directory and navigate to project root\n",
    "current_dir = os.getcwd()\n",
    "project_root = os.path.dirname(current_dir)\n",
    "sys.path.insert(0, project_root)\n",
    "\n",
    "from src.config import Config\n",
    "import src.eda as eda\n",
    "import src.present_value as present_value\n",
    "from src.ml_utils import remove_outliers, calculate_metrics, analysis_plots, create_scatter_plot_with_regression\n",
    "\n",
    "%load_ext autoreload\n",
    "%autoreload 2\n",
    "%reload_ext autoreload\n"
   ]
  },
  {
   "cell_type": "code",
   "execution_count": null,
   "id": "be23177d",
   "metadata": {},
   "outputs": [],
   "source": [
    "# REUSABLE FUNCTIONS FOR BRIDGE AND STRUCTURES DATA ANALYSIS\n",
    "\n",
    "def prepare_data(df_vp, target_name, exclude_codes=None, contamination=0.1):\n",
    "    \"\"\"\n",
    "    Prepare and clean bridge data for a specific target variable.\n",
    "    \"\"\"\n",
    "    # Select relevant columns\n",
    "    df = df_vp.loc[:, 'CÓDIGO':'ALCANCE'].join(df_vp.loc[:, [target_name]])\n",
    "    \n",
    "    # Group by project code\n",
    "    puentes_cols = ['PUENTES VEHICULARES UND', 'PUENTES VEHICULARES M2', 'PUENTES PEATONALES UND']\n",
    "    df_grouped = df.groupby('CÓDIGO').agg({\n",
    "        'ALCANCE': 'first',\n",
    "        'PUENTES VEHICULARES UND': 'sum',\n",
    "        'PUENTES VEHICULARES M2': 'sum',\n",
    "        'PUENTES PEATONALES UND': 'sum',\n",
    "        target_name: 'sum'\n",
    "    }).reset_index()\n",
    "    \n",
    "    # Filter: projects with bridges and positive target values\n",
    "    df_filtered = df_grouped[\n",
    "        (df_grouped[puentes_cols].sum(axis=1) > 0) & \n",
    "        (df_grouped[target_name] > 0)\n",
    "    ]\n",
    "    \n",
    "    # Exclude specific codes if provided\n",
    "    if exclude_codes:\n",
    "        df_filtered = df_filtered[~df_filtered['CÓDIGO'].isin(exclude_codes)]\n",
    "    \n",
    "    # Remove outliers\n",
    "    df_clean = remove_outliers(df_filtered, target_name, contamination=contamination)\n",
    "    \n",
    "    return df_filtered, df_clean\n",
    "\n",
    "\n",
    "def train_linear_regression_with_loo(X, y, use_log_transform=False, model_name=None):\n",
    "    \"\"\"\n",
    "    Train linear regression model using Leave-One-Out cross-validation.\n",
    "    \"\"\"\n",
    "    # Ensure X is 2D\n",
    "    if X.ndim == 1:\n",
    "        X = X.reshape(-1, 1)\n",
    "    \n",
    "    # Remove zeros if using log transform\n",
    "    if use_log_transform:\n",
    "        mask_nonzero = (X.flatten() > 0) & (y > 0)\n",
    "        X = X[mask_nonzero]\n",
    "        y = y[mask_nonzero]\n",
    "    \n",
    "    # Initialize Leave-One-Out\n",
    "    loo = LeaveOneOut()\n",
    "    \n",
    "    # Create model\n",
    "    if use_log_transform:\n",
    "        model = TransformedTargetRegressor(\n",
    "            regressor=Pipeline([\n",
    "                ('scaler', StandardScaler()),\n",
    "                ('regressor', LinearRegression())\n",
    "            ]),\n",
    "            func=np.log,\n",
    "            inverse_func=np.exp\n",
    "        )\n",
    "    else:\n",
    "        model = Pipeline([\n",
    "            ('scaler', StandardScaler()),\n",
    "            ('regressor', LinearRegression())\n",
    "        ])\n",
    "    \n",
    "    # LOO Cross-validation\n",
    "    y_pred = np.zeros_like(y)\n",
    "    for train_idx, test_idx in loo.split(X):\n",
    "        X_train, X_test = X[train_idx], X[test_idx]\n",
    "        y_train, y_test = y[train_idx], y[test_idx]\n",
    "        \n",
    "        model.fit(X_train, y_train)\n",
    "        y_pred[test_idx] = model.predict(X_test)\n",
    "    \n",
    "    # Calculate metrics\n",
    "    if model_name is None:\n",
    "        model_name = \"Log Transform\" if use_log_transform else \"No Transform\"\n",
    "    \n",
    "    metrics = calculate_metrics(y, y_pred, model_name)\n",
    "    \n",
    "    # Fit final model on all data\n",
    "    model.fit(X, y)\n",
    "    \n",
    "    return {\n",
    "        'predictions': y_pred,\n",
    "        'metrics': metrics,\n",
    "        'model': model,\n",
    "        'X': X,\n",
    "        'y': y\n",
    "    }\n",
    "\n",
    "\n",
    "def run_complete_analysis(df_vp, target_name, predictor_name, \n",
    "                          exclude_codes=None, use_log_transform=False):\n",
    "    \"\"\"\n",
    "    Run complete analysis pipeline: prepare data, visualize, train model, and evaluate.\n",
    "    \"\"\"\n",
    "    print(\"=\" * 90)\n",
    "    print(f\"ANALYSIS: {predictor_name} → {target_name}\")\n",
    "    if use_log_transform:\n",
    "        print(\"(with Log Transformation)\")\n",
    "    print(\"=\" * 90)\n",
    "    \n",
    "    # 1. Prepare data\n",
    "    df_filtered, df_clean = prepare_data(df_vp, target_name, exclude_codes)\n",
    "    print(f\"\\nDataset size: {len(df_clean)} samples\")\n",
    "    \n",
    "    # 2. Create scatter plot with regression (with interactive tooltips)\n",
    "    print(\"\\n📊 Creating scatter plot with regression line...\")\n",
    "    create_scatter_plot_with_regression(\n",
    "        df_filtered, \n",
    "        predictor_name, \n",
    "        target_name,\n",
    "        df_raw=None,  # No df_raw for bridge analysis\n",
    "        title=f'{predictor_name} vs {target_name} by ALCANCE'\n",
    "    )\n",
    "    \n",
    "    # 3. Train model and get predictions\n",
    "    print(f\"\\n🤖 Training {'log-transformed ' if use_log_transform else ''}linear regression model...\")\n",
    "    X = df_clean[predictor_name].values\n",
    "    y = df_clean[target_name].values\n",
    "    \n",
    "    results = train_linear_regression_with_loo(\n",
    "        X, y, \n",
    "        use_log_transform=use_log_transform,\n",
    "        model_name=f\"{target_name} {'(Log)' if use_log_transform else ''}\"\n",
    "    )\n",
    "    \n",
    "    # 4. Display metrics\n",
    "    metrics = results['metrics']\n",
    "    print(f\"\\n📈 Model Performance:\")\n",
    "    print(f\"  R²:         {metrics['R²']:.4f}\")\n",
    "    print(f\"  RMSE:       {metrics['RMSE']:,.2f}\")\n",
    "    print(f\"  MAPE:       {metrics['MAPE (%)']:.2f}%\")\n",
    "    print(f\"  Median AE:  {metrics.get('Median AE', 0):,.2f}\")\n",
    "    \n",
    "    # 5. Create actual vs predicted plot\n",
    "    print(\"\\n📊 Creating actual vs predicted plot...\")\n",
    "    \n",
    "    # If log transform was used, filter df_clean to match the filtered data\n",
    "    df_for_plot = df_clean.copy()\n",
    "    if use_log_transform and len(results['y']) < len(df_clean):\n",
    "        # Filter to remove zeros (same logic as in train_linear_regression_with_loo)\n",
    "        mask_nonzero = (df_clean[predictor_name] > 0) & (df_clean[target_name] > 0)\n",
    "        df_for_plot = df_clean[mask_nonzero].copy()\n",
    "    \n",
    "    # Use centralized analysis_plots from ml_utils\n",
    "    analysis_plots(\n",
    "        results['y'], \n",
    "        results['predictions'],\n",
    "        df_for_plot,\n",
    "        predictor_name,\n",
    "        target_name,\n",
    "        hue_name='ALCANCE',\n",
    "        df_raw=None  # No df_raw available in bridge analysis\n",
    "    )\n",
    "    \n",
    "    print(\"\\n\" + \"=\" * 90)\n",
    "    \n",
    "    return {\n",
    "        'df_filtered': df_filtered,\n",
    "        'df_clean': df_clean,\n",
    "        'model_results': results,\n",
    "        'metrics': metrics\n",
    "    }\n"
   ]
  },
  {
   "cell_type": "code",
   "execution_count": 30,
   "id": "c92c94d6",
   "metadata": {},
   "outputs": [
    {
     "name": "stderr",
     "output_type": "stream",
     "text": [
      "c:\\Code\\Road-Project-Prediction\\src\\eda.py:292: FutureWarning:\n",
      "\n",
      "Downcasting object dtype arrays on .fillna, .ffill, .bfill is deprecated and will change in a future version. Call result.infer_objects(copy=False) instead. To opt-in to the future behavior, set `pd.set_option('future.no_silent_downcasting', True)`\n",
      "\n"
     ]
    }
   ],
   "source": [
    "## EXTRACT DATA FROM DATABASE\n",
    "pv = present_value.PresentValue()\n",
    "anual_increment = pv.fetch_incremento_from_database()\n",
    "\n",
    "fase = \"III\"\n",
    "preproccesing = eda.EDA()\n",
    "df_raw = preproccesing.assemble_projects_from_database(fase)\n",
    "df_vp = preproccesing.create_dataset(pv.present_value_costs, fase=fase)"
   ]
  },
  {
   "cell_type": "code",
   "execution_count": null,
   "id": "280a20f7",
   "metadata": {},
   "outputs": [
    {
     "name": "stdout",
     "output_type": "stream",
     "text": [
      "==========================================================================================\n",
      "ANALYSIS: PUENTES VEHICULARES M2 → 4 - SUELOS\n",
      "(with Log Transformation)\n",
      "==========================================================================================\n",
      "  → Warning: Only 7 samples. Skipping outlier detection.\n",
      "\n",
      "Dataset size: 7 samples\n",
      "\n",
      "📊 Creating scatter plot with regression line...\n"
     ]
    },
    {
     "data": {
      "image/png": "[encoded data removed]",
      "text/plain": [
       "<Figure size 1200x600 with 1 Axes>"
      ]
     },
     "metadata": {},
     "output_type": "display_data"
    },
    {
     "name": "stdout",
     "output_type": "stream",
     "text": [
      "\n",
      "🤖 Training log-transformed linear regression model...\n",
      "\n",
      "📈 Model Performance:\n",
      "  R²:         0.9307\n",
      "  RMSE:       75,610,324.78\n",
      "  MAPE:       39.00%\n",
      "  Median AE:  35,176,572.00\n",
      "\n",
      "📊 Creating actual vs predicted plot...\n"
     ]
    },
    {
     "data": {
      "application/vnd.plotly.v1+json": {
       "config": {
        "plotlyServerURL": "https://plot.ly"
       },
       "data": [
        {
         "customdata": [
          "<b>ALCANCE:</b> Mejoramiento<br><b>Código:</b> 0552903<br><b>PUENTES VEHICULARES M2:</b> 3837.00<br><b>Valor Real:</b> $66,960,693<br><b>Predicción:</b> $87,699,679",
          "<b>ALCANCE:</b> Mejoramiento<br><b>Código:</b> 0581301<br><b>PUENTES VEHICULARES M2:</b> 38.00<br><b>Valor Real:</b> $42,853,482<br><b>Predicción:</b> $81,238,083"
         ],
         "hovertemplate": "%{customdata}<extra></extra>",
         "marker": {
          "color": "#2ca02c",
          "line": {
           "color": "white",
           "width": 1
          },
          "opacity": 0.8,
          "size": 12
         },
         "mode": "markers",
         "name": "Mejoramiento",
         "type": "scatter",
         "x": {
          "bdata": "SB8LpOntj0HzmcpOI2+EQQ==",
          "dtype": "f8"
         },
         "y": {
          "bdata": "T8bDfcPolEFeiXAMYV6TQQ==",
          "dtype": "f8"
         }
        },
        {
         "customdata": [
          "<b>ALCANCE:</b> Rehabilitación<br><b>Código:</b> 0347801<br><b>PUENTES VEHICULARES M2:</b> 51069.00<br><b>Valor Real:</b> $866,995,019<br><b>Predicción:</b> $999,422,533"
         ],
         "hovertemplate": "%{customdata}<extra></extra>",
         "marker": {
          "color": "#d62728",
          "line": {
           "color": "white",
           "width": 1
          },
          "opacity": 0.8,
          "size": 12
         },
         "mode": "markers",
         "name": "Rehabilitación",
         "type": "scatter",
         "x": {
          "bdata": "OwelpaXWyUE=",
          "dtype": "f8"
         },
         "y": {
          "bdata": "0AtCIv3IzUE=",
          "dtype": "f8"
         }
        },
        {
         "customdata": [
          "<b>ALCANCE:</b> Segunda calzada<br><b>Código:</b> 0001<br><b>PUENTES VEHICULARES M2:</b> 4856.00<br><b>Valor Real:</b> $187,843,738<br><b>Predicción:</b> $70,797,810",
          "<b>ALCANCE:</b> Segunda calzada<br><b>Código:</b> 0300605<br><b>PUENTES VEHICULARES M2:</b> 16654.00<br><b>Valor Real:</b> $130,801,475<br><b>Predicción:</b> $162,770,018",
          "<b>ALCANCE:</b> Segunda calzada<br><b>Código:</b> 6935<br><b>PUENTES VEHICULARES M2:</b> 6292.00<br><b>Valor Real:</b> $102,991,160<br><b>Predicción:</b> $91,190,283"
         ],
         "hovertemplate": "%{customdata}<extra></extra>",
         "marker": {
          "color": "#1f77b4",
          "line": {
           "color": "white",
           "width": 1
          },
          "opacity": 0.8,
          "size": 12
         },
         "mode": "markers",
         "name": "Segunda calzada",
         "type": "scatter",
         "x": {
          "bdata": "wMb8NIlkpkEVgogLfS+fQU6URd8UjphB",
          "dtype": "f8"
         },
         "y": {
          "bdata": "+5V2xyfhkEEozzrDWGejQe4fYCvQvZVB",
          "dtype": "f8"
         }
        },
        {
         "line": {
          "color": "red",
          "dash": "dash",
          "width": 2
         },
         "mode": "lines",
         "name": "Predicción Perfecta",
         "showlegend": true,
         "type": "scatter",
         "x": [
          42853481.84892645,
          999422532.5159855
         ],
         "y": [
          42853481.84892645,
          999422532.5159855
         ]
        }
       ],
       "layout": {
        "height": 600,
        "hovermode": "closest",
        "legend": {
         "bgcolor": "rgba(255, 255, 255, 0.9)",
         "bordercolor": "lightgray",
         "borderwidth": 1,
         "orientation": "v",
         "x": 0.01,
         "xanchor": "left",
         "y": 0.99,
         "yanchor": "top"
        },
        "paper_bgcolor": "white",
        "plot_bgcolor": "white",
        "template": {
         "data": {
          "bar": [
           {
            "error_x": {
             "color": "#2a3f5f"
            },
            "error_y": {
             "color": "#2a3f5f"
            },
            "marker": {
             "line": {
              "color": "#E5ECF6",
              "width": 0.5
             },
             "pattern": {
              "fillmode": "overlay",
              "size": 10,
              "solidity": 0.2
             }
            },
            "type": "bar"
           }
          ],
          "barpolar": [
           {
            "marker": {
             "line": {
              "color": "#E5ECF6",
              "width": 0.5
             },
             "pattern": {
              "fillmode": "overlay",
              "size": 10,
              "solidity": 0.2
             }
            },
            "type": "barpolar"
           }
          ],
          "carpet": [
           {
            "aaxis": {
             "endlinecolor": "#2a3f5f",
             "gridcolor": "white",
             "linecolor": "white",
             "minorgridcolor": "white",
             "startlinecolor": "#2a3f5f"
            },
            "baxis": {
             "endlinecolor": "#2a3f5f",
             "gridcolor": "white",
             "linecolor": "white",
             "minorgridcolor": "white",
             "startlinecolor": "#2a3f5f"
            },
            "type": "carpet"
           }
          ],
          "choropleth": [
           {
            "colorbar": {
             "outlinewidth": 0,
             "ticks": ""
            },
            "type": "choropleth"
           }
          ],
          "contour": [
           {
            "colorbar": {
             "outlinewidth": 0,
             "ticks": ""
            },
            "colorscale": [
             [
              0,
              "#0d0887"
             ],
             [
              0.1111111111111111,
              "#46039f"
             ],
             [
              0.2222222222222222,
              "#7201a8"
             ],
             [
              0.3333333333333333,
              "#9c179e"
             ],
             [
              0.4444444444444444,
              "#bd3786"
             ],
             [
              0.5555555555555556,
              "#d8576b"
             ],
             [
              0.6666666666666666,
              "#ed7953"
             ],
             [
              0.7777777777777778,
              "#fb9f3a"
             ],
             [
              0.8888888888888888,
              "#fdca26"
             ],
             [
              1,
              "#f0f921"
             ]
            ],
            "type": "contour"
           }
          ],
          "contourcarpet": [
           {
            "colorbar": {
             "outlinewidth": 0,
             "ticks": ""
            },
            "type": "contourcarpet"
           }
          ],
          "heatmap": [
           {
            "colorbar": {
             "outlinewidth": 0,
             "ticks": ""
            },
            "colorscale": [
             [
              0,
              "#0d0887"
             ],
             [
              0.1111111111111111,
              "#46039f"
             ],
             [
              0.2222222222222222,
              "#7201a8"
             ],
             [
              0.3333333333333333,
              "#9c179e"
             ],
             [
              0.4444444444444444,
              "#bd3786"
             ],
             [
              0.5555555555555556,
              "#d8576b"
             ],
             [
              0.6666666666666666,
              "#ed7953"
             ],
             [
              0.7777777777777778,
              "#fb9f3a"
             ],
             [
              0.8888888888888888,
              "#fdca26"
             ],
             [
              1,
              "#f0f921"
             ]
            ],
            "type": "heatmap"
           }
          ],
          "histogram": [
           {
            "marker": {
             "pattern": {
              "fillmode": "overlay",
              "size": 10,
              "solidity": 0.2
             }
            },
            "type": "histogram"
           }
          ],
          "histogram2d": [
           {
            "colorbar": {
             "outlinewidth": 0,
             "ticks": ""
            },
            "colorscale": [
             [
              0,
              "#0d0887"
             ],
             [
              0.1111111111111111,
              "#46039f"
             ],
             [
              0.2222222222222222,
              "#7201a8"
             ],
             [
              0.3333333333333333,
              "#9c179e"
             ],
             [
              0.4444444444444444,
              "#bd3786"
             ],
             [
              0.5555555555555556,
              "#d8576b"
             ],
             [
              0.6666666666666666,
              "#ed7953"
             ],
             [
              0.7777777777777778,
              "#fb9f3a"
             ],
             [
              0.8888888888888888,
              "#fdca26"
             ],
             [
              1,
              "#f0f921"
             ]
            ],
            "type": "histogram2d"
           }
          ],
          "histogram2dcontour": [
           {
            "colorbar": {
             "outlinewidth": 0,
             "ticks": ""
            },
            "colorscale": [
             [
              0,
              "#0d0887"
             ],
             [
              0.1111111111111111,
              "#46039f"
             ],
             [
              0.2222222222222222,
              "#7201a8"
             ],
             [
              0.3333333333333333,
              "#9c179e"
             ],
             [
              0.4444444444444444,
              "#bd3786"
             ],
             [
              0.5555555555555556,
              "#d8576b"
             ],
             [
              0.6666666666666666,
              "#ed7953"
             ],
             [
              0.7777777777777778,
              "#fb9f3a"
             ],
             [
              0.8888888888888888,
              "#fdca26"
             ],
             [
              1,
              "#f0f921"
             ]
            ],
            "type": "histogram2dcontour"
           }
          ],
          "mesh3d": [
           {
            "colorbar": {
             "outlinewidth": 0,
             "ticks": ""
            },
            "type": "mesh3d"
           }
          ],
          "parcoords": [
           {
            "line": {
             "colorbar": {
              "outlinewidth": 0,
              "ticks": ""
             }
            },
            "type": "parcoords"
           }
          ],
          "pie": [
           {
            "automargin": true,
            "type": "pie"
           }
          ],
          "scatter": [
           {
            "fillpattern": {
             "fillmode": "overlay",
             "size": 10,
             "solidity": 0.2
            },
            "type": "scatter"
           }
          ],
          "scatter3d": [
           {
            "line": {
             "colorbar": {
              "outlinewidth": 0,
              "ticks": ""
             }
            },
            "marker": {
             "colorbar": {
              "outlinewidth": 0,
              "ticks": ""
             }
            },
            "type": "scatter3d"
           }
          ],
          "scattercarpet": [
           {
            "marker": {
             "colorbar": {
              "outlinewidth": 0,
              "ticks": ""
             }
            },
            "type": "scattercarpet"
           }
          ],
          "scattergeo": [
           {
            "marker": {
             "colorbar": {
              "outlinewidth": 0,
              "ticks": ""
             }
            },
            "type": "scattergeo"
           }
          ],
          "scattergl": [
           {
            "marker": {
             "colorbar": {
              "outlinewidth": 0,
              "ticks": ""
             }
            },
            "type": "scattergl"
           }
          ],
          "scattermap": [
           {
            "marker": {
             "colorbar": {
              "outlinewidth": 0,
              "ticks": ""
             }
            },
            "type": "scattermap"
           }
          ],
          "scattermapbox": [
           {
            "marker": {
             "colorbar": {
              "outlinewidth": 0,
              "ticks": ""
             }
            },
            "type": "scattermapbox"
           }
          ],
          "scatterpolar": [
           {
            "marker": {
             "colorbar": {
              "outlinewidth": 0,
              "ticks": ""
             }
            },
            "type": "scatterpolar"
           }
          ],
          "scatterpolargl": [
           {
            "marker": {
             "colorbar": {
              "outlinewidth": 0,
              "ticks": ""
             }
            },
            "type": "scatterpolargl"
           }
          ],
          "scatterternary": [
           {
            "marker": {
             "colorbar": {
              "outlinewidth": 0,
              "ticks": ""
             }
            },
            "type": "scatterternary"
           }
          ],
          "surface": [
           {
            "colorbar": {
             "outlinewidth": 0,
             "ticks": ""
            },
            "colorscale": [
             [
              0,
              "#0d0887"
             ],
             [
              0.1111111111111111,
              "#46039f"
             ],
             [
              0.2222222222222222,
              "#7201a8"
             ],
             [
              0.3333333333333333,
              "#9c179e"
             ],
             [
              0.4444444444444444,
              "#bd3786"
             ],
             [
              0.5555555555555556,
              "#d8576b"
             ],
             [
              0.6666666666666666,
              "#ed7953"
             ],
             [
              0.7777777777777778,
              "#fb9f3a"
             ],
             [
              0.8888888888888888,
              "#fdca26"
             ],
             [
              1,
              "#f0f921"
             ]
            ],
            "type": "surface"
           }
          ],
          "table": [
           {
            "cells": {
             "fill": {
              "color": "#EBF0F8"
             },
             "line": {
              "color": "white"
             }
            },
            "header": {
             "fill": {
              "color": "#C8D4E3"
             },
             "line": {
              "color": "white"
             }
            },
            "type": "table"
           }
          ]
         },
         "layout": {
          "annotationdefaults": {
           "arrowcolor": "#2a3f5f",
           "arrowhead": 0,
           "arrowwidth": 1
          },
          "autotypenumbers": "strict",
          "coloraxis": {
           "colorbar": {
            "outlinewidth": 0,
            "ticks": ""
           }
          },
          "colorscale": {
           "diverging": [
            [
             0,
             "#8e0152"
            ],
            [
             0.1,
             "#c51b7d"
            ],
            [
             0.2,
             "#de77ae"
            ],
            [
             0.3,
             "#f1b6da"
            ],
            [
             0.4,
             "#fde0ef"
            ],
            [
             0.5,
             "#f7f7f7"
            ],
            [
             0.6,
             "#e6f5d0"
            ],
            [
             0.7,
             "#b8e186"
            ],
            [
             0.8,
             "#7fbc41"
            ],
            [
             0.9,
             "#4d9221"
            ],
            [
             1,
             "#276419"
            ]
           ],
           "sequential": [
            [
             0,
             "#0d0887"
            ],
            [
             0.1111111111111111,
             "#46039f"
            ],
            [
             0.2222222222222222,
             "#7201a8"
            ],
            [
             0.3333333333333333,
             "#9c179e"
            ],
            [
             0.4444444444444444,
             "#bd3786"
            ],
            [
             0.5555555555555556,
             "#d8576b"
            ],
            [
             0.6666666666666666,
             "#ed7953"
            ],
            [
             0.7777777777777778,
             "#fb9f3a"
            ],
            [
             0.8888888888888888,
             "#fdca26"
            ],
            [
             1,
             "#f0f921"
            ]
           ],
           "sequentialminus": [
            [
             0,
             "#0d0887"
            ],
            [
             0.1111111111111111,
             "#46039f"
            ],
            [
             0.2222222222222222,
             "#7201a8"
            ],
            [
             0.3333333333333333,
             "#9c179e"
            ],
            [
             0.4444444444444444,
             "#bd3786"
            ],
            [
             0.5555555555555556,
             "#d8576b"
            ],
            [
             0.6666666666666666,
             "#ed7953"
            ],
            [
             0.7777777777777778,
             "#fb9f3a"
            ],
            [
             0.8888888888888888,
             "#fdca26"
            ],
            [
             1,
             "#f0f921"
            ]
           ]
          },
          "colorway": [
           "#636efa",
           "#EF553B",
           "#00cc96",
           "#ab63fa",
           "#FFA15A",
           "#19d3f3",
           "#FF6692",
           "#B6E880",
           "#FF97FF",
           "#FECB52"
          ],
          "font": {
           "color": "#2a3f5f"
          },
          "geo": {
           "bgcolor": "white",
           "lakecolor": "white",
           "landcolor": "#E5ECF6",
           "showlakes": true,
           "showland": true,
           "subunitcolor": "white"
          },
          "hoverlabel": {
           "align": "left"
          },
          "hovermode": "closest",
          "mapbox": {
           "style": "light"
          },
          "paper_bgcolor": "white",
          "plot_bgcolor": "#E5ECF6",
          "polar": {
           "angularaxis": {
            "gridcolor": "white",
            "linecolor": "white",
            "ticks": ""
           },
           "bgcolor": "#E5ECF6",
           "radialaxis": {
            "gridcolor": "white",
            "linecolor": "white",
            "ticks": ""
           }
          },
          "scene": {
           "xaxis": {
            "backgroundcolor": "#E5ECF6",
            "gridcolor": "white",
            "gridwidth": 2,
            "linecolor": "white",
            "showbackground": true,
            "ticks": "",
            "zerolinecolor": "white"
           },
           "yaxis": {
            "backgroundcolor": "#E5ECF6",
            "gridcolor": "white",
            "gridwidth": 2,
            "linecolor": "white",
            "showbackground": true,
            "ticks": "",
            "zerolinecolor": "white"
           },
           "zaxis": {
            "backgroundcolor": "#E5ECF6",
            "gridcolor": "white",
            "gridwidth": 2,
            "linecolor": "white",
            "showbackground": true,
            "ticks": "",
            "zerolinecolor": "white"
           }
          },
          "shapedefaults": {
           "line": {
            "color": "#2a3f5f"
           }
          },
          "ternary": {
           "aaxis": {
            "gridcolor": "white",
            "linecolor": "white",
            "ticks": ""
           },
           "baxis": {
            "gridcolor": "white",
            "linecolor": "white",
            "ticks": ""
           },
           "bgcolor": "#E5ECF6",
           "caxis": {
            "gridcolor": "white",
            "linecolor": "white",
            "ticks": ""
           }
          },
          "title": {
           "x": 0.05
          },
          "xaxis": {
           "automargin": true,
           "gridcolor": "white",
           "linecolor": "white",
           "ticks": "",
           "title": {
            "standoff": 15
           },
           "zerolinecolor": "white",
           "zerolinewidth": 2
          },
          "yaxis": {
           "automargin": true,
           "gridcolor": "white",
           "linecolor": "white",
           "ticks": "",
           "title": {
            "standoff": 15
           },
           "zerolinecolor": "white",
           "zerolinewidth": 2
          }
         }
        },
        "title": {
         "font": {
          "family": "Arial Black",
          "size": 20
         },
         "text": "<b>Predicción vs Realidad - 4 - SUELOS</b>",
         "x": 0.5,
         "xanchor": "center"
        },
        "width": 900,
        "xaxis": {
         "gridcolor": "lightgray",
         "gridwidth": 0.5,
         "showgrid": true,
         "title": {
          "font": {
           "size": 14
          },
          "text": "<b>Valor Real ($)</b>"
         }
        },
        "yaxis": {
         "gridcolor": "lightgray",
         "gridwidth": 0.5,
         "showgrid": true,
         "title": {
          "font": {
           "size": 14
          },
          "text": "<b>Valor Predicho ($)</b>"
         }
        }
       }
      }
     },
     "metadata": {},
     "output_type": "display_data"
    },
    {
     "name": "stdout",
     "output_type": "stream",
     "text": [
      "\n",
      "==========================================================================================\n"
     ]
    }
   ],
   "source": [
    "# ANALYSIS 1: PUENTES VEHICULARES M2 → 4 - SUELOS (with Log Transformation)\n",
    "\n",
    "results_suelos = run_complete_analysis(\n",
    "    df_vp=df_vp,\n",
    "    target_name='4 - SUELOS',\n",
    "    predictor_name='PUENTES VEHICULARES M2',\n",
    "    exclude_codes=['0654801'],\n",
    "    use_log_transform=True  # Using log transformation for better fit\n",
    ")"
   ]
  },
  {
   "cell_type": "code",
   "execution_count": null,
   "id": "c3327c4d",
   "metadata": {},
   "outputs": [
    {
     "name": "stdout",
     "output_type": "stream",
     "text": [
      "==========================================================================================\n",
      "ANALYSIS: PUENTES VEHICULARES UND → 8 - ESTRUCTURAS\n",
      "==========================================================================================\n",
      "  → Warning: Only 6 samples. Skipping outlier detection.\n",
      "\n",
      "Dataset size: 6 samples\n",
      "\n",
      "📊 Creating scatter plot with regression line...\n"
     ]
    },
    {
     "data": {
      "application/vnd.plotly.v1+json": {
       "config": {
        "plotlyServerURL": "https://plot.ly"
       },
       "data": [
        {
         "customdata": [
          "<b>ALCANCE:</b> Mejoramiento<br><b>Código:</b> 0266702<br><b>PUENTES VEHICULARES UND:</b> 0.00<br><b>8 - ESTRUCTURAS:</b> $642,177",
          "<b>ALCANCE:</b> Mejoramiento<br><b>Código:</b> 0552903<br><b>PUENTES VEHICULARES UND:</b> 6.00<br><b>8 - ESTRUCTURAS:</b> $216,908,755",
          "<b>ALCANCE:</b> Mejoramiento<br><b>Código:</b> 0581301<br><b>PUENTES VEHICULARES UND:</b> 2.00<br><b>8 - ESTRUCTURAS:</b> $264,923,673"
         ],
         "hovertemplate": "%{customdata}<extra></extra>",
         "marker": {
          "color": "#2ca02c",
          "line": {
           "color": "DarkSlateGrey",
           "width": 1
          },
          "opacity": 0.8,
          "size": 12
         },
         "mode": "markers",
         "name": "Mejoramiento",
         "type": "scatter",
         "x": {
          "bdata": "AAYC",
          "dtype": "i1"
         },
         "y": {
          "bdata": "h/1FzQKZI0EjL1alh9upQUzvZTLUlK9B",
          "dtype": "f8"
         }
        },
        {
         "customdata": [
          "<b>ALCANCE:</b> Rehabilitación<br><b>Código:</b> 0347801<br><b>PUENTES VEHICULARES UND:</b> 26.00<br><b>8 - ESTRUCTURAS:</b> $1,345,856,920"
         ],
         "hovertemplate": "%{customdata}<extra></extra>",
         "marker": {
          "color": "#d62728",
          "line": {
           "color": "DarkSlateGrey",
           "width": 1
          },
          "opacity": 0.8,
          "size": 12
         },
         "mode": "markers",
         "name": "Rehabilitación",
         "type": "scatter",
         "x": {
          "bdata": "Gg==",
          "dtype": "i1"
         },
         "y": {
          "bdata": "N0/8ZQkO1EE=",
          "dtype": "f8"
         }
        },
        {
         "customdata": [
          "<b>ALCANCE:</b> Segunda calzada<br><b>Código:</b> 0001<br><b>PUENTES VEHICULARES UND:</b> 11.00<br><b>8 - ESTRUCTURAS:</b> $683,821,459",
          "<b>ALCANCE:</b> Segunda calzada<br><b>Código:</b> 6935<br><b>PUENTES VEHICULARES UND:</b> 4.00<br><b>8 - ESTRUCTURAS:</b> $361,903,589"
         ],
         "hovertemplate": "%{customdata}<extra></extra>",
         "marker": {
          "color": "#1f77b4",
          "line": {
           "color": "DarkSlateGrey",
           "width": 1
          },
          "opacity": 0.8,
          "size": 12
         },
         "mode": "markers",
         "name": "Segunda calzada",
         "type": "scatter",
         "x": {
          "bdata": "CwQ=",
          "dtype": "i1"
         },
         "y": {
          "bdata": "fqR3ySRhxEF+iLPkNZK1QQ==",
          "dtype": "f8"
         }
        },
        {
         "hoverinfo": "skip",
         "line": {
          "color": "red",
          "dash": "dash",
          "width": 2
         },
         "mode": "lines",
         "name": "Overall R²=0.956",
         "showlegend": true,
         "type": "scatter",
         "x": {
          "bdata": "AAAAAAAAAAB6O0Ni3s7QP3o7Q2LezuA/N9lkk0026T96O0Ni3s7wP1gK1PqVAvU/N9lkk002+T8WqPUrBWr9P3o7Q2LezgBA6aKLLrroAkBYCtT6lQIFQMhxHMdxHAdAN9lkk002CUCmQK1fKVALQBao9SsFag1AhQ8++OCDD0B6O0Ni3s4QQDJvZ0jM2xFA6aKLLrroEkCh1q8UqPUTQFgK1PqVAhVAED744IMPFkDIcRzHcRwXQH+lQK1fKRhAN9lkk002GUDvDIl5O0MaQKZArV8pUBtAXnTRRRddHEAWqPUrBWodQM3bGRLzdh5AhQ8++OCDH0CeITFvZ0ggQHo7Q2LeziBAVlVVVVVVIUAyb2dIzNshQA2JeTtDYiJA6aKLLrroIkDFvJ0hMW8jQKHWrxSo9SNAffDBBx98JEBYCtT6lQIlQDQk5u0MiSVAED744IMPJkDsVwrU+pUmQMhxHMdxHCdApIsuuuiiJ0B/pUCtXykoQFu/UqDWryhAN9lkk002KUAT83aGxLwpQO8MiXk7QypAyiabbLLJKkCmQK1fKVArQIJav1Kg1itAXnTRRRddLEA6juM4juMsQBao9SsFai1A8cEHH3zwLUDN2xkS83YuQKn1KwVq/S5AhQ8++OCDL0CwFKj1KwUwQJ4hMW9nSDBAjC666KKLMEB6O0Ni3s4wQGhIzNsZEjFAVlVVVVVVMUBEYt7OkJgxQDJvZ0jM2zFAIHzwwQcfMkANiXk7Q2IyQPuVArV+pTJA6aKLLrroMkDXrxSo9SszQMW8nSExbzNAs8kmm2yyM0Ch1q8UqPUzQI/jOI7jODRAffDBBx98NEBr/UqBWr80QFgK1PqVAjVARhdddNFFNUA0JObtDIk1QCIxb2dIzDVAED744IMPNkD+SoFav1I2QOxXCtT6lTZA2mSTTTbZNkDIcRzHcRw3QLZ+pUCtXzdApIsuuuiiN0CRmLczJOY3QH+lQK1fKThAbbLJJptsOEBbv1Kg1q84QEnM2xkS8zhAN9lkk002OUAl5u0MiXk5QBPzdobEvDlAAAAAAAAAOkA=",
          "dtype": "f8"
         },
         "y": {
          "bdata": "bEG1Xto5kkGN9P0+AFCVQa+nRh8mZphB0FqP/0t8m0HyDdjfcZKeQYlgEOBL1KBBGro00F5fokGrE1nAceqjQTxtfbCEdaVBzMahoJcAp0FcIMaQqouoQe556oC9FqpBftMOcdChq0EPLTNh4yytQaCGV1H2t65BGPC9oIQhsEHgHNAYDuewQalJ4pCXrLFBcXb0CCFyskE6owaBqjezQQLQGPkz/bNByvwqcb3CtEGTKT3pRoi1QVtWT2HQTbZBI4Nh2VkTt0Hsr3NR49i3QbTchclsnrhBfAmYQfZjuUFFNqq5fym6QQ1jvDEJ77pB1Y/OqZK0u0GdvOAhHHq8QWbp8pmlP71BLxYFEi8FvkH3QheKuMq+Qb5vKQJCkL9BRM4dveUqwEGo5CZ5qo3AQQz7LzVv8MBBcBE58TNTwUHUJ0Kt+LXBQTg+S2m9GMJBnFRUJYJ7wkEAa13hRt7CQWaBZp0LQcNBypdvWdCjw0EurngVlQbEQZLEgdFZacRB9tqKjR7MxEFa8ZNJ4y7FQb4HnQWokcVBIh6mwWz0xUGGNK99MVfGQepKuDn2ucZBTmHB9bocx0G0d8qxf3/HQRiO021E4sdBfKTcKQlFyEHguuXlzafIQUTR7qGSCslBqOf3XVdtyUEM/gAaHNDJQXAUCtbgMspB1CoTkqWVykE4QRxOavjKQZxXJQovW8tBAm4uxvO9y0FmhDeCuCDMQcqaQD59g8xBLrFJ+kHmzEGQx1K2BknNQfbdW3LLq81BWvRkLpAOzkG+Cm7qVHHOQSIhd6YZ1M5BhjeAYt42z0HqTYkeo5nPQU5kktpn/M9BWr1NS5Yv0EGMSFKp+GDQQb3TVgdbktBB715bZb3D0EEi6l/DH/XQQVR1ZCGCJtFBhgBpf+RX0UG4i23dRonRQeoWcjuputFBHaJ2mQvs0UFPLXv3bR3SQYG4f1XQTtJBs0OEszKA0kHkzogRlbHSQRdajW/34tJBSeWRzVkU00F7cJYrvEXTQa37moked9NB34af54Co00EREqRF49nTQUSdqKNFC9RBdSitAag81EE=",
          "dtype": "f8"
         }
        }
       ],
       "layout": {
        "height": 600,
        "hovermode": "closest",
        "legend": {
         "bgcolor": "rgba(255, 255, 255, 0.9)",
         "bordercolor": "lightgray",
         "borderwidth": 1,
         "orientation": "v",
         "x": 0.99,
         "xanchor": "right",
         "y": 0.99,
         "yanchor": "top"
        },
        "paper_bgcolor": "white",
        "plot_bgcolor": "white",
        "template": {
         "data": {
          "bar": [
           {
            "error_x": {
             "color": "#2a3f5f"
            },
            "error_y": {
             "color": "#2a3f5f"
            },
            "marker": {
             "line": {
              "color": "#E5ECF6",
              "width": 0.5
             },
             "pattern": {
              "fillmode": "overlay",
              "size": 10,
              "solidity": 0.2
             }
            },
            "type": "bar"
           }
          ],
          "barpolar": [
           {
            "marker": {
             "line": {
              "color": "#E5ECF6",
              "width": 0.5
             },
             "pattern": {
              "fillmode": "overlay",
              "size": 10,
              "solidity": 0.2
             }
            },
            "type": "barpolar"
           }
          ],
          "carpet": [
           {
            "aaxis": {
             "endlinecolor": "#2a3f5f",
             "gridcolor": "white",
             "linecolor": "white",
             "minorgridcolor": "white",
             "startlinecolor": "#2a3f5f"
            },
            "baxis": {
             "endlinecolor": "#2a3f5f",
             "gridcolor": "white",
             "linecolor": "white",
             "minorgridcolor": "white",
             "startlinecolor": "#2a3f5f"
            },
            "type": "carpet"
           }
          ],
          "choropleth": [
           {
            "colorbar": {
             "outlinewidth": 0,
             "ticks": ""
            },
            "type": "choropleth"
           }
          ],
          "contour": [
           {
            "colorbar": {
             "outlinewidth": 0,
             "ticks": ""
            },
            "colorscale": [
             [
              0,
              "#0d0887"
             ],
             [
              0.1111111111111111,
              "#46039f"
             ],
             [
              0.2222222222222222,
              "#7201a8"
             ],
             [
              0.3333333333333333,
              "#9c179e"
             ],
             [
              0.4444444444444444,
              "#bd3786"
             ],
             [
              0.5555555555555556,
              "#d8576b"
             ],
             [
              0.6666666666666666,
              "#ed7953"
             ],
             [
              0.7777777777777778,
              "#fb9f3a"
             ],
             [
              0.8888888888888888,
              "#fdca26"
             ],
             [
              1,
              "#f0f921"
             ]
            ],
            "type": "contour"
           }
          ],
          "contourcarpet": [
           {
            "colorbar": {
             "outlinewidth": 0,
             "ticks": ""
            },
            "type": "contourcarpet"
           }
          ],
          "heatmap": [
           {
            "colorbar": {
             "outlinewidth": 0,
             "ticks": ""
            },
            "colorscale": [
             [
              0,
              "#0d0887"
             ],
             [
              0.1111111111111111,
              "#46039f"
             ],
             [
              0.2222222222222222,
              "#7201a8"
             ],
             [
              0.3333333333333333,
              "#9c179e"
             ],
             [
              0.4444444444444444,
              "#bd3786"
             ],
             [
              0.5555555555555556,
              "#d8576b"
             ],
             [
              0.6666666666666666,
              "#ed7953"
             ],
             [
              0.7777777777777778,
              "#fb9f3a"
             ],
             [
              0.8888888888888888,
              "#fdca26"
             ],
             [
              1,
              "#f0f921"
             ]
            ],
            "type": "heatmap"
           }
          ],
          "histogram": [
           {
            "marker": {
             "pattern": {
              "fillmode": "overlay",
              "size": 10,
              "solidity": 0.2
             }
            },
            "type": "histogram"
           }
          ],
          "histogram2d": [
           {
            "colorbar": {
             "outlinewidth": 0,
             "ticks": ""
            },
            "colorscale": [
             [
              0,
              "#0d0887"
             ],
             [
              0.1111111111111111,
              "#46039f"
             ],
             [
              0.2222222222222222,
              "#7201a8"
             ],
             [
              0.3333333333333333,
              "#9c179e"
             ],
             [
              0.4444444444444444,
              "#bd3786"
             ],
             [
              0.5555555555555556,
              "#d8576b"
             ],
             [
              0.6666666666666666,
              "#ed7953"
             ],
             [
              0.7777777777777778,
              "#fb9f3a"
             ],
             [
              0.8888888888888888,
              "#fdca26"
             ],
             [
              1,
              "#f0f921"
             ]
            ],
            "type": "histogram2d"
           }
          ],
          "histogram2dcontour": [
           {
            "colorbar": {
             "outlinewidth": 0,
             "ticks": ""
            },
            "colorscale": [
             [
              0,
              "#0d0887"
             ],
             [
              0.1111111111111111,
              "#46039f"
             ],
             [
              0.2222222222222222,
              "#7201a8"
             ],
             [
              0.3333333333333333,
              "#9c179e"
             ],
             [
              0.4444444444444444,
              "#bd3786"
             ],
             [
              0.5555555555555556,
              "#d8576b"
             ],
             [
              0.6666666666666666,
              "#ed7953"
             ],
             [
              0.7777777777777778,
              "#fb9f3a"
             ],
             [
              0.8888888888888888,
              "#fdca26"
             ],
             [
              1,
              "#f0f921"
             ]
            ],
            "type": "histogram2dcontour"
           }
          ],
          "mesh3d": [
           {
            "colorbar": {
             "outlinewidth": 0,
             "ticks": ""
            },
            "type": "mesh3d"
           }
          ],
          "parcoords": [
           {
            "line": {
             "colorbar": {
              "outlinewidth": 0,
              "ticks": ""
             }
            },
            "type": "parcoords"
           }
          ],
          "pie": [
           {
            "automargin": true,
            "type": "pie"
           }
          ],
          "scatter": [
           {
            "fillpattern": {
             "fillmode": "overlay",
             "size": 10,
             "solidity": 0.2
            },
            "type": "scatter"
           }
          ],
          "scatter3d": [
           {
            "line": {
             "colorbar": {
              "outlinewidth": 0,
              "ticks": ""
             }
            },
            "marker": {
             "colorbar": {
              "outlinewidth": 0,
              "ticks": ""
             }
            },
            "type": "scatter3d"
           }
          ],
          "scattercarpet": [
           {
            "marker": {
             "colorbar": {
              "outlinewidth": 0,
              "ticks": ""
             }
            },
            "type": "scattercarpet"
           }
          ],
          "scattergeo": [
           {
            "marker": {
             "colorbar": {
              "outlinewidth": 0,
              "ticks": ""
             }
            },
            "type": "scattergeo"
           }
          ],
          "scattergl": [
           {
            "marker": {
             "colorbar": {
              "outlinewidth": 0,
              "ticks": ""
             }
            },
            "type": "scattergl"
           }
          ],
          "scattermap": [
           {
            "marker": {
             "colorbar": {
              "outlinewidth": 0,
              "ticks": ""
             }
            },
            "type": "scattermap"
           }
          ],
          "scattermapbox": [
           {
            "marker": {
             "colorbar": {
              "outlinewidth": 0,
              "ticks": ""
             }
            },
            "type": "scattermapbox"
           }
          ],
          "scatterpolar": [
           {
            "marker": {
             "colorbar": {
              "outlinewidth": 0,
              "ticks": ""
             }
            },
            "type": "scatterpolar"
           }
          ],
          "scatterpolargl": [
           {
            "marker": {
             "colorbar": {
              "outlinewidth": 0,
              "ticks": ""
             }
            },
            "type": "scatterpolargl"
           }
          ],
          "scatterternary": [
           {
            "marker": {
             "colorbar": {
              "outlinewidth": 0,
              "ticks": ""
             }
            },
            "type": "scatterternary"
           }
          ],
          "surface": [
           {
            "colorbar": {
             "outlinewidth": 0,
             "ticks": ""
            },
            "colorscale": [
             [
              0,
              "#0d0887"
             ],
             [
              0.1111111111111111,
              "#46039f"
             ],
             [
              0.2222222222222222,
              "#7201a8"
             ],
             [
              0.3333333333333333,
              "#9c179e"
             ],
             [
              0.4444444444444444,
              "#bd3786"
             ],
             [
              0.5555555555555556,
              "#d8576b"
             ],
             [
              0.6666666666666666,
              "#ed7953"
             ],
             [
              0.7777777777777778,
              "#fb9f3a"
             ],
             [
              0.8888888888888888,
              "#fdca26"
             ],
             [
              1,
              "#f0f921"
             ]
            ],
            "type": "surface"
           }
          ],
          "table": [
           {
            "cells": {
             "fill": {
              "color": "#EBF0F8"
             },
             "line": {
              "color": "white"
             }
            },
            "header": {
             "fill": {
              "color": "#C8D4E3"
             },
             "line": {
              "color": "white"
             }
            },
            "type": "table"
           }
          ]
         },
         "layout": {
          "annotationdefaults": {
           "arrowcolor": "#2a3f5f",
           "arrowhead": 0,
           "arrowwidth": 1
          },
          "autotypenumbers": "strict",
          "coloraxis": {
           "colorbar": {
            "outlinewidth": 0,
            "ticks": ""
           }
          },
          "colorscale": {
           "diverging": [
            [
             0,
             "#8e0152"
            ],
            [
             0.1,
             "#c51b7d"
            ],
            [
             0.2,
             "#de77ae"
            ],
            [
             0.3,
             "#f1b6da"
            ],
            [
             0.4,
             "#fde0ef"
            ],
            [
             0.5,
             "#f7f7f7"
            ],
            [
             0.6,
             "#e6f5d0"
            ],
            [
             0.7,
             "#b8e186"
            ],
            [
             0.8,
             "#7fbc41"
            ],
            [
             0.9,
             "#4d9221"
            ],
            [
             1,
             "#276419"
            ]
           ],
           "sequential": [
            [
             0,
             "#0d0887"
            ],
            [
             0.1111111111111111,
             "#46039f"
            ],
            [
             0.2222222222222222,
             "#7201a8"
            ],
            [
             0.3333333333333333,
             "#9c179e"
            ],
            [
             0.4444444444444444,
             "#bd3786"
            ],
            [
             0.5555555555555556,
             "#d8576b"
            ],
            [
             0.6666666666666666,
             "#ed7953"
            ],
            [
             0.7777777777777778,
             "#fb9f3a"
            ],
            [
             0.8888888888888888,
             "#fdca26"
            ],
            [
             1,
             "#f0f921"
            ]
           ],
           "sequentialminus": [
            [
             0,
             "#0d0887"
            ],
            [
             0.1111111111111111,
             "#46039f"
            ],
            [
             0.2222222222222222,
             "#7201a8"
            ],
            [
             0.3333333333333333,
             "#9c179e"
            ],
            [
             0.4444444444444444,
             "#bd3786"
            ],
            [
             0.5555555555555556,
             "#d8576b"
            ],
            [
             0.6666666666666666,
             "#ed7953"
            ],
            [
             0.7777777777777778,
             "#fb9f3a"
            ],
            [
             0.8888888888888888,
             "#fdca26"
            ],
            [
             1,
             "#f0f921"
            ]
           ]
          },
          "colorway": [
           "#636efa",
           "#EF553B",
           "#00cc96",
           "#ab63fa",
           "#FFA15A",
           "#19d3f3",
           "#FF6692",
           "#B6E880",
           "#FF97FF",
           "#FECB52"
          ],
          "font": {
           "color": "#2a3f5f"
          },
          "geo": {
           "bgcolor": "white",
           "lakecolor": "white",
           "landcolor": "#E5ECF6",
           "showlakes": true,
           "showland": true,
           "subunitcolor": "white"
          },
          "hoverlabel": {
           "align": "left"
          },
          "hovermode": "closest",
          "mapbox": {
           "style": "light"
          },
          "paper_bgcolor": "white",
          "plot_bgcolor": "#E5ECF6",
          "polar": {
           "angularaxis": {
            "gridcolor": "white",
            "linecolor": "white",
            "ticks": ""
           },
           "bgcolor": "#E5ECF6",
           "radialaxis": {
            "gridcolor": "white",
            "linecolor": "white",
            "ticks": ""
           }
          },
          "scene": {
           "xaxis": {
            "backgroundcolor": "#E5ECF6",
            "gridcolor": "white",
            "gridwidth": 2,
            "linecolor": "white",
            "showbackground": true,
            "ticks": "",
            "zerolinecolor": "white"
           },
           "yaxis": {
            "backgroundcolor": "#E5ECF6",
            "gridcolor": "white",
            "gridwidth": 2,
            "linecolor": "white",
            "showbackground": true,
            "ticks": "",
            "zerolinecolor": "white"
           },
           "zaxis": {
            "backgroundcolor": "#E5ECF6",
            "gridcolor": "white",
            "gridwidth": 2,
            "linecolor": "white",
            "showbackground": true,
            "ticks": "",
            "zerolinecolor": "white"
           }
          },
          "shapedefaults": {
           "line": {
            "color": "#2a3f5f"
           }
          },
          "ternary": {
           "aaxis": {
            "gridcolor": "white",
            "linecolor": "white",
            "ticks": ""
           },
           "baxis": {
            "gridcolor": "white",
            "linecolor": "white",
            "ticks": ""
           },
           "bgcolor": "#E5ECF6",
           "caxis": {
            "gridcolor": "white",
            "linecolor": "white",
            "ticks": ""
           }
          },
          "title": {
           "x": 0.05
          },
          "xaxis": {
           "automargin": true,
           "gridcolor": "white",
           "linecolor": "white",
           "ticks": "",
           "title": {
            "standoff": 15
           },
           "zerolinecolor": "white",
           "zerolinewidth": 2
          },
          "yaxis": {
           "automargin": true,
           "gridcolor": "white",
           "linecolor": "white",
           "ticks": "",
           "title": {
            "standoff": 15
           },
           "zerolinecolor": "white",
           "zerolinewidth": 2
          }
         }
        },
        "title": {
         "font": {
          "family": "Arial",
          "size": 16
         },
         "text": "<b>PUENTES VEHICULARES UND vs 8 - ESTRUCTURAS by ALCANCE</b>",
         "x": 0.5,
         "xanchor": "center"
        },
        "width": 1000,
        "xaxis": {
         "gridcolor": "lightgray",
         "gridwidth": 0.5,
         "showgrid": true,
         "title": {
          "font": {
           "size": 13
          },
          "text": "<b>PUENTES VEHICULARES UND</b>"
         }
        },
        "yaxis": {
         "gridcolor": "lightgray",
         "gridwidth": 0.5,
         "showgrid": true,
         "title": {
          "font": {
           "size": 13
          },
          "text": "<b>8 - ESTRUCTURAS</b>"
         }
        }
       }
      }
     },
     "metadata": {},
     "output_type": "display_data"
    },
    {
     "name": "stdout",
     "output_type": "stream",
     "text": [
      "\n",
      "🤖 Training linear regression model...\n",
      "\n",
      "📈 Model Performance:\n",
      "  R²:         0.9221\n",
      "  RMSE:       122,215,456.09\n",
      "  MAPE:       2897.90%\n",
      "  Median AE:  110,770,940.94\n",
      "\n",
      "📊 Creating actual vs predicted plot...\n"
     ]
    },
    {
     "data": {
      "application/vnd.plotly.v1+json": {
       "config": {
        "plotlyServerURL": "https://plot.ly"
       },
       "data": [
        {
         "customdata": [
          "<b>ALCANCE:</b> Mejoramiento<br><b>Código:</b> 0266702<br><b>PUENTES VEHICULARES UND:</b> 0.00<br><b>Valor Real:</b> $642,177<br><b>Predicción:</b> $111,134,227",
          "<b>ALCANCE:</b> Mejoramiento<br><b>Código:</b> 0552903<br><b>PUENTES VEHICULARES UND:</b> 6.00<br><b>Valor Real:</b> $216,908,755<br><b>Predicción:</b> $405,613,829",
          "<b>ALCANCE:</b> Mejoramiento<br><b>Código:</b> 0581301<br><b>PUENTES VEHICULARES UND:</b> 2.00<br><b>Valor Real:</b> $264,923,673<br><b>Predicción:</b> $144,965,704"
         ],
         "hovertemplate": "%{customdata}<extra></extra>",
         "marker": {
          "color": "#2ca02c",
          "line": {
           "color": "white",
           "width": 1
          },
          "opacity": 0.8,
          "size": 12
         },
         "mode": "markers",
         "name": "Mejoramiento",
         "type": "scatter",
         "x": {
          "bdata": "h/1FzQKZI0EjL1alh9upQUzvZTLUlK9B",
          "dtype": "f8"
         },
         "y": {
          "bdata": "KIRATRh/mkG5Y5EELS24QSxgcpAASKFB",
          "dtype": "f8"
         }
        },
        {
         "customdata": [
          "<b>ALCANCE:</b> Rehabilitación<br><b>Código:</b> 0347801<br><b>PUENTES VEHICULARES UND:</b> 26.00<br><b>Valor Real:</b> $1,345,856,920<br><b>Predicción:</b> $1,439,128,162"
         ],
         "hovertemplate": "%{customdata}<extra></extra>",
         "marker": {
          "color": "#d62728",
          "line": {
           "color": "white",
           "width": 1
          },
          "opacity": 0.8,
          "size": 12
         },
         "mode": "markers",
         "name": "Rehabilitación",
         "type": "scatter",
         "x": {
          "bdata": "N0/8ZQkO1EE=",
          "dtype": "f8"
         },
         "y": {
          "bdata": "r3iamNZx1UE=",
          "dtype": "f8"
         }
        },
        {
         "customdata": [
          "<b>ALCANCE:</b> Segunda calzada<br><b>Código:</b> 0001<br><b>PUENTES VEHICULARES UND:</b> 11.00<br><b>Valor Real:</b> $683,821,459<br><b>Predicción:</b> $603,945,905",
          "<b>ALCANCE:</b> Segunda calzada<br><b>Código:</b> 6935<br><b>PUENTES VEHICULARES UND:</b> 4.00<br><b>Valor Real:</b> $361,903,589<br><b>Predicción:</b> $250,853,757"
         ],
         "hovertemplate": "%{customdata}<extra></extra>",
         "marker": {
          "color": "#1f77b4",
          "line": {
           "color": "white",
           "width": 1
          },
          "opacity": 0.8,
          "size": 12
         },
         "mode": "markers",
         "name": "Segunda calzada",
         "type": "scatter",
         "x": {
          "bdata": "fqR3ySRhxEF+iLPkNZK1QQ==",
          "dtype": "f8"
         },
         "y": {
          "bdata": "Oi6u2L3/wUFNx3n5cuetQQ==",
          "dtype": "f8"
         }
        },
        {
         "line": {
          "color": "red",
          "dash": "dash",
          "width": 2
         },
         "mode": "lines",
         "name": "Predicción Perfecta",
         "showlegend": true,
         "type": "scatter",
         "x": [
          642177.4009246089,
          1439128162.413616
         ],
         "y": [
          642177.4009246089,
          1439128162.413616
         ]
        }
       ],
       "layout": {
        "height": 600,
        "hovermode": "closest",
        "legend": {
         "bgcolor": "rgba(255, 255, 255, 0.9)",
         "bordercolor": "lightgray",
         "borderwidth": 1,
         "orientation": "v",
         "x": 0.01,
         "xanchor": "left",
         "y": 0.99,
         "yanchor": "top"
        },
        "paper_bgcolor": "white",
        "plot_bgcolor": "white",
        "template": {
         "data": {
          "bar": [
           {
            "error_x": {
             "color": "#2a3f5f"
            },
            "error_y": {
             "color": "#2a3f5f"
            },
            "marker": {
             "line": {
              "color": "#E5ECF6",
              "width": 0.5
             },
             "pattern": {
              "fillmode": "overlay",
              "size": 10,
              "solidity": 0.2
             }
            },
            "type": "bar"
           }
          ],
          "barpolar": [
           {
            "marker": {
             "line": {
              "color": "#E5ECF6",
              "width": 0.5
             },
             "pattern": {
              "fillmode": "overlay",
              "size": 10,
              "solidity": 0.2
             }
            },
            "type": "barpolar"
           }
          ],
          "carpet": [
           {
            "aaxis": {
             "endlinecolor": "#2a3f5f",
             "gridcolor": "white",
             "linecolor": "white",
             "minorgridcolor": "white",
             "startlinecolor": "#2a3f5f"
            },
            "baxis": {
             "endlinecolor": "#2a3f5f",
             "gridcolor": "white",
             "linecolor": "white",
             "minorgridcolor": "white",
             "startlinecolor": "#2a3f5f"
            },
            "type": "carpet"
           }
          ],
          "choropleth": [
           {
            "colorbar": {
             "outlinewidth": 0,
             "ticks": ""
            },
            "type": "choropleth"
           }
          ],
          "contour": [
           {
            "colorbar": {
             "outlinewidth": 0,
             "ticks": ""
            },
            "colorscale": [
             [
              0,
              "#0d0887"
             ],
             [
              0.1111111111111111,
              "#46039f"
             ],
             [
              0.2222222222222222,
              "#7201a8"
             ],
             [
              0.3333333333333333,
              "#9c179e"
             ],
             [
              0.4444444444444444,
              "#bd3786"
             ],
             [
              0.5555555555555556,
              "#d8576b"
             ],
             [
              0.6666666666666666,
              "#ed7953"
             ],
             [
              0.7777777777777778,
              "#fb9f3a"
             ],
             [
              0.8888888888888888,
              "#fdca26"
             ],
             [
              1,
              "#f0f921"
             ]
            ],
            "type": "contour"
           }
          ],
          "contourcarpet": [
           {
            "colorbar": {
             "outlinewidth": 0,
             "ticks": ""
            },
            "type": "contourcarpet"
           }
          ],
          "heatmap": [
           {
            "colorbar": {
             "outlinewidth": 0,
             "ticks": ""
            },
            "colorscale": [
             [
              0,
              "#0d0887"
             ],
             [
              0.1111111111111111,
              "#46039f"
             ],
             [
              0.2222222222222222,
              "#7201a8"
             ],
             [
              0.3333333333333333,
              "#9c179e"
             ],
             [
              0.4444444444444444,
              "#bd3786"
             ],
             [
              0.5555555555555556,
              "#d8576b"
             ],
             [
              0.6666666666666666,
              "#ed7953"
             ],
             [
              0.7777777777777778,
              "#fb9f3a"
             ],
             [
              0.8888888888888888,
              "#fdca26"
             ],
             [
              1,
              "#f0f921"
             ]
            ],
            "type": "heatmap"
           }
          ],
          "histogram": [
           {
            "marker": {
             "pattern": {
              "fillmode": "overlay",
              "size": 10,
              "solidity": 0.2
             }
            },
            "type": "histogram"
           }
          ],
          "histogram2d": [
           {
            "colorbar": {
             "outlinewidth": 0,
             "ticks": ""
            },
            "colorscale": [
             [
              0,
              "#0d0887"
             ],
             [
              0.1111111111111111,
              "#46039f"
             ],
             [
              0.2222222222222222,
              "#7201a8"
             ],
             [
              0.3333333333333333,
              "#9c179e"
             ],
             [
              0.4444444444444444,
              "#bd3786"
             ],
             [
              0.5555555555555556,
              "#d8576b"
             ],
             [
              0.6666666666666666,
              "#ed7953"
             ],
             [
              0.7777777777777778,
              "#fb9f3a"
             ],
             [
              0.8888888888888888,
              "#fdca26"
             ],
             [
              1,
              "#f0f921"
             ]
            ],
            "type": "histogram2d"
           }
          ],
          "histogram2dcontour": [
           {
            "colorbar": {
             "outlinewidth": 0,
             "ticks": ""
            },
            "colorscale": [
             [
              0,
              "#0d0887"
             ],
             [
              0.1111111111111111,
              "#46039f"
             ],
             [
              0.2222222222222222,
              "#7201a8"
             ],
             [
              0.3333333333333333,
              "#9c179e"
             ],
             [
              0.4444444444444444,
              "#bd3786"
             ],
             [
              0.5555555555555556,
              "#d8576b"
             ],
             [
              0.6666666666666666,
              "#ed7953"
             ],
             [
              0.7777777777777778,
              "#fb9f3a"
             ],
             [
              0.8888888888888888,
              "#fdca26"
             ],
             [
              1,
              "#f0f921"
             ]
            ],
            "type": "histogram2dcontour"
           }
          ],
          "mesh3d": [
           {
            "colorbar": {
             "outlinewidth": 0,
             "ticks": ""
            },
            "type": "mesh3d"
           }
          ],
          "parcoords": [
           {
            "line": {
             "colorbar": {
              "outlinewidth": 0,
              "ticks": ""
             }
            },
            "type": "parcoords"
           }
          ],
          "pie": [
           {
            "automargin": true,
            "type": "pie"
           }
          ],
          "scatter": [
           {
            "fillpattern": {
             "fillmode": "overlay",
             "size": 10,
             "solidity": 0.2
            },
            "type": "scatter"
           }
          ],
          "scatter3d": [
           {
            "line": {
             "colorbar": {
              "outlinewidth": 0,
              "ticks": ""
             }
            },
            "marker": {
             "colorbar": {
              "outlinewidth": 0,
              "ticks": ""
             }
            },
            "type": "scatter3d"
           }
          ],
          "scattercarpet": [
           {
            "marker": {
             "colorbar": {
              "outlinewidth": 0,
              "ticks": ""
             }
            },
            "type": "scattercarpet"
           }
          ],
          "scattergeo": [
           {
            "marker": {
             "colorbar": {
              "outlinewidth": 0,
              "ticks": ""
             }
            },
            "type": "scattergeo"
           }
          ],
          "scattergl": [
           {
            "marker": {
             "colorbar": {
              "outlinewidth": 0,
              "ticks": ""
             }
            },
            "type": "scattergl"
           }
          ],
          "scattermap": [
           {
            "marker": {
             "colorbar": {
              "outlinewidth": 0,
              "ticks": ""
             }
            },
            "type": "scattermap"
           }
          ],
          "scattermapbox": [
           {
            "marker": {
             "colorbar": {
              "outlinewidth": 0,
              "ticks": ""
             }
            },
            "type": "scattermapbox"
           }
          ],
          "scatterpolar": [
           {
            "marker": {
             "colorbar": {
              "outlinewidth": 0,
              "ticks": ""
             }
            },
            "type": "scatterpolar"
           }
          ],
          "scatterpolargl": [
           {
            "marker": {
             "colorbar": {
              "outlinewidth": 0,
              "ticks": ""
             }
            },
            "type": "scatterpolargl"
           }
          ],
          "scatterternary": [
           {
            "marker": {
             "colorbar": {
              "outlinewidth": 0,
              "ticks": ""
             }
            },
            "type": "scatterternary"
           }
          ],
          "surface": [
           {
            "colorbar": {
             "outlinewidth": 0,
             "ticks": ""
            },
            "colorscale": [
             [
              0,
              "#0d0887"
             ],
             [
              0.1111111111111111,
              "#46039f"
             ],
             [
              0.2222222222222222,
              "#7201a8"
             ],
             [
              0.3333333333333333,
              "#9c179e"
             ],
             [
              0.4444444444444444,
              "#bd3786"
             ],
             [
              0.5555555555555556,
              "#d8576b"
             ],
             [
              0.6666666666666666,
              "#ed7953"
             ],
             [
              0.7777777777777778,
              "#fb9f3a"
             ],
             [
              0.8888888888888888,
              "#fdca26"
             ],
             [
              1,
              "#f0f921"
             ]
            ],
            "type": "surface"
           }
          ],
          "table": [
           {
            "cells": {
             "fill": {
              "color": "#EBF0F8"
             },
             "line": {
              "color": "white"
             }
            },
            "header": {
             "fill": {
              "color": "#C8D4E3"
             },
             "line": {
              "color": "white"
             }
            },
            "type": "table"
           }
          ]
         },
         "layout": {
          "annotationdefaults": {
           "arrowcolor": "#2a3f5f",
           "arrowhead": 0,
           "arrowwidth": 1
          },
          "autotypenumbers": "strict",
          "coloraxis": {
           "colorbar": {
            "outlinewidth": 0,
            "ticks": ""
           }
          },
          "colorscale": {
           "diverging": [
            [
             0,
             "#8e0152"
            ],
            [
             0.1,
             "#c51b7d"
            ],
            [
             0.2,
             "#de77ae"
            ],
            [
             0.3,
             "#f1b6da"
            ],
            [
             0.4,
             "#fde0ef"
            ],
            [
             0.5,
             "#f7f7f7"
            ],
            [
             0.6,
             "#e6f5d0"
            ],
            [
             0.7,
             "#b8e186"
            ],
            [
             0.8,
             "#7fbc41"
            ],
            [
             0.9,
             "#4d9221"
            ],
            [
             1,
             "#276419"
            ]
           ],
           "sequential": [
            [
             0,
             "#0d0887"
            ],
            [
             0.1111111111111111,
             "#46039f"
            ],
            [
             0.2222222222222222,
             "#7201a8"
            ],
            [
             0.3333333333333333,
             "#9c179e"
            ],
            [
             0.4444444444444444,
             "#bd3786"
            ],
            [
             0.5555555555555556,
             "#d8576b"
            ],
            [
             0.6666666666666666,
             "#ed7953"
            ],
            [
             0.7777777777777778,
             "#fb9f3a"
            ],
            [
             0.8888888888888888,
             "#fdca26"
            ],
            [
             1,
             "#f0f921"
            ]
           ],
           "sequentialminus": [
            [
             0,
             "#0d0887"
            ],
            [
             0.1111111111111111,
             "#46039f"
            ],
            [
             0.2222222222222222,
             "#7201a8"
            ],
            [
             0.3333333333333333,
             "#9c179e"
            ],
            [
             0.4444444444444444,
             "#bd3786"
            ],
            [
             0.5555555555555556,
             "#d8576b"
            ],
            [
             0.6666666666666666,
             "#ed7953"
            ],
            [
             0.7777777777777778,
             "#fb9f3a"
            ],
            [
             0.8888888888888888,
             "#fdca26"
            ],
            [
             1,
             "#f0f921"
            ]
           ]
          },
          "colorway": [
           "#636efa",
           "#EF553B",
           "#00cc96",
           "#ab63fa",
           "#FFA15A",
           "#19d3f3",
           "#FF6692",
           "#B6E880",
           "#FF97FF",
           "#FECB52"
          ],
          "font": {
           "color": "#2a3f5f"
          },
          "geo": {
           "bgcolor": "white",
           "lakecolor": "white",
           "landcolor": "#E5ECF6",
           "showlakes": true,
           "showland": true,
           "subunitcolor": "white"
          },
          "hoverlabel": {
           "align": "left"
          },
          "hovermode": "closest",
          "mapbox": {
           "style": "light"
          },
          "paper_bgcolor": "white",
          "plot_bgcolor": "#E5ECF6",
          "polar": {
           "angularaxis": {
            "gridcolor": "white",
            "linecolor": "white",
            "ticks": ""
           },
           "bgcolor": "#E5ECF6",
           "radialaxis": {
            "gridcolor": "white",
            "linecolor": "white",
            "ticks": ""
           }
          },
          "scene": {
           "xaxis": {
            "backgroundcolor": "#E5ECF6",
            "gridcolor": "white",
            "gridwidth": 2,
            "linecolor": "white",
            "showbackground": true,
            "ticks": "",
            "zerolinecolor": "white"
           },
           "yaxis": {
            "backgroundcolor": "#E5ECF6",
            "gridcolor": "white",
            "gridwidth": 2,
            "linecolor": "white",
            "showbackground": true,
            "ticks": "",
            "zerolinecolor": "white"
           },
           "zaxis": {
            "backgroundcolor": "#E5ECF6",
            "gridcolor": "white",
            "gridwidth": 2,
            "linecolor": "white",
            "showbackground": true,
            "ticks": "",
            "zerolinecolor": "white"
           }
          },
          "shapedefaults": {
           "line": {
            "color": "#2a3f5f"
           }
          },
          "ternary": {
           "aaxis": {
            "gridcolor": "white",
            "linecolor": "white",
            "ticks": ""
           },
           "baxis": {
            "gridcolor": "white",
            "linecolor": "white",
            "ticks": ""
           },
           "bgcolor": "#E5ECF6",
           "caxis": {
            "gridcolor": "white",
            "linecolor": "white",
            "ticks": ""
           }
          },
          "title": {
           "x": 0.05
          },
          "xaxis": {
           "automargin": true,
           "gridcolor": "white",
           "linecolor": "white",
           "ticks": "",
           "title": {
            "standoff": 15
           },
           "zerolinecolor": "white",
           "zerolinewidth": 2
          },
          "yaxis": {
           "automargin": true,
           "gridcolor": "white",
           "linecolor": "white",
           "ticks": "",
           "title": {
            "standoff": 15
           },
           "zerolinecolor": "white",
           "zerolinewidth": 2
          }
         }
        },
        "title": {
         "font": {
          "family": "Arial Black",
          "size": 20
         },
         "text": "<b>Predicción vs Realidad - 8 - ESTRUCTURAS</b>",
         "x": 0.5,
         "xanchor": "center"
        },
        "width": 900,
        "xaxis": {
         "gridcolor": "lightgray",
         "gridwidth": 0.5,
         "showgrid": true,
         "title": {
          "font": {
           "size": 14
          },
          "text": "<b>Valor Real ($)</b>"
         }
        },
        "yaxis": {
         "gridcolor": "lightgray",
         "gridwidth": 0.5,
         "showgrid": true,
         "title": {
          "font": {
           "size": 14
          },
          "text": "<b>Valor Predicho ($)</b>"
         }
        }
       }
      }
     },
     "metadata": {},
     "output_type": "display_data"
    },
    {
     "name": "stdout",
     "output_type": "stream",
     "text": [
      "\n",
      "==========================================================================================\n"
     ]
    }
   ],
   "source": [
    "# ANALYSIS 2: PUENTES VEHICULARES UND → 8 - ESTRUCTURAS (without Log Transformation)\n",
    "\n",
    "results_estructuras = run_complete_analysis(\n",
    "    df_vp=df_vp,\n",
    "    target_name='8 - ESTRUCTURAS',\n",
    "    predictor_name='PUENTES VEHICULARES UND',\n",
    "    exclude_codes=['0654801'],\n",
    "    use_log_transform=False  # No log transformation (better performance for this case)\n",
    ")"
   ]
  },
  {
   "cell_type": "code",
   "execution_count": null,
   "id": "7456fb30",
   "metadata": {},
   "outputs": [],
   "source": []
  }
 ],
 "metadata": {
  "kernelspec": {
   "display_name": "practicum",
   "language": "python",
   "name": "python3"
  },
  "language_info": {
   "codemirror_mode": {
    "name": "ipython",
    "version": 3
   },
   "file_extension": ".py",
   "mimetype": "text/x-python",
   "name": "python",
   "nbconvert_exporter": "python",
   "pygments_lexer": "ipython3",
   "version": "3.13.5"
  }
 },
 "nbformat": 4,
 "nbformat_minor": 5
}
