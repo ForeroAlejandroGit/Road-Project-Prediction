{
 "cells": [
  {
   "cell_type": "code",
   "execution_count": 1,
   "id": "145d7a19",
   "metadata": {},
   "outputs": [
    {
     "name": "stderr",
     "output_type": "stream",
     "text": [
      "c:\\Users\\forer\\anaconda3\\envs\\practicum\\Lib\\site-packages\\requests\\__init__.py:86: RequestsDependencyWarning: Unable to find acceptable character detection dependency (chardet or charset_normalizer).\n",
      "  warnings.warn(\n"
     ]
    }
   ],
   "source": [
    "\n",
    "import pandas as pd\n",
    "\n",
    "from sklearn.model_selection import train_test_split, GridSearchCV, cross_validate, RepeatedKFold, LeaveOneOut\n",
    "from sklearn.compose import ColumnTransformer, TransformedTargetRegressor\n",
    "from sklearn.preprocessing import OneHotEncoder, StandardScaler\n",
    "from sklearn.pipeline import Pipeline\n",
    "from sklearn.svm import SVR\n",
    "from sklearn.linear_model import HuberRegressor, LinearRegression\n",
    "from sklearn.metrics import r2_score, mean_absolute_error, mean_squared_error, make_scorer\n",
    "from sklearn.model_selection import cross_val_predict\n",
    "import numpy as np, seaborn as sns, matplotlib.pyplot as plt\n",
    "import plotly.graph_objects as go\n",
    "import plotly.express as px\n",
    "import os\n",
    "import sys\n",
    "\n",
    "from sklearn.ensemble import IsolationForest\n",
    "from sklearn.neighbors import LocalOutlierFactor\n",
    "from sklearn.preprocessing import StandardScaler\n",
    "\n",
    "# Add project root to path (for Jupyter notebooks)\n",
    "# Get the current directory and navigate to project root\n",
    "current_dir = os.getcwd()\n",
    "project_root = os.path.dirname(current_dir)\n",
    "sys.path.insert(0, project_root)\n",
    "\n",
    "from src.config import Config\n",
    "import src.eda as eda\n",
    "import src.present_value as present_value\n",
    "from src.ml_utils import remove_outliers, calculate_metrics\n",
    "\n",
    "%load_ext autoreload\n",
    "%autoreload 2\n",
    "%reload_ext autoreload\n"
   ]
  },
  {
   "cell_type": "code",
   "execution_count": 2,
   "id": "3754b750",
   "metadata": {},
   "outputs": [
    {
     "name": "stderr",
     "output_type": "stream",
     "text": [
      "c:\\Code\\Road-Project-Prediction\\src\\eda.py:292: FutureWarning: Downcasting object dtype arrays on .fillna, .ffill, .bfill is deprecated and will change in a future version. Call result.infer_objects(copy=False) instead. To opt-in to the future behavior, set `pd.set_option('future.no_silent_downcasting', True)`\n",
      "  w = (df[cols] / totals).fillna(0)\n"
     ]
    }
   ],
   "source": [
    "## FROM DATABASE\n",
    "pv = present_value.PresentValue()\n",
    "anual_increment = pv.fetch_incremento_from_database()\n",
    "\n",
    "fase = \"III\"\n",
    "preproccesing = eda.EDA()\n",
    "df_raw = preproccesing.assemble_projects_from_database(fase)\n",
    "df_vp = preproccesing.create_dataset(pv.present_value_costs, fase=fase)"
   ]
  },
  {
   "cell_type": "code",
   "execution_count": 4,
   "id": "f77180a2",
   "metadata": {},
   "outputs": [],
   "source": [
    "def generate_synthetic_data(df_real, predictor1, predictor2, target, n_synthetic=20):\n",
    "    X_real = df_real[[predictor1, predictor2]].values\n",
    "    y_real = df_real[target].values\n",
    "    \n",
    "    np.random.seed(42)\n",
    "    X_synthetic = []\n",
    "    y_synthetic = []\n",
    "    \n",
    "    for _ in range(n_synthetic):\n",
    "        idx1, idx2 = np.random.choice(len(df_real), 2, replace=False)\n",
    "        alpha = np.random.beta(2, 2)\n",
    "        \n",
    "        x_new = alpha * X_real[idx1] + (1 - alpha) * X_real[idx2]\n",
    "        x_new *= np.random.uniform(0.99, 1.01, size=2)\n",
    "        \n",
    "        ratio1 = x_new[0] / X_real[idx1, 0] if X_real[idx1, 0] != 0 else 1\n",
    "        ratio2 = x_new[1] / X_real[idx1, 1] if X_real[idx1, 1] != 0 else 1\n",
    "        y_new = y_real[idx1] * (ratio1**0.6) * (ratio2**0.4)\n",
    "        y_new *= np.random.uniform(0.99, 1.01)\n",
    "        \n",
    "        X_synthetic.append(x_new)\n",
    "        y_synthetic.append(y_new)\n",
    "    \n",
    "    df_synthetic = pd.DataFrame(X_synthetic, columns=[predictor1, predictor2])\n",
    "    df_synthetic[target] = y_synthetic\n",
    "    \n",
    "    return pd.concat([df_real[[predictor1, predictor2, target]], df_synthetic], ignore_index=True)\n",
    "\n",
    "def train_model_tunnels(df_clean, predictor_name, hue_name, target_name):\n",
    "    predictor1, predictor2 = predictor_name, hue_name\n",
    "    \n",
    "    df_augmented = generate_synthetic_data(df_clean, predictor1, predictor2, target_name, n_synthetic=200)\n",
    "    \n",
    "    X = df_augmented[[predictor1, predictor2]].copy()\n",
    "    X[predictor1 + '_LOG'] = np.log1p(X[predictor1])\n",
    "    X[predictor2 + '_LOG'] = np.log1p(X[predictor2])\n",
    "    y = df_augmented[target_name].astype(float)\n",
    "    \n",
    "    scaler = StandardScaler()\n",
    "    X_scaled = scaler.fit_transform(X)\n",
    "    \n",
    "    model = TransformedTargetRegressor(regressor=LinearRegression(), func=np.log1p, inverse_func=np.expm1)\n",
    "    model.fit(X_scaled, y)\n",
    "    \n",
    "    X_real = df_clean[[predictor1, predictor2]].copy()\n",
    "    X_real[predictor1 + '_LOG'] = np.log1p(X_real[predictor1])\n",
    "    X_real[predictor2 + '_LOG'] = np.log1p(X_real[predictor2])\n",
    "    y_real = df_clean[target_name].astype(float)\n",
    "    \n",
    "    X_real_scaled = scaler.transform(X_real)\n",
    "    y_pred = model.predict(X_real_scaled)\n",
    "    \n",
    "    # Calculate comprehensive metrics using the centralized function\n",
    "    metrics = calculate_metrics(y_real, y_pred, target_name)\n",
    "    \n",
    "    print(f\"\\nR² = {metrics['R²']:.4f} | MAPE = {metrics['MAPE (%)']:.2f}%\")\n",
    "    \n",
    "    class ScaledModel:\n",
    "        def __init__(self, model, scaler, feature_names):\n",
    "            self.model, self.scaler, self.feature_names = model, scaler, feature_names\n",
    "        def predict(self, X_new):\n",
    "            return self.model.predict(self.scaler.transform(X_new[self.feature_names]))\n",
    "    \n",
    "    return X_real, y_real, y_pred, ScaledModel(model, scaler, X.columns.tolist())\n",
    "    "
   ]
  },
  {
   "cell_type": "code",
   "execution_count": 5,
   "id": "c893a966",
   "metadata": {},
   "outputs": [
    {
     "name": "stdout",
     "output_type": "stream",
     "text": [
      "\n",
      "R² = 0.8339 | MAPE = 9.76%\n",
      "   TUNELES UND  TUNELES KM        Actual     Predicted     Error%\n",
      "0            5      0.9200  6.644646e+07  6.562381e+07   1.238065\n",
      "1            1      8.6000  1.632824e+08  1.275371e+08  21.891687\n",
      "2           15      2.2747  1.906902e+08  2.023911e+08  -6.136095\n"
     ]
    }
   ],
   "source": [
    "def train_and_calculate_metrics_tunnels(df, target_column, predictors):\n",
    "    predictor1, predictor2 = predictors\n",
    "    df_item = df[df[target_column] > 0][[predictor1, predictor2, target_column]].dropna()\n",
    "    \n",
    "    X, y, y_pred, model = train_model_tunnels(df_item, predictor1, predictor2, target_column)\n",
    "    \n",
    "    print(pd.DataFrame({\n",
    "        predictor1: df_item[predictor1].values,\n",
    "        predictor2: df_item[predictor2].values,\n",
    "        'Actual': y.values,\n",
    "        'Predicted': y_pred,\n",
    "        'Error%': ((y.values - y_pred) / y.values * 100)\n",
    "    }))\n",
    "    \n",
    "    return {target_column: {'X': X, 'y': y, 'y_predicted': y_pred, 'trained_model': model}}    \n",
    "\n",
    "target_column = '9 - TÚNELES'\n",
    "predictors = ['TUNELES UND', 'TUNELES KM']\n",
    "\n",
    "df = df_vp[['LONGITUD KM', 'ALCANCE']].join(df_vp.loc[:, '1 - TRANSPORTE':'16 - DIRECCIÓN Y COORDINACIÓN'])\n",
    "df[predictors[0]] = df_vp[predictors[0]]\n",
    "df[predictors[1]] = df_vp[predictors[1]]\n",
    "\n",
    "results = train_and_calculate_metrics_tunnels(df, target_column, predictors)    "
   ]
  },
  {
   "cell_type": "code",
   "execution_count": null,
   "id": "73bf1b34",
   "metadata": {},
   "outputs": [],
   "source": []
  }
 ],
 "metadata": {
  "kernelspec": {
   "display_name": "practicum",
   "language": "python",
   "name": "python3"
  },
  "language_info": {
   "codemirror_mode": {
    "name": "ipython",
    "version": 3
   },
   "file_extension": ".py",
   "mimetype": "text/x-python",
   "name": "python",
   "nbconvert_exporter": "python",
   "pygments_lexer": "ipython3",
   "version": "3.13.5"
  }
 },
 "nbformat": 4,
 "nbformat_minor": 5
}
