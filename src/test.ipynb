{
 "cells": [
  {
   "cell_type": "code",
   "execution_count": 71,
   "id": "db3dbd1e",
   "metadata": {},
   "outputs": [
    {
     "name": "stdout",
     "output_type": "stream",
     "text": [
      "The autoreload extension is already loaded. To reload it, use:\n",
      "  %reload_ext autoreload\n"
     ]
    }
   ],
   "source": [
    "\n",
    "import pandas as pd\n",
    "import numpy as np, seaborn as sns, matplotlib.pyplot as plt\n",
    "import plotly.express as px\n",
    "import plotly.graph_objects as go\n",
    "\n",
    "import eda\n",
    "import present_value\n",
    "\n",
    "%load_ext autoreload\n",
    "%autoreload 2\n",
    "%reload_ext autoreload\n"
   ]
  },
  {
   "cell_type": "code",
   "execution_count": 72,
   "id": "5ed4ba93",
   "metadata": {},
   "outputs": [
    {
     "name": "stderr",
     "output_type": "stream",
     "text": [
      "c:\\Code\\Road-Project-Prediction\\src\\eda.py:147: FutureWarning:\n",
      "\n",
      "Downcasting object dtype arrays on .fillna, .ffill, .bfill is deprecated and will change in a future version. Call result.infer_objects(copy=False) instead. To opt-in to the future behavior, set `pd.set_option('future.no_silent_downcasting', True)`\n",
      "\n"
     ]
    }
   ],
   "source": [
    "## FROM DATABASE\n",
    "pv = present_value.PresentValue()\n",
    "anual_increment = pv.fetch_incremento_from_database()\n",
    "\n",
    "preproccesing = eda.EDA()\n",
    "df_raw = preproccesing.assemble_projects_from_database()\n",
    "df_vp = preproccesing.create_dataset(pv.present_value_costs)"
   ]
  },
  {
   "cell_type": "code",
   "execution_count": 58,
   "id": "46d5866e",
   "metadata": {},
   "outputs": [
    {
     "data": {
      "text/html": [
       "<div>\n",
       "<style scoped>\n",
       "    .dataframe tbody tr th:only-of-type {\n",
       "        vertical-align: middle;\n",
       "    }\n",
       "\n",
       "    .dataframe tbody tr th {\n",
       "        vertical-align: top;\n",
       "    }\n",
       "\n",
       "    .dataframe thead th {\n",
       "        text-align: right;\n",
       "    }\n",
       "</style>\n",
       "<table border=\"1\" class=\"dataframe\">\n",
       "  <thead>\n",
       "    <tr style=\"text-align: right;\">\n",
       "      <th></th>\n",
       "      <th>1 - TRANSPORTE</th>\n",
       "      <th>2.1 - INFORMACIÓN GEOGRÁFICA</th>\n",
       "      <th>2.2 TRAZADO Y DISEÑO GEOMÉTRICO</th>\n",
       "      <th>2.3 - SEGURIDAD VIAL</th>\n",
       "      <th>2.4 - SISTEMAS INTELIGENTES</th>\n",
       "      <th>3.1 - GEOLOGÍA</th>\n",
       "      <th>3.2 - HIDROGEOLOGÍA</th>\n",
       "      <th>4 - SUELOS</th>\n",
       "      <th>5 - TALUDES</th>\n",
       "      <th>6 - PAVIMENTO</th>\n",
       "      <th>7 - SOCAVACIÓN</th>\n",
       "      <th>8 - ESTRUCTURAS</th>\n",
       "      <th>9 - TÚNELES</th>\n",
       "      <th>10 - URBANISMO Y PAISAJISMO</th>\n",
       "      <th>11 - PREDIAL</th>\n",
       "      <th>12 - IMPACTO AMBIENTAL</th>\n",
       "      <th>13 - CANTIDADES</th>\n",
       "      <th>14 - EVALUACIÓN SOCIOECONÓMICA</th>\n",
       "      <th>15 - OTROS - MANEJO DE REDES</th>\n",
       "      <th>16 - DIRECCIÓN Y COORDINACIÓN</th>\n",
       "    </tr>\n",
       "  </thead>\n",
       "  <tbody>\n",
       "    <tr>\n",
       "      <th>26</th>\n",
       "      <td>0.0</td>\n",
       "      <td>0.0</td>\n",
       "      <td>2.851699e+08</td>\n",
       "      <td>3.065453e+08</td>\n",
       "      <td>77864916.72</td>\n",
       "      <td>198605538.6</td>\n",
       "      <td>0.0</td>\n",
       "      <td>2.588137e+08</td>\n",
       "      <td>3.099794e+08</td>\n",
       "      <td>1.384100e+08</td>\n",
       "      <td>6.474906e+08</td>\n",
       "      <td>4.486878e+08</td>\n",
       "      <td>0.0</td>\n",
       "      <td>2.333073e+08</td>\n",
       "      <td>0.0</td>\n",
       "      <td>0.0</td>\n",
       "      <td>40998694.62</td>\n",
       "      <td>0.0</td>\n",
       "      <td>439848969.7</td>\n",
       "      <td>3.440089e+08</td>\n",
       "    </tr>\n",
       "    <tr>\n",
       "      <th>27</th>\n",
       "      <td>0.0</td>\n",
       "      <td>0.0</td>\n",
       "      <td>2.851699e+08</td>\n",
       "      <td>3.065453e+08</td>\n",
       "      <td>77864916.72</td>\n",
       "      <td>198605538.6</td>\n",
       "      <td>0.0</td>\n",
       "      <td>2.588137e+08</td>\n",
       "      <td>3.099794e+08</td>\n",
       "      <td>1.384100e+08</td>\n",
       "      <td>6.474906e+08</td>\n",
       "      <td>4.486878e+08</td>\n",
       "      <td>0.0</td>\n",
       "      <td>2.333073e+08</td>\n",
       "      <td>0.0</td>\n",
       "      <td>0.0</td>\n",
       "      <td>40998694.62</td>\n",
       "      <td>0.0</td>\n",
       "      <td>439848969.7</td>\n",
       "      <td>3.440089e+08</td>\n",
       "    </tr>\n",
       "    <tr>\n",
       "      <th>28</th>\n",
       "      <td>0.0</td>\n",
       "      <td>0.0</td>\n",
       "      <td>2.851699e+08</td>\n",
       "      <td>3.065453e+08</td>\n",
       "      <td>77864916.72</td>\n",
       "      <td>198605538.6</td>\n",
       "      <td>0.0</td>\n",
       "      <td>2.588137e+08</td>\n",
       "      <td>3.099794e+08</td>\n",
       "      <td>1.384100e+08</td>\n",
       "      <td>6.474906e+08</td>\n",
       "      <td>4.486878e+08</td>\n",
       "      <td>0.0</td>\n",
       "      <td>2.333073e+08</td>\n",
       "      <td>0.0</td>\n",
       "      <td>0.0</td>\n",
       "      <td>40998694.62</td>\n",
       "      <td>0.0</td>\n",
       "      <td>439848969.7</td>\n",
       "      <td>3.440089e+08</td>\n",
       "    </tr>\n",
       "    <tr>\n",
       "      <th>29</th>\n",
       "      <td>0.0</td>\n",
       "      <td>0.0</td>\n",
       "      <td>2.851699e+08</td>\n",
       "      <td>3.065453e+08</td>\n",
       "      <td>77864916.72</td>\n",
       "      <td>198605538.6</td>\n",
       "      <td>0.0</td>\n",
       "      <td>2.588137e+08</td>\n",
       "      <td>3.099794e+08</td>\n",
       "      <td>1.384100e+08</td>\n",
       "      <td>6.474906e+08</td>\n",
       "      <td>4.486878e+08</td>\n",
       "      <td>0.0</td>\n",
       "      <td>2.333073e+08</td>\n",
       "      <td>0.0</td>\n",
       "      <td>0.0</td>\n",
       "      <td>40998694.62</td>\n",
       "      <td>0.0</td>\n",
       "      <td>439848969.7</td>\n",
       "      <td>3.440089e+08</td>\n",
       "    </tr>\n",
       "    <tr>\n",
       "      <th>30</th>\n",
       "      <td>0.0</td>\n",
       "      <td>0.0</td>\n",
       "      <td>2.851699e+08</td>\n",
       "      <td>3.065453e+08</td>\n",
       "      <td>77864916.72</td>\n",
       "      <td>198605538.6</td>\n",
       "      <td>0.0</td>\n",
       "      <td>2.588137e+08</td>\n",
       "      <td>3.099794e+08</td>\n",
       "      <td>1.384100e+08</td>\n",
       "      <td>6.474906e+08</td>\n",
       "      <td>4.486878e+08</td>\n",
       "      <td>0.0</td>\n",
       "      <td>2.333073e+08</td>\n",
       "      <td>0.0</td>\n",
       "      <td>0.0</td>\n",
       "      <td>40998694.62</td>\n",
       "      <td>0.0</td>\n",
       "      <td>439848969.7</td>\n",
       "      <td>3.440089e+08</td>\n",
       "    </tr>\n",
       "  </tbody>\n",
       "</table>\n",
       "</div>"
      ],
      "text/plain": [
       "    1 - TRANSPORTE  2.1 - INFORMACIÓN GEOGRÁFICA  \\\n",
       "26             0.0                           0.0   \n",
       "27             0.0                           0.0   \n",
       "28             0.0                           0.0   \n",
       "29             0.0                           0.0   \n",
       "30             0.0                           0.0   \n",
       "\n",
       "    2.2 TRAZADO Y DISEÑO GEOMÉTRICO  2.3 - SEGURIDAD VIAL  \\\n",
       "26                     2.851699e+08          3.065453e+08   \n",
       "27                     2.851699e+08          3.065453e+08   \n",
       "28                     2.851699e+08          3.065453e+08   \n",
       "29                     2.851699e+08          3.065453e+08   \n",
       "30                     2.851699e+08          3.065453e+08   \n",
       "\n",
       "    2.4 - SISTEMAS INTELIGENTES  3.1 - GEOLOGÍA  3.2 - HIDROGEOLOGÍA  \\\n",
       "26                  77864916.72     198605538.6                  0.0   \n",
       "27                  77864916.72     198605538.6                  0.0   \n",
       "28                  77864916.72     198605538.6                  0.0   \n",
       "29                  77864916.72     198605538.6                  0.0   \n",
       "30                  77864916.72     198605538.6                  0.0   \n",
       "\n",
       "      4 - SUELOS   5 - TALUDES  6 - PAVIMENTO  7 - SOCAVACIÓN  \\\n",
       "26  2.588137e+08  3.099794e+08   1.384100e+08    6.474906e+08   \n",
       "27  2.588137e+08  3.099794e+08   1.384100e+08    6.474906e+08   \n",
       "28  2.588137e+08  3.099794e+08   1.384100e+08    6.474906e+08   \n",
       "29  2.588137e+08  3.099794e+08   1.384100e+08    6.474906e+08   \n",
       "30  2.588137e+08  3.099794e+08   1.384100e+08    6.474906e+08   \n",
       "\n",
       "    8 - ESTRUCTURAS  9 - TÚNELES  10 - URBANISMO Y PAISAJISMO  11 - PREDIAL  \\\n",
       "26     4.486878e+08          0.0                 2.333073e+08           0.0   \n",
       "27     4.486878e+08          0.0                 2.333073e+08           0.0   \n",
       "28     4.486878e+08          0.0                 2.333073e+08           0.0   \n",
       "29     4.486878e+08          0.0                 2.333073e+08           0.0   \n",
       "30     4.486878e+08          0.0                 2.333073e+08           0.0   \n",
       "\n",
       "    12 - IMPACTO AMBIENTAL  13 - CANTIDADES  14 - EVALUACIÓN SOCIOECONÓMICA  \\\n",
       "26                     0.0      40998694.62                             0.0   \n",
       "27                     0.0      40998694.62                             0.0   \n",
       "28                     0.0      40998694.62                             0.0   \n",
       "29                     0.0      40998694.62                             0.0   \n",
       "30                     0.0      40998694.62                             0.0   \n",
       "\n",
       "    15 - OTROS - MANEJO DE REDES  16 - DIRECCIÓN Y COORDINACIÓN  \n",
       "26                   439848969.7                   3.440089e+08  \n",
       "27                   439848969.7                   3.440089e+08  \n",
       "28                   439848969.7                   3.440089e+08  \n",
       "29                   439848969.7                   3.440089e+08  \n",
       "30                   439848969.7                   3.440089e+08  "
      ]
     },
     "execution_count": 58,
     "metadata": {},
     "output_type": "execute_result"
    }
   ],
   "source": [
    "df_raw[df_raw['CÓDIGO DEL PROYECTO']=='0654801'].loc[:, \"1 - TRANSPORTE\": \"16 - DIRECCIÓN Y COORDINACIÓN\"].head()"
   ]
  },
  {
   "cell_type": "code",
   "execution_count": 60,
   "id": "c7973e70",
   "metadata": {},
   "outputs": [
    {
     "data": {
      "text/plain": [
       "1 - TRANSPORTE                     0.000000e+00\n",
       "2.1 - INFORMACIÓN GEOGRÁFICA       0.000000e+00\n",
       "2.2 TRAZADO Y DISEÑO GEOMÉTRICO    3.324713e+08\n",
       "2.3 - SEGURIDAD VIAL               3.573922e+08\n",
       "2.4 - SISTEMAS INTELIGENTES        9.078045e+07\n",
       "3.1 - GEOLOGÍA                     2.315484e+08\n",
       "3.2 - HIDROGEOLOGÍA                0.000000e+00\n",
       "4 - SUELOS                         3.017433e+08\n",
       "5 - TALUDES                        3.613959e+08\n",
       "6 - PAVIMENTO                      1.613683e+08\n",
       "7 - SOCAVACIÓN                     7.548905e+08\n",
       "8 - ESTRUCTURAS                    5.231120e+08\n",
       "9 - TÚNELES                        0.000000e+00\n",
       "10 - URBANISMO Y PAISAJISMO        2.720062e+08\n",
       "11 - PREDIAL                       0.000000e+00\n",
       "12 - IMPACTO AMBIENTAL             0.000000e+00\n",
       "13 - CANTIDADES                    1.099381e+09\n",
       "14 - EVALUACIÓN SOCIOECONÓMICA     0.000000e+00\n",
       "15 - OTROS - MANEJO DE REDES       5.128072e+08\n",
       "16 - DIRECCIÓN Y COORDINACIÓN      4.010700e+08\n",
       "dtype: float64"
      ]
     },
     "execution_count": 60,
     "metadata": {},
     "output_type": "execute_result"
    }
   ],
   "source": [
    "# Calculate COSTO_UF_VP: total cost per functional unit (sum all item columns per row)\n",
    "# df_vp['COSTO_UF_VP'] = df_vp.loc[:, \"1 - TRANSPORTE\": \"16 - DIRECCIÓN Y COORDINACIÓN\"].sum(axis=1)\n",
    "df_vp[df_vp['CÓDIGO']=='0654801'].loc[:, \"1 - TRANSPORTE\": \"16 - DIRECCIÓN Y COORDINACIÓN\"].sum(axis=0)\n"
   ]
  },
  {
   "cell_type": "code",
   "execution_count": 80,
   "id": "2067feba",
   "metadata": {},
   "outputs": [
    {
     "data": {
      "application/vnd.plotly.v1+json": {
       "config": {
        "plotlyServerURL": "https://plot.ly"
       },
       "data": [
        {
         "customdata": [
          [
           "TAMBILLO - COLIBRÍ",
           "0001",
           2014,
           "Fase III - Diseños a detalle",
           "Segunda calzada",
           1,
           1599230784.4911554
          ]
         ],
         "hovertemplate": "Código del Proyecto=%{customdata[1]}<br>Longitud del Proyecto (km)=%{x:.2f}<br>Valor Presente de la Causación de Personal (Millones COP)=%{marker.size:.2f}<br>Nombre del Proyecto=%{customdata[0]}<br>Año de Inicio=%{customdata[2]}<br>Fase del Proyecto=%{customdata[3]}<br>Alcance=%{customdata[4]}<br>N° Unidades Funcionales=%{customdata[5]}<br>Costo Total VP (COP)=%{customdata[6]:,.0f}<extra></extra>",
         "legendgroup": "0001",
         "marker": {
          "color": "rgb(102,194,165)",
          "line": {
           "color": "white",
           "width": 1.5
          },
          "opacity": 0.85,
          "size": {
           "bdata": "vwfFUuz8mEA=",
           "dtype": "f8"
          },
          "sizemin": 8,
          "sizemode": "area",
          "sizeref": 2.7177406926235137,
          "symbol": "circle"
         },
         "mode": "markers",
         "name": "0001",
         "orientation": "v",
         "showlegend": true,
         "textposition": "top center",
         "type": "scatter",
         "x": {
          "bdata": "ZmZmZmZmMUA=",
          "dtype": "f8"
         },
         "xaxis": "x",
         "y": {
          "bdata": "vwfFUuz8mEA=",
          "dtype": "f8"
         },
         "yaxis": "y"
        },
        {
         "customdata": [
          [
           "DCO",
           "0004",
           2021,
           "Fase III - Diseños a detalle",
           "Nuevo",
           1,
           572206294.2348154
          ]
         ],
         "hovertemplate": "Código del Proyecto=%{customdata[1]}<br>Longitud del Proyecto (km)=%{x:.2f}<br>Valor Presente de la Causación de Personal (Millones COP)=%{marker.size:.2f}<br>Nombre del Proyecto=%{customdata[0]}<br>Año de Inicio=%{customdata[2]}<br>Fase del Proyecto=%{customdata[3]}<br>Alcance=%{customdata[4]}<br>N° Unidades Funcionales=%{customdata[5]}<br>Costo Total VP (COP)=%{customdata[6]:,.0f}<extra></extra>",
         "legendgroup": "0004",
         "marker": {
          "color": "rgb(252,141,98)",
          "line": {
           "color": "white",
           "width": 1.5
          },
          "opacity": 0.85,
          "size": {
           "bdata": "FX+XfabhgUA=",
           "dtype": "f8"
          },
          "sizemin": 8,
          "sizemode": "area",
          "sizeref": 2.7177406926235137,
          "symbol": "circle"
         },
         "mode": "markers",
         "name": "0004",
         "orientation": "v",
         "showlegend": true,
         "textposition": "top center",
         "type": "scatter",
         "x": {
          "bdata": "4XoUrkdhK0A=",
          "dtype": "f8"
         },
         "xaxis": "x",
         "y": {
          "bdata": "FX+XfabhgUA=",
          "dtype": "f8"
         },
         "yaxis": "y"
        },
        {
         "customdata": [
          [
           "BUENAVENTURA LOBOGUERRERO",
           "0005",
           2016,
           "Fase III - Diseños a detalle",
           "Segunda calzada",
           7,
           429122663.4819811
          ]
         ],
         "hovertemplate": "Código del Proyecto=%{customdata[1]}<br>Longitud del Proyecto (km)=%{x:.2f}<br>Valor Presente de la Causación de Personal (Millones COP)=%{marker.size:.2f}<br>Nombre del Proyecto=%{customdata[0]}<br>Año de Inicio=%{customdata[2]}<br>Fase del Proyecto=%{customdata[3]}<br>Alcance=%{customdata[4]}<br>N° Unidades Funcionales=%{customdata[5]}<br>Costo Total VP (COP)=%{customdata[6]:,.0f}<extra></extra>",
         "legendgroup": "0005",
         "marker": {
          "color": "rgb(141,160,203)",
          "line": {
           "color": "white",
           "width": 1.5
          },
          "opacity": 0.85,
          "size": {
           "bdata": "W7j7bfbRekA=",
           "dtype": "f8"
          },
          "sizemin": 8,
          "sizemode": "area",
          "sizeref": 2.7177406926235137,
          "symbol": "circle"
         },
         "mode": "markers",
         "name": "0005",
         "orientation": "v",
         "showlegend": true,
         "textposition": "top center",
         "type": "scatter",
         "x": {
          "bdata": "MzMzMzPTW0A=",
          "dtype": "f8"
         },
         "xaxis": "x",
         "y": {
          "bdata": "W7j7bfbRekA=",
          "dtype": "f8"
         },
         "yaxis": "y"
        },
        {
         "customdata": [
          [
           "CATAMBUCO - PASTO UF5.2",
           "0266702",
           2017,
           "Fase III - Diseños a detalle",
           "Mejoramiento",
           1,
           103888353.71364902
          ]
         ],
         "hovertemplate": "Código del Proyecto=%{customdata[1]}<br>Longitud del Proyecto (km)=%{x:.2f}<br>Valor Presente de la Causación de Personal (Millones COP)=%{marker.size:.2f}<br>Nombre del Proyecto=%{customdata[0]}<br>Año de Inicio=%{customdata[2]}<br>Fase del Proyecto=%{customdata[3]}<br>Alcance=%{customdata[4]}<br>N° Unidades Funcionales=%{customdata[5]}<br>Costo Total VP (COP)=%{customdata[6]:,.0f}<extra></extra>",
         "legendgroup": "0266702",
         "marker": {
          "color": "rgb(231,138,195)",
          "line": {
           "color": "white",
           "width": 1.5
          },
          "opacity": 0.85,
          "size": {
           "bdata": "xtmIydr4WUA=",
           "dtype": "f8"
          },
          "sizemin": 8,
          "sizemode": "area",
          "sizeref": 2.7177406926235137,
          "symbol": "circle"
         },
         "mode": "markers",
         "name": "0266702",
         "orientation": "v",
         "showlegend": true,
         "textposition": "top center",
         "type": "scatter",
         "x": {
          "bdata": "AAAAAAAAFEA=",
          "dtype": "f8"
         },
         "xaxis": "x",
         "y": {
          "bdata": "xtmIydr4WUA=",
          "dtype": "f8"
         },
         "yaxis": "y"
        },
        {
         "customdata": [
          [
           "BUGA - BUENAVENTURA EL PORVENIR UF5",
           "0300604",
           2017,
           "Fase III - Diseños a detalle",
           "Segunda calzada",
           1,
           65075830.370507725
          ]
         ],
         "hovertemplate": "Código del Proyecto=%{customdata[1]}<br>Longitud del Proyecto (km)=%{x:.2f}<br>Valor Presente de la Causación de Personal (Millones COP)=%{marker.size:.2f}<br>Nombre del Proyecto=%{customdata[0]}<br>Año de Inicio=%{customdata[2]}<br>Fase del Proyecto=%{customdata[3]}<br>Alcance=%{customdata[4]}<br>N° Unidades Funcionales=%{customdata[5]}<br>Costo Total VP (COP)=%{customdata[6]:,.0f}<extra></extra>",
         "legendgroup": "0300604",
         "marker": {
          "color": "rgb(166,216,84)",
          "line": {
           "color": "white",
           "width": 1.5
          },
          "opacity": 0.85,
          "size": {
           "bdata": "9FegZ9pEUEA=",
           "dtype": "f8"
          },
          "sizemin": 8,
          "sizemode": "area",
          "sizeref": 2.7177406926235137,
          "symbol": "circle"
         },
         "mode": "markers",
         "name": "0300604",
         "orientation": "v",
         "showlegend": true,
         "textposition": "top center",
         "type": "scatter",
         "x": {
          "bdata": "AAAAAAAABEA=",
          "dtype": "f8"
         },
         "xaxis": "x",
         "y": {
          "bdata": "9FegZ9pEUEA=",
          "dtype": "f8"
         },
         "yaxis": "y"
        },
        {
         "customdata": [
          [
           "BUGA - BUENAVENTURA UF4",
           "0300605",
           2017,
           "Fase III - Diseños a detalle",
           "Segunda calzada",
           1,
           447005925.7042035
          ]
         ],
         "hovertemplate": "Código del Proyecto=%{customdata[1]}<br>Longitud del Proyecto (km)=%{x:.2f}<br>Valor Presente de la Causación de Personal (Millones COP)=%{marker.size:.2f}<br>Nombre del Proyecto=%{customdata[0]}<br>Año de Inicio=%{customdata[2]}<br>Fase del Proyecto=%{customdata[3]}<br>Alcance=%{customdata[4]}<br>N° Unidades Funcionales=%{customdata[5]}<br>Costo Total VP (COP)=%{customdata[6]:,.0f}<extra></extra>",
         "legendgroup": "0300605",
         "marker": {
          "color": "rgb(255,217,47)",
          "line": {
           "color": "white",
           "width": 1.5
          },
          "opacity": 0.85,
          "size": {
           "bdata": "KByNRRjwe0A=",
           "dtype": "f8"
          },
          "sizemin": 8,
          "sizemode": "area",
          "sizeref": 2.7177406926235137,
          "symbol": "circle"
         },
         "mode": "markers",
         "name": "0300605",
         "orientation": "v",
         "showlegend": true,
         "textposition": "top center",
         "type": "scatter",
         "x": {
          "bdata": "AAAAAAAAMUA=",
          "dtype": "f8"
         },
         "xaxis": "x",
         "y": {
          "bdata": "KByNRRjwe0A=",
          "dtype": "f8"
         },
         "yaxis": "y"
        },
        {
         "customdata": [
          [
           "DISEÑO GEOMÉTRICO TERCER CARRIL BOGOTÁ - GIRARDOT",
           "0321501",
           2017,
           "Fase III - Diseños a detalle",
           "Mejoramiento",
           8,
           1246591718.4229999
          ]
         ],
         "hovertemplate": "Código del Proyecto=%{customdata[1]}<br>Longitud del Proyecto (km)=%{x:.2f}<br>Valor Presente de la Causación de Personal (Millones COP)=%{marker.size:.2f}<br>Nombre del Proyecto=%{customdata[0]}<br>Año de Inicio=%{customdata[2]}<br>Fase del Proyecto=%{customdata[3]}<br>Alcance=%{customdata[4]}<br>N° Unidades Funcionales=%{customdata[5]}<br>Costo Total VP (COP)=%{customdata[6]:,.0f}<extra></extra>",
         "legendgroup": "0321501",
         "marker": {
          "color": "rgb(229,196,148)",
          "line": {
           "color": "white",
           "width": 1.5
          },
          "opacity": 0.85,
          "size": {
           "bdata": "5ixv6116k0A=",
           "dtype": "f8"
          },
          "sizemin": 8,
          "sizemode": "area",
          "sizeref": 2.7177406926235137,
          "symbol": "circle"
         },
         "mode": "markers",
         "name": "0321501",
         "orientation": "v",
         "showlegend": true,
         "textposition": "top center",
         "type": "scatter",
         "x": {
          "bdata": "uB6F61EYYkA=",
          "dtype": "f8"
         },
         "xaxis": "x",
         "y": {
          "bdata": "5ixv6116k0A=",
          "dtype": "f8"
         },
         "yaxis": "y"
        },
        {
         "customdata": [
          [
           "TERMINACIÓN TÚNEL DE LA LÍNEA",
           "0347801",
           2017,
           "Fase III - Diseños a detalle",
           "Rehabilitación",
           3,
           4246600199.575547
          ]
         ],
         "hovertemplate": "Código del Proyecto=%{customdata[1]}<br>Longitud del Proyecto (km)=%{x:.2f}<br>Valor Presente de la Causación de Personal (Millones COP)=%{marker.size:.2f}<br>Nombre del Proyecto=%{customdata[0]}<br>Año de Inicio=%{customdata[2]}<br>Fase del Proyecto=%{customdata[3]}<br>Alcance=%{customdata[4]}<br>N° Unidades Funcionales=%{customdata[5]}<br>Costo Total VP (COP)=%{customdata[6]:,.0f}<extra></extra>",
         "legendgroup": "0347801",
         "marker": {
          "color": "rgb(179,179,179)",
          "line": {
           "color": "white",
           "width": 1.5
          },
          "opacity": 0.85,
          "size": {
           "bdata": "DOytppmWsEA=",
           "dtype": "f8"
          },
          "sizemin": 8,
          "sizemode": "area",
          "sizeref": 2.7177406926235137,
          "symbol": "circle"
         },
         "mode": "markers",
         "name": "0347801",
         "orientation": "v",
         "showlegend": true,
         "textposition": "top center",
         "type": "scatter",
         "x": {
          "bdata": "MzMzMzNzOUA=",
          "dtype": "f8"
         },
         "xaxis": "x",
         "y": {
          "bdata": "DOytppmWsEA=",
          "dtype": "f8"
         },
         "yaxis": "y"
        },
        {
         "customdata": [
          [
           "PURIFICACIÓN - LOZANÍA",
           "0427901",
           2020,
           "Fase III - Diseños a detalle",
           "Mejoramiento",
           1,
           71685014.43663186
          ]
         ],
         "hovertemplate": "Código del Proyecto=%{customdata[1]}<br>Longitud del Proyecto (km)=%{x:.2f}<br>Valor Presente de la Causación de Personal (Millones COP)=%{marker.size:.2f}<br>Nombre del Proyecto=%{customdata[0]}<br>Año de Inicio=%{customdata[2]}<br>Fase del Proyecto=%{customdata[3]}<br>Alcance=%{customdata[4]}<br>N° Unidades Funcionales=%{customdata[5]}<br>Costo Total VP (COP)=%{customdata[6]:,.0f}<extra></extra>",
         "legendgroup": "0427901",
         "marker": {
          "color": "rgb(102,194,165)",
          "line": {
           "color": "white",
           "width": 1.5
          },
          "opacity": 0.85,
          "size": {
           "bdata": "yqfKRtfrUUA=",
           "dtype": "f8"
          },
          "sizemin": 8,
          "sizemode": "area",
          "sizeref": 2.7177406926235137,
          "symbol": "circle"
         },
         "mode": "markers",
         "name": "0427901",
         "orientation": "v",
         "showlegend": true,
         "textposition": "top center",
         "type": "scatter",
         "x": {
          "bdata": "AAAAAAAAFEA=",
          "dtype": "f8"
         },
         "xaxis": "x",
         "y": {
          "bdata": "yqfKRtfrUUA=",
          "dtype": "f8"
         },
         "yaxis": "y"
        },
        {
         "customdata": [
          [
           "TRANSVERSAL BOYACÁ",
           "0552903",
           2021,
           "Fase III - Diseños a detalle",
           "Mejoramiento",
           1,
           491464727.81958085
          ]
         ],
         "hovertemplate": "Código del Proyecto=%{customdata[1]}<br>Longitud del Proyecto (km)=%{x:.2f}<br>Valor Presente de la Causación de Personal (Millones COP)=%{marker.size:.2f}<br>Nombre del Proyecto=%{customdata[0]}<br>Año de Inicio=%{customdata[2]}<br>Fase del Proyecto=%{customdata[3]}<br>Alcance=%{customdata[4]}<br>N° Unidades Funcionales=%{customdata[5]}<br>Costo Total VP (COP)=%{customdata[6]:,.0f}<extra></extra>",
         "legendgroup": "0552903",
         "marker": {
          "color": "rgb(252,141,98)",
          "line": {
           "color": "white",
           "width": 1.5
          },
          "opacity": 0.85,
          "size": {
           "bdata": "Qipwhm+3fkA=",
           "dtype": "f8"
          },
          "sizemin": 8,
          "sizemode": "area",
          "sizeref": 2.7177406926235137,
          "symbol": "circle"
         },
         "mode": "markers",
         "name": "0552903",
         "orientation": "v",
         "showlegend": true,
         "textposition": "top center",
         "type": "scatter",
         "x": {
          "bdata": "H4XrUbgeJEA=",
          "dtype": "f8"
         },
         "xaxis": "x",
         "y": {
          "bdata": "Qipwhm+3fkA=",
          "dtype": "f8"
         },
         "yaxis": "y"
        },
        {
         "customdata": [
          [
           "QUEREMAL - DANUBIO",
           "0581301",
           2022,
           "Fase III - Diseños a detalle",
           "Mejoramiento",
           1,
           808021495.2695452
          ]
         ],
         "hovertemplate": "Código del Proyecto=%{customdata[1]}<br>Longitud del Proyecto (km)=%{x:.2f}<br>Valor Presente de la Causación de Personal (Millones COP)=%{marker.size:.2f}<br>Nombre del Proyecto=%{customdata[0]}<br>Año de Inicio=%{customdata[2]}<br>Fase del Proyecto=%{customdata[3]}<br>Alcance=%{customdata[4]}<br>N° Unidades Funcionales=%{customdata[5]}<br>Costo Total VP (COP)=%{customdata[6]:,.0f}<extra></extra>",
         "legendgroup": "0581301",
         "marker": {
          "color": "rgb(141,160,203)",
          "line": {
           "color": "white",
           "width": 1.5
          },
          "opacity": 0.85,
          "size": {
           "bdata": "uT22BSxAiUA=",
           "dtype": "f8"
          },
          "sizemin": 8,
          "sizemode": "area",
          "sizeref": 2.7177406926235137,
          "symbol": "circle"
         },
         "mode": "markers",
         "name": "0581301",
         "orientation": "v",
         "showlegend": true,
         "textposition": "top center",
         "type": "scatter",
         "x": {
          "bdata": "Rrbz/dT4FEA=",
          "dtype": "f8"
         },
         "xaxis": "x",
         "y": {
          "bdata": "uT22BSxAiUA=",
          "dtype": "f8"
         },
         "yaxis": "y"
        },
        {
         "customdata": [
          [
           "BUGA - BUENAVENTURA",
           "0654801",
           2023,
           "Fase III - Diseños a detalle",
           "Rehabilitación",
           23,
           4348385108.197621
          ]
         ],
         "hovertemplate": "Código del Proyecto=%{customdata[1]}<br>Longitud del Proyecto (km)=%{x:.2f}<br>Valor Presente de la Causación de Personal (Millones COP)=%{marker.size:.2f}<br>Nombre del Proyecto=%{customdata[0]}<br>Año de Inicio=%{customdata[2]}<br>Fase del Proyecto=%{customdata[3]}<br>Alcance=%{customdata[4]}<br>N° Unidades Funcionales=%{customdata[5]}<br>Costo Total VP (COP)=%{customdata[6]:,.0f}<extra></extra>",
         "legendgroup": "0654801",
         "marker": {
          "color": "rgb(231,138,195)",
          "line": {
           "color": "white",
           "width": 1.5
          },
          "opacity": 0.85,
          "size": {
           "bdata": "NWpzlmL8sEA=",
           "dtype": "f8"
          },
          "sizemin": 8,
          "sizemode": "area",
          "sizeref": 2.7177406926235137,
          "symbol": "circle"
         },
         "mode": "markers",
         "name": "0654801",
         "orientation": "v",
         "showlegend": true,
         "textposition": "top center",
         "type": "scatter",
         "x": {
          "bdata": "uB6F61HIYUA=",
          "dtype": "f8"
         },
         "xaxis": "x",
         "y": {
          "bdata": "NWpzlmL8sEA=",
          "dtype": "f8"
         },
         "yaxis": "y"
        },
        {
         "customdata": [
          [
           "PEDREGAL - PASTO UF4-UF5",
           "6935",
           2016,
           "Fase III - Diseños a detalle",
           "Segunda calzada",
           2,
           1380727378.3814397
          ]
         ],
         "hovertemplate": "Código del Proyecto=%{customdata[1]}<br>Longitud del Proyecto (km)=%{x:.2f}<br>Valor Presente de la Causación de Personal (Millones COP)=%{marker.size:.2f}<br>Nombre del Proyecto=%{customdata[0]}<br>Año de Inicio=%{customdata[2]}<br>Fase del Proyecto=%{customdata[3]}<br>Alcance=%{customdata[4]}<br>N° Unidades Funcionales=%{customdata[5]}<br>Costo Total VP (COP)=%{customdata[6]:,.0f}<extra></extra>",
         "legendgroup": "6935",
         "marker": {
          "color": "rgb(166,216,84)",
          "line": {
           "color": "white",
           "width": 1.5
          },
          "opacity": 0.85,
          "size": {
           "bdata": "Z+Dg1eiSlUA=",
           "dtype": "f8"
          },
          "sizemin": 8,
          "sizemode": "area",
          "sizeref": 2.7177406926235137,
          "symbol": "circle"
         },
         "mode": "markers",
         "name": "6935",
         "orientation": "v",
         "showlegend": true,
         "textposition": "top center",
         "type": "scatter",
         "x": {
          "bdata": "exSuR+H6QkA=",
          "dtype": "f8"
         },
         "xaxis": "x",
         "y": {
          "bdata": "Z+Dg1eiSlUA=",
          "dtype": "f8"
         },
         "yaxis": "y"
        },
        {
         "hovertemplate": "Línea de Tendencia<extra></extra>",
         "line": {
          "color": "#e74c3c",
          "dash": "dash",
          "width": 2
         },
         "mode": "lines",
         "name": "Tendencia Lineal",
         "showlegend": true,
         "type": "scatter",
         "x": {
          "bdata": "AAAAAAAABEAAAAAAAAAUQAAAAAAAABRARrbz/dT4FEAfhetRuB4kQOF6FK5HYStAAAAAAAAAMUBmZmZmZmYxQDMzMzMzczlAexSuR+H6QkAzMzMzM9NbQLgehetRyGFAuB6F61EYYkA=",
          "dtype": "f8"
         },
         "y": {
          "bdata": "GhgVNeujh0C167kihZCIQLXruSKFkIhAf7RdiISniEASRqerZm+KQCgd1zTyxotAZuOdyjQAjUB0OOH6DyaNQBwkFpP1D5BAYdn/iO9fkkC6u08+Z+6fQE4lpR6406JANFoOmt4Oo0A=",
          "dtype": "f8"
         }
        }
       ],
       "layout": {
        "font": {
         "color": "#2c3e50",
         "family": "Arial, sans-serif",
         "size": 12
        },
        "height": 600,
        "hovermode": "closest",
        "legend": {
         "bgcolor": "rgba(255, 255, 255, 0.9)",
         "bordercolor": "#bdc3c7",
         "borderwidth": 1,
         "itemsizing": "constant",
         "orientation": "v",
         "title": {
          "font": {
           "size": 12
          },
          "text": "<b>Código Proyecto</b>"
         },
         "tracegroupgap": 0,
         "x": 1.02,
         "xanchor": "left",
         "y": 1,
         "yanchor": "top"
        },
        "margin": {
         "b": 80,
         "l": 80,
         "r": 200,
         "t": 100
        },
        "paper_bgcolor": "white",
        "plot_bgcolor": "white",
        "template": {
         "data": {
          "bar": [
           {
            "error_x": {
             "color": "#2a3f5f"
            },
            "error_y": {
             "color": "#2a3f5f"
            },
            "marker": {
             "line": {
              "color": "white",
              "width": 0.5
             },
             "pattern": {
              "fillmode": "overlay",
              "size": 10,
              "solidity": 0.2
             }
            },
            "type": "bar"
           }
          ],
          "barpolar": [
           {
            "marker": {
             "line": {
              "color": "white",
              "width": 0.5
             },
             "pattern": {
              "fillmode": "overlay",
              "size": 10,
              "solidity": 0.2
             }
            },
            "type": "barpolar"
           }
          ],
          "carpet": [
           {
            "aaxis": {
             "endlinecolor": "#2a3f5f",
             "gridcolor": "#C8D4E3",
             "linecolor": "#C8D4E3",
             "minorgridcolor": "#C8D4E3",
             "startlinecolor": "#2a3f5f"
            },
            "baxis": {
             "endlinecolor": "#2a3f5f",
             "gridcolor": "#C8D4E3",
             "linecolor": "#C8D4E3",
             "minorgridcolor": "#C8D4E3",
             "startlinecolor": "#2a3f5f"
            },
            "type": "carpet"
           }
          ],
          "choropleth": [
           {
            "colorbar": {
             "outlinewidth": 0,
             "ticks": ""
            },
            "type": "choropleth"
           }
          ],
          "contour": [
           {
            "colorbar": {
             "outlinewidth": 0,
             "ticks": ""
            },
            "colorscale": [
             [
              0,
              "#0d0887"
             ],
             [
              0.1111111111111111,
              "#46039f"
             ],
             [
              0.2222222222222222,
              "#7201a8"
             ],
             [
              0.3333333333333333,
              "#9c179e"
             ],
             [
              0.4444444444444444,
              "#bd3786"
             ],
             [
              0.5555555555555556,
              "#d8576b"
             ],
             [
              0.6666666666666666,
              "#ed7953"
             ],
             [
              0.7777777777777778,
              "#fb9f3a"
             ],
             [
              0.8888888888888888,
              "#fdca26"
             ],
             [
              1,
              "#f0f921"
             ]
            ],
            "type": "contour"
           }
          ],
          "contourcarpet": [
           {
            "colorbar": {
             "outlinewidth": 0,
             "ticks": ""
            },
            "type": "contourcarpet"
           }
          ],
          "heatmap": [
           {
            "colorbar": {
             "outlinewidth": 0,
             "ticks": ""
            },
            "colorscale": [
             [
              0,
              "#0d0887"
             ],
             [
              0.1111111111111111,
              "#46039f"
             ],
             [
              0.2222222222222222,
              "#7201a8"
             ],
             [
              0.3333333333333333,
              "#9c179e"
             ],
             [
              0.4444444444444444,
              "#bd3786"
             ],
             [
              0.5555555555555556,
              "#d8576b"
             ],
             [
              0.6666666666666666,
              "#ed7953"
             ],
             [
              0.7777777777777778,
              "#fb9f3a"
             ],
             [
              0.8888888888888888,
              "#fdca26"
             ],
             [
              1,
              "#f0f921"
             ]
            ],
            "type": "heatmap"
           }
          ],
          "histogram": [
           {
            "marker": {
             "pattern": {
              "fillmode": "overlay",
              "size": 10,
              "solidity": 0.2
             }
            },
            "type": "histogram"
           }
          ],
          "histogram2d": [
           {
            "colorbar": {
             "outlinewidth": 0,
             "ticks": ""
            },
            "colorscale": [
             [
              0,
              "#0d0887"
             ],
             [
              0.1111111111111111,
              "#46039f"
             ],
             [
              0.2222222222222222,
              "#7201a8"
             ],
             [
              0.3333333333333333,
              "#9c179e"
             ],
             [
              0.4444444444444444,
              "#bd3786"
             ],
             [
              0.5555555555555556,
              "#d8576b"
             ],
             [
              0.6666666666666666,
              "#ed7953"
             ],
             [
              0.7777777777777778,
              "#fb9f3a"
             ],
             [
              0.8888888888888888,
              "#fdca26"
             ],
             [
              1,
              "#f0f921"
             ]
            ],
            "type": "histogram2d"
           }
          ],
          "histogram2dcontour": [
           {
            "colorbar": {
             "outlinewidth": 0,
             "ticks": ""
            },
            "colorscale": [
             [
              0,
              "#0d0887"
             ],
             [
              0.1111111111111111,
              "#46039f"
             ],
             [
              0.2222222222222222,
              "#7201a8"
             ],
             [
              0.3333333333333333,
              "#9c179e"
             ],
             [
              0.4444444444444444,
              "#bd3786"
             ],
             [
              0.5555555555555556,
              "#d8576b"
             ],
             [
              0.6666666666666666,
              "#ed7953"
             ],
             [
              0.7777777777777778,
              "#fb9f3a"
             ],
             [
              0.8888888888888888,
              "#fdca26"
             ],
             [
              1,
              "#f0f921"
             ]
            ],
            "type": "histogram2dcontour"
           }
          ],
          "mesh3d": [
           {
            "colorbar": {
             "outlinewidth": 0,
             "ticks": ""
            },
            "type": "mesh3d"
           }
          ],
          "parcoords": [
           {
            "line": {
             "colorbar": {
              "outlinewidth": 0,
              "ticks": ""
             }
            },
            "type": "parcoords"
           }
          ],
          "pie": [
           {
            "automargin": true,
            "type": "pie"
           }
          ],
          "scatter": [
           {
            "fillpattern": {
             "fillmode": "overlay",
             "size": 10,
             "solidity": 0.2
            },
            "type": "scatter"
           }
          ],
          "scatter3d": [
           {
            "line": {
             "colorbar": {
              "outlinewidth": 0,
              "ticks": ""
             }
            },
            "marker": {
             "colorbar": {
              "outlinewidth": 0,
              "ticks": ""
             }
            },
            "type": "scatter3d"
           }
          ],
          "scattercarpet": [
           {
            "marker": {
             "colorbar": {
              "outlinewidth": 0,
              "ticks": ""
             }
            },
            "type": "scattercarpet"
           }
          ],
          "scattergeo": [
           {
            "marker": {
             "colorbar": {
              "outlinewidth": 0,
              "ticks": ""
             }
            },
            "type": "scattergeo"
           }
          ],
          "scattergl": [
           {
            "marker": {
             "colorbar": {
              "outlinewidth": 0,
              "ticks": ""
             }
            },
            "type": "scattergl"
           }
          ],
          "scattermap": [
           {
            "marker": {
             "colorbar": {
              "outlinewidth": 0,
              "ticks": ""
             }
            },
            "type": "scattermap"
           }
          ],
          "scattermapbox": [
           {
            "marker": {
             "colorbar": {
              "outlinewidth": 0,
              "ticks": ""
             }
            },
            "type": "scattermapbox"
           }
          ],
          "scatterpolar": [
           {
            "marker": {
             "colorbar": {
              "outlinewidth": 0,
              "ticks": ""
             }
            },
            "type": "scatterpolar"
           }
          ],
          "scatterpolargl": [
           {
            "marker": {
             "colorbar": {
              "outlinewidth": 0,
              "ticks": ""
             }
            },
            "type": "scatterpolargl"
           }
          ],
          "scatterternary": [
           {
            "marker": {
             "colorbar": {
              "outlinewidth": 0,
              "ticks": ""
             }
            },
            "type": "scatterternary"
           }
          ],
          "surface": [
           {
            "colorbar": {
             "outlinewidth": 0,
             "ticks": ""
            },
            "colorscale": [
             [
              0,
              "#0d0887"
             ],
             [
              0.1111111111111111,
              "#46039f"
             ],
             [
              0.2222222222222222,
              "#7201a8"
             ],
             [
              0.3333333333333333,
              "#9c179e"
             ],
             [
              0.4444444444444444,
              "#bd3786"
             ],
             [
              0.5555555555555556,
              "#d8576b"
             ],
             [
              0.6666666666666666,
              "#ed7953"
             ],
             [
              0.7777777777777778,
              "#fb9f3a"
             ],
             [
              0.8888888888888888,
              "#fdca26"
             ],
             [
              1,
              "#f0f921"
             ]
            ],
            "type": "surface"
           }
          ],
          "table": [
           {
            "cells": {
             "fill": {
              "color": "#EBF0F8"
             },
             "line": {
              "color": "white"
             }
            },
            "header": {
             "fill": {
              "color": "#C8D4E3"
             },
             "line": {
              "color": "white"
             }
            },
            "type": "table"
           }
          ]
         },
         "layout": {
          "annotationdefaults": {
           "arrowcolor": "#2a3f5f",
           "arrowhead": 0,
           "arrowwidth": 1
          },
          "autotypenumbers": "strict",
          "coloraxis": {
           "colorbar": {
            "outlinewidth": 0,
            "ticks": ""
           }
          },
          "colorscale": {
           "diverging": [
            [
             0,
             "#8e0152"
            ],
            [
             0.1,
             "#c51b7d"
            ],
            [
             0.2,
             "#de77ae"
            ],
            [
             0.3,
             "#f1b6da"
            ],
            [
             0.4,
             "#fde0ef"
            ],
            [
             0.5,
             "#f7f7f7"
            ],
            [
             0.6,
             "#e6f5d0"
            ],
            [
             0.7,
             "#b8e186"
            ],
            [
             0.8,
             "#7fbc41"
            ],
            [
             0.9,
             "#4d9221"
            ],
            [
             1,
             "#276419"
            ]
           ],
           "sequential": [
            [
             0,
             "#0d0887"
            ],
            [
             0.1111111111111111,
             "#46039f"
            ],
            [
             0.2222222222222222,
             "#7201a8"
            ],
            [
             0.3333333333333333,
             "#9c179e"
            ],
            [
             0.4444444444444444,
             "#bd3786"
            ],
            [
             0.5555555555555556,
             "#d8576b"
            ],
            [
             0.6666666666666666,
             "#ed7953"
            ],
            [
             0.7777777777777778,
             "#fb9f3a"
            ],
            [
             0.8888888888888888,
             "#fdca26"
            ],
            [
             1,
             "#f0f921"
            ]
           ],
           "sequentialminus": [
            [
             0,
             "#0d0887"
            ],
            [
             0.1111111111111111,
             "#46039f"
            ],
            [
             0.2222222222222222,
             "#7201a8"
            ],
            [
             0.3333333333333333,
             "#9c179e"
            ],
            [
             0.4444444444444444,
             "#bd3786"
            ],
            [
             0.5555555555555556,
             "#d8576b"
            ],
            [
             0.6666666666666666,
             "#ed7953"
            ],
            [
             0.7777777777777778,
             "#fb9f3a"
            ],
            [
             0.8888888888888888,
             "#fdca26"
            ],
            [
             1,
             "#f0f921"
            ]
           ]
          },
          "colorway": [
           "#636efa",
           "#EF553B",
           "#00cc96",
           "#ab63fa",
           "#FFA15A",
           "#19d3f3",
           "#FF6692",
           "#B6E880",
           "#FF97FF",
           "#FECB52"
          ],
          "font": {
           "color": "#2a3f5f"
          },
          "geo": {
           "bgcolor": "white",
           "lakecolor": "white",
           "landcolor": "white",
           "showlakes": true,
           "showland": true,
           "subunitcolor": "#C8D4E3"
          },
          "hoverlabel": {
           "align": "left"
          },
          "hovermode": "closest",
          "mapbox": {
           "style": "light"
          },
          "paper_bgcolor": "white",
          "plot_bgcolor": "white",
          "polar": {
           "angularaxis": {
            "gridcolor": "#EBF0F8",
            "linecolor": "#EBF0F8",
            "ticks": ""
           },
           "bgcolor": "white",
           "radialaxis": {
            "gridcolor": "#EBF0F8",
            "linecolor": "#EBF0F8",
            "ticks": ""
           }
          },
          "scene": {
           "xaxis": {
            "backgroundcolor": "white",
            "gridcolor": "#DFE8F3",
            "gridwidth": 2,
            "linecolor": "#EBF0F8",
            "showbackground": true,
            "ticks": "",
            "zerolinecolor": "#EBF0F8"
           },
           "yaxis": {
            "backgroundcolor": "white",
            "gridcolor": "#DFE8F3",
            "gridwidth": 2,
            "linecolor": "#EBF0F8",
            "showbackground": true,
            "ticks": "",
            "zerolinecolor": "#EBF0F8"
           },
           "zaxis": {
            "backgroundcolor": "white",
            "gridcolor": "#DFE8F3",
            "gridwidth": 2,
            "linecolor": "#EBF0F8",
            "showbackground": true,
            "ticks": "",
            "zerolinecolor": "#EBF0F8"
           }
          },
          "shapedefaults": {
           "line": {
            "color": "#2a3f5f"
           }
          },
          "ternary": {
           "aaxis": {
            "gridcolor": "#DFE8F3",
            "linecolor": "#A2B1C6",
            "ticks": ""
           },
           "baxis": {
            "gridcolor": "#DFE8F3",
            "linecolor": "#A2B1C6",
            "ticks": ""
           },
           "bgcolor": "white",
           "caxis": {
            "gridcolor": "#DFE8F3",
            "linecolor": "#A2B1C6",
            "ticks": ""
           }
          },
          "title": {
           "x": 0.05
          },
          "xaxis": {
           "automargin": true,
           "gridcolor": "#EBF0F8",
           "linecolor": "#EBF0F8",
           "ticks": "",
           "title": {
            "standoff": 15
           },
           "zerolinecolor": "#EBF0F8",
           "zerolinewidth": 2
          },
          "yaxis": {
           "automargin": true,
           "gridcolor": "#EBF0F8",
           "linecolor": "#EBF0F8",
           "ticks": "",
           "title": {
            "standoff": 15
           },
           "zerolinecolor": "#EBF0F8",
           "zerolinewidth": 2
          }
         }
        },
        "title": {
         "font": {
          "color": "#1a252f",
          "family": "Arial Black",
          "size": 18
         },
         "text": "<b>Valor Presente de la Causación de Personal en Proyectos Viales</b><br><sub>Relación entre Longitud del Proyecto y Causación Total</sub>",
         "x": 0.5,
         "xanchor": "center"
        },
        "width": 1200,
        "xaxis": {
         "anchor": "y",
         "domain": [
          0,
          1
         ],
         "gridcolor": "#ecf0f1",
         "showgrid": true,
         "tickfont": {
          "size": 11
         },
         "title": {
          "font": {
           "color": "#34495e",
           "family": "Arial",
           "size": 14
          },
          "text": "Longitud del Proyecto (km)"
         },
         "zeroline": false
        },
        "yaxis": {
         "anchor": "x",
         "domain": [
          0,
          1
         ],
         "gridcolor": "#ecf0f1",
         "showgrid": true,
         "tickfont": {
          "size": 11
         },
         "title": {
          "font": {
           "color": "#34495e",
           "family": "Arial",
           "size": 14
          },
          "text": "Valor Presente de la Causación de Personal (Millones COP)"
         },
         "zeroline": false
        }
       }
      }
     },
     "metadata": {},
     "output_type": "display_data"
    }
   ],
   "source": [
    "# Get project info from original database for AÑO INICIO and FASE\n",
    "import sqlite3\n",
    "from config import Config\n",
    "\n",
    "df_vp['COSTO_UF_VP'] = df_vp.loc[:, \"1 - TRANSPORTE\": \"16 - DIRECCIÓN Y COORDINACIÓN\"].sum(axis=1)\n",
    "\n",
    "conn = sqlite3.connect(Config.DATABASE)\n",
    "df_proyectos = pd.read_sql_query(\"SELECT codigo, anio_inicio, fase FROM proyectos\", conn)\n",
    "conn.close()\n",
    "\n",
    "# Count functional units per project\n",
    "df_vp['UF_COUNT'] = df_vp.groupby('CÓDIGO')['CÓDIGO'].transform('count')\n",
    "\n",
    "# Aggregate by project - properly sum all functional units\n",
    "# Group by CÓDIGO and aggregate different columns appropriately\n",
    "df_project = df_vp.groupby('CÓDIGO').agg({\n",
    "    'NOMBRE DEL PROYECTO': 'first',  # Take first (same for all rows)\n",
    "    'ALCANCE': 'first',              # Take first (same for all rows)\n",
    "    'LONGITUD KM': 'sum',            # Sum all functional units' lengths\n",
    "    'COSTO_UF_VP': 'sum',            # SUM all functional units' costs (THIS IS KEY!)\n",
    "    'UF_COUNT': 'first'              # Take first (same for all rows)\n",
    "}).reset_index()\n",
    "\n",
    "# Rename the aggregated cost column\n",
    "df_project = df_project.rename(columns={'COSTO_UF_VP': 'COSTO_TOTAL_VP'})\n",
    "\n",
    "# Merge with database info to get AÑO INICIO and FASE\n",
    "df_project = df_project.merge(df_proyectos, left_on='CÓDIGO', right_on='codigo', how='left')\n",
    "\n",
    "# Rename columns for clarity\n",
    "df_project = df_project.rename(columns={\n",
    "    'UF_COUNT': 'UNIDADES_FUNCIONALES',\n",
    "    'anio_inicio': 'AÑO INICIO',\n",
    "    'fase': 'FASE'\n",
    "})\n",
    "\n",
    "# Drop duplicate codigo column\n",
    "df_project = df_project.drop(columns=['codigo'])\n",
    "\n",
    "# Format cost values for display (in millions)\n",
    "df_project['COSTO_MILLONES'] = df_project['COSTO_TOTAL_VP'] / 1_000_000\n",
    "\n",
    "# Build hover_data dictionary\n",
    "hover_dict = {\n",
    "    'NOMBRE DEL PROYECTO': True,\n",
    "    'CÓDIGO': True,\n",
    "    'AÑO INICIO': True,\n",
    "    'FASE': True,\n",
    "    'ALCANCE': True,\n",
    "    'UNIDADES_FUNCIONALES': True,\n",
    "    'LONGITUD KM': ':.2f',\n",
    "    'COSTO_MILLONES': ':.2f',\n",
    "    'COSTO_TOTAL_VP': ':,.0f'\n",
    "}\n",
    "\n",
    "# Create the plot\n",
    "fig = px.scatter(\n",
    "    df_project,\n",
    "    x='LONGITUD KM',\n",
    "    y='COSTO_MILLONES',\n",
    "    color='CÓDIGO',\n",
    "    hover_data=hover_dict,\n",
    "    labels={\n",
    "        'LONGITUD KM': 'Longitud del Proyecto (km)',\n",
    "        'COSTO_MILLONES': 'Valor Presente de la Causación de Personal (Millones COP)',\n",
    "        'NOMBRE DEL PROYECTO': 'Nombre del Proyecto',\n",
    "        'CÓDIGO': 'Código del Proyecto',\n",
    "        'AÑO INICIO': 'Año de Inicio',\n",
    "        'FASE': 'Fase del Proyecto',\n",
    "        'ALCANCE': 'Alcance',\n",
    "        'UNIDADES_FUNCIONALES': 'N° Unidades Funcionales',\n",
    "        'COSTO_TOTAL_VP': 'Costo Total VP (COP)'\n",
    "    },\n",
    "    title='<b>Valor Presente de la Causación de Personal en Proyectos Viales</b><br><sub>Relación entre Longitud del Proyecto y Causación Total</sub>',\n",
    "    template='plotly_white',\n",
    "    size='COSTO_MILLONES',\n",
    "    size_max=40,\n",
    "    color_discrete_sequence=px.colors.qualitative.Set2\n",
    ")\n",
    "\n",
    "# Enhance the visual design\n",
    "fig.update_traces(\n",
    "    marker=dict(\n",
    "        line=dict(width=1.5, color='white'),\n",
    "        opacity=0.85,\n",
    "        sizemin=8\n",
    "    ),\n",
    "    textposition='top center'\n",
    ")\n",
    "\n",
    "# Update layout for executive presentation\n",
    "fig.update_layout(\n",
    "    font=dict(family=\"Arial, sans-serif\", size=12, color=\"#2c3e50\"),\n",
    "    title=dict(\n",
    "        font=dict(size=18, color=\"#1a252f\", family=\"Arial Black\"),\n",
    "        x=0.5,\n",
    "        xanchor='center'\n",
    "    ),\n",
    "    xaxis=dict(\n",
    "        showgrid=True,\n",
    "        gridcolor='#ecf0f1',\n",
    "        zeroline=False,\n",
    "        title_font=dict(size=14, color=\"#34495e\", family=\"Arial\"),\n",
    "        tickfont=dict(size=11)\n",
    "    ),\n",
    "    yaxis=dict(\n",
    "        showgrid=True,\n",
    "        gridcolor='#ecf0f1',\n",
    "        zeroline=False,\n",
    "        title_font=dict(size=14, color=\"#34495e\", family=\"Arial\"),\n",
    "        tickfont=dict(size=11)\n",
    "    ),\n",
    "    plot_bgcolor='white',\n",
    "    paper_bgcolor='white',\n",
    "    hovermode='closest',\n",
    "    legend=dict(\n",
    "        title=dict(text='<b>Código Proyecto</b>', font=dict(size=12)),\n",
    "        orientation=\"v\",\n",
    "        yanchor=\"top\",\n",
    "        y=1,\n",
    "        xanchor=\"left\",\n",
    "        x=1.02,\n",
    "        bgcolor=\"rgba(255, 255, 255, 0.9)\",\n",
    "        bordercolor=\"#bdc3c7\",\n",
    "        borderwidth=1\n",
    "    ),\n",
    "    margin=dict(l=80, r=200, t=100, b=80),\n",
    "    height=600,\n",
    "    width=1200\n",
    ")\n",
    "\n",
    "# Add a trend line for better insights\n",
    "from sklearn.linear_model import LinearRegression\n",
    "X = df_project[['LONGITUD KM']].values\n",
    "y = df_project['COSTO_MILLONES'].values\n",
    "model = LinearRegression()\n",
    "model.fit(X, y)\n",
    "y_pred = model.predict(X)\n",
    "\n",
    "# Sort for line plot\n",
    "sort_idx = X.flatten().argsort()\n",
    "fig.add_trace(\n",
    "    go.Scatter(\n",
    "        x=X[sort_idx].flatten(),\n",
    "        y=y_pred[sort_idx],\n",
    "        mode='lines',\n",
    "        name='Tendencia Lineal',\n",
    "        line=dict(color='#e74c3c', width=2, dash='dash'),\n",
    "        showlegend=True,\n",
    "        hovertemplate='Línea de Tendencia<extra></extra>'\n",
    "    )\n",
    ")\n",
    "\n",
    "fig.show()"
   ]
  },
  {
   "cell_type": "code",
   "execution_count": 74,
   "id": "703558cf",
   "metadata": {},
   "outputs": [
    {
     "data": {
      "text/plain": [
       "4348385108.197621"
      ]
     },
     "execution_count": 74,
     "metadata": {},
     "output_type": "execute_result"
    }
   ],
   "source": [
    "pv.present_value(3729730912.08, 2023, 2025)"
   ]
  },
  {
   "cell_type": "code",
   "execution_count": null,
   "id": "43cfcc17",
   "metadata": {},
   "outputs": [],
   "source": []
  }
 ],
 "metadata": {
  "kernelspec": {
   "display_name": "practicum",
   "language": "python",
   "name": "python3"
  },
  "language_info": {
   "codemirror_mode": {
    "name": "ipython",
    "version": 3
   },
   "file_extension": ".py",
   "mimetype": "text/x-python",
   "name": "python",
   "nbconvert_exporter": "python",
   "pygments_lexer": "ipython3",
   "version": "3.13.5"
  }
 },
 "nbformat": 4,
 "nbformat_minor": 5
}
