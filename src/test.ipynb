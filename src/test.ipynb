{
 "cells": [
  {
   "cell_type": "code",
   "execution_count": 34,
   "id": "db3dbd1e",
   "metadata": {},
   "outputs": [
    {
     "name": "stdout",
     "output_type": "stream",
     "text": [
      "The autoreload extension is already loaded. To reload it, use:\n",
      "  %reload_ext autoreload\n"
     ]
    }
   ],
   "source": [
    "\n",
    "import pandas as pd\n",
    "import numpy as np, seaborn as sns, matplotlib.pyplot as plt\n",
    "import plotly.express as px\n",
    "import plotly.graph_objects as go\n",
    "import os\n",
    "import sys\n",
    "\n",
    "# Add project root to path (for Jupyter notebooks)\n",
    "# Get the current directory and navigate to project root\n",
    "current_dir = os.getcwd()\n",
    "project_root = os.path.dirname(current_dir)\n",
    "sys.path.insert(0, project_root)\n",
    "\n",
    "from src.config import Config\n",
    "import src.eda as eda\n",
    "import src.present_value as present_value\n",
    "\n",
    "%load_ext autoreload\n",
    "%autoreload 2\n",
    "%reload_ext autoreload\n"
   ]
  },
  {
   "cell_type": "code",
   "execution_count": 28,
   "id": "5ed4ba93",
   "metadata": {},
   "outputs": [
    {
     "name": "stderr",
     "output_type": "stream",
     "text": [
      "c:\\Code\\Road-Project-Prediction\\src\\eda.py:19: FutureWarning:\n",
      "\n",
      "Downcasting object dtype arrays on .fillna, .ffill, .bfill is deprecated and will change in a future version. Call result.infer_objects(copy=False) instead. To opt-in to the future behavior, set `pd.set_option('future.no_silent_downcasting', True)`\n",
      "\n"
     ]
    }
   ],
   "source": [
    "## FROM DATABASE\n",
    "pv = present_value.PresentValue()\n",
    "anual_increment = pv.fetch_incremento_from_database()\n",
    "\n",
    "fase = \"III\"\n",
    "preproccesing = eda.EDA()\n",
    "df_raw = preproccesing.assemble_projects_from_database(fase)\n",
    "df_vp = preproccesing.create_dataset(pv.present_value_costs, fase=fase)"
   ]
  },
  {
   "cell_type": "code",
   "execution_count": 29,
   "id": "2067feba",
   "metadata": {},
   "outputs": [
    {
     "data": {
      "application/vnd.plotly.v1+json": {
       "config": {
        "plotlyServerURL": "https://plot.ly"
       },
       "data": [
        {
         "customdata": [
          [
           "TAMBILLO - COLIBRÍ",
           "0001",
           2014,
           "Fase III - Diseños a detalle",
           "Segunda calzada",
           1,
           1599230784.4911554
          ]
         ],
         "hovertemplate": "Código del Proyecto=%{customdata[1]}<br>Longitud del Proyecto (km)=%{x:.2f}<br>Valor Presente de la Causación de Personal (Millones COP)=%{marker.size:.2f}<br>Nombre del Proyecto=%{customdata[0]}<br>Año de Inicio=%{customdata[2]}<br>Fase del Proyecto=%{customdata[3]}<br>Alcance=%{customdata[4]}<br>N° Unidades Funcionales=%{customdata[5]}<br>Costo Total VP (COP)=%{customdata[6]:,.0f}<extra></extra>",
         "legendgroup": "0001",
         "marker": {
          "color": "rgb(102,194,165)",
          "line": {
           "color": "white",
           "width": 1.5
          },
          "opacity": 0.85,
          "size": {
           "bdata": "vwfFUuz8mEA=",
           "dtype": "f8"
          },
          "sizemin": 8,
          "sizemode": "area",
          "sizeref": 2.7177406926235137,
          "symbol": "circle"
         },
         "mode": "markers",
         "name": "0001",
         "orientation": "v",
         "showlegend": true,
         "textposition": "top center",
         "type": "scatter",
         "x": {
          "bdata": "ZmZmZmZmMUA=",
          "dtype": "f8"
         },
         "xaxis": "x",
         "y": {
          "bdata": "vwfFUuz8mEA=",
          "dtype": "f8"
         },
         "yaxis": "y"
        },
        {
         "customdata": [
          [
           "DCO",
           "0004",
           2021,
           "Fase III - Diseños a detalle",
           "Nuevo",
           1,
           572206294.2348154
          ]
         ],
         "hovertemplate": "Código del Proyecto=%{customdata[1]}<br>Longitud del Proyecto (km)=%{x:.2f}<br>Valor Presente de la Causación de Personal (Millones COP)=%{marker.size:.2f}<br>Nombre del Proyecto=%{customdata[0]}<br>Año de Inicio=%{customdata[2]}<br>Fase del Proyecto=%{customdata[3]}<br>Alcance=%{customdata[4]}<br>N° Unidades Funcionales=%{customdata[5]}<br>Costo Total VP (COP)=%{customdata[6]:,.0f}<extra></extra>",
         "legendgroup": "0004",
         "marker": {
          "color": "rgb(252,141,98)",
          "line": {
           "color": "white",
           "width": 1.5
          },
          "opacity": 0.85,
          "size": {
           "bdata": "FX+XfabhgUA=",
           "dtype": "f8"
          },
          "sizemin": 8,
          "sizemode": "area",
          "sizeref": 2.7177406926235137,
          "symbol": "circle"
         },
         "mode": "markers",
         "name": "0004",
         "orientation": "v",
         "showlegend": true,
         "textposition": "top center",
         "type": "scatter",
         "x": {
          "bdata": "4XoUrkdhK0A=",
          "dtype": "f8"
         },
         "xaxis": "x",
         "y": {
          "bdata": "FX+XfabhgUA=",
          "dtype": "f8"
         },
         "yaxis": "y"
        },
        {
         "customdata": [
          [
           "BUENAVENTURA LOBOGUERRERO",
           "0005",
           2016,
           "Fase III - Diseños a detalle",
           "Segunda calzada",
           7,
           429122663.4819811
          ]
         ],
         "hovertemplate": "Código del Proyecto=%{customdata[1]}<br>Longitud del Proyecto (km)=%{x:.2f}<br>Valor Presente de la Causación de Personal (Millones COP)=%{marker.size:.2f}<br>Nombre del Proyecto=%{customdata[0]}<br>Año de Inicio=%{customdata[2]}<br>Fase del Proyecto=%{customdata[3]}<br>Alcance=%{customdata[4]}<br>N° Unidades Funcionales=%{customdata[5]}<br>Costo Total VP (COP)=%{customdata[6]:,.0f}<extra></extra>",
         "legendgroup": "0005",
         "marker": {
          "color": "rgb(141,160,203)",
          "line": {
           "color": "white",
           "width": 1.5
          },
          "opacity": 0.85,
          "size": {
           "bdata": "W7j7bfbRekA=",
           "dtype": "f8"
          },
          "sizemin": 8,
          "sizemode": "area",
          "sizeref": 2.7177406926235137,
          "symbol": "circle"
         },
         "mode": "markers",
         "name": "0005",
         "orientation": "v",
         "showlegend": true,
         "textposition": "top center",
         "type": "scatter",
         "x": {
          "bdata": "MzMzMzPTW0A=",
          "dtype": "f8"
         },
         "xaxis": "x",
         "y": {
          "bdata": "W7j7bfbRekA=",
          "dtype": "f8"
         },
         "yaxis": "y"
        },
        {
         "customdata": [
          [
           "CATAMBUCO - PASTO UF5.2",
           "0266702",
           2017,
           "Fase III - Diseños a detalle",
           "Mejoramiento",
           1,
           103888353.71364902
          ]
         ],
         "hovertemplate": "Código del Proyecto=%{customdata[1]}<br>Longitud del Proyecto (km)=%{x:.2f}<br>Valor Presente de la Causación de Personal (Millones COP)=%{marker.size:.2f}<br>Nombre del Proyecto=%{customdata[0]}<br>Año de Inicio=%{customdata[2]}<br>Fase del Proyecto=%{customdata[3]}<br>Alcance=%{customdata[4]}<br>N° Unidades Funcionales=%{customdata[5]}<br>Costo Total VP (COP)=%{customdata[6]:,.0f}<extra></extra>",
         "legendgroup": "0266702",
         "marker": {
          "color": "rgb(231,138,195)",
          "line": {
           "color": "white",
           "width": 1.5
          },
          "opacity": 0.85,
          "size": {
           "bdata": "xtmIydr4WUA=",
           "dtype": "f8"
          },
          "sizemin": 8,
          "sizemode": "area",
          "sizeref": 2.7177406926235137,
          "symbol": "circle"
         },
         "mode": "markers",
         "name": "0266702",
         "orientation": "v",
         "showlegend": true,
         "textposition": "top center",
         "type": "scatter",
         "x": {
          "bdata": "AAAAAAAAFEA=",
          "dtype": "f8"
         },
         "xaxis": "x",
         "y": {
          "bdata": "xtmIydr4WUA=",
          "dtype": "f8"
         },
         "yaxis": "y"
        },
        {
         "customdata": [
          [
           "BUGA - BUENAVENTURA EL PORVENIR UF5",
           "0300604",
           2017,
           "Fase III - Diseños a detalle",
           "Segunda calzada",
           1,
           65075830.370507725
          ]
         ],
         "hovertemplate": "Código del Proyecto=%{customdata[1]}<br>Longitud del Proyecto (km)=%{x:.2f}<br>Valor Presente de la Causación de Personal (Millones COP)=%{marker.size:.2f}<br>Nombre del Proyecto=%{customdata[0]}<br>Año de Inicio=%{customdata[2]}<br>Fase del Proyecto=%{customdata[3]}<br>Alcance=%{customdata[4]}<br>N° Unidades Funcionales=%{customdata[5]}<br>Costo Total VP (COP)=%{customdata[6]:,.0f}<extra></extra>",
         "legendgroup": "0300604",
         "marker": {
          "color": "rgb(166,216,84)",
          "line": {
           "color": "white",
           "width": 1.5
          },
          "opacity": 0.85,
          "size": {
           "bdata": "9FegZ9pEUEA=",
           "dtype": "f8"
          },
          "sizemin": 8,
          "sizemode": "area",
          "sizeref": 2.7177406926235137,
          "symbol": "circle"
         },
         "mode": "markers",
         "name": "0300604",
         "orientation": "v",
         "showlegend": true,
         "textposition": "top center",
         "type": "scatter",
         "x": {
          "bdata": "AAAAAAAABEA=",
          "dtype": "f8"
         },
         "xaxis": "x",
         "y": {
          "bdata": "9FegZ9pEUEA=",
          "dtype": "f8"
         },
         "yaxis": "y"
        },
        {
         "customdata": [
          [
           "BUGA - BUENAVENTURA UF4",
           "0300605",
           2017,
           "Fase III - Diseños a detalle",
           "Segunda calzada",
           1,
           447005925.7042035
          ]
         ],
         "hovertemplate": "Código del Proyecto=%{customdata[1]}<br>Longitud del Proyecto (km)=%{x:.2f}<br>Valor Presente de la Causación de Personal (Millones COP)=%{marker.size:.2f}<br>Nombre del Proyecto=%{customdata[0]}<br>Año de Inicio=%{customdata[2]}<br>Fase del Proyecto=%{customdata[3]}<br>Alcance=%{customdata[4]}<br>N° Unidades Funcionales=%{customdata[5]}<br>Costo Total VP (COP)=%{customdata[6]:,.0f}<extra></extra>",
         "legendgroup": "0300605",
         "marker": {
          "color": "rgb(255,217,47)",
          "line": {
           "color": "white",
           "width": 1.5
          },
          "opacity": 0.85,
          "size": {
           "bdata": "KByNRRjwe0A=",
           "dtype": "f8"
          },
          "sizemin": 8,
          "sizemode": "area",
          "sizeref": 2.7177406926235137,
          "symbol": "circle"
         },
         "mode": "markers",
         "name": "0300605",
         "orientation": "v",
         "showlegend": true,
         "textposition": "top center",
         "type": "scatter",
         "x": {
          "bdata": "AAAAAAAAMUA=",
          "dtype": "f8"
         },
         "xaxis": "x",
         "y": {
          "bdata": "KByNRRjwe0A=",
          "dtype": "f8"
         },
         "yaxis": "y"
        },
        {
         "customdata": [
          [
           "DISEÑO GEOMÉTRICO TERCER CARRIL BOGOTÁ - GIRARDOT",
           "0321501",
           2017,
           "Fase III - Diseños a detalle",
           "Mejoramiento",
           8,
           1246591718.4229999
          ]
         ],
         "hovertemplate": "Código del Proyecto=%{customdata[1]}<br>Longitud del Proyecto (km)=%{x:.2f}<br>Valor Presente de la Causación de Personal (Millones COP)=%{marker.size:.2f}<br>Nombre del Proyecto=%{customdata[0]}<br>Año de Inicio=%{customdata[2]}<br>Fase del Proyecto=%{customdata[3]}<br>Alcance=%{customdata[4]}<br>N° Unidades Funcionales=%{customdata[5]}<br>Costo Total VP (COP)=%{customdata[6]:,.0f}<extra></extra>",
         "legendgroup": "0321501",
         "marker": {
          "color": "rgb(229,196,148)",
          "line": {
           "color": "white",
           "width": 1.5
          },
          "opacity": 0.85,
          "size": {
           "bdata": "5ixv6116k0A=",
           "dtype": "f8"
          },
          "sizemin": 8,
          "sizemode": "area",
          "sizeref": 2.7177406926235137,
          "symbol": "circle"
         },
         "mode": "markers",
         "name": "0321501",
         "orientation": "v",
         "showlegend": true,
         "textposition": "top center",
         "type": "scatter",
         "x": {
          "bdata": "uB6F61EYYkA=",
          "dtype": "f8"
         },
         "xaxis": "x",
         "y": {
          "bdata": "5ixv6116k0A=",
          "dtype": "f8"
         },
         "yaxis": "y"
        },
        {
         "customdata": [
          [
           "TERMINACIÓN TÚNEL DE LA LÍNEA",
           "0347801",
           2017,
           "Fase III - Diseños a detalle",
           "Rehabilitación",
           3,
           4246600199.575547
          ]
         ],
         "hovertemplate": "Código del Proyecto=%{customdata[1]}<br>Longitud del Proyecto (km)=%{x:.2f}<br>Valor Presente de la Causación de Personal (Millones COP)=%{marker.size:.2f}<br>Nombre del Proyecto=%{customdata[0]}<br>Año de Inicio=%{customdata[2]}<br>Fase del Proyecto=%{customdata[3]}<br>Alcance=%{customdata[4]}<br>N° Unidades Funcionales=%{customdata[5]}<br>Costo Total VP (COP)=%{customdata[6]:,.0f}<extra></extra>",
         "legendgroup": "0347801",
         "marker": {
          "color": "rgb(179,179,179)",
          "line": {
           "color": "white",
           "width": 1.5
          },
          "opacity": 0.85,
          "size": {
           "bdata": "DOytppmWsEA=",
           "dtype": "f8"
          },
          "sizemin": 8,
          "sizemode": "area",
          "sizeref": 2.7177406926235137,
          "symbol": "circle"
         },
         "mode": "markers",
         "name": "0347801",
         "orientation": "v",
         "showlegend": true,
         "textposition": "top center",
         "type": "scatter",
         "x": {
          "bdata": "MzMzMzNzOUA=",
          "dtype": "f8"
         },
         "xaxis": "x",
         "y": {
          "bdata": "DOytppmWsEA=",
          "dtype": "f8"
         },
         "yaxis": "y"
        },
        {
         "customdata": [
          [
           "PURIFICACIÓN - LOZANÍA",
           "0427901",
           2020,
           "Fase III - Diseños a detalle",
           "Mejoramiento",
           1,
           71685014.43663186
          ]
         ],
         "hovertemplate": "Código del Proyecto=%{customdata[1]}<br>Longitud del Proyecto (km)=%{x:.2f}<br>Valor Presente de la Causación de Personal (Millones COP)=%{marker.size:.2f}<br>Nombre del Proyecto=%{customdata[0]}<br>Año de Inicio=%{customdata[2]}<br>Fase del Proyecto=%{customdata[3]}<br>Alcance=%{customdata[4]}<br>N° Unidades Funcionales=%{customdata[5]}<br>Costo Total VP (COP)=%{customdata[6]:,.0f}<extra></extra>",
         "legendgroup": "0427901",
         "marker": {
          "color": "rgb(102,194,165)",
          "line": {
           "color": "white",
           "width": 1.5
          },
          "opacity": 0.85,
          "size": {
           "bdata": "yqfKRtfrUUA=",
           "dtype": "f8"
          },
          "sizemin": 8,
          "sizemode": "area",
          "sizeref": 2.7177406926235137,
          "symbol": "circle"
         },
         "mode": "markers",
         "name": "0427901",
         "orientation": "v",
         "showlegend": true,
         "textposition": "top center",
         "type": "scatter",
         "x": {
          "bdata": "AAAAAAAAFEA=",
          "dtype": "f8"
         },
         "xaxis": "x",
         "y": {
          "bdata": "yqfKRtfrUUA=",
          "dtype": "f8"
         },
         "yaxis": "y"
        },
        {
         "customdata": [
          [
           "TRANSVERSAL BOYACÁ",
           "0552903",
           2021,
           "Fase III - Diseños a detalle",
           "Mejoramiento",
           1,
           491464727.81958085
          ]
         ],
         "hovertemplate": "Código del Proyecto=%{customdata[1]}<br>Longitud del Proyecto (km)=%{x:.2f}<br>Valor Presente de la Causación de Personal (Millones COP)=%{marker.size:.2f}<br>Nombre del Proyecto=%{customdata[0]}<br>Año de Inicio=%{customdata[2]}<br>Fase del Proyecto=%{customdata[3]}<br>Alcance=%{customdata[4]}<br>N° Unidades Funcionales=%{customdata[5]}<br>Costo Total VP (COP)=%{customdata[6]:,.0f}<extra></extra>",
         "legendgroup": "0552903",
         "marker": {
          "color": "rgb(252,141,98)",
          "line": {
           "color": "white",
           "width": 1.5
          },
          "opacity": 0.85,
          "size": {
           "bdata": "Qipwhm+3fkA=",
           "dtype": "f8"
          },
          "sizemin": 8,
          "sizemode": "area",
          "sizeref": 2.7177406926235137,
          "symbol": "circle"
         },
         "mode": "markers",
         "name": "0552903",
         "orientation": "v",
         "showlegend": true,
         "textposition": "top center",
         "type": "scatter",
         "x": {
          "bdata": "H4XrUbgeJEA=",
          "dtype": "f8"
         },
         "xaxis": "x",
         "y": {
          "bdata": "Qipwhm+3fkA=",
          "dtype": "f8"
         },
         "yaxis": "y"
        },
        {
         "customdata": [
          [
           "QUEREMAL - DANUBIO",
           "0581301",
           2022,
           "Fase III - Diseños a detalle",
           "Mejoramiento",
           1,
           808021495.2695452
          ]
         ],
         "hovertemplate": "Código del Proyecto=%{customdata[1]}<br>Longitud del Proyecto (km)=%{x:.2f}<br>Valor Presente de la Causación de Personal (Millones COP)=%{marker.size:.2f}<br>Nombre del Proyecto=%{customdata[0]}<br>Año de Inicio=%{customdata[2]}<br>Fase del Proyecto=%{customdata[3]}<br>Alcance=%{customdata[4]}<br>N° Unidades Funcionales=%{customdata[5]}<br>Costo Total VP (COP)=%{customdata[6]:,.0f}<extra></extra>",
         "legendgroup": "0581301",
         "marker": {
          "color": "rgb(141,160,203)",
          "line": {
           "color": "white",
           "width": 1.5
          },
          "opacity": 0.85,
          "size": {
           "bdata": "uT22BSxAiUA=",
           "dtype": "f8"
          },
          "sizemin": 8,
          "sizemode": "area",
          "sizeref": 2.7177406926235137,
          "symbol": "circle"
         },
         "mode": "markers",
         "name": "0581301",
         "orientation": "v",
         "showlegend": true,
         "textposition": "top center",
         "type": "scatter",
         "x": {
          "bdata": "Rrbz/dT4FEA=",
          "dtype": "f8"
         },
         "xaxis": "x",
         "y": {
          "bdata": "uT22BSxAiUA=",
          "dtype": "f8"
         },
         "yaxis": "y"
        },
        {
         "customdata": [
          [
           "BUGA - BUENAVENTURA",
           "0654801",
           2023,
           "Fase III - Diseños a detalle",
           "Rehabilitación",
           23,
           4348385108.197621
          ]
         ],
         "hovertemplate": "Código del Proyecto=%{customdata[1]}<br>Longitud del Proyecto (km)=%{x:.2f}<br>Valor Presente de la Causación de Personal (Millones COP)=%{marker.size:.2f}<br>Nombre del Proyecto=%{customdata[0]}<br>Año de Inicio=%{customdata[2]}<br>Fase del Proyecto=%{customdata[3]}<br>Alcance=%{customdata[4]}<br>N° Unidades Funcionales=%{customdata[5]}<br>Costo Total VP (COP)=%{customdata[6]:,.0f}<extra></extra>",
         "legendgroup": "0654801",
         "marker": {
          "color": "rgb(231,138,195)",
          "line": {
           "color": "white",
           "width": 1.5
          },
          "opacity": 0.85,
          "size": {
           "bdata": "NWpzlmL8sEA=",
           "dtype": "f8"
          },
          "sizemin": 8,
          "sizemode": "area",
          "sizeref": 2.7177406926235137,
          "symbol": "circle"
         },
         "mode": "markers",
         "name": "0654801",
         "orientation": "v",
         "showlegend": true,
         "textposition": "top center",
         "type": "scatter",
         "x": {
          "bdata": "uB6F61HIYUA=",
          "dtype": "f8"
         },
         "xaxis": "x",
         "y": {
          "bdata": "NWpzlmL8sEA=",
          "dtype": "f8"
         },
         "yaxis": "y"
        },
        {
         "customdata": [
          [
           " PEDREGAL - PASTO UF4-UF5",
           "6935",
           2016,
           "Fase III - Diseños a detalle",
           "Segunda calzada",
           2,
           1380727378.3814397
          ]
         ],
         "hovertemplate": "Código del Proyecto=%{customdata[1]}<br>Longitud del Proyecto (km)=%{x:.2f}<br>Valor Presente de la Causación de Personal (Millones COP)=%{marker.size:.2f}<br>Nombre del Proyecto=%{customdata[0]}<br>Año de Inicio=%{customdata[2]}<br>Fase del Proyecto=%{customdata[3]}<br>Alcance=%{customdata[4]}<br>N° Unidades Funcionales=%{customdata[5]}<br>Costo Total VP (COP)=%{customdata[6]:,.0f}<extra></extra>",
         "legendgroup": "6935",
         "marker": {
          "color": "rgb(166,216,84)",
          "line": {
           "color": "white",
           "width": 1.5
          },
          "opacity": 0.85,
          "size": {
           "bdata": "Z+Dg1eiSlUA=",
           "dtype": "f8"
          },
          "sizemin": 8,
          "sizemode": "area",
          "sizeref": 2.7177406926235137,
          "symbol": "circle"
         },
         "mode": "markers",
         "name": "6935",
         "orientation": "v",
         "showlegend": true,
         "textposition": "top center",
         "type": "scatter",
         "x": {
          "bdata": "exSuR+H6QkA=",
          "dtype": "f8"
         },
         "xaxis": "x",
         "y": {
          "bdata": "Z+Dg1eiSlUA=",
          "dtype": "f8"
         },
         "yaxis": "y"
        },
        {
         "hovertemplate": "Línea de Tendencia<extra></extra>",
         "line": {
          "color": "#e74c3c",
          "dash": "dash",
          "width": 2
         },
         "mode": "lines",
         "name": "Tendencia Lineal",
         "showlegend": true,
         "type": "scatter",
         "x": {
          "bdata": "AAAAAAAABEAAAAAAAAAUQAAAAAAAABRARrbz/dT4FEAfhetRuB4kQOF6FK5HYStAAAAAAAAAMUBmZmZmZmYxQDMzMzMzczlAexSuR+H6QkAzMzMzM9NbQLgehetRyGFAuB6F61EYYkA=",
          "dtype": "f8"
         },
         "y": {
          "bdata": "GhgVNeujh0C167kihZCIQLXruSKFkIhAf7RdiISniEASRqerZm+KQCgd1zTyxotAZuOdyjQAjUB0OOH6DyaNQBwkFpP1D5BAYdn/iO9fkkC6u08+Z+6fQE4lpR6406JANFoOmt4Oo0A=",
          "dtype": "f8"
         }
        }
       ],
       "layout": {
        "font": {
         "color": "#2c3e50",
         "family": "Arial, sans-serif",
         "size": 12
        },
        "height": 600,
        "hovermode": "closest",
        "legend": {
         "bgcolor": "rgba(255, 255, 255, 0.9)",
         "bordercolor": "#bdc3c7",
         "borderwidth": 1,
         "itemsizing": "constant",
         "orientation": "v",
         "title": {
          "font": {
           "size": 12
          },
          "text": "<b>Código Proyecto</b>"
         },
         "tracegroupgap": 0,
         "x": 1.02,
         "xanchor": "left",
         "y": 1,
         "yanchor": "top"
        },
        "margin": {
         "b": 80,
         "l": 80,
         "r": 200,
         "t": 100
        },
        "paper_bgcolor": "white",
        "plot_bgcolor": "white",
        "template": {
         "data": {
          "bar": [
           {
            "error_x": {
             "color": "#2a3f5f"
            },
            "error_y": {
             "color": "#2a3f5f"
            },
            "marker": {
             "line": {
              "color": "white",
              "width": 0.5
             },
             "pattern": {
              "fillmode": "overlay",
              "size": 10,
              "solidity": 0.2
             }
            },
            "type": "bar"
           }
          ],
          "barpolar": [
           {
            "marker": {
             "line": {
              "color": "white",
              "width": 0.5
             },
             "pattern": {
              "fillmode": "overlay",
              "size": 10,
              "solidity": 0.2
             }
            },
            "type": "barpolar"
           }
          ],
          "carpet": [
           {
            "aaxis": {
             "endlinecolor": "#2a3f5f",
             "gridcolor": "#C8D4E3",
             "linecolor": "#C8D4E3",
             "minorgridcolor": "#C8D4E3",
             "startlinecolor": "#2a3f5f"
            },
            "baxis": {
             "endlinecolor": "#2a3f5f",
             "gridcolor": "#C8D4E3",
             "linecolor": "#C8D4E3",
             "minorgridcolor": "#C8D4E3",
             "startlinecolor": "#2a3f5f"
            },
            "type": "carpet"
           }
          ],
          "choropleth": [
           {
            "colorbar": {
             "outlinewidth": 0,
             "ticks": ""
            },
            "type": "choropleth"
           }
          ],
          "contour": [
           {
            "colorbar": {
             "outlinewidth": 0,
             "ticks": ""
            },
            "colorscale": [
             [
              0,
              "#0d0887"
             ],
             [
              0.1111111111111111,
              "#46039f"
             ],
             [
              0.2222222222222222,
              "#7201a8"
             ],
             [
              0.3333333333333333,
              "#9c179e"
             ],
             [
              0.4444444444444444,
              "#bd3786"
             ],
             [
              0.5555555555555556,
              "#d8576b"
             ],
             [
              0.6666666666666666,
              "#ed7953"
             ],
             [
              0.7777777777777778,
              "#fb9f3a"
             ],
             [
              0.8888888888888888,
              "#fdca26"
             ],
             [
              1,
              "#f0f921"
             ]
            ],
            "type": "contour"
           }
          ],
          "contourcarpet": [
           {
            "colorbar": {
             "outlinewidth": 0,
             "ticks": ""
            },
            "type": "contourcarpet"
           }
          ],
          "heatmap": [
           {
            "colorbar": {
             "outlinewidth": 0,
             "ticks": ""
            },
            "colorscale": [
             [
              0,
              "#0d0887"
             ],
             [
              0.1111111111111111,
              "#46039f"
             ],
             [
              0.2222222222222222,
              "#7201a8"
             ],
             [
              0.3333333333333333,
              "#9c179e"
             ],
             [
              0.4444444444444444,
              "#bd3786"
             ],
             [
              0.5555555555555556,
              "#d8576b"
             ],
             [
              0.6666666666666666,
              "#ed7953"
             ],
             [
              0.7777777777777778,
              "#fb9f3a"
             ],
             [
              0.8888888888888888,
              "#fdca26"
             ],
             [
              1,
              "#f0f921"
             ]
            ],
            "type": "heatmap"
           }
          ],
          "histogram": [
           {
            "marker": {
             "pattern": {
              "fillmode": "overlay",
              "size": 10,
              "solidity": 0.2
             }
            },
            "type": "histogram"
           }
          ],
          "histogram2d": [
           {
            "colorbar": {
             "outlinewidth": 0,
             "ticks": ""
            },
            "colorscale": [
             [
              0,
              "#0d0887"
             ],
             [
              0.1111111111111111,
              "#46039f"
             ],
             [
              0.2222222222222222,
              "#7201a8"
             ],
             [
              0.3333333333333333,
              "#9c179e"
             ],
             [
              0.4444444444444444,
              "#bd3786"
             ],
             [
              0.5555555555555556,
              "#d8576b"
             ],
             [
              0.6666666666666666,
              "#ed7953"
             ],
             [
              0.7777777777777778,
              "#fb9f3a"
             ],
             [
              0.8888888888888888,
              "#fdca26"
             ],
             [
              1,
              "#f0f921"
             ]
            ],
            "type": "histogram2d"
           }
          ],
          "histogram2dcontour": [
           {
            "colorbar": {
             "outlinewidth": 0,
             "ticks": ""
            },
            "colorscale": [
             [
              0,
              "#0d0887"
             ],
             [
              0.1111111111111111,
              "#46039f"
             ],
             [
              0.2222222222222222,
              "#7201a8"
             ],
             [
              0.3333333333333333,
              "#9c179e"
             ],
             [
              0.4444444444444444,
              "#bd3786"
             ],
             [
              0.5555555555555556,
              "#d8576b"
             ],
             [
              0.6666666666666666,
              "#ed7953"
             ],
             [
              0.7777777777777778,
              "#fb9f3a"
             ],
             [
              0.8888888888888888,
              "#fdca26"
             ],
             [
              1,
              "#f0f921"
             ]
            ],
            "type": "histogram2dcontour"
           }
          ],
          "mesh3d": [
           {
            "colorbar": {
             "outlinewidth": 0,
             "ticks": ""
            },
            "type": "mesh3d"
           }
          ],
          "parcoords": [
           {
            "line": {
             "colorbar": {
              "outlinewidth": 0,
              "ticks": ""
             }
            },
            "type": "parcoords"
           }
          ],
          "pie": [
           {
            "automargin": true,
            "type": "pie"
           }
          ],
          "scatter": [
           {
            "fillpattern": {
             "fillmode": "overlay",
             "size": 10,
             "solidity": 0.2
            },
            "type": "scatter"
           }
          ],
          "scatter3d": [
           {
            "line": {
             "colorbar": {
              "outlinewidth": 0,
              "ticks": ""
             }
            },
            "marker": {
             "colorbar": {
              "outlinewidth": 0,
              "ticks": ""
             }
            },
            "type": "scatter3d"
           }
          ],
          "scattercarpet": [
           {
            "marker": {
             "colorbar": {
              "outlinewidth": 0,
              "ticks": ""
             }
            },
            "type": "scattercarpet"
           }
          ],
          "scattergeo": [
           {
            "marker": {
             "colorbar": {
              "outlinewidth": 0,
              "ticks": ""
             }
            },
            "type": "scattergeo"
           }
          ],
          "scattergl": [
           {
            "marker": {
             "colorbar": {
              "outlinewidth": 0,
              "ticks": ""
             }
            },
            "type": "scattergl"
           }
          ],
          "scattermap": [
           {
            "marker": {
             "colorbar": {
              "outlinewidth": 0,
              "ticks": ""
             }
            },
            "type": "scattermap"
           }
          ],
          "scattermapbox": [
           {
            "marker": {
             "colorbar": {
              "outlinewidth": 0,
              "ticks": ""
             }
            },
            "type": "scattermapbox"
           }
          ],
          "scatterpolar": [
           {
            "marker": {
             "colorbar": {
              "outlinewidth": 0,
              "ticks": ""
             }
            },
            "type": "scatterpolar"
           }
          ],
          "scatterpolargl": [
           {
            "marker": {
             "colorbar": {
              "outlinewidth": 0,
              "ticks": ""
             }
            },
            "type": "scatterpolargl"
           }
          ],
          "scatterternary": [
           {
            "marker": {
             "colorbar": {
              "outlinewidth": 0,
              "ticks": ""
             }
            },
            "type": "scatterternary"
           }
          ],
          "surface": [
           {
            "colorbar": {
             "outlinewidth": 0,
             "ticks": ""
            },
            "colorscale": [
             [
              0,
              "#0d0887"
             ],
             [
              0.1111111111111111,
              "#46039f"
             ],
             [
              0.2222222222222222,
              "#7201a8"
             ],
             [
              0.3333333333333333,
              "#9c179e"
             ],
             [
              0.4444444444444444,
              "#bd3786"
             ],
             [
              0.5555555555555556,
              "#d8576b"
             ],
             [
              0.6666666666666666,
              "#ed7953"
             ],
             [
              0.7777777777777778,
              "#fb9f3a"
             ],
             [
              0.8888888888888888,
              "#fdca26"
             ],
             [
              1,
              "#f0f921"
             ]
            ],
            "type": "surface"
           }
          ],
          "table": [
           {
            "cells": {
             "fill": {
              "color": "#EBF0F8"
             },
             "line": {
              "color": "white"
             }
            },
            "header": {
             "fill": {
              "color": "#C8D4E3"
             },
             "line": {
              "color": "white"
             }
            },
            "type": "table"
           }
          ]
         },
         "layout": {
          "annotationdefaults": {
           "arrowcolor": "#2a3f5f",
           "arrowhead": 0,
           "arrowwidth": 1
          },
          "autotypenumbers": "strict",
          "coloraxis": {
           "colorbar": {
            "outlinewidth": 0,
            "ticks": ""
           }
          },
          "colorscale": {
           "diverging": [
            [
             0,
             "#8e0152"
            ],
            [
             0.1,
             "#c51b7d"
            ],
            [
             0.2,
             "#de77ae"
            ],
            [
             0.3,
             "#f1b6da"
            ],
            [
             0.4,
             "#fde0ef"
            ],
            [
             0.5,
             "#f7f7f7"
            ],
            [
             0.6,
             "#e6f5d0"
            ],
            [
             0.7,
             "#b8e186"
            ],
            [
             0.8,
             "#7fbc41"
            ],
            [
             0.9,
             "#4d9221"
            ],
            [
             1,
             "#276419"
            ]
           ],
           "sequential": [
            [
             0,
             "#0d0887"
            ],
            [
             0.1111111111111111,
             "#46039f"
            ],
            [
             0.2222222222222222,
             "#7201a8"
            ],
            [
             0.3333333333333333,
             "#9c179e"
            ],
            [
             0.4444444444444444,
             "#bd3786"
            ],
            [
             0.5555555555555556,
             "#d8576b"
            ],
            [
             0.6666666666666666,
             "#ed7953"
            ],
            [
             0.7777777777777778,
             "#fb9f3a"
            ],
            [
             0.8888888888888888,
             "#fdca26"
            ],
            [
             1,
             "#f0f921"
            ]
           ],
           "sequentialminus": [
            [
             0,
             "#0d0887"
            ],
            [
             0.1111111111111111,
             "#46039f"
            ],
            [
             0.2222222222222222,
             "#7201a8"
            ],
            [
             0.3333333333333333,
             "#9c179e"
            ],
            [
             0.4444444444444444,
             "#bd3786"
            ],
            [
             0.5555555555555556,
             "#d8576b"
            ],
            [
             0.6666666666666666,
             "#ed7953"
            ],
            [
             0.7777777777777778,
             "#fb9f3a"
            ],
            [
             0.8888888888888888,
             "#fdca26"
            ],
            [
             1,
             "#f0f921"
            ]
           ]
          },
          "colorway": [
           "#636efa",
           "#EF553B",
           "#00cc96",
           "#ab63fa",
           "#FFA15A",
           "#19d3f3",
           "#FF6692",
           "#B6E880",
           "#FF97FF",
           "#FECB52"
          ],
          "font": {
           "color": "#2a3f5f"
          },
          "geo": {
           "bgcolor": "white",
           "lakecolor": "white",
           "landcolor": "white",
           "showlakes": true,
           "showland": true,
           "subunitcolor": "#C8D4E3"
          },
          "hoverlabel": {
           "align": "left"
          },
          "hovermode": "closest",
          "mapbox": {
           "style": "light"
          },
          "paper_bgcolor": "white",
          "plot_bgcolor": "white",
          "polar": {
           "angularaxis": {
            "gridcolor": "#EBF0F8",
            "linecolor": "#EBF0F8",
            "ticks": ""
           },
           "bgcolor": "white",
           "radialaxis": {
            "gridcolor": "#EBF0F8",
            "linecolor": "#EBF0F8",
            "ticks": ""
           }
          },
          "scene": {
           "xaxis": {
            "backgroundcolor": "white",
            "gridcolor": "#DFE8F3",
            "gridwidth": 2,
            "linecolor": "#EBF0F8",
            "showbackground": true,
            "ticks": "",
            "zerolinecolor": "#EBF0F8"
           },
           "yaxis": {
            "backgroundcolor": "white",
            "gridcolor": "#DFE8F3",
            "gridwidth": 2,
            "linecolor": "#EBF0F8",
            "showbackground": true,
            "ticks": "",
            "zerolinecolor": "#EBF0F8"
           },
           "zaxis": {
            "backgroundcolor": "white",
            "gridcolor": "#DFE8F3",
            "gridwidth": 2,
            "linecolor": "#EBF0F8",
            "showbackground": true,
            "ticks": "",
            "zerolinecolor": "#EBF0F8"
           }
          },
          "shapedefaults": {
           "line": {
            "color": "#2a3f5f"
           }
          },
          "ternary": {
           "aaxis": {
            "gridcolor": "#DFE8F3",
            "linecolor": "#A2B1C6",
            "ticks": ""
           },
           "baxis": {
            "gridcolor": "#DFE8F3",
            "linecolor": "#A2B1C6",
            "ticks": ""
           },
           "bgcolor": "white",
           "caxis": {
            "gridcolor": "#DFE8F3",
            "linecolor": "#A2B1C6",
            "ticks": ""
           }
          },
          "title": {
           "x": 0.05
          },
          "xaxis": {
           "automargin": true,
           "gridcolor": "#EBF0F8",
           "linecolor": "#EBF0F8",
           "ticks": "",
           "title": {
            "standoff": 15
           },
           "zerolinecolor": "#EBF0F8",
           "zerolinewidth": 2
          },
          "yaxis": {
           "automargin": true,
           "gridcolor": "#EBF0F8",
           "linecolor": "#EBF0F8",
           "ticks": "",
           "title": {
            "standoff": 15
           },
           "zerolinecolor": "#EBF0F8",
           "zerolinewidth": 2
          }
         }
        },
        "title": {
         "font": {
          "color": "#1a252f",
          "family": "Arial Black",
          "size": 18
         },
         "text": "<b>Valor Presente de la Causación de Personal en Proyectos Viales</b><br><sub>Relación entre Longitud del Proyecto y Causación Total</sub>",
         "x": 0.5,
         "xanchor": "center"
        },
        "width": 1200,
        "xaxis": {
         "anchor": "y",
         "domain": [
          0,
          1
         ],
         "gridcolor": "#ecf0f1",
         "showgrid": true,
         "tickfont": {
          "size": 11
         },
         "title": {
          "font": {
           "color": "#34495e",
           "family": "Arial",
           "size": 14
          },
          "text": "Longitud del Proyecto (km)"
         },
         "zeroline": false
        },
        "yaxis": {
         "anchor": "x",
         "domain": [
          0,
          1
         ],
         "gridcolor": "#ecf0f1",
         "showgrid": true,
         "tickfont": {
          "size": 11
         },
         "title": {
          "font": {
           "color": "#34495e",
           "family": "Arial",
           "size": 14
          },
          "text": "Valor Presente de la Causación de Personal (Millones COP)"
         },
         "zeroline": false
        }
       }
      }
     },
     "metadata": {},
     "output_type": "display_data"
    }
   ],
   "source": [
    "import sqlite3\n",
    "from config import Config\n",
    "\n",
    "df_vp['COSTO_UF_VP'] = df_vp.loc[:, \"1 - TRANSPORTE\": ].sum(axis=1)\n",
    "\n",
    "conn = sqlite3.connect(Config.DATABASE)\n",
    "df_proyectos = pd.read_sql_query(\"SELECT codigo, anio_inicio, fase FROM proyectos\", conn)\n",
    "conn.close()\n",
    "\n",
    "# Count functional units per project\n",
    "df_vp['UF_COUNT'] = df_vp.groupby('CÓDIGO')['CÓDIGO'].transform('count')\n",
    "\n",
    "# Aggregate by project - properly sum all functional units\n",
    "# Group by CÓDIGO and aggregate different columns appropriately\n",
    "df_project = df_vp.groupby('CÓDIGO').agg({\n",
    "    'NOMBRE DEL PROYECTO': 'first',  # Take first (same for all rows)\n",
    "    'ALCANCE': 'first',              # Take first (same for all rows)\n",
    "    'LONGITUD KM': 'sum',            # Sum all functional units' lengths\n",
    "    'COSTO_UF_VP': 'sum',            # SUM all functional units' costs (THIS IS KEY!)\n",
    "    'UF_COUNT': 'first'              # Take first (same for all rows)\n",
    "}).reset_index()\n",
    "\n",
    "# Rename the aggregated cost column\n",
    "df_project = df_project.rename(columns={'COSTO_UF_VP': 'COSTO_TOTAL_VP'})\n",
    "\n",
    "# Merge with database info to get AÑO INICIO and FASE\n",
    "df_project = df_project.merge(df_proyectos, left_on='CÓDIGO', right_on='codigo', how='left')\n",
    "\n",
    "# Rename columns for clarity\n",
    "df_project = df_project.rename(columns={\n",
    "    'UF_COUNT': 'UNIDADES_FUNCIONALES',\n",
    "    'anio_inicio': 'AÑO INICIO',\n",
    "    'fase': 'FASE'\n",
    "})\n",
    "\n",
    "# Drop duplicate codigo column\n",
    "df_project = df_project.drop(columns=['codigo'])\n",
    "\n",
    "# Format cost values for display (in millions)\n",
    "df_project['COSTO_MILLONES'] = df_project['COSTO_TOTAL_VP'] / 1_000_000\n",
    "\n",
    "# Build hover_data dictionary\n",
    "hover_dict = {\n",
    "    'NOMBRE DEL PROYECTO': True,\n",
    "    'CÓDIGO': True,\n",
    "    'AÑO INICIO': True,\n",
    "    'FASE': True,\n",
    "    'ALCANCE': True,\n",
    "    'UNIDADES_FUNCIONALES': True,\n",
    "    'LONGITUD KM': ':.2f',\n",
    "    'COSTO_MILLONES': ':.2f',\n",
    "    'COSTO_TOTAL_VP': ':,.0f'\n",
    "}\n",
    "\n",
    "# Create the plot\n",
    "fig = px.scatter(\n",
    "    df_project,\n",
    "    x='LONGITUD KM',\n",
    "    y='COSTO_MILLONES',\n",
    "    color='CÓDIGO',\n",
    "    hover_data=hover_dict,\n",
    "    labels={\n",
    "        'LONGITUD KM': 'Longitud del Proyecto (km)',\n",
    "        'COSTO_MILLONES': 'Valor Presente de la Causación de Personal (Millones COP)',\n",
    "        'NOMBRE DEL PROYECTO': 'Nombre del Proyecto',\n",
    "        'CÓDIGO': 'Código del Proyecto',\n",
    "        'AÑO INICIO': 'Año de Inicio',\n",
    "        'FASE': 'Fase del Proyecto',\n",
    "        'ALCANCE': 'Alcance',\n",
    "        'UNIDADES_FUNCIONALES': 'N° Unidades Funcionales',\n",
    "        'COSTO_TOTAL_VP': 'Costo Total VP (COP)'\n",
    "    },\n",
    "    title='<b>Valor Presente de la Causación de Personal en Proyectos Viales</b><br><sub>Relación entre Longitud del Proyecto y Causación Total</sub>',\n",
    "    template='plotly_white',\n",
    "    size='COSTO_MILLONES',\n",
    "    size_max=40,\n",
    "    color_discrete_sequence=px.colors.qualitative.Set2\n",
    ")\n",
    "\n",
    "# Enhance the visual design\n",
    "fig.update_traces(\n",
    "    marker=dict(\n",
    "        line=dict(width=1.5, color='white'),\n",
    "        opacity=0.85,\n",
    "        sizemin=8\n",
    "    ),\n",
    "    textposition='top center'\n",
    ")\n",
    "\n",
    "# Update layout for executive presentation\n",
    "fig.update_layout(\n",
    "    font=dict(family=\"Arial, sans-serif\", size=12, color=\"#2c3e50\"),\n",
    "    title=dict(\n",
    "        font=dict(size=18, color=\"#1a252f\", family=\"Arial Black\"),\n",
    "        x=0.5,\n",
    "        xanchor='center'\n",
    "    ),\n",
    "    xaxis=dict(\n",
    "        showgrid=True,\n",
    "        gridcolor='#ecf0f1',\n",
    "        zeroline=False,\n",
    "        title_font=dict(size=14, color=\"#34495e\", family=\"Arial\"),\n",
    "        tickfont=dict(size=11)\n",
    "    ),\n",
    "    yaxis=dict(\n",
    "        showgrid=True,\n",
    "        gridcolor='#ecf0f1',\n",
    "        zeroline=False,\n",
    "        title_font=dict(size=14, color=\"#34495e\", family=\"Arial\"),\n",
    "        tickfont=dict(size=11)\n",
    "    ),\n",
    "    plot_bgcolor='white',\n",
    "    paper_bgcolor='white',\n",
    "    hovermode='closest',\n",
    "    legend=dict(\n",
    "        title=dict(text='<b>Código Proyecto</b>', font=dict(size=12)),\n",
    "        orientation=\"v\",\n",
    "        yanchor=\"top\",\n",
    "        y=1,\n",
    "        xanchor=\"left\",\n",
    "        x=1.02,\n",
    "        bgcolor=\"rgba(255, 255, 255, 0.9)\",\n",
    "        bordercolor=\"#bdc3c7\",\n",
    "        borderwidth=1\n",
    "    ),\n",
    "    margin=dict(l=80, r=200, t=100, b=80),\n",
    "    height=600,\n",
    "    width=1200\n",
    ")\n",
    "\n",
    "# Add a trend line for better insights\n",
    "from sklearn.linear_model import LinearRegression\n",
    "X = df_project[['LONGITUD KM']].values\n",
    "y = df_project['COSTO_MILLONES'].values\n",
    "model = LinearRegression()\n",
    "model.fit(X, y)\n",
    "y_pred = model.predict(X)\n",
    "\n",
    "# Sort for line plot\n",
    "sort_idx = X.flatten().argsort()\n",
    "fig.add_trace(\n",
    "    go.Scatter(\n",
    "        x=X[sort_idx].flatten(),\n",
    "        y=y_pred[sort_idx],\n",
    "        mode='lines',\n",
    "        name='Tendencia Lineal',\n",
    "        line=dict(color='#e74c3c', width=2, dash='dash'),\n",
    "        showlegend=True,\n",
    "        hovertemplate='Línea de Tendencia<extra></extra>'\n",
    "    )\n",
    ")\n",
    "\n",
    "fig.show()"
   ]
  },
  {
   "cell_type": "code",
   "execution_count": 35,
   "id": "43cfcc17",
   "metadata": {},
   "outputs": [],
   "source": [
    "target_columns = ['2.2 - TRAZADO Y DISEÑO GEOMÉTRICO', '2.3 - SEGURIDAD VIAL', '2.4 - SISTEMAS INTELIGENTES', \n",
    "                  '5 - TALUDES', '6 - PAVIMENTO', '7 - SOCAVACIÓN', '11 - PREDIAL', \n",
    "                  '12 - IMPACTO AMBIENTAL', '15 - OTROS - MANEJO DE REDES', '16 - DIRECCIÓN Y COORDINACIÓN']\n",
    "\n",
    "df_per_km = preproccesing.calculate_cost_per_km(df_vp, target_columns)"
   ]
  },
  {
   "cell_type": "code",
   "execution_count": 37,
   "id": "49ebdd87",
   "metadata": {},
   "outputs": [
    {
     "data": {
      "image/png": "[encoded data removed]",
      "text/plain": [
       "<Figure size 1800x800 with 2 Axes>"
      ]
     },
     "metadata": {},
     "output_type": "display_data"
    },
    {
     "data": {
      "text/html": [
       "<div>\n",
       "<style scoped>\n",
       "    .dataframe tbody tr th:only-of-type {\n",
       "        vertical-align: middle;\n",
       "    }\n",
       "\n",
       "    .dataframe tbody tr th {\n",
       "        vertical-align: top;\n",
       "    }\n",
       "\n",
       "    .dataframe thead th {\n",
       "        text-align: right;\n",
       "    }\n",
       "</style>\n",
       "<table border=\"1\" class=\"dataframe\">\n",
       "  <thead>\n",
       "    <tr style=\"text-align: right;\">\n",
       "      <th></th>\n",
       "      <th>Category</th>\n",
       "      <th>Alcance</th>\n",
       "      <th>Mean (M)</th>\n",
       "      <th>Median (M)</th>\n",
       "      <th>Std (M)</th>\n",
       "      <th>Min (M)</th>\n",
       "      <th>Max (M)</th>\n",
       "      <th>Count</th>\n",
       "    </tr>\n",
       "  </thead>\n",
       "  <tbody>\n",
       "    <tr>\n",
       "      <th>55</th>\n",
       "      <td>DIRECCIÓN Y COORDINACIÓN</td>\n",
       "      <td>Construcción</td>\n",
       "      <td>2.819275</td>\n",
       "      <td>2.819275</td>\n",
       "      <td>NaN</td>\n",
       "      <td>2.819275</td>\n",
       "      <td>2.819275</td>\n",
       "      <td>1</td>\n",
       "    </tr>\n",
       "    <tr>\n",
       "      <th>53</th>\n",
       "      <td>DIRECCIÓN Y COORDINACIÓN</td>\n",
       "      <td>Mejoramiento</td>\n",
       "      <td>2.190099</td>\n",
       "      <td>0.811868</td>\n",
       "      <td>4.093324e+00</td>\n",
       "      <td>0.811868</td>\n",
       "      <td>15.123599</td>\n",
       "      <td>12</td>\n",
       "    </tr>\n",
       "    <tr>\n",
       "      <th>51</th>\n",
       "      <td>DIRECCIÓN Y COORDINACIÓN</td>\n",
       "      <td>Nuevo</td>\n",
       "      <td>7.378554</td>\n",
       "      <td>7.378554</td>\n",
       "      <td>6.447794e+00</td>\n",
       "      <td>2.819275</td>\n",
       "      <td>11.937833</td>\n",
       "      <td>2</td>\n",
       "    </tr>\n",
       "    <tr>\n",
       "      <th>56</th>\n",
       "      <td>DIRECCIÓN Y COORDINACIÓN</td>\n",
       "      <td>Puesta a punto</td>\n",
       "      <td>2.819275</td>\n",
       "      <td>2.819275</td>\n",
       "      <td>2.489064e-16</td>\n",
       "      <td>2.819275</td>\n",
       "      <td>2.819275</td>\n",
       "      <td>8</td>\n",
       "    </tr>\n",
       "    <tr>\n",
       "      <th>54</th>\n",
       "      <td>DIRECCIÓN Y COORDINACIÓN</td>\n",
       "      <td>Rehabilitación</td>\n",
       "      <td>15.544567</td>\n",
       "      <td>24.028095</td>\n",
       "      <td>1.161655e+01</td>\n",
       "      <td>2.819275</td>\n",
       "      <td>24.028095</td>\n",
       "      <td>5</td>\n",
       "    </tr>\n",
       "    <tr>\n",
       "      <th>50</th>\n",
       "      <td>DIRECCIÓN Y COORDINACIÓN</td>\n",
       "      <td>Segunda calzada</td>\n",
       "      <td>2.914059</td>\n",
       "      <td>2.819275</td>\n",
       "      <td>2.099417e+00</td>\n",
       "      <td>0.350505</td>\n",
       "      <td>9.850822</td>\n",
       "      <td>20</td>\n",
       "    </tr>\n",
       "    <tr>\n",
       "      <th>52</th>\n",
       "      <td>DIRECCIÓN Y COORDINACIÓN</td>\n",
       "      <td>operacion y mantenimiento</td>\n",
       "      <td>0.350505</td>\n",
       "      <td>0.350505</td>\n",
       "      <td>4.115903e-17</td>\n",
       "      <td>0.350505</td>\n",
       "      <td>0.350505</td>\n",
       "      <td>3</td>\n",
       "    </tr>\n",
       "    <tr>\n",
       "      <th>42</th>\n",
       "      <td>IMPACTO AMBIENTAL</td>\n",
       "      <td>Mejoramiento</td>\n",
       "      <td>11.499786</td>\n",
       "      <td>11.499786</td>\n",
       "      <td>1.579550e+01</td>\n",
       "      <td>0.330677</td>\n",
       "      <td>22.668894</td>\n",
       "      <td>2</td>\n",
       "    </tr>\n",
       "    <tr>\n",
       "      <th>48</th>\n",
       "      <td>MANEJO DE REDES</td>\n",
       "      <td>Construcción</td>\n",
       "      <td>3.604718</td>\n",
       "      <td>3.604718</td>\n",
       "      <td>NaN</td>\n",
       "      <td>3.604718</td>\n",
       "      <td>3.604718</td>\n",
       "      <td>1</td>\n",
       "    </tr>\n",
       "    <tr>\n",
       "      <th>45</th>\n",
       "      <td>MANEJO DE REDES</td>\n",
       "      <td>Mejoramiento</td>\n",
       "      <td>5.802251</td>\n",
       "      <td>5.802251</td>\n",
       "      <td>NaN</td>\n",
       "      <td>5.802251</td>\n",
       "      <td>5.802251</td>\n",
       "      <td>1</td>\n",
       "    </tr>\n",
       "    <tr>\n",
       "      <th>47</th>\n",
       "      <td>MANEJO DE REDES</td>\n",
       "      <td>Nuevo</td>\n",
       "      <td>3.604718</td>\n",
       "      <td>3.604718</td>\n",
       "      <td>NaN</td>\n",
       "      <td>3.604718</td>\n",
       "      <td>3.604718</td>\n",
       "      <td>1</td>\n",
       "    </tr>\n",
       "    <tr>\n",
       "      <th>49</th>\n",
       "      <td>MANEJO DE REDES</td>\n",
       "      <td>Puesta a punto</td>\n",
       "      <td>3.604718</td>\n",
       "      <td>3.604718</td>\n",
       "      <td>4.311186e-16</td>\n",
       "      <td>3.604718</td>\n",
       "      <td>3.604718</td>\n",
       "      <td>8</td>\n",
       "    </tr>\n",
       "    <tr>\n",
       "      <th>46</th>\n",
       "      <td>MANEJO DE REDES</td>\n",
       "      <td>Rehabilitación</td>\n",
       "      <td>3.604718</td>\n",
       "      <td>3.604718</td>\n",
       "      <td>0.000000e+00</td>\n",
       "      <td>3.604718</td>\n",
       "      <td>3.604718</td>\n",
       "      <td>2</td>\n",
       "    </tr>\n",
       "    <tr>\n",
       "      <th>43</th>\n",
       "      <td>MANEJO DE REDES</td>\n",
       "      <td>Segunda calzada</td>\n",
       "      <td>3.063847</td>\n",
       "      <td>3.604718</td>\n",
       "      <td>1.392430e+00</td>\n",
       "      <td>0.682567</td>\n",
       "      <td>4.938726</td>\n",
       "      <td>18</td>\n",
       "    </tr>\n",
       "    <tr>\n",
       "      <th>44</th>\n",
       "      <td>MANEJO DE REDES</td>\n",
       "      <td>operacion y mantenimiento</td>\n",
       "      <td>0.682567</td>\n",
       "      <td>0.682567</td>\n",
       "      <td>0.000000e+00</td>\n",
       "      <td>0.682567</td>\n",
       "      <td>0.682567</td>\n",
       "      <td>3</td>\n",
       "    </tr>\n",
       "    <tr>\n",
       "      <th>31</th>\n",
       "      <td>PAVIMENTO</td>\n",
       "      <td>Construcción</td>\n",
       "      <td>1.134319</td>\n",
       "      <td>1.134319</td>\n",
       "      <td>NaN</td>\n",
       "      <td>1.134319</td>\n",
       "      <td>1.134319</td>\n",
       "      <td>1</td>\n",
       "    </tr>\n",
       "    <tr>\n",
       "      <th>30</th>\n",
       "      <td>PAVIMENTO</td>\n",
       "      <td>Mejoramiento</td>\n",
       "      <td>2.409764</td>\n",
       "      <td>2.290993</td>\n",
       "      <td>2.055814e+00</td>\n",
       "      <td>0.415910</td>\n",
       "      <td>4.522390</td>\n",
       "      <td>3</td>\n",
       "    </tr>\n",
       "    <tr>\n",
       "      <th>27</th>\n",
       "      <td>PAVIMENTO</td>\n",
       "      <td>Nuevo</td>\n",
       "      <td>2.207117</td>\n",
       "      <td>2.207117</td>\n",
       "      <td>1.517165e+00</td>\n",
       "      <td>1.134319</td>\n",
       "      <td>3.279915</td>\n",
       "      <td>2</td>\n",
       "    </tr>\n",
       "    <tr>\n",
       "      <th>32</th>\n",
       "      <td>PAVIMENTO</td>\n",
       "      <td>Puesta a punto</td>\n",
       "      <td>1.134319</td>\n",
       "      <td>1.134319</td>\n",
       "      <td>1.967778e-16</td>\n",
       "      <td>1.134319</td>\n",
       "      <td>1.134319</td>\n",
       "      <td>8</td>\n",
       "    </tr>\n",
       "    <tr>\n",
       "      <th>29</th>\n",
       "      <td>PAVIMENTO</td>\n",
       "      <td>Rehabilitación</td>\n",
       "      <td>4.050061</td>\n",
       "      <td>5.993890</td>\n",
       "      <td>2.661696e+00</td>\n",
       "      <td>1.134319</td>\n",
       "      <td>5.993890</td>\n",
       "      <td>5</td>\n",
       "    </tr>\n",
       "    <tr>\n",
       "      <th>28</th>\n",
       "      <td>PAVIMENTO</td>\n",
       "      <td>Segunda calzada</td>\n",
       "      <td>1.734179</td>\n",
       "      <td>1.134319</td>\n",
       "      <td>1.792485e+00</td>\n",
       "      <td>1.134319</td>\n",
       "      <td>7.880672</td>\n",
       "      <td>15</td>\n",
       "    </tr>\n",
       "    <tr>\n",
       "      <th>41</th>\n",
       "      <td>PREDIAL</td>\n",
       "      <td>Mejoramiento</td>\n",
       "      <td>3.607640</td>\n",
       "      <td>3.607640</td>\n",
       "      <td>NaN</td>\n",
       "      <td>3.607640</td>\n",
       "      <td>3.607640</td>\n",
       "      <td>1</td>\n",
       "    </tr>\n",
       "    <tr>\n",
       "      <th>40</th>\n",
       "      <td>PREDIAL</td>\n",
       "      <td>Rehabilitación</td>\n",
       "      <td>1.992742</td>\n",
       "      <td>1.992742</td>\n",
       "      <td>1.646361e-16</td>\n",
       "      <td>1.992742</td>\n",
       "      <td>1.992742</td>\n",
       "      <td>3</td>\n",
       "    </tr>\n",
       "    <tr>\n",
       "      <th>12</th>\n",
       "      <td>SEGURIDAD VIAL</td>\n",
       "      <td>Construcción</td>\n",
       "      <td>2.512247</td>\n",
       "      <td>2.512247</td>\n",
       "      <td>NaN</td>\n",
       "      <td>2.512247</td>\n",
       "      <td>2.512247</td>\n",
       "      <td>1</td>\n",
       "    </tr>\n",
       "    <tr>\n",
       "      <th>9</th>\n",
       "      <td>SEGURIDAD VIAL</td>\n",
       "      <td>Mejoramiento</td>\n",
       "      <td>1.323982</td>\n",
       "      <td>1.200323</td>\n",
       "      <td>1.073303e+00</td>\n",
       "      <td>0.421075</td>\n",
       "      <td>4.605483</td>\n",
       "      <td>12</td>\n",
       "    </tr>\n",
       "    <tr>\n",
       "      <th>11</th>\n",
       "      <td>SEGURIDAD VIAL</td>\n",
       "      <td>Nuevo</td>\n",
       "      <td>2.512247</td>\n",
       "      <td>2.512247</td>\n",
       "      <td>NaN</td>\n",
       "      <td>2.512247</td>\n",
       "      <td>2.512247</td>\n",
       "      <td>1</td>\n",
       "    </tr>\n",
       "    <tr>\n",
       "      <th>13</th>\n",
       "      <td>SEGURIDAD VIAL</td>\n",
       "      <td>Puesta a punto</td>\n",
       "      <td>2.512247</td>\n",
       "      <td>2.512247</td>\n",
       "      <td>3.520068e-16</td>\n",
       "      <td>2.512247</td>\n",
       "      <td>2.512247</td>\n",
       "      <td>8</td>\n",
       "    </tr>\n",
       "    <tr>\n",
       "      <th>10</th>\n",
       "      <td>SEGURIDAD VIAL</td>\n",
       "      <td>Rehabilitación</td>\n",
       "      <td>2.354166</td>\n",
       "      <td>2.248779</td>\n",
       "      <td>1.443075e-01</td>\n",
       "      <td>2.248779</td>\n",
       "      <td>2.512247</td>\n",
       "      <td>5</td>\n",
       "    </tr>\n",
       "    <tr>\n",
       "      <th>7</th>\n",
       "      <td>SEGURIDAD VIAL</td>\n",
       "      <td>Segunda calzada</td>\n",
       "      <td>1.875809</td>\n",
       "      <td>2.512247</td>\n",
       "      <td>1.149309e+00</td>\n",
       "      <td>0.161994</td>\n",
       "      <td>4.188255</td>\n",
       "      <td>19</td>\n",
       "    </tr>\n",
       "    <tr>\n",
       "      <th>8</th>\n",
       "      <td>SEGURIDAD VIAL</td>\n",
       "      <td>operacion y mantenimiento</td>\n",
       "      <td>0.161994</td>\n",
       "      <td>0.161994</td>\n",
       "      <td>2.910383e-17</td>\n",
       "      <td>0.161994</td>\n",
       "      <td>0.161994</td>\n",
       "      <td>3</td>\n",
       "    </tr>\n",
       "    <tr>\n",
       "      <th>19</th>\n",
       "      <td>SISTEMAS INTELIGENTES</td>\n",
       "      <td>Construcción</td>\n",
       "      <td>0.638131</td>\n",
       "      <td>0.638131</td>\n",
       "      <td>NaN</td>\n",
       "      <td>0.638131</td>\n",
       "      <td>0.638131</td>\n",
       "      <td>1</td>\n",
       "    </tr>\n",
       "    <tr>\n",
       "      <th>17</th>\n",
       "      <td>SISTEMAS INTELIGENTES</td>\n",
       "      <td>Mejoramiento</td>\n",
       "      <td>0.657020</td>\n",
       "      <td>0.657020</td>\n",
       "      <td>1.244532e-16</td>\n",
       "      <td>0.657020</td>\n",
       "      <td>0.657020</td>\n",
       "      <td>8</td>\n",
       "    </tr>\n",
       "    <tr>\n",
       "      <th>15</th>\n",
       "      <td>SISTEMAS INTELIGENTES</td>\n",
       "      <td>Nuevo</td>\n",
       "      <td>1.211340</td>\n",
       "      <td>1.211340</td>\n",
       "      <td>8.106412e-01</td>\n",
       "      <td>0.638131</td>\n",
       "      <td>1.784550</td>\n",
       "      <td>2</td>\n",
       "    </tr>\n",
       "    <tr>\n",
       "      <th>20</th>\n",
       "      <td>SISTEMAS INTELIGENTES</td>\n",
       "      <td>Puesta a punto</td>\n",
       "      <td>0.638131</td>\n",
       "      <td>0.638131</td>\n",
       "      <td>0.000000e+00</td>\n",
       "      <td>0.638131</td>\n",
       "      <td>0.638131</td>\n",
       "      <td>8</td>\n",
       "    </tr>\n",
       "    <tr>\n",
       "      <th>18</th>\n",
       "      <td>SISTEMAS INTELIGENTES</td>\n",
       "      <td>Rehabilitación</td>\n",
       "      <td>0.638131</td>\n",
       "      <td>0.638131</td>\n",
       "      <td>0.000000e+00</td>\n",
       "      <td>0.638131</td>\n",
       "      <td>0.638131</td>\n",
       "      <td>2</td>\n",
       "    </tr>\n",
       "    <tr>\n",
       "      <th>14</th>\n",
       "      <td>SISTEMAS INTELIGENTES</td>\n",
       "      <td>Segunda calzada</td>\n",
       "      <td>0.815133</td>\n",
       "      <td>0.638131</td>\n",
       "      <td>4.313800e-01</td>\n",
       "      <td>0.638131</td>\n",
       "      <td>2.306652</td>\n",
       "      <td>18</td>\n",
       "    </tr>\n",
       "    <tr>\n",
       "      <th>16</th>\n",
       "      <td>SISTEMAS INTELIGENTES</td>\n",
       "      <td>operacion y mantenimiento</td>\n",
       "      <td>0.675091</td>\n",
       "      <td>0.675091</td>\n",
       "      <td>8.231806e-17</td>\n",
       "      <td>0.675091</td>\n",
       "      <td>0.675091</td>\n",
       "      <td>3</td>\n",
       "    </tr>\n",
       "    <tr>\n",
       "      <th>38</th>\n",
       "      <td>SOCAVACIÓN</td>\n",
       "      <td>Construcción</td>\n",
       "      <td>5.306414</td>\n",
       "      <td>5.306414</td>\n",
       "      <td>NaN</td>\n",
       "      <td>5.306414</td>\n",
       "      <td>5.306414</td>\n",
       "      <td>1</td>\n",
       "    </tr>\n",
       "    <tr>\n",
       "      <th>35</th>\n",
       "      <td>SOCAVACIÓN</td>\n",
       "      <td>Mejoramiento</td>\n",
       "      <td>3.333208</td>\n",
       "      <td>3.223354</td>\n",
       "      <td>1.225645e+00</td>\n",
       "      <td>1.257971</td>\n",
       "      <td>6.736926</td>\n",
       "      <td>12</td>\n",
       "    </tr>\n",
       "    <tr>\n",
       "      <th>37</th>\n",
       "      <td>SOCAVACIÓN</td>\n",
       "      <td>Nuevo</td>\n",
       "      <td>5.306414</td>\n",
       "      <td>5.306414</td>\n",
       "      <td>NaN</td>\n",
       "      <td>5.306414</td>\n",
       "      <td>5.306414</td>\n",
       "      <td>1</td>\n",
       "    </tr>\n",
       "    <tr>\n",
       "      <th>39</th>\n",
       "      <td>SOCAVACIÓN</td>\n",
       "      <td>Puesta a punto</td>\n",
       "      <td>5.306414</td>\n",
       "      <td>5.306414</td>\n",
       "      <td>0.000000e+00</td>\n",
       "      <td>5.306414</td>\n",
       "      <td>5.306414</td>\n",
       "      <td>8</td>\n",
       "    </tr>\n",
       "    <tr>\n",
       "      <th>36</th>\n",
       "      <td>SOCAVACIÓN</td>\n",
       "      <td>Rehabilitación</td>\n",
       "      <td>6.638031</td>\n",
       "      <td>7.525776</td>\n",
       "      <td>1.215594e+00</td>\n",
       "      <td>5.306414</td>\n",
       "      <td>7.525776</td>\n",
       "      <td>5</td>\n",
       "    </tr>\n",
       "    <tr>\n",
       "      <th>33</th>\n",
       "      <td>SOCAVACIÓN</td>\n",
       "      <td>Segunda calzada</td>\n",
       "      <td>3.931206</td>\n",
       "      <td>5.306414</td>\n",
       "      <td>1.688051e+00</td>\n",
       "      <td>1.240165</td>\n",
       "      <td>5.306414</td>\n",
       "      <td>20</td>\n",
       "    </tr>\n",
       "    <tr>\n",
       "      <th>34</th>\n",
       "      <td>SOCAVACIÓN</td>\n",
       "      <td>operacion y mantenimiento</td>\n",
       "      <td>1.240165</td>\n",
       "      <td>1.240165</td>\n",
       "      <td>1.646361e-16</td>\n",
       "      <td>1.240165</td>\n",
       "      <td>1.240165</td>\n",
       "      <td>3</td>\n",
       "    </tr>\n",
       "    <tr>\n",
       "      <th>25</th>\n",
       "      <td>TALUDES</td>\n",
       "      <td>Construcción</td>\n",
       "      <td>2.540390</td>\n",
       "      <td>2.540390</td>\n",
       "      <td>NaN</td>\n",
       "      <td>2.540390</td>\n",
       "      <td>2.540390</td>\n",
       "      <td>1</td>\n",
       "    </tr>\n",
       "    <tr>\n",
       "      <th>23</th>\n",
       "      <td>TALUDES</td>\n",
       "      <td>Mejoramiento</td>\n",
       "      <td>2.217864</td>\n",
       "      <td>0.413615</td>\n",
       "      <td>3.607556e+00</td>\n",
       "      <td>0.413615</td>\n",
       "      <td>12.370512</td>\n",
       "      <td>12</td>\n",
       "    </tr>\n",
       "    <tr>\n",
       "      <th>22</th>\n",
       "      <td>TALUDES</td>\n",
       "      <td>Nuevo</td>\n",
       "      <td>4.213583</td>\n",
       "      <td>4.213583</td>\n",
       "      <td>2.366252e+00</td>\n",
       "      <td>2.540390</td>\n",
       "      <td>5.886776</td>\n",
       "      <td>2</td>\n",
       "    </tr>\n",
       "    <tr>\n",
       "      <th>26</th>\n",
       "      <td>TALUDES</td>\n",
       "      <td>Puesta a punto</td>\n",
       "      <td>2.540390</td>\n",
       "      <td>2.540390</td>\n",
       "      <td>3.048469e-16</td>\n",
       "      <td>2.540390</td>\n",
       "      <td>2.540390</td>\n",
       "      <td>8</td>\n",
       "    </tr>\n",
       "    <tr>\n",
       "      <th>24</th>\n",
       "      <td>TALUDES</td>\n",
       "      <td>Rehabilitación</td>\n",
       "      <td>6.126146</td>\n",
       "      <td>8.516650</td>\n",
       "      <td>3.273332e+00</td>\n",
       "      <td>2.540390</td>\n",
       "      <td>8.516650</td>\n",
       "      <td>5</td>\n",
       "    </tr>\n",
       "    <tr>\n",
       "      <th>21</th>\n",
       "      <td>TALUDES</td>\n",
       "      <td>Segunda calzada</td>\n",
       "      <td>2.697854</td>\n",
       "      <td>2.540390</td>\n",
       "      <td>4.303011e-01</td>\n",
       "      <td>2.087527</td>\n",
       "      <td>3.854105</td>\n",
       "      <td>16</td>\n",
       "    </tr>\n",
       "    <tr>\n",
       "      <th>5</th>\n",
       "      <td>TRAZADO Y DISEÑO GEOMÉTRICO</td>\n",
       "      <td>Construcción</td>\n",
       "      <td>2.337068</td>\n",
       "      <td>2.337068</td>\n",
       "      <td>NaN</td>\n",
       "      <td>2.337068</td>\n",
       "      <td>2.337068</td>\n",
       "      <td>1</td>\n",
       "    </tr>\n",
       "    <tr>\n",
       "      <th>2</th>\n",
       "      <td>TRAZADO Y DISEÑO GEOMÉTRICO</td>\n",
       "      <td>Mejoramiento</td>\n",
       "      <td>2.473582</td>\n",
       "      <td>2.229172</td>\n",
       "      <td>1.459887e+00</td>\n",
       "      <td>1.130593</td>\n",
       "      <td>6.910899</td>\n",
       "      <td>12</td>\n",
       "    </tr>\n",
       "    <tr>\n",
       "      <th>4</th>\n",
       "      <td>TRAZADO Y DISEÑO GEOMÉTRICO</td>\n",
       "      <td>Nuevo</td>\n",
       "      <td>2.337068</td>\n",
       "      <td>2.337068</td>\n",
       "      <td>NaN</td>\n",
       "      <td>2.337068</td>\n",
       "      <td>2.337068</td>\n",
       "      <td>1</td>\n",
       "    </tr>\n",
       "    <tr>\n",
       "      <th>6</th>\n",
       "      <td>TRAZADO Y DISEÑO GEOMÉTRICO</td>\n",
       "      <td>Puesta a punto</td>\n",
       "      <td>2.337068</td>\n",
       "      <td>2.337068</td>\n",
       "      <td>1.760034e-16</td>\n",
       "      <td>2.337068</td>\n",
       "      <td>2.337068</td>\n",
       "      <td>8</td>\n",
       "    </tr>\n",
       "    <tr>\n",
       "      <th>3</th>\n",
       "      <td>TRAZADO Y DISEÑO GEOMÉTRICO</td>\n",
       "      <td>Rehabilitación</td>\n",
       "      <td>2.663440</td>\n",
       "      <td>2.881020</td>\n",
       "      <td>2.979350e-01</td>\n",
       "      <td>2.337068</td>\n",
       "      <td>2.881020</td>\n",
       "      <td>5</td>\n",
       "    </tr>\n",
       "    <tr>\n",
       "      <th>0</th>\n",
       "      <td>TRAZADO Y DISEÑO GEOMÉTRICO</td>\n",
       "      <td>Segunda calzada</td>\n",
       "      <td>2.274142</td>\n",
       "      <td>2.337068</td>\n",
       "      <td>1.620044e+00</td>\n",
       "      <td>0.611999</td>\n",
       "      <td>7.778188</td>\n",
       "      <td>20</td>\n",
       "    </tr>\n",
       "    <tr>\n",
       "      <th>1</th>\n",
       "      <td>TRAZADO Y DISEÑO GEOMÉTRICO</td>\n",
       "      <td>operacion y mantenimiento</td>\n",
       "      <td>0.611999</td>\n",
       "      <td>0.611999</td>\n",
       "      <td>8.231806e-17</td>\n",
       "      <td>0.611999</td>\n",
       "      <td>0.611999</td>\n",
       "      <td>3</td>\n",
       "    </tr>\n",
       "  </tbody>\n",
       "</table>\n",
       "</div>"
      ],
      "text/plain": [
       "                       Category                    Alcance   Mean (M)  \\\n",
       "55     DIRECCIÓN Y COORDINACIÓN              Construcción    2.819275   \n",
       "53     DIRECCIÓN Y COORDINACIÓN               Mejoramiento   2.190099   \n",
       "51     DIRECCIÓN Y COORDINACIÓN                      Nuevo   7.378554   \n",
       "56     DIRECCIÓN Y COORDINACIÓN             Puesta a punto   2.819275   \n",
       "54     DIRECCIÓN Y COORDINACIÓN             Rehabilitación  15.544567   \n",
       "50     DIRECCIÓN Y COORDINACIÓN            Segunda calzada   2.914059   \n",
       "52     DIRECCIÓN Y COORDINACIÓN  operacion y mantenimiento   0.350505   \n",
       "42            IMPACTO AMBIENTAL               Mejoramiento  11.499786   \n",
       "48              MANEJO DE REDES              Construcción    3.604718   \n",
       "45              MANEJO DE REDES               Mejoramiento   5.802251   \n",
       "47              MANEJO DE REDES                      Nuevo   3.604718   \n",
       "49              MANEJO DE REDES             Puesta a punto   3.604718   \n",
       "46              MANEJO DE REDES             Rehabilitación   3.604718   \n",
       "43              MANEJO DE REDES            Segunda calzada   3.063847   \n",
       "44              MANEJO DE REDES  operacion y mantenimiento   0.682567   \n",
       "31                    PAVIMENTO              Construcción    1.134319   \n",
       "30                    PAVIMENTO               Mejoramiento   2.409764   \n",
       "27                    PAVIMENTO                      Nuevo   2.207117   \n",
       "32                    PAVIMENTO             Puesta a punto   1.134319   \n",
       "29                    PAVIMENTO             Rehabilitación   4.050061   \n",
       "28                    PAVIMENTO            Segunda calzada   1.734179   \n",
       "41                      PREDIAL               Mejoramiento   3.607640   \n",
       "40                      PREDIAL             Rehabilitación   1.992742   \n",
       "12               SEGURIDAD VIAL              Construcción    2.512247   \n",
       "9                SEGURIDAD VIAL               Mejoramiento   1.323982   \n",
       "11               SEGURIDAD VIAL                      Nuevo   2.512247   \n",
       "13               SEGURIDAD VIAL             Puesta a punto   2.512247   \n",
       "10               SEGURIDAD VIAL             Rehabilitación   2.354166   \n",
       "7                SEGURIDAD VIAL            Segunda calzada   1.875809   \n",
       "8                SEGURIDAD VIAL  operacion y mantenimiento   0.161994   \n",
       "19        SISTEMAS INTELIGENTES              Construcción    0.638131   \n",
       "17        SISTEMAS INTELIGENTES               Mejoramiento   0.657020   \n",
       "15        SISTEMAS INTELIGENTES                      Nuevo   1.211340   \n",
       "20        SISTEMAS INTELIGENTES             Puesta a punto   0.638131   \n",
       "18        SISTEMAS INTELIGENTES             Rehabilitación   0.638131   \n",
       "14        SISTEMAS INTELIGENTES            Segunda calzada   0.815133   \n",
       "16        SISTEMAS INTELIGENTES  operacion y mantenimiento   0.675091   \n",
       "38                   SOCAVACIÓN              Construcción    5.306414   \n",
       "35                   SOCAVACIÓN               Mejoramiento   3.333208   \n",
       "37                   SOCAVACIÓN                      Nuevo   5.306414   \n",
       "39                   SOCAVACIÓN             Puesta a punto   5.306414   \n",
       "36                   SOCAVACIÓN             Rehabilitación   6.638031   \n",
       "33                   SOCAVACIÓN            Segunda calzada   3.931206   \n",
       "34                   SOCAVACIÓN  operacion y mantenimiento   1.240165   \n",
       "25                      TALUDES              Construcción    2.540390   \n",
       "23                      TALUDES               Mejoramiento   2.217864   \n",
       "22                      TALUDES                      Nuevo   4.213583   \n",
       "26                      TALUDES             Puesta a punto   2.540390   \n",
       "24                      TALUDES             Rehabilitación   6.126146   \n",
       "21                      TALUDES            Segunda calzada   2.697854   \n",
       "5   TRAZADO Y DISEÑO GEOMÉTRICO              Construcción    2.337068   \n",
       "2   TRAZADO Y DISEÑO GEOMÉTRICO               Mejoramiento   2.473582   \n",
       "4   TRAZADO Y DISEÑO GEOMÉTRICO                      Nuevo   2.337068   \n",
       "6   TRAZADO Y DISEÑO GEOMÉTRICO             Puesta a punto   2.337068   \n",
       "3   TRAZADO Y DISEÑO GEOMÉTRICO             Rehabilitación   2.663440   \n",
       "0   TRAZADO Y DISEÑO GEOMÉTRICO            Segunda calzada   2.274142   \n",
       "1   TRAZADO Y DISEÑO GEOMÉTRICO  operacion y mantenimiento   0.611999   \n",
       "\n",
       "    Median (M)       Std (M)   Min (M)    Max (M)  Count  \n",
       "55    2.819275           NaN  2.819275   2.819275      1  \n",
       "53    0.811868  4.093324e+00  0.811868  15.123599     12  \n",
       "51    7.378554  6.447794e+00  2.819275  11.937833      2  \n",
       "56    2.819275  2.489064e-16  2.819275   2.819275      8  \n",
       "54   24.028095  1.161655e+01  2.819275  24.028095      5  \n",
       "50    2.819275  2.099417e+00  0.350505   9.850822     20  \n",
       "52    0.350505  4.115903e-17  0.350505   0.350505      3  \n",
       "42   11.499786  1.579550e+01  0.330677  22.668894      2  \n",
       "48    3.604718           NaN  3.604718   3.604718      1  \n",
       "45    5.802251           NaN  5.802251   5.802251      1  \n",
       "47    3.604718           NaN  3.604718   3.604718      1  \n",
       "49    3.604718  4.311186e-16  3.604718   3.604718      8  \n",
       "46    3.604718  0.000000e+00  3.604718   3.604718      2  \n",
       "43    3.604718  1.392430e+00  0.682567   4.938726     18  \n",
       "44    0.682567  0.000000e+00  0.682567   0.682567      3  \n",
       "31    1.134319           NaN  1.134319   1.134319      1  \n",
       "30    2.290993  2.055814e+00  0.415910   4.522390      3  \n",
       "27    2.207117  1.517165e+00  1.134319   3.279915      2  \n",
       "32    1.134319  1.967778e-16  1.134319   1.134319      8  \n",
       "29    5.993890  2.661696e+00  1.134319   5.993890      5  \n",
       "28    1.134319  1.792485e+00  1.134319   7.880672     15  \n",
       "41    3.607640           NaN  3.607640   3.607640      1  \n",
       "40    1.992742  1.646361e-16  1.992742   1.992742      3  \n",
       "12    2.512247           NaN  2.512247   2.512247      1  \n",
       "9     1.200323  1.073303e+00  0.421075   4.605483     12  \n",
       "11    2.512247           NaN  2.512247   2.512247      1  \n",
       "13    2.512247  3.520068e-16  2.512247   2.512247      8  \n",
       "10    2.248779  1.443075e-01  2.248779   2.512247      5  \n",
       "7     2.512247  1.149309e+00  0.161994   4.188255     19  \n",
       "8     0.161994  2.910383e-17  0.161994   0.161994      3  \n",
       "19    0.638131           NaN  0.638131   0.638131      1  \n",
       "17    0.657020  1.244532e-16  0.657020   0.657020      8  \n",
       "15    1.211340  8.106412e-01  0.638131   1.784550      2  \n",
       "20    0.638131  0.000000e+00  0.638131   0.638131      8  \n",
       "18    0.638131  0.000000e+00  0.638131   0.638131      2  \n",
       "14    0.638131  4.313800e-01  0.638131   2.306652     18  \n",
       "16    0.675091  8.231806e-17  0.675091   0.675091      3  \n",
       "38    5.306414           NaN  5.306414   5.306414      1  \n",
       "35    3.223354  1.225645e+00  1.257971   6.736926     12  \n",
       "37    5.306414           NaN  5.306414   5.306414      1  \n",
       "39    5.306414  0.000000e+00  5.306414   5.306414      8  \n",
       "36    7.525776  1.215594e+00  5.306414   7.525776      5  \n",
       "33    5.306414  1.688051e+00  1.240165   5.306414     20  \n",
       "34    1.240165  1.646361e-16  1.240165   1.240165      3  \n",
       "25    2.540390           NaN  2.540390   2.540390      1  \n",
       "23    0.413615  3.607556e+00  0.413615  12.370512     12  \n",
       "22    4.213583  2.366252e+00  2.540390   5.886776      2  \n",
       "26    2.540390  3.048469e-16  2.540390   2.540390      8  \n",
       "24    8.516650  3.273332e+00  2.540390   8.516650      5  \n",
       "21    2.540390  4.303011e-01  2.087527   3.854105     16  \n",
       "5     2.337068           NaN  2.337068   2.337068      1  \n",
       "2     2.229172  1.459887e+00  1.130593   6.910899     12  \n",
       "4     2.337068           NaN  2.337068   2.337068      1  \n",
       "6     2.337068  1.760034e-16  2.337068   2.337068      8  \n",
       "3     2.881020  2.979350e-01  2.337068   2.881020      5  \n",
       "0     2.337068  1.620044e+00  0.611999   7.778188     20  \n",
       "1     0.611999  8.231806e-17  0.611999   0.611999      3  "
      ]
     },
     "execution_count": 37,
     "metadata": {},
     "output_type": "execute_result"
    }
   ],
   "source": [
    "def summarize_cost_per_km_by_alcance(df, target_columns, hue_column='ALCANCE'):\n",
    "    summary_data = []\n",
    "    \n",
    "    for col in target_columns:\n",
    "        per_km_col = f'{col} per KM'\n",
    "        df_clean = df[df[per_km_col] > 0]\n",
    "        \n",
    "        for alcance in df_clean[hue_column].unique():\n",
    "            subset = df_clean[df_clean[hue_column] == alcance][per_km_col]\n",
    "            \n",
    "            summary_data.append({\n",
    "                'Category': col.split(' - ')[-1] if ' - ' in col else col.split(' ', 1)[1],\n",
    "                'Alcance': alcance,\n",
    "                'Mean (M)': subset.mean() / 1e6,\n",
    "                'Median (M)': subset.median() / 1e6,\n",
    "                'Std (M)': subset.std() / 1e6,\n",
    "                'Min (M)': subset.min() / 1e6,\n",
    "                'Max (M)': subset.max() / 1e6,\n",
    "                'Count': len(subset)\n",
    "            })\n",
    "    \n",
    "    summary_df = pd.DataFrame(summary_data)\n",
    "    \n",
    "    fig, ax = plt.subplots(figsize=(18, 8))\n",
    "    pivot_mean = summary_df.pivot(index='Category', columns='Alcance', values='Mean (M)')\n",
    "    \n",
    "    sns.heatmap(pivot_mean, annot=True, fmt='.1f', cmap='YlOrRd', ax=ax, \n",
    "                cbar_kws={'label': 'Causación promedio por KM  (Millones COP)'}, linewidths=0.5)\n",
    "    ax.set_title('Causación promedio por kilometro según alcance e item (INVÍAS)', \n",
    "                 fontsize=16, fontweight='bold', pad=20)\n",
    "    ax.set_xlabel('Tipos de alcance', fontsize=12, fontweight='bold')\n",
    "    ax.set_ylabel('Item (INVÍAS)', fontsize=12, fontweight='bold')\n",
    "    plt.tight_layout()\n",
    "    plt.show()\n",
    "    \n",
    "    return summary_df.sort_values(['Category', 'Alcance'])\n",
    "\n",
    "summary = summarize_cost_per_km_by_alcance(df_per_km, target_columns)\n",
    "summary\n"
   ]
  },
  {
   "cell_type": "code",
   "execution_count": null,
   "id": "00be08de",
   "metadata": {},
   "outputs": [],
   "source": []
  }
 ],
 "metadata": {
  "kernelspec": {
   "display_name": "practicum",
   "language": "python",
   "name": "python3"
  },
  "language_info": {
   "codemirror_mode": {
    "name": "ipython",
    "version": 3
   },
   "file_extension": ".py",
   "mimetype": "text/x-python",
   "name": "python",
   "nbconvert_exporter": "python",
   "pygments_lexer": "ipython3",
   "version": "3.13.5"
  }
 },
 "nbformat": 4,
 "nbformat_minor": 5
}
