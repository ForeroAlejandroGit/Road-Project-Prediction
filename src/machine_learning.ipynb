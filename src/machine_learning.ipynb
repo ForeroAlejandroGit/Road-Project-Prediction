{
 "cells": [
  {
   "cell_type": "code",
   "execution_count": null,
   "id": "c2a1893b",
   "metadata": {},
   "outputs": [
    {
     "name": "stderr",
     "output_type": "stream",
     "text": [
      "c:\\Users\\forer\\anaconda3\\envs\\practicum\\Lib\\site-packages\\requests\\__init__.py:86: RequestsDependencyWarning: Unable to find acceptable character detection dependency (chardet or charset_normalizer).\n",
      "  warnings.warn(\n"
     ]
    }
   ],
   "source": [
    "\n",
    "import pandas as pd\n",
    "\n",
    "from sklearn.model_selection import train_test_split, GridSearchCV, cross_validate, RepeatedKFold, LeaveOneOut\n",
    "from sklearn.compose import ColumnTransformer, TransformedTargetRegressor\n",
    "from sklearn.preprocessing import OneHotEncoder, StandardScaler\n",
    "from sklearn.pipeline import Pipeline\n",
    "from sklearn.svm import SVR\n",
    "from sklearn.linear_model import HuberRegressor, LinearRegression\n",
    "from sklearn.metrics import r2_score, mean_absolute_error, mean_squared_error, make_scorer\n",
    "from sklearn.model_selection import cross_val_predict\n",
    "import numpy as np, seaborn as sns, matplotlib.pyplot as plt\n",
    "import plotly.graph_objects as go\n",
    "import plotly.express as px\n",
    "import os\n",
    "import sys\n",
    "\n",
    "# Add project root to path (for Jupyter notebooks)\n",
    "# Get the current directory and navigate to project root\n",
    "current_dir = os.getcwd()\n",
    "project_root = os.path.dirname(current_dir)\n",
    "sys.path.insert(0, project_root)\n",
    "\n",
    "from src.config import Config\n",
    "import src.eda as eda\n",
    "import src.present_value as present_value\n",
    "from src.ml_utils import remove_outliers\n",
    "\n",
    "%load_ext autoreload\n",
    "%autoreload 2\n",
    "%reload_ext autoreload\n"
   ]
  },
  {
   "cell_type": "code",
   "execution_count": 68,
   "id": "b10ad31c",
   "metadata": {},
   "outputs": [
    {
     "name": "stderr",
     "output_type": "stream",
     "text": [
      "c:\\Code\\Road-Project-Prediction\\src\\eda.py:292: FutureWarning: Downcasting object dtype arrays on .fillna, .ffill, .bfill is deprecated and will change in a future version. Call result.infer_objects(copy=False) instead. To opt-in to the future behavior, set `pd.set_option('future.no_silent_downcasting', True)`\n",
      "  w = (df[cols] / totals).fillna(0)\n"
     ]
    }
   ],
   "source": [
    "## FROM DATABASE\n",
    "pv = present_value.PresentValue()\n",
    "anual_increment = pv.fetch_incremento_from_database()\n",
    "\n",
    "fase = \"III\"\n",
    "preproccesing = eda.EDA()\n",
    "df_raw = preproccesing.assemble_projects_from_database(fase)\n",
    "df_vp = preproccesing.create_dataset(pv.present_value_costs, fase=fase)"
   ]
  },
  {
   "cell_type": "code",
   "execution_count": null,
   "id": "9274ca2b",
   "metadata": {},
   "outputs": [],
   "source": [
    "# remove_outliers function now imported from src.ml_utils\n",
    "# This centralizes the outlier detection logic and eliminates code duplication"
   ]
  },
  {
   "cell_type": "code",
   "execution_count": 4,
   "id": "1d9d7719",
   "metadata": {},
   "outputs": [],
   "source": [
    "def rmsle_scorer(y_true, y_pred):\n",
    "    return np.sqrt(np.mean((np.log1p(y_pred) - np.log1p(y_true))**2))\n",
    "\n",
    "def train_model(df_clean, predictor_name, hue_name, target_name):\n",
    "    X = df_clean[[predictor_name, hue_name]].copy()\n",
    "    X[predictor_name + ' LOG'] = np.log1p(X[predictor_name])\n",
    "    y = df_clean[target_name].astype(float)\n",
    "\n",
    "    pre = ColumnTransformer([\n",
    "        ('num', StandardScaler(), [predictor_name, predictor_name + ' LOG']),\n",
    "        ('cat', OneHotEncoder(drop='first', handle_unknown='ignore'), [hue_name])\n",
    "    ])\n",
    "\n",
    "    svr = SVR(kernel='rbf')\n",
    "    pipe = Pipeline([('pre', pre), ('svr', svr)])\n",
    "    model = TransformedTargetRegressor(regressor=pipe, func=np.log1p, inverse_func=np.expm1)\n",
    "\n",
    "    param_grid = {\n",
    "        'regressor__svr__C': [5, 10, 80, 200, 1000],\n",
    "        'regressor__svr__epsilon': [0.01],\n",
    "        'regressor__svr__gamma': ['scale', 'auto', 0.01, 0.1, 1.0],\n",
    "    }\n",
    "\n",
    "    cv = RepeatedKFold(n_splits=min(5, len(y)//2), n_repeats=min(5, len(y)//2), random_state=42) if len(y) >= 10 else LeaveOneOut()\n",
    "    gs = GridSearchCV(model, param_grid, scoring='neg_root_mean_squared_error', cv=cv, n_jobs=-1, refit=True)\n",
    "    gs.fit(X, y)\n",
    "\n",
    "\n",
    "    cv_simple = RepeatedKFold(n_splits=min(5, len(y)//2), n_repeats=1, random_state=42) if len(y) >= 10 else LeaveOneOut()\n",
    "    y_oof = cross_val_predict(gs.best_estimator_, X, y, cv=cv_simple, n_jobs=-1)\n",
    "    \n",
    "    r2_oof = r2_score(y, y_oof)\n",
    "    mae_oof = mean_absolute_error(y, y_oof)\n",
    "    rmse_oof = np.sqrt(mean_squared_error(y, y_oof))\n",
    "    rmsle_oof = rmsle_scorer(y, y_oof)\n",
    "    mape_oof = np.mean(np.abs((y - y_oof) / y.replace(0, np.nan))) * 100\n",
    "\n",
    "    print('Best params:', gs.best_params_)\n",
    "    print({'R2': r2_oof, 'MAE': mae_oof, 'RMSE': rmse_oof, 'RMSLE': rmsle_oof, 'MAPE%': float(mape_oof)})\n",
    "    \n",
    "    y_predicted = y_oof\n",
    "   \n",
    "    return X, y, y_predicted, gs.best_estimator_\n",
    "    "
   ]
  },
  {
   "cell_type": "code",
   "execution_count": 5,
   "id": "054cd6d4",
   "metadata": {},
   "outputs": [],
   "source": [
    "def analysis_plots(y, y_predicted, df_item_cleaned, predictor_name, target_name, hue_name):\n",
    "    \"\"\"\n",
    "    Creates beautiful executive Plotly visualizations for model analysis\n",
    "    \n",
    "    Parameters:\n",
    "    - y: Actual values\n",
    "    - y_predicted: Predicted values\n",
    "    - df_item_cleaned: Cleaned dataframe with all project data\n",
    "    - predictor_name: Name of the predictor column (e.g., 'LONGITUD KM')\n",
    "    - target_name: Name of the target column (e.g., '5 - TALUDES')\n",
    "    - hue_name: Name of the hue column (e.g., 'ALCANCE')\n",
    "    \"\"\"\n",
    "    \n",
    "    # Get df_raw to access project codes and names\n",
    "    global df_raw\n",
    "    \n",
    "    # Create hover data with project information\n",
    "    hover_data = []\n",
    "    for idx in df_item_cleaned.index:\n",
    "        hover_text = \"\"\n",
    "        # Try to get project code and name from df_raw\n",
    "        if 'df_raw' in globals() and idx in df_raw.index:\n",
    "            if 'CÓDIGO DEL PROYECTO' in df_raw.columns:\n",
    "                hover_text += f\"<b>Código:</b> {df_raw.loc[idx, 'CÓDIGO DEL PROYECTO']}<br>\"\n",
    "            if 'NOMBRE DEL PROYECTO' in df_raw.columns:\n",
    "                hover_text += f\"<b>Nombre:</b> {df_raw.loc[idx, 'NOMBRE DEL PROYECTO']}<br>\"\n",
    "        \n",
    "        if predictor_name in df_item_cleaned.columns:\n",
    "            hover_text += f\"<b>{predictor_name}:</b> {df_item_cleaned.loc[idx, predictor_name]:.2f}<br>\"\n",
    "        if hue_name in df_item_cleaned.columns:\n",
    "            hover_text += f\"<b>{hue_name}:</b> {df_item_cleaned.loc[idx, hue_name]}<br>\"\n",
    "        hover_data.append(hover_text)\n",
    "    \n",
    "    # Plot 1: Actual vs Predicted (Plotly)\n",
    "    fig1 = go.Figure()\n",
    "    \n",
    "    # Add scatter points colored by Alcance\n",
    "    colors_map = {\n",
    "        'Segunda calzada': '#1f77b4',\n",
    "        'operacion y mantenimiento': '#ff7f0e', \n",
    "        'Mejoramiento': '#2ca02c',\n",
    "        'Rehabilitación': '#d62728',\n",
    "        'Nuevo': '#9467bd',\n",
    "        'Construcción': '#8c564b',\n",
    "        'Puesta a punto': '#e377c2'\n",
    "    }\n",
    "    \n",
    "    # Convert y and y_predicted to pandas Series if they aren't already\n",
    "    if not isinstance(y, pd.Series):\n",
    "        y = pd.Series(y, index=df_item_cleaned.index)\n",
    "    if not isinstance(y_predicted, pd.Series):\n",
    "        y_predicted = pd.Series(y_predicted, index=df_item_cleaned.index)\n",
    "    \n",
    "    for alcance_type in sorted(df_item_cleaned[hue_name].unique()):\n",
    "        mask = df_item_cleaned[hue_name] == alcance_type\n",
    "        indices = df_item_cleaned[mask].index\n",
    "        y_actual_subset = y[mask]\n",
    "        y_pred_subset = y_predicted[mask]\n",
    "        \n",
    "        hover_subset = [hover_data[list(df_item_cleaned.index).index(idx)] + \n",
    "                       f\"<b>Valor Real:</b> ${y_actual_subset.loc[idx]:,.0f}<br><b>Predicción:</b> ${y_pred_subset.loc[idx]:,.0f}\"\n",
    "                       for idx in indices]\n",
    "        \n",
    "        fig1.add_trace(go.Scatter(\n",
    "            x=y_actual_subset,\n",
    "            y=y_pred_subset,\n",
    "            mode='markers',\n",
    "            name=alcance_type,\n",
    "            marker=dict(\n",
    "                size=12,\n",
    "                color=colors_map.get(alcance_type, '#7f7f7f'),\n",
    "                opacity=0.8,\n",
    "                line=dict(width=1, color='white')\n",
    "            ),\n",
    "            hovertemplate='%{customdata}<extra></extra>',\n",
    "            customdata=hover_subset\n",
    "        ))\n",
    "    \n",
    "    # Add perfect prediction line\n",
    "    min_val = min(y.min(), y_predicted.min())\n",
    "    max_val = max(y.max(), y_predicted.max())\n",
    "    fig1.add_trace(go.Scatter(\n",
    "        x=[min_val, max_val],\n",
    "        y=[min_val, max_val],\n",
    "        mode='lines',\n",
    "        name='Predicción Perfecta',\n",
    "        line=dict(color='red', width=2, dash='dash'),\n",
    "        showlegend=True\n",
    "    ))\n",
    "    \n",
    "    # Update layout for executive look\n",
    "    fig1.update_layout(\n",
    "        title=dict(\n",
    "            text=f'<b>Predicción vs Realidad - {target_name}</b>',\n",
    "            x=0.5,\n",
    "            xanchor='center',\n",
    "            font=dict(size=20, family='Arial Black')\n",
    "        ),\n",
    "        xaxis=dict(\n",
    "            title=dict(\n",
    "                text='<b>Valor Real ($)</b>',\n",
    "                font=dict(size=14)\n",
    "            ),\n",
    "            showgrid=True,\n",
    "            gridcolor='lightgray',\n",
    "            gridwidth=0.5\n",
    "        ),\n",
    "        yaxis=dict(\n",
    "            title=dict(\n",
    "                text='<b>Valor Predicho ($)</b>',\n",
    "                font=dict(size=14)\n",
    "            ),\n",
    "            showgrid=True,\n",
    "            gridcolor='lightgray',\n",
    "            gridwidth=0.5\n",
    "        ),\n",
    "        plot_bgcolor='white',\n",
    "        paper_bgcolor='white',\n",
    "        hovermode='closest',\n",
    "        legend=dict(\n",
    "            orientation=\"v\",\n",
    "            yanchor=\"top\",\n",
    "            y=0.99,\n",
    "            xanchor=\"left\",\n",
    "            x=0.01,\n",
    "            bgcolor=\"rgba(255, 255, 255, 0.9)\",\n",
    "            bordercolor=\"lightgray\",\n",
    "            borderwidth=1\n",
    "        ),\n",
    "        width=900,\n",
    "        height=600\n",
    "    )\n",
    "    \n",
    "    fig1.show()"
   ]
  },
  {
   "cell_type": "code",
   "execution_count": 6,
   "id": "0e590309",
   "metadata": {},
   "outputs": [
    {
     "name": "stdout",
     "output_type": "stream",
     "text": [
      "Warning: Only 2 samples. Skipping outlier detection.\n",
      "1 - TRANSPORTE\n",
      "Best params: {'regressor__svr__C': 5, 'regressor__svr__epsilon': 0.01, 'regressor__svr__gamma': 'scale'}\n",
      "{'R2': -2.999999999999962, 'MAE': 4643975.471230011, 'RMSE': np.float64(4643975.471230011), 'RMSLE': np.float64(0.23571981522235674), 'MAPE%': 23.790881617359197}\n"
     ]
    },
    {
     "data": {
      "application/vnd.plotly.v1+json": {
       "config": {
        "plotlyServerURL": "https://plot.ly"
       },
       "data": [
        {
         "customdata": [
          "<b>Código:</b> 0552903<br><b>Nombre:</b> TRANSVERSAL BOYACÁ<br><b>LONGITUD KM:</b> 10.06<br><b>ALCANCE:</b> Mejoramiento<br><b>Valor Real:</b> $17,470,402<br><b>Predicción:</b> $22,114,377",
          "<b>Código:</b> 0581301<br><b>Nombre:</b> QUEREMAL - DANUBIO<br><b>LONGITUD KM:</b> 5.24<br><b>ALCANCE:</b> Mejoramiento<br><b>Valor Real:</b> $22,114,377<br><b>Predicción:</b> $17,470,402"
         ],
         "hovertemplate": "%{customdata}<extra></extra>",
         "marker": {
          "color": "#2ca02c",
          "line": {
           "color": "white",
           "width": 1
          },
          "opacity": 0.8,
          "size": 12
         },
         "mode": "markers",
         "name": "Mejoramiento",
         "type": "scatter",
         "x": {
          "bdata": "sC0UHzypcEExVp6WBBd1QQ==",
          "dtype": "f8"
         },
         "y": {
          "bdata": "KFaelgQXdUGzLRQfPKlwQQ==",
          "dtype": "f8"
         }
        },
        {
         "line": {
          "color": "red",
          "dash": "dash",
          "width": 2
         },
         "mode": "lines",
         "name": "Predicción Perfecta",
         "showlegend": true,
         "type": "scatter",
         "x": [
          17470401.942426383,
          22114377.413656417
         ],
         "y": [
          17470401.942426383,
          22114377.413656417
         ]
        }
       ],
       "layout": {
        "height": 600,
        "hovermode": "closest",
        "legend": {
         "bgcolor": "rgba(255, 255, 255, 0.9)",
         "bordercolor": "lightgray",
         "borderwidth": 1,
         "orientation": "v",
         "x": 0.01,
         "xanchor": "left",
         "y": 0.99,
         "yanchor": "top"
        },
        "paper_bgcolor": "white",
        "plot_bgcolor": "white",
        "template": {
         "data": {
          "bar": [
           {
            "error_x": {
             "color": "#2a3f5f"
            },
            "error_y": {
             "color": "#2a3f5f"
            },
            "marker": {
             "line": {
              "color": "#E5ECF6",
              "width": 0.5
             },
             "pattern": {
              "fillmode": "overlay",
              "size": 10,
              "solidity": 0.2
             }
            },
            "type": "bar"
           }
          ],
          "barpolar": [
           {
            "marker": {
             "line": {
              "color": "#E5ECF6",
              "width": 0.5
             },
             "pattern": {
              "fillmode": "overlay",
              "size": 10,
              "solidity": 0.2
             }
            },
            "type": "barpolar"
           }
          ],
          "carpet": [
           {
            "aaxis": {
             "endlinecolor": "#2a3f5f",
             "gridcolor": "white",
             "linecolor": "white",
             "minorgridcolor": "white",
             "startlinecolor": "#2a3f5f"
            },
            "baxis": {
             "endlinecolor": "#2a3f5f",
             "gridcolor": "white",
             "linecolor": "white",
             "minorgridcolor": "white",
             "startlinecolor": "#2a3f5f"
            },
            "type": "carpet"
           }
          ],
          "choropleth": [
           {
            "colorbar": {
             "outlinewidth": 0,
             "ticks": ""
            },
            "type": "choropleth"
           }
          ],
          "contour": [
           {
            "colorbar": {
             "outlinewidth": 0,
             "ticks": ""
            },
            "colorscale": [
             [
              0,
              "#0d0887"
             ],
             [
              0.1111111111111111,
              "#46039f"
             ],
             [
              0.2222222222222222,
              "#7201a8"
             ],
             [
              0.3333333333333333,
              "#9c179e"
             ],
             [
              0.4444444444444444,
              "#bd3786"
             ],
             [
              0.5555555555555556,
              "#d8576b"
             ],
             [
              0.6666666666666666,
              "#ed7953"
             ],
             [
              0.7777777777777778,
              "#fb9f3a"
             ],
             [
              0.8888888888888888,
              "#fdca26"
             ],
             [
              1,
              "#f0f921"
             ]
            ],
            "type": "contour"
           }
          ],
          "contourcarpet": [
           {
            "colorbar": {
             "outlinewidth": 0,
             "ticks": ""
            },
            "type": "contourcarpet"
           }
          ],
          "heatmap": [
           {
            "colorbar": {
             "outlinewidth": 0,
             "ticks": ""
            },
            "colorscale": [
             [
              0,
              "#0d0887"
             ],
             [
              0.1111111111111111,
              "#46039f"
             ],
             [
              0.2222222222222222,
              "#7201a8"
             ],
             [
              0.3333333333333333,
              "#9c179e"
             ],
             [
              0.4444444444444444,
              "#bd3786"
             ],
             [
              0.5555555555555556,
              "#d8576b"
             ],
             [
              0.6666666666666666,
              "#ed7953"
             ],
             [
              0.7777777777777778,
              "#fb9f3a"
             ],
             [
              0.8888888888888888,
              "#fdca26"
             ],
             [
              1,
              "#f0f921"
             ]
            ],
            "type": "heatmap"
           }
          ],
          "histogram": [
           {
            "marker": {
             "pattern": {
              "fillmode": "overlay",
              "size": 10,
              "solidity": 0.2
             }
            },
            "type": "histogram"
           }
          ],
          "histogram2d": [
           {
            "colorbar": {
             "outlinewidth": 0,
             "ticks": ""
            },
            "colorscale": [
             [
              0,
              "#0d0887"
             ],
             [
              0.1111111111111111,
              "#46039f"
             ],
             [
              0.2222222222222222,
              "#7201a8"
             ],
             [
              0.3333333333333333,
              "#9c179e"
             ],
             [
              0.4444444444444444,
              "#bd3786"
             ],
             [
              0.5555555555555556,
              "#d8576b"
             ],
             [
              0.6666666666666666,
              "#ed7953"
             ],
             [
              0.7777777777777778,
              "#fb9f3a"
             ],
             [
              0.8888888888888888,
              "#fdca26"
             ],
             [
              1,
              "#f0f921"
             ]
            ],
            "type": "histogram2d"
           }
          ],
          "histogram2dcontour": [
           {
            "colorbar": {
             "outlinewidth": 0,
             "ticks": ""
            },
            "colorscale": [
             [
              0,
              "#0d0887"
             ],
             [
              0.1111111111111111,
              "#46039f"
             ],
             [
              0.2222222222222222,
              "#7201a8"
             ],
             [
              0.3333333333333333,
              "#9c179e"
             ],
             [
              0.4444444444444444,
              "#bd3786"
             ],
             [
              0.5555555555555556,
              "#d8576b"
             ],
             [
              0.6666666666666666,
              "#ed7953"
             ],
             [
              0.7777777777777778,
              "#fb9f3a"
             ],
             [
              0.8888888888888888,
              "#fdca26"
             ],
             [
              1,
              "#f0f921"
             ]
            ],
            "type": "histogram2dcontour"
           }
          ],
          "mesh3d": [
           {
            "colorbar": {
             "outlinewidth": 0,
             "ticks": ""
            },
            "type": "mesh3d"
           }
          ],
          "parcoords": [
           {
            "line": {
             "colorbar": {
              "outlinewidth": 0,
              "ticks": ""
             }
            },
            "type": "parcoords"
           }
          ],
          "pie": [
           {
            "automargin": true,
            "type": "pie"
           }
          ],
          "scatter": [
           {
            "fillpattern": {
             "fillmode": "overlay",
             "size": 10,
             "solidity": 0.2
            },
            "type": "scatter"
           }
          ],
          "scatter3d": [
           {
            "line": {
             "colorbar": {
              "outlinewidth": 0,
              "ticks": ""
             }
            },
            "marker": {
             "colorbar": {
              "outlinewidth": 0,
              "ticks": ""
             }
            },
            "type": "scatter3d"
           }
          ],
          "scattercarpet": [
           {
            "marker": {
             "colorbar": {
              "outlinewidth": 0,
              "ticks": ""
             }
            },
            "type": "scattercarpet"
           }
          ],
          "scattergeo": [
           {
            "marker": {
             "colorbar": {
              "outlinewidth": 0,
              "ticks": ""
             }
            },
            "type": "scattergeo"
           }
          ],
          "scattergl": [
           {
            "marker": {
             "colorbar": {
              "outlinewidth": 0,
              "ticks": ""
             }
            },
            "type": "scattergl"
           }
          ],
          "scattermap": [
           {
            "marker": {
             "colorbar": {
              "outlinewidth": 0,
              "ticks": ""
             }
            },
            "type": "scattermap"
           }
          ],
          "scattermapbox": [
           {
            "marker": {
             "colorbar": {
              "outlinewidth": 0,
              "ticks": ""
             }
            },
            "type": "scattermapbox"
           }
          ],
          "scatterpolar": [
           {
            "marker": {
             "colorbar": {
              "outlinewidth": 0,
              "ticks": ""
             }
            },
            "type": "scatterpolar"
           }
          ],
          "scatterpolargl": [
           {
            "marker": {
             "colorbar": {
              "outlinewidth": 0,
              "ticks": ""
             }
            },
            "type": "scatterpolargl"
           }
          ],
          "scatterternary": [
           {
            "marker": {
             "colorbar": {
              "outlinewidth": 0,
              "ticks": ""
             }
            },
            "type": "scatterternary"
           }
          ],
          "surface": [
           {
            "colorbar": {
             "outlinewidth": 0,
             "ticks": ""
            },
            "colorscale": [
             [
              0,
              "#0d0887"
             ],
             [
              0.1111111111111111,
              "#46039f"
             ],
             [
              0.2222222222222222,
              "#7201a8"
             ],
             [
              0.3333333333333333,
              "#9c179e"
             ],
             [
              0.4444444444444444,
              "#bd3786"
             ],
             [
              0.5555555555555556,
              "#d8576b"
             ],
             [
              0.6666666666666666,
              "#ed7953"
             ],
             [
              0.7777777777777778,
              "#fb9f3a"
             ],
             [
              0.8888888888888888,
              "#fdca26"
             ],
             [
              1,
              "#f0f921"
             ]
            ],
            "type": "surface"
           }
          ],
          "table": [
           {
            "cells": {
             "fill": {
              "color": "#EBF0F8"
             },
             "line": {
              "color": "white"
             }
            },
            "header": {
             "fill": {
              "color": "#C8D4E3"
             },
             "line": {
              "color": "white"
             }
            },
            "type": "table"
           }
          ]
         },
         "layout": {
          "annotationdefaults": {
           "arrowcolor": "#2a3f5f",
           "arrowhead": 0,
           "arrowwidth": 1
          },
          "autotypenumbers": "strict",
          "coloraxis": {
           "colorbar": {
            "outlinewidth": 0,
            "ticks": ""
           }
          },
          "colorscale": {
           "diverging": [
            [
             0,
             "#8e0152"
            ],
            [
             0.1,
             "#c51b7d"
            ],
            [
             0.2,
             "#de77ae"
            ],
            [
             0.3,
             "#f1b6da"
            ],
            [
             0.4,
             "#fde0ef"
            ],
            [
             0.5,
             "#f7f7f7"
            ],
            [
             0.6,
             "#e6f5d0"
            ],
            [
             0.7,
             "#b8e186"
            ],
            [
             0.8,
             "#7fbc41"
            ],
            [
             0.9,
             "#4d9221"
            ],
            [
             1,
             "#276419"
            ]
           ],
           "sequential": [
            [
             0,
             "#0d0887"
            ],
            [
             0.1111111111111111,
             "#46039f"
            ],
            [
             0.2222222222222222,
             "#7201a8"
            ],
            [
             0.3333333333333333,
             "#9c179e"
            ],
            [
             0.4444444444444444,
             "#bd3786"
            ],
            [
             0.5555555555555556,
             "#d8576b"
            ],
            [
             0.6666666666666666,
             "#ed7953"
            ],
            [
             0.7777777777777778,
             "#fb9f3a"
            ],
            [
             0.8888888888888888,
             "#fdca26"
            ],
            [
             1,
             "#f0f921"
            ]
           ],
           "sequentialminus": [
            [
             0,
             "#0d0887"
            ],
            [
             0.1111111111111111,
             "#46039f"
            ],
            [
             0.2222222222222222,
             "#7201a8"
            ],
            [
             0.3333333333333333,
             "#9c179e"
            ],
            [
             0.4444444444444444,
             "#bd3786"
            ],
            [
             0.5555555555555556,
             "#d8576b"
            ],
            [
             0.6666666666666666,
             "#ed7953"
            ],
            [
             0.7777777777777778,
             "#fb9f3a"
            ],
            [
             0.8888888888888888,
             "#fdca26"
            ],
            [
             1,
             "#f0f921"
            ]
           ]
          },
          "colorway": [
           "#636efa",
           "#EF553B",
           "#00cc96",
           "#ab63fa",
           "#FFA15A",
           "#19d3f3",
           "#FF6692",
           "#B6E880",
           "#FF97FF",
           "#FECB52"
          ],
          "font": {
           "color": "#2a3f5f"
          },
          "geo": {
           "bgcolor": "white",
           "lakecolor": "white",
           "landcolor": "#E5ECF6",
           "showlakes": true,
           "showland": true,
           "subunitcolor": "white"
          },
          "hoverlabel": {
           "align": "left"
          },
          "hovermode": "closest",
          "mapbox": {
           "style": "light"
          },
          "paper_bgcolor": "white",
          "plot_bgcolor": "#E5ECF6",
          "polar": {
           "angularaxis": {
            "gridcolor": "white",
            "linecolor": "white",
            "ticks": ""
           },
           "bgcolor": "#E5ECF6",
           "radialaxis": {
            "gridcolor": "white",
            "linecolor": "white",
            "ticks": ""
           }
          },
          "scene": {
           "xaxis": {
            "backgroundcolor": "#E5ECF6",
            "gridcolor": "white",
            "gridwidth": 2,
            "linecolor": "white",
            "showbackground": true,
            "ticks": "",
            "zerolinecolor": "white"
           },
           "yaxis": {
            "backgroundcolor": "#E5ECF6",
            "gridcolor": "white",
            "gridwidth": 2,
            "linecolor": "white",
            "showbackground": true,
            "ticks": "",
            "zerolinecolor": "white"
           },
           "zaxis": {
            "backgroundcolor": "#E5ECF6",
            "gridcolor": "white",
            "gridwidth": 2,
            "linecolor": "white",
            "showbackground": true,
            "ticks": "",
            "zerolinecolor": "white"
           }
          },
          "shapedefaults": {
           "line": {
            "color": "#2a3f5f"
           }
          },
          "ternary": {
           "aaxis": {
            "gridcolor": "white",
            "linecolor": "white",
            "ticks": ""
           },
           "baxis": {
            "gridcolor": "white",
            "linecolor": "white",
            "ticks": ""
           },
           "bgcolor": "#E5ECF6",
           "caxis": {
            "gridcolor": "white",
            "linecolor": "white",
            "ticks": ""
           }
          },
          "title": {
           "x": 0.05
          },
          "xaxis": {
           "automargin": true,
           "gridcolor": "white",
           "linecolor": "white",
           "ticks": "",
           "title": {
            "standoff": 15
           },
           "zerolinecolor": "white",
           "zerolinewidth": 2
          },
          "yaxis": {
           "automargin": true,
           "gridcolor": "white",
           "linecolor": "white",
           "ticks": "",
           "title": {
            "standoff": 15
           },
           "zerolinecolor": "white",
           "zerolinewidth": 2
          }
         }
        },
        "title": {
         "font": {
          "family": "Arial Black",
          "size": 20
         },
         "text": "<b>Predicción vs Realidad - 1 - TRANSPORTE</b>",
         "x": 0.5,
         "xanchor": "center"
        },
        "width": 900,
        "xaxis": {
         "gridcolor": "lightgray",
         "gridwidth": 0.5,
         "showgrid": true,
         "title": {
          "font": {
           "size": 14
          },
          "text": "<b>Valor Real ($)</b>"
         }
        },
        "yaxis": {
         "gridcolor": "lightgray",
         "gridwidth": 0.5,
         "showgrid": true,
         "title": {
          "font": {
           "size": 14
          },
          "text": "<b>Valor Predicho ($)</b>"
         }
        }
       }
      }
     },
     "metadata": {},
     "output_type": "display_data"
    },
    {
     "name": "stdout",
     "output_type": "stream",
     "text": [
      "  → Removed 1/10 outliers (10.0%) using ensemble\n",
      "     • isolation_forest: 1 outliers\n",
      "     • lof: 1 outliers\n",
      "     • robust_statistical: 4 outliers\n",
      "     • z_score: 0 outliers\n",
      "2.1 - INFORMACIÓN GEOGRÁFICA\n",
      "Best params: {'regressor__svr__C': 1000, 'regressor__svr__epsilon': 0.01, 'regressor__svr__gamma': 0.01}\n",
      "{'R2': 0.9997796987954439, 'MAE': 199650.3645912337, 'RMSE': np.float64(262145.3416134265), 'RMSLE': np.float64(0.09552108481900061), 'MAPE%': 5.977188326771584}\n"
     ]
    },
    {
     "data": {
      "application/vnd.plotly.v1+json": {
       "config": {
        "plotlyServerURL": "https://plot.ly"
       },
       "data": [
        {
         "customdata": [
          "<b>Código:</b> 0347801<br><b>Nombre:</b> TERMINACIÓN TÚNEL DE LA LÍNEA<br><b>LONGITUD KM:</b> 8.35<br><b>ALCANCE:</b> Rehabilitación<br><b>Valor Real:</b> $38,269,765<br><b>Predicción:</b> $37,866,266",
          "<b>Código:</b> 0347801<br><b>Nombre:</b> TERMINACIÓN TÚNEL DE LA LÍNEA<br><b>LONGITUD KM:</b> 8.60<br><b>ALCANCE:</b> Rehabilitación<br><b>Valor Real:</b> $39,415,566<br><b>Predicción:</b> $38,978,716",
          "<b>Código:</b> 0347801<br><b>Nombre:</b> TERMINACIÓN TÚNEL DE LA LÍNEA<br><b>LONGITUD KM:</b> 8.50<br><b>ALCANCE:</b> Rehabilitación<br><b>Valor Real:</b> $38,957,246<br><b>Predicción:</b> $38,568,731"
         ],
         "hovertemplate": "%{customdata}<extra></extra>",
         "marker": {
          "color": "#d62728",
          "line": {
           "color": "white",
           "width": 1
          },
          "opacity": 0.8,
          "size": 12
         },
         "mode": "markers",
         "name": "Rehabilitación",
         "type": "scatter",
         "x": {
          "bdata": "qfghJpo/gkHG8NpweMuCQe/zkOyFk4JB",
          "dtype": "f8"
         },
         "y": {
          "bdata": "8MPm0FgOgkHvPqPgJJaCQfymRNcYZIJB",
          "dtype": "f8"
         }
        },
        {
         "customdata": [
          "<b>Código:</b> 0005<br><b>Nombre:</b> BUENAVENTURA LOBOGUERRERO<br><b>LONGITUD KM:</b> 10.00<br><b>ALCANCE:</b> Segunda calzada<br><b>Valor Real:</b> $1,332,293<br><b>Predicción:</b> $1,391,741",
          "<b>Código:</b> 0005<br><b>Nombre:</b> BUENAVENTURA LOBOGUERRERO<br><b>LONGITUD KM:</b> 14.30<br><b>ALCANCE:</b> Segunda calzada<br><b>Valor Real:</b> $1,905,179<br><b>Predicción:</b> $1,872,382",
          "<b>Código:</b> 0005<br><b>Nombre:</b> BUENAVENTURA LOBOGUERRERO<br><b>LONGITUD KM:</b> 13.50<br><b>ALCANCE:</b> Segunda calzada<br><b>Valor Real:</b> $1,798,596<br><b>Predicción:</b> $1,793,802",
          "<b>Código:</b> 0005<br><b>Nombre:</b> BUENAVENTURA LOBOGUERRERO<br><b>LONGITUD KM:</b> 7.60<br><b>ALCANCE:</b> Segunda calzada<br><b>Valor Real:</b> $1,012,543<br><b>Predicción:</b> $1,269,719"
         ],
         "hovertemplate": "%{customdata}<extra></extra>",
         "marker": {
          "color": "#1f77b4",
          "line": {
           "color": "white",
           "width": 1
          },
          "opacity": 0.8,
          "size": 12
         },
         "mode": "markers",
         "name": "Segunda calzada",
         "type": "scatter",
         "x": {
          "bdata": "B/CuU0VUNEHYcBt1GxI9QQnExf3DcTtBPdNb233mLkE=",
          "dtype": "f8"
         },
         "y": {
          "bdata": "Fv/yx3w8NUHb8vLc/ZE8Qac9Gf4JXztBVLSOcNdfM0E=",
          "dtype": "f8"
         }
        },
        {
         "customdata": [
          "<b>Código:</b> 0005<br><b>Nombre:</b> BUENAVENTURA LOBOGUERRERO<br><b>LONGITUD KM:</b> 10.20<br><b>ALCANCE:</b> operacion y mantenimiento<br><b>Valor Real:</b> $1,358,939<br><b>Predicción:</b> $1,365,162",
          "<b>Código:</b> 0005<br><b>Nombre:</b> BUENAVENTURA LOBOGUERRERO<br><b>LONGITUD KM:</b> 8.50<br><b>ALCANCE:</b> operacion y mantenimiento<br><b>Valor Real:</b> $1,132,449<br><b>Predicción:</b> $1,340,001"
         ],
         "hovertemplate": "%{customdata}<extra></extra>",
         "marker": {
          "color": "#ff7f0e",
          "line": {
           "color": "white",
           "width": 1
          },
          "opacity": 0.8,
          "size": 12
         },
         "mode": "markers",
         "name": "operacion y mantenimiento",
         "type": "scatter",
         "x": {
          "bdata": "OluEMVu8NEEGTO5ToUcxQQ==",
          "dtype": "f8"
         },
         "y": {
          "bdata": "m+ky1anUNEELGGQRYXI0QQ==",
          "dtype": "f8"
         }
        },
        {
         "line": {
          "color": "red",
          "dash": "dash",
          "width": 2
         },
         "mode": "lines",
         "name": "Predicción Perfecta",
         "showlegend": true,
         "type": "scatter",
         "x": [
          1012542.9284349453,
          39415566.10690455
         ],
         "y": [
          1012542.9284349453,
          39415566.10690455
         ]
        }
       ],
       "layout": {
        "height": 600,
        "hovermode": "closest",
        "legend": {
         "bgcolor": "rgba(255, 255, 255, 0.9)",
         "bordercolor": "lightgray",
         "borderwidth": 1,
         "orientation": "v",
         "x": 0.01,
         "xanchor": "left",
         "y": 0.99,
         "yanchor": "top"
        },
        "paper_bgcolor": "white",
        "plot_bgcolor": "white",
        "template": {
         "data": {
          "bar": [
           {
            "error_x": {
             "color": "#2a3f5f"
            },
            "error_y": {
             "color": "#2a3f5f"
            },
            "marker": {
             "line": {
              "color": "#E5ECF6",
              "width": 0.5
             },
             "pattern": {
              "fillmode": "overlay",
              "size": 10,
              "solidity": 0.2
             }
            },
            "type": "bar"
           }
          ],
          "barpolar": [
           {
            "marker": {
             "line": {
              "color": "#E5ECF6",
              "width": 0.5
             },
             "pattern": {
              "fillmode": "overlay",
              "size": 10,
              "solidity": 0.2
             }
            },
            "type": "barpolar"
           }
          ],
          "carpet": [
           {
            "aaxis": {
             "endlinecolor": "#2a3f5f",
             "gridcolor": "white",
             "linecolor": "white",
             "minorgridcolor": "white",
             "startlinecolor": "#2a3f5f"
            },
            "baxis": {
             "endlinecolor": "#2a3f5f",
             "gridcolor": "white",
             "linecolor": "white",
             "minorgridcolor": "white",
             "startlinecolor": "#2a3f5f"
            },
            "type": "carpet"
           }
          ],
          "choropleth": [
           {
            "colorbar": {
             "outlinewidth": 0,
             "ticks": ""
            },
            "type": "choropleth"
           }
          ],
          "contour": [
           {
            "colorbar": {
             "outlinewidth": 0,
             "ticks": ""
            },
            "colorscale": [
             [
              0,
              "#0d0887"
             ],
             [
              0.1111111111111111,
              "#46039f"
             ],
             [
              0.2222222222222222,
              "#7201a8"
             ],
             [
              0.3333333333333333,
              "#9c179e"
             ],
             [
              0.4444444444444444,
              "#bd3786"
             ],
             [
              0.5555555555555556,
              "#d8576b"
             ],
             [
              0.6666666666666666,
              "#ed7953"
             ],
             [
              0.7777777777777778,
              "#fb9f3a"
             ],
             [
              0.8888888888888888,
              "#fdca26"
             ],
             [
              1,
              "#f0f921"
             ]
            ],
            "type": "contour"
           }
          ],
          "contourcarpet": [
           {
            "colorbar": {
             "outlinewidth": 0,
             "ticks": ""
            },
            "type": "contourcarpet"
           }
          ],
          "heatmap": [
           {
            "colorbar": {
             "outlinewidth": 0,
             "ticks": ""
            },
            "colorscale": [
             [
              0,
              "#0d0887"
             ],
             [
              0.1111111111111111,
              "#46039f"
             ],
             [
              0.2222222222222222,
              "#7201a8"
             ],
             [
              0.3333333333333333,
              "#9c179e"
             ],
             [
              0.4444444444444444,
              "#bd3786"
             ],
             [
              0.5555555555555556,
              "#d8576b"
             ],
             [
              0.6666666666666666,
              "#ed7953"
             ],
             [
              0.7777777777777778,
              "#fb9f3a"
             ],
             [
              0.8888888888888888,
              "#fdca26"
             ],
             [
              1,
              "#f0f921"
             ]
            ],
            "type": "heatmap"
           }
          ],
          "histogram": [
           {
            "marker": {
             "pattern": {
              "fillmode": "overlay",
              "size": 10,
              "solidity": 0.2
             }
            },
            "type": "histogram"
           }
          ],
          "histogram2d": [
           {
            "colorbar": {
             "outlinewidth": 0,
             "ticks": ""
            },
            "colorscale": [
             [
              0,
              "#0d0887"
             ],
             [
              0.1111111111111111,
              "#46039f"
             ],
             [
              0.2222222222222222,
              "#7201a8"
             ],
             [
              0.3333333333333333,
              "#9c179e"
             ],
             [
              0.4444444444444444,
              "#bd3786"
             ],
             [
              0.5555555555555556,
              "#d8576b"
             ],
             [
              0.6666666666666666,
              "#ed7953"
             ],
             [
              0.7777777777777778,
              "#fb9f3a"
             ],
             [
              0.8888888888888888,
              "#fdca26"
             ],
             [
              1,
              "#f0f921"
             ]
            ],
            "type": "histogram2d"
           }
          ],
          "histogram2dcontour": [
           {
            "colorbar": {
             "outlinewidth": 0,
             "ticks": ""
            },
            "colorscale": [
             [
              0,
              "#0d0887"
             ],
             [
              0.1111111111111111,
              "#46039f"
             ],
             [
              0.2222222222222222,
              "#7201a8"
             ],
             [
              0.3333333333333333,
              "#9c179e"
             ],
             [
              0.4444444444444444,
              "#bd3786"
             ],
             [
              0.5555555555555556,
              "#d8576b"
             ],
             [
              0.6666666666666666,
              "#ed7953"
             ],
             [
              0.7777777777777778,
              "#fb9f3a"
             ],
             [
              0.8888888888888888,
              "#fdca26"
             ],
             [
              1,
              "#f0f921"
             ]
            ],
            "type": "histogram2dcontour"
           }
          ],
          "mesh3d": [
           {
            "colorbar": {
             "outlinewidth": 0,
             "ticks": ""
            },
            "type": "mesh3d"
           }
          ],
          "parcoords": [
           {
            "line": {
             "colorbar": {
              "outlinewidth": 0,
              "ticks": ""
             }
            },
            "type": "parcoords"
           }
          ],
          "pie": [
           {
            "automargin": true,
            "type": "pie"
           }
          ],
          "scatter": [
           {
            "fillpattern": {
             "fillmode": "overlay",
             "size": 10,
             "solidity": 0.2
            },
            "type": "scatter"
           }
          ],
          "scatter3d": [
           {
            "line": {
             "colorbar": {
              "outlinewidth": 0,
              "ticks": ""
             }
            },
            "marker": {
             "colorbar": {
              "outlinewidth": 0,
              "ticks": ""
             }
            },
            "type": "scatter3d"
           }
          ],
          "scattercarpet": [
           {
            "marker": {
             "colorbar": {
              "outlinewidth": 0,
              "ticks": ""
             }
            },
            "type": "scattercarpet"
           }
          ],
          "scattergeo": [
           {
            "marker": {
             "colorbar": {
              "outlinewidth": 0,
              "ticks": ""
             }
            },
            "type": "scattergeo"
           }
          ],
          "scattergl": [
           {
            "marker": {
             "colorbar": {
              "outlinewidth": 0,
              "ticks": ""
             }
            },
            "type": "scattergl"
           }
          ],
          "scattermap": [
           {
            "marker": {
             "colorbar": {
              "outlinewidth": 0,
              "ticks": ""
             }
            },
            "type": "scattermap"
           }
          ],
          "scattermapbox": [
           {
            "marker": {
             "colorbar": {
              "outlinewidth": 0,
              "ticks": ""
             }
            },
            "type": "scattermapbox"
           }
          ],
          "scatterpolar": [
           {
            "marker": {
             "colorbar": {
              "outlinewidth": 0,
              "ticks": ""
             }
            },
            "type": "scatterpolar"
           }
          ],
          "scatterpolargl": [
           {
            "marker": {
             "colorbar": {
              "outlinewidth": 0,
              "ticks": ""
             }
            },
            "type": "scatterpolargl"
           }
          ],
          "scatterternary": [
           {
            "marker": {
             "colorbar": {
              "outlinewidth": 0,
              "ticks": ""
             }
            },
            "type": "scatterternary"
           }
          ],
          "surface": [
           {
            "colorbar": {
             "outlinewidth": 0,
             "ticks": ""
            },
            "colorscale": [
             [
              0,
              "#0d0887"
             ],
             [
              0.1111111111111111,
              "#46039f"
             ],
             [
              0.2222222222222222,
              "#7201a8"
             ],
             [
              0.3333333333333333,
              "#9c179e"
             ],
             [
              0.4444444444444444,
              "#bd3786"
             ],
             [
              0.5555555555555556,
              "#d8576b"
             ],
             [
              0.6666666666666666,
              "#ed7953"
             ],
             [
              0.7777777777777778,
              "#fb9f3a"
             ],
             [
              0.8888888888888888,
              "#fdca26"
             ],
             [
              1,
              "#f0f921"
             ]
            ],
            "type": "surface"
           }
          ],
          "table": [
           {
            "cells": {
             "fill": {
              "color": "#EBF0F8"
             },
             "line": {
              "color": "white"
             }
            },
            "header": {
             "fill": {
              "color": "#C8D4E3"
             },
             "line": {
              "color": "white"
             }
            },
            "type": "table"
           }
          ]
         },
         "layout": {
          "annotationdefaults": {
           "arrowcolor": "#2a3f5f",
           "arrowhead": 0,
           "arrowwidth": 1
          },
          "autotypenumbers": "strict",
          "coloraxis": {
           "colorbar": {
            "outlinewidth": 0,
            "ticks": ""
           }
          },
          "colorscale": {
           "diverging": [
            [
             0,
             "#8e0152"
            ],
            [
             0.1,
             "#c51b7d"
            ],
            [
             0.2,
             "#de77ae"
            ],
            [
             0.3,
             "#f1b6da"
            ],
            [
             0.4,
             "#fde0ef"
            ],
            [
             0.5,
             "#f7f7f7"
            ],
            [
             0.6,
             "#e6f5d0"
            ],
            [
             0.7,
             "#b8e186"
            ],
            [
             0.8,
             "#7fbc41"
            ],
            [
             0.9,
             "#4d9221"
            ],
            [
             1,
             "#276419"
            ]
           ],
           "sequential": [
            [
             0,
             "#0d0887"
            ],
            [
             0.1111111111111111,
             "#46039f"
            ],
            [
             0.2222222222222222,
             "#7201a8"
            ],
            [
             0.3333333333333333,
             "#9c179e"
            ],
            [
             0.4444444444444444,
             "#bd3786"
            ],
            [
             0.5555555555555556,
             "#d8576b"
            ],
            [
             0.6666666666666666,
             "#ed7953"
            ],
            [
             0.7777777777777778,
             "#fb9f3a"
            ],
            [
             0.8888888888888888,
             "#fdca26"
            ],
            [
             1,
             "#f0f921"
            ]
           ],
           "sequentialminus": [
            [
             0,
             "#0d0887"
            ],
            [
             0.1111111111111111,
             "#46039f"
            ],
            [
             0.2222222222222222,
             "#7201a8"
            ],
            [
             0.3333333333333333,
             "#9c179e"
            ],
            [
             0.4444444444444444,
             "#bd3786"
            ],
            [
             0.5555555555555556,
             "#d8576b"
            ],
            [
             0.6666666666666666,
             "#ed7953"
            ],
            [
             0.7777777777777778,
             "#fb9f3a"
            ],
            [
             0.8888888888888888,
             "#fdca26"
            ],
            [
             1,
             "#f0f921"
            ]
           ]
          },
          "colorway": [
           "#636efa",
           "#EF553B",
           "#00cc96",
           "#ab63fa",
           "#FFA15A",
           "#19d3f3",
           "#FF6692",
           "#B6E880",
           "#FF97FF",
           "#FECB52"
          ],
          "font": {
           "color": "#2a3f5f"
          },
          "geo": {
           "bgcolor": "white",
           "lakecolor": "white",
           "landcolor": "#E5ECF6",
           "showlakes": true,
           "showland": true,
           "subunitcolor": "white"
          },
          "hoverlabel": {
           "align": "left"
          },
          "hovermode": "closest",
          "mapbox": {
           "style": "light"
          },
          "paper_bgcolor": "white",
          "plot_bgcolor": "#E5ECF6",
          "polar": {
           "angularaxis": {
            "gridcolor": "white",
            "linecolor": "white",
            "ticks": ""
           },
           "bgcolor": "#E5ECF6",
           "radialaxis": {
            "gridcolor": "white",
            "linecolor": "white",
            "ticks": ""
           }
          },
          "scene": {
           "xaxis": {
            "backgroundcolor": "#E5ECF6",
            "gridcolor": "white",
            "gridwidth": 2,
            "linecolor": "white",
            "showbackground": true,
            "ticks": "",
            "zerolinecolor": "white"
           },
           "yaxis": {
            "backgroundcolor": "#E5ECF6",
            "gridcolor": "white",
            "gridwidth": 2,
            "linecolor": "white",
            "showbackground": true,
            "ticks": "",
            "zerolinecolor": "white"
           },
           "zaxis": {
            "backgroundcolor": "#E5ECF6",
            "gridcolor": "white",
            "gridwidth": 2,
            "linecolor": "white",
            "showbackground": true,
            "ticks": "",
            "zerolinecolor": "white"
           }
          },
          "shapedefaults": {
           "line": {
            "color": "#2a3f5f"
           }
          },
          "ternary": {
           "aaxis": {
            "gridcolor": "white",
            "linecolor": "white",
            "ticks": ""
           },
           "baxis": {
            "gridcolor": "white",
            "linecolor": "white",
            "ticks": ""
           },
           "bgcolor": "#E5ECF6",
           "caxis": {
            "gridcolor": "white",
            "linecolor": "white",
            "ticks": ""
           }
          },
          "title": {
           "x": 0.05
          },
          "xaxis": {
           "automargin": true,
           "gridcolor": "white",
           "linecolor": "white",
           "ticks": "",
           "title": {
            "standoff": 15
           },
           "zerolinecolor": "white",
           "zerolinewidth": 2
          },
          "yaxis": {
           "automargin": true,
           "gridcolor": "white",
           "linecolor": "white",
           "ticks": "",
           "title": {
            "standoff": 15
           },
           "zerolinecolor": "white",
           "zerolinewidth": 2
          }
         }
        },
        "title": {
         "font": {
          "family": "Arial Black",
          "size": 20
         },
         "text": "<b>Predicción vs Realidad - 2.1 - INFORMACIÓN GEOGRÁFICA</b>",
         "x": 0.5,
         "xanchor": "center"
        },
        "width": 900,
        "xaxis": {
         "gridcolor": "lightgray",
         "gridwidth": 0.5,
         "showgrid": true,
         "title": {
          "font": {
           "size": 14
          },
          "text": "<b>Valor Real ($)</b>"
         }
        },
        "yaxis": {
         "gridcolor": "lightgray",
         "gridwidth": 0.5,
         "showgrid": true,
         "title": {
          "font": {
           "size": 14
          },
          "text": "<b>Valor Predicho ($)</b>"
         }
        }
       }
      }
     },
     "metadata": {},
     "output_type": "display_data"
    },
    {
     "name": "stdout",
     "output_type": "stream",
     "text": [
      "  → Removed 5/50 outliers (10.0%) using ensemble\n",
      "     • isolation_forest: 5 outliers\n",
      "     • lof: 5 outliers\n",
      "     • robust_statistical: 3 outliers\n",
      "     • z_score: 2 outliers\n",
      "2.2 - TRAZADO Y DISEÑO GEOMÉTRICO\n",
      "Best params: {'regressor__svr__C': 10, 'regressor__svr__epsilon': 0.01, 'regressor__svr__gamma': 'auto'}\n",
      "{'R2': 0.8262669836001061, 'MAE': 2270169.4857858047, 'RMSE': np.float64(5467999.962276422), 'RMSLE': np.float64(0.38350201315039295), 'MAPE%': 22.301882321811455}\n"
     ]
    },
    {
     "data": {
      "application/vnd.plotly.v1+json": {
       "config": {
        "plotlyServerURL": "https://plot.ly"
       },
       "data": [
        {
         "customdata": [
          "<b>Código:</b> 0654801<br><b>Nombre:</b> BUGA - BUENAVENTURA<br><b>LONGITUD KM:</b> 0.80<br><b>ALCANCE:</b> Construcción <br><b>Valor Real:</b> $1,869,655<br><b>Predicción:</b> $1,572,834"
         ],
         "hovertemplate": "%{customdata}<extra></extra>",
         "marker": {
          "color": "#7f7f7f",
          "line": {
           "color": "white",
           "width": 1
          },
          "opacity": 0.8,
          "size": 12
         },
         "mode": "markers",
         "name": "Construcción ",
         "type": "scatter",
         "x": {
          "bdata": "u8GYh1aHPEE=",
          "dtype": "f8"
         },
         "y": {
          "bdata": "1xi+u+H/N0E=",
          "dtype": "f8"
         }
        },
        {
         "customdata": [
          "<b>Código:</b> 0266702<br><b>Nombre:</b> CATAMBUCO - PASTO UF5.2<br><b>LONGITUD KM:</b> 5.00<br><b>ALCANCE:</b> Mejoramiento<br><b>Valor Real:</b> $6,311,029<br><b>Predicción:</b> $11,534,356",
          "<b>Código:</b> 0321501<br><b>Nombre:</b> DISEÑO GEOMÉTRICO TERCER CARRIL BOGOTÁ - GIRARDOT<br><b>LONGITUD KM:</b> 9.00<br><b>ALCANCE:</b> Mejoramiento<br><b>Valor Real:</b> $20,062,547<br><b>Predicción:</b> $19,915,504",
          "<b>Código:</b> 0321501<br><b>Nombre:</b> DISEÑO GEOMÉTRICO TERCER CARRIL BOGOTÁ - GIRARDOT<br><b>LONGITUD KM:</b> 21.00<br><b>ALCANCE:</b> Mejoramiento<br><b>Valor Real:</b> $46,812,609<br><b>Predicción:</b> $43,729,822",
          "<b>Código:</b> 0321501<br><b>Nombre:</b> DISEÑO GEOMÉTRICO TERCER CARRIL BOGOTÁ - GIRARDOT<br><b>LONGITUD KM:</b> 14.00<br><b>ALCANCE:</b> Mejoramiento<br><b>Valor Real:</b> $31,208,406<br><b>Predicción:</b> $31,407,486",
          "<b>Código:</b> 0321501<br><b>Nombre:</b> DISEÑO GEOMÉTRICO TERCER CARRIL BOGOTÁ - GIRARDOT<br><b>LONGITUD KM:</b> 6.56<br><b>ALCANCE:</b> Mejoramiento<br><b>Valor Real:</b> $14,623,367<br><b>Predicción:</b> $13,352,780",
          "<b>Código:</b> 0321501<br><b>Nombre:</b> DISEÑO GEOMÉTRICO TERCER CARRIL BOGOTÁ - GIRARDOT<br><b>LONGITUD KM:</b> 18.92<br><b>ALCANCE:</b> Mejoramiento<br><b>Valor Real:</b> $42,175,932<br><b>Predicción:</b> $43,362,263",
          "<b>Código:</b> 0321501<br><b>Nombre:</b> DISEÑO GEOMÉTRICO TERCER CARRIL BOGOTÁ - GIRARDOT<br><b>LONGITUD KM:</b> 14.52<br><b>ALCANCE:</b> Mejoramiento<br><b>Valor Real:</b> $32,367,575<br><b>Predicción:</b> $32,303,549",
          "<b>Código:</b> 0321501<br><b>Nombre:</b> DISEÑO GEOMÉTRICO TERCER CARRIL BOGOTÁ - GIRARDOT<br><b>LONGITUD KM:</b> 9.86<br><b>ALCANCE:</b> Mejoramiento<br><b>Valor Real:</b> $21,979,635<br><b>Predicción:</b> $22,207,713",
          "<b>Código:</b> 0427901<br><b>Nombre:</b> PURIFICACIÓN - LOZANÍA<br><b>LONGITUD KM:</b> 5.00<br><b>ALCANCE:</b> Mejoramiento<br><b>Valor Real:</b> $5,652,966<br><b>Predicción:</b> $10,201,423",
          "<b>Código:</b> 0552903<br><b>Nombre:</b> TRANSVERSAL BOYACÁ<br><b>LONGITUD KM:</b> 10.06<br><b>ALCANCE:</b> Mejoramiento<br><b>Valor Real:</b> $25,611,912<br><b>Predicción:</b> $21,847,690",
          "<b>Código:</b> 0581301<br><b>Nombre:</b> QUEREMAL - DANUBIO<br><b>LONGITUD KM:</b> 5.24<br><b>ALCANCE:</b> Mejoramiento<br><b>Valor Real:</b> $36,233,844<br><b>Predicción:</b> $10,847,625"
         ],
         "hovertemplate": "%{customdata}<extra></extra>",
         "marker": {
          "color": "#2ca02c",
          "line": {
           "color": "white",
           "width": 1
          },
          "opacity": 0.8,
          "size": 12
         },
         "mode": "markers",
         "name": "Mejoramiento",
         "type": "scatter",
         "x": {
          "bdata": "QhaJWR0TWEF89lcrFSJzQZGf5gduUoZBFireXz3DfUEsqCDsUORrQZM0NdxtHIRBlN+2dT3efkFD+xYoH/Z0QW9NnI15kFVBT2LdguhseEEm5+aiE0eBQQ==",
          "dtype": "f8"
         },
         "y": {
          "bdata": "UY4GhAIAZkHOb2ABL/5yQctYMuwc2oRBXVo549fzfUHgSICH6XdpQZsvwrk+rYRBBoT2yZvOfkH0p/8Szi11QZI3ZNopdWNB35Orm+jVdEF2HUkisbBkQQ==",
          "dtype": "f8"
         }
        },
        {
         "customdata": [
          "<b>Código:</b> 0654801<br><b>Nombre:</b> BUGA - BUENAVENTURA<br><b>LONGITUD KM:</b> 3.12<br><b>ALCANCE:</b> Nuevo<br><b>Valor Real:</b> $7,291,653<br><b>Predicción:</b> $6,195,865"
         ],
         "hovertemplate": "%{customdata}<extra></extra>",
         "marker": {
          "color": "#9467bd",
          "line": {
           "color": "white",
           "width": 1
          },
          "opacity": 0.8,
          "size": 12
         },
         "mode": "markers",
         "name": "Nuevo",
         "type": "scatter",
         "x": {
          "bdata": "fVabKsHQW0E=",
          "dtype": "f8"
         },
         "y": {
          "bdata": "NmsIIaaiV0E=",
          "dtype": "f8"
         }
        },
        {
         "customdata": [
          "<b>Código:</b> 0654801<br><b>Nombre:</b> BUGA - BUENAVENTURA<br><b>LONGITUD KM:</b> 19.31<br><b>ALCANCE:</b> Puesta a punto<br><b>Valor Real:</b> $45,128,786<br><b>Predicción:</b> $44,319,472",
          "<b>Código:</b> 0654801<br><b>Nombre:</b> BUGA - BUENAVENTURA<br><b>LONGITUD KM:</b> 8.21<br><b>ALCANCE:</b> Puesta a punto<br><b>Valor Real:</b> $19,187,330<br><b>Predicción:</b> $19,310,884",
          "<b>Código:</b> 0654801<br><b>Nombre:</b> BUGA - BUENAVENTURA<br><b>LONGITUD KM:</b> 12.16<br><b>ALCANCE:</b> Puesta a punto<br><b>Valor Real:</b> $28,418,749<br><b>Predicción:</b> $28,151,712",
          "<b>Código:</b> 0654801<br><b>Nombre:</b> BUGA - BUENAVENTURA<br><b>LONGITUD KM:</b> 12.16<br><b>ALCANCE:</b> Puesta a punto<br><b>Valor Real:</b> $28,418,749<br><b>Predicción:</b> $28,148,180",
          "<b>Código:</b> 0654801<br><b>Nombre:</b> BUGA - BUENAVENTURA<br><b>LONGITUD KM:</b> 1.00<br><b>ALCANCE:</b> Puesta a punto<br><b>Valor Real:</b> $2,337,068<br><b>Predicción:</b> $2,417,514",
          "<b>Código:</b> 0654801<br><b>Nombre:</b> BUGA - BUENAVENTURA<br><b>LONGITUD KM:</b> 14.00<br><b>ALCANCE:</b> Puesta a punto<br><b>Valor Real:</b> $32,718,954<br><b>Predicción:</b> $32,703,234",
          "<b>Código:</b> 0654801<br><b>Nombre:</b> BUGA - BUENAVENTURA<br><b>LONGITUD KM:</b> 14.00<br><b>ALCANCE:</b> Puesta a punto<br><b>Valor Real:</b> $32,718,954<br><b>Predicción:</b> $33,086,929",
          "<b>Código:</b> 0654801<br><b>Nombre:</b> BUGA - BUENAVENTURA<br><b>LONGITUD KM:</b> 7.84<br><b>ALCANCE:</b> Puesta a punto<br><b>Valor Real:</b> $18,322,614<br><b>Predicción:</b> $18,575,646"
         ],
         "hovertemplate": "%{customdata}<extra></extra>",
         "marker": {
          "color": "#e377c2",
          "line": {
           "color": "white",
           "width": 1
          },
          "opacity": 0.8,
          "size": 12
         },
         "mode": "markers",
         "name": "Puesta a punto",
         "type": "scatter",
         "x": {
          "bdata": "ux+ukeKEhUF3x8UZaExyQT7rnc0rGntBPuudzSsae0EVeb8UltRBQeUTT6QGNH9B5RNPpAY0f0F2w0BmS3lxQQ==",
          "dtype": "f8"
         },
         "y": {
          "bdata": "KirLfhcihUGur/BGkmpyQXoNVQX62HpB/eLnRx3YekHSAinAtHFCQVk88yUwMH9BAKbuFt2Nf0Eyd+7iEbdxQQ==",
          "dtype": "f8"
         }
        },
        {
         "customdata": [
          "<b>Código:</b> 0347801<br><b>Nombre:</b> TERMINACIÓN TÚNEL DE LA LÍNEA<br><b>LONGITUD KM:</b> 8.35<br><b>ALCANCE:</b> Rehabilitación<br><b>Valor Real:</b> $24,056,521<br><b>Predicción:</b> $23,955,851",
          "<b>Código:</b> 0347801<br><b>Nombre:</b> TERMINACIÓN TÚNEL DE LA LÍNEA<br><b>LONGITUD KM:</b> 8.60<br><b>ALCANCE:</b> Rehabilitación<br><b>Valor Real:</b> $24,776,776<br><b>Predicción:</b> $24,461,474",
          "<b>Código:</b> 0347801<br><b>Nombre:</b> TERMINACIÓN TÚNEL DE LA LÍNEA<br><b>LONGITUD KM:</b> 8.50<br><b>ALCANCE:</b> Rehabilitación<br><b>Valor Real:</b> $24,488,674<br><b>Predicción:</b> $24,300,892",
          "<b>Código:</b> 0654801<br><b>Nombre:</b> BUGA - BUENAVENTURA<br><b>LONGITUD KM:</b> 15.00<br><b>ALCANCE:</b> Rehabilitación<br><b>Valor Real:</b> $35,056,022<br><b>Predicción:</b> $38,123,183",
          "<b>Código:</b> 0654801<br><b>Nombre:</b> BUGA - BUENAVENTURA<br><b>LONGITUD KM:</b> 3.15<br><b>ALCANCE:</b> Rehabilitación<br><b>Valor Real:</b> $7,361,765<br><b>Predicción:</b> $11,362,536"
         ],
         "hovertemplate": "%{customdata}<extra></extra>",
         "marker": {
          "color": "#d62728",
          "line": {
           "color": "white",
           "width": 1
          },
          "opacity": 0.8,
          "size": 12
         },
         "mode": "markers",
         "name": "Rehabilitación",
         "type": "scatter",
         "x": {
          "bdata": "J+GvjyzxdkEEBZiBBKF3QXnD1CCuWndBhIFzs0y3gEG0XnotORVcQQ==",
          "dtype": "f8"
         },
         "y": {
          "bdata": "/B2NrJjYdkEZYOkiClR3QSgWo8XVLHdBwdVWdbUtgkGDWEAPHaxlQQ==",
          "dtype": "f8"
         }
        },
        {
         "customdata": [
          "<b>Código:</b> 0005<br><b>Nombre:</b> BUENAVENTURA LOBOGUERRERO<br><b>LONGITUD KM:</b> 10.00<br><b>ALCANCE:</b> Segunda calzada<br><b>Valor Real:</b> $6,119,988<br><b>Predicción:</b> $9,997,582",
          "<b>Código:</b> 0005<br><b>Nombre:</b> BUENAVENTURA LOBOGUERRERO<br><b>LONGITUD KM:</b> 14.30<br><b>ALCANCE:</b> Segunda calzada<br><b>Valor Real:</b> $8,751,583<br><b>Predicción:</b> $8,980,631",
          "<b>Código:</b> 0005<br><b>Nombre:</b> BUENAVENTURA LOBOGUERRERO<br><b>LONGITUD KM:</b> 13.50<br><b>ALCANCE:</b> Segunda calzada<br><b>Valor Real:</b> $8,261,984<br><b>Predicción:</b> $7,904,709",
          "<b>Código:</b> 0005<br><b>Nombre:</b> BUENAVENTURA LOBOGUERRERO<br><b>LONGITUD KM:</b> 7.60<br><b>ALCANCE:</b> Segunda calzada<br><b>Valor Real:</b> $4,651,191<br><b>Predicción:</b> $11,791,795",
          "<b>Código:</b> 0300604<br><b>Nombre:</b> BUGA - BUENAVENTURA EL PORVENIR UF5<br><b>LONGITUD KM:</b> 2.50<br><b>ALCANCE:</b> Segunda calzada<br><b>Valor Real:</b> $1,814,013<br><b>Predicción:</b> $5,938,551",
          "<b>Código:</b> 0654801<br><b>Nombre:</b> BUGA - BUENAVENTURA<br><b>LONGITUD KM:</b> 3.37<br><b>ALCANCE:</b> Segunda calzada<br><b>Valor Real:</b> $7,875,920<br><b>Predicción:</b> $7,692,761",
          "<b>Código:</b> 0654801<br><b>Nombre:</b> BUGA - BUENAVENTURA<br><b>LONGITUD KM:</b> 3.50<br><b>ALCANCE:</b> Segunda calzada<br><b>Valor Real:</b> $8,179,739<br><b>Predicción:</b> $7,482,191",
          "<b>Código:</b> 0654801<br><b>Nombre:</b> BUGA - BUENAVENTURA<br><b>LONGITUD KM:</b> 5.17<br><b>ALCANCE:</b> Segunda calzada<br><b>Valor Real:</b> $12,082,642<br><b>Predicción:</b> $7,948,364",
          "<b>Código:</b> 0654801<br><b>Nombre:</b> BUGA - BUENAVENTURA<br><b>LONGITUD KM:</b> 0.91<br><b>ALCANCE:</b> Segunda calzada<br><b>Valor Real:</b> $2,126,732<br><b>Predicción:</b> $2,805,748",
          "<b>Código:</b> 0654801<br><b>Nombre:</b> BUGA - BUENAVENTURA<br><b>LONGITUD KM:</b> 3.16<br><b>ALCANCE:</b> Segunda calzada<br><b>Valor Real:</b> $7,385,135<br><b>Predicción:</b> $7,418,824",
          "<b>Código:</b> 0654801<br><b>Nombre:</b> BUGA - BUENAVENTURA<br><b>LONGITUD KM:</b> 4.00<br><b>ALCANCE:</b> Segunda calzada<br><b>Valor Real:</b> $9,348,273<br><b>Predicción:</b> $8,584,772",
          "<b>Código:</b> 0654801<br><b>Nombre:</b> BUGA - BUENAVENTURA<br><b>LONGITUD KM:</b> 2.00<br><b>ALCANCE:</b> Segunda calzada<br><b>Valor Real:</b> $4,674,136<br><b>Predicción:</b> $4,633,069",
          "<b>Código:</b> 0654801<br><b>Nombre:</b> BUGA - BUENAVENTURA<br><b>LONGITUD KM:</b> 1.85<br><b>ALCANCE:</b> Segunda calzada<br><b>Valor Real:</b> $4,323,576<br><b>Predicción:</b> $4,257,037",
          "<b>Código:</b> 0654801<br><b>Nombre:</b> BUGA - BUENAVENTURA<br><b>LONGITUD KM:</b> 3.17<br><b>ALCANCE:</b> Segunda calzada<br><b>Valor Real:</b> $7,408,506<br><b>Predicción:</b> $7,073,684",
          "<b>Código:</b> 0654801<br><b>Nombre:</b> BUGA - BUENAVENTURA<br><b>LONGITUD KM:</b> 2.00<br><b>ALCANCE:</b> Segunda calzada<br><b>Valor Real:</b> $4,674,136<br><b>Predicción:</b> $4,669,077",
          "<b>Código:</b> 0654801<br><b>Nombre:</b> BUGA - BUENAVENTURA<br><b>LONGITUD KM:</b> 2.38<br><b>ALCANCE:</b> Segunda calzada<br><b>Valor Real:</b> $5,562,222<br><b>Predicción:</b> $5,613,628",
          "<b>Código:</b> 6935<br><b>Nombre:</b>  PEDREGAL - PASTO UF4-UF5<br><b>LONGITUD KM:</b> 15.76<br><b>ALCANCE:</b> Segunda calzada<br><b>Valor Real:</b> $32,336,652<br><b>Predicción:</b> $10,065,247"
         ],
         "hovertemplate": "%{customdata}<extra></extra>",
         "marker": {
          "color": "#1f77b4",
          "line": {
           "color": "white",
           "width": 1
          },
          "opacity": 0.8,
          "size": 12
         },
         "mode": "markers",
         "name": "Segunda calzada",
         "type": "scatter",
         "x": {
          "bdata": "gnce9oxYV0HvqdDTO7FgQYpU3OVXhF9BjHnPsC2+UUH6N6py/a07QaBFM+1TC15B5RNPpAY0X0FMmbxMugtnQclHhQPGOUBBHAwa2QssXEEVeb8UltRhQRV5vxSW1FFBAFBkBj5+UEGDubmE3kJcQRV5vxSW1FFBfTZzjts3VUH98EO7sNZ+QQ==",
          "dtype": "f8"
         },
         "y": {
          "bdata": "ntKZsaERY0EW7AjUEiFhQYhmpSZxJ15BFYb4VLZ9ZkGXoIvBXadWQfj5VD12WF1B1qlo3NOKXEHcDEX8ElJeQa2PgDL6Z0VBBZsV/vFMXEFUNJqByF9gQeePqzl7rFFBx4eyJEM9UEH7VHIU5ftaQSFPoSilz1FBRwHk7Q5qVUE1PO3gqzJjQQ==",
          "dtype": "f8"
         }
        },
        {
         "customdata": [
          "<b>Código:</b> 0005<br><b>Nombre:</b> BUENAVENTURA LOBOGUERRERO<br><b>LONGITUD KM:</b> 10.20<br><b>ALCANCE:</b> operacion y mantenimiento<br><b>Valor Real:</b> $6,242,388<br><b>Predicción:</b> $5,867,814",
          "<b>Código:</b> 0005<br><b>Nombre:</b> BUENAVENTURA LOBOGUERRERO<br><b>LONGITUD KM:</b> 8.50<br><b>ALCANCE:</b> operacion y mantenimiento<br><b>Valor Real:</b> $5,201,990<br><b>Predicción:</b> $5,642,395"
         ],
         "hovertemplate": "%{customdata}<extra></extra>",
         "marker": {
          "color": "#ff7f0e",
          "line": {
           "color": "white",
           "width": 1
          },
          "opacity": 0.8,
          "size": 12
         },
         "mode": "markers",
         "name": "operacion y mantenimiento",
         "type": "scatter",
         "x": {
          "bdata": "V7eP5hTQV0HIGM1qEdhTQQ==",
          "dtype": "f8"
         },
         "y": {
          "bdata": "7aeLYEliVkF21WbMJoZVQQ==",
          "dtype": "f8"
         }
        },
        {
         "line": {
          "color": "red",
          "dash": "dash",
          "width": 2
         },
         "mode": "lines",
         "name": "Predicción Perfecta",
         "showlegend": true,
         "type": "scatter",
         "x": [
          1572833.7333694005,
          46812608.987609036
         ],
         "y": [
          1572833.7333694005,
          46812608.987609036
         ]
        }
       ],
       "layout": {
        "height": 600,
        "hovermode": "closest",
        "legend": {
         "bgcolor": "rgba(255, 255, 255, 0.9)",
         "bordercolor": "lightgray",
         "borderwidth": 1,
         "orientation": "v",
         "x": 0.01,
         "xanchor": "left",
         "y": 0.99,
         "yanchor": "top"
        },
        "paper_bgcolor": "white",
        "plot_bgcolor": "white",
        "template": {
         "data": {
          "bar": [
           {
            "error_x": {
             "color": "#2a3f5f"
            },
            "error_y": {
             "color": "#2a3f5f"
            },
            "marker": {
             "line": {
              "color": "#E5ECF6",
              "width": 0.5
             },
             "pattern": {
              "fillmode": "overlay",
              "size": 10,
              "solidity": 0.2
             }
            },
            "type": "bar"
           }
          ],
          "barpolar": [
           {
            "marker": {
             "line": {
              "color": "#E5ECF6",
              "width": 0.5
             },
             "pattern": {
              "fillmode": "overlay",
              "size": 10,
              "solidity": 0.2
             }
            },
            "type": "barpolar"
           }
          ],
          "carpet": [
           {
            "aaxis": {
             "endlinecolor": "#2a3f5f",
             "gridcolor": "white",
             "linecolor": "white",
             "minorgridcolor": "white",
             "startlinecolor": "#2a3f5f"
            },
            "baxis": {
             "endlinecolor": "#2a3f5f",
             "gridcolor": "white",
             "linecolor": "white",
             "minorgridcolor": "white",
             "startlinecolor": "#2a3f5f"
            },
            "type": "carpet"
           }
          ],
          "choropleth": [
           {
            "colorbar": {
             "outlinewidth": 0,
             "ticks": ""
            },
            "type": "choropleth"
           }
          ],
          "contour": [
           {
            "colorbar": {
             "outlinewidth": 0,
             "ticks": ""
            },
            "colorscale": [
             [
              0,
              "#0d0887"
             ],
             [
              0.1111111111111111,
              "#46039f"
             ],
             [
              0.2222222222222222,
              "#7201a8"
             ],
             [
              0.3333333333333333,
              "#9c179e"
             ],
             [
              0.4444444444444444,
              "#bd3786"
             ],
             [
              0.5555555555555556,
              "#d8576b"
             ],
             [
              0.6666666666666666,
              "#ed7953"
             ],
             [
              0.7777777777777778,
              "#fb9f3a"
             ],
             [
              0.8888888888888888,
              "#fdca26"
             ],
             [
              1,
              "#f0f921"
             ]
            ],
            "type": "contour"
           }
          ],
          "contourcarpet": [
           {
            "colorbar": {
             "outlinewidth": 0,
             "ticks": ""
            },
            "type": "contourcarpet"
           }
          ],
          "heatmap": [
           {
            "colorbar": {
             "outlinewidth": 0,
             "ticks": ""
            },
            "colorscale": [
             [
              0,
              "#0d0887"
             ],
             [
              0.1111111111111111,
              "#46039f"
             ],
             [
              0.2222222222222222,
              "#7201a8"
             ],
             [
              0.3333333333333333,
              "#9c179e"
             ],
             [
              0.4444444444444444,
              "#bd3786"
             ],
             [
              0.5555555555555556,
              "#d8576b"
             ],
             [
              0.6666666666666666,
              "#ed7953"
             ],
             [
              0.7777777777777778,
              "#fb9f3a"
             ],
             [
              0.8888888888888888,
              "#fdca26"
             ],
             [
              1,
              "#f0f921"
             ]
            ],
            "type": "heatmap"
           }
          ],
          "histogram": [
           {
            "marker": {
             "pattern": {
              "fillmode": "overlay",
              "size": 10,
              "solidity": 0.2
             }
            },
            "type": "histogram"
           }
          ],
          "histogram2d": [
           {
            "colorbar": {
             "outlinewidth": 0,
             "ticks": ""
            },
            "colorscale": [
             [
              0,
              "#0d0887"
             ],
             [
              0.1111111111111111,
              "#46039f"
             ],
             [
              0.2222222222222222,
              "#7201a8"
             ],
             [
              0.3333333333333333,
              "#9c179e"
             ],
             [
              0.4444444444444444,
              "#bd3786"
             ],
             [
              0.5555555555555556,
              "#d8576b"
             ],
             [
              0.6666666666666666,
              "#ed7953"
             ],
             [
              0.7777777777777778,
              "#fb9f3a"
             ],
             [
              0.8888888888888888,
              "#fdca26"
             ],
             [
              1,
              "#f0f921"
             ]
            ],
            "type": "histogram2d"
           }
          ],
          "histogram2dcontour": [
           {
            "colorbar": {
             "outlinewidth": 0,
             "ticks": ""
            },
            "colorscale": [
             [
              0,
              "#0d0887"
             ],
             [
              0.1111111111111111,
              "#46039f"
             ],
             [
              0.2222222222222222,
              "#7201a8"
             ],
             [
              0.3333333333333333,
              "#9c179e"
             ],
             [
              0.4444444444444444,
              "#bd3786"
             ],
             [
              0.5555555555555556,
              "#d8576b"
             ],
             [
              0.6666666666666666,
              "#ed7953"
             ],
             [
              0.7777777777777778,
              "#fb9f3a"
             ],
             [
              0.8888888888888888,
              "#fdca26"
             ],
             [
              1,
              "#f0f921"
             ]
            ],
            "type": "histogram2dcontour"
           }
          ],
          "mesh3d": [
           {
            "colorbar": {
             "outlinewidth": 0,
             "ticks": ""
            },
            "type": "mesh3d"
           }
          ],
          "parcoords": [
           {
            "line": {
             "colorbar": {
              "outlinewidth": 0,
              "ticks": ""
             }
            },
            "type": "parcoords"
           }
          ],
          "pie": [
           {
            "automargin": true,
            "type": "pie"
           }
          ],
          "scatter": [
           {
            "fillpattern": {
             "fillmode": "overlay",
             "size": 10,
             "solidity": 0.2
            },
            "type": "scatter"
           }
          ],
          "scatter3d": [
           {
            "line": {
             "colorbar": {
              "outlinewidth": 0,
              "ticks": ""
             }
            },
            "marker": {
             "colorbar": {
              "outlinewidth": 0,
              "ticks": ""
             }
            },
            "type": "scatter3d"
           }
          ],
          "scattercarpet": [
           {
            "marker": {
             "colorbar": {
              "outlinewidth": 0,
              "ticks": ""
             }
            },
            "type": "scattercarpet"
           }
          ],
          "scattergeo": [
           {
            "marker": {
             "colorbar": {
              "outlinewidth": 0,
              "ticks": ""
             }
            },
            "type": "scattergeo"
           }
          ],
          "scattergl": [
           {
            "marker": {
             "colorbar": {
              "outlinewidth": 0,
              "ticks": ""
             }
            },
            "type": "scattergl"
           }
          ],
          "scattermap": [
           {
            "marker": {
             "colorbar": {
              "outlinewidth": 0,
              "ticks": ""
             }
            },
            "type": "scattermap"
           }
          ],
          "scattermapbox": [
           {
            "marker": {
             "colorbar": {
              "outlinewidth": 0,
              "ticks": ""
             }
            },
            "type": "scattermapbox"
           }
          ],
          "scatterpolar": [
           {
            "marker": {
             "colorbar": {
              "outlinewidth": 0,
              "ticks": ""
             }
            },
            "type": "scatterpolar"
           }
          ],
          "scatterpolargl": [
           {
            "marker": {
             "colorbar": {
              "outlinewidth": 0,
              "ticks": ""
             }
            },
            "type": "scatterpolargl"
           }
          ],
          "scatterternary": [
           {
            "marker": {
             "colorbar": {
              "outlinewidth": 0,
              "ticks": ""
             }
            },
            "type": "scatterternary"
           }
          ],
          "surface": [
           {
            "colorbar": {
             "outlinewidth": 0,
             "ticks": ""
            },
            "colorscale": [
             [
              0,
              "#0d0887"
             ],
             [
              0.1111111111111111,
              "#46039f"
             ],
             [
              0.2222222222222222,
              "#7201a8"
             ],
             [
              0.3333333333333333,
              "#9c179e"
             ],
             [
              0.4444444444444444,
              "#bd3786"
             ],
             [
              0.5555555555555556,
              "#d8576b"
             ],
             [
              0.6666666666666666,
              "#ed7953"
             ],
             [
              0.7777777777777778,
              "#fb9f3a"
             ],
             [
              0.8888888888888888,
              "#fdca26"
             ],
             [
              1,
              "#f0f921"
             ]
            ],
            "type": "surface"
           }
          ],
          "table": [
           {
            "cells": {
             "fill": {
              "color": "#EBF0F8"
             },
             "line": {
              "color": "white"
             }
            },
            "header": {
             "fill": {
              "color": "#C8D4E3"
             },
             "line": {
              "color": "white"
             }
            },
            "type": "table"
           }
          ]
         },
         "layout": {
          "annotationdefaults": {
           "arrowcolor": "#2a3f5f",
           "arrowhead": 0,
           "arrowwidth": 1
          },
          "autotypenumbers": "strict",
          "coloraxis": {
           "colorbar": {
            "outlinewidth": 0,
            "ticks": ""
           }
          },
          "colorscale": {
           "diverging": [
            [
             0,
             "#8e0152"
            ],
            [
             0.1,
             "#c51b7d"
            ],
            [
             0.2,
             "#de77ae"
            ],
            [
             0.3,
             "#f1b6da"
            ],
            [
             0.4,
             "#fde0ef"
            ],
            [
             0.5,
             "#f7f7f7"
            ],
            [
             0.6,
             "#e6f5d0"
            ],
            [
             0.7,
             "#b8e186"
            ],
            [
             0.8,
             "#7fbc41"
            ],
            [
             0.9,
             "#4d9221"
            ],
            [
             1,
             "#276419"
            ]
           ],
           "sequential": [
            [
             0,
             "#0d0887"
            ],
            [
             0.1111111111111111,
             "#46039f"
            ],
            [
             0.2222222222222222,
             "#7201a8"
            ],
            [
             0.3333333333333333,
             "#9c179e"
            ],
            [
             0.4444444444444444,
             "#bd3786"
            ],
            [
             0.5555555555555556,
             "#d8576b"
            ],
            [
             0.6666666666666666,
             "#ed7953"
            ],
            [
             0.7777777777777778,
             "#fb9f3a"
            ],
            [
             0.8888888888888888,
             "#fdca26"
            ],
            [
             1,
             "#f0f921"
            ]
           ],
           "sequentialminus": [
            [
             0,
             "#0d0887"
            ],
            [
             0.1111111111111111,
             "#46039f"
            ],
            [
             0.2222222222222222,
             "#7201a8"
            ],
            [
             0.3333333333333333,
             "#9c179e"
            ],
            [
             0.4444444444444444,
             "#bd3786"
            ],
            [
             0.5555555555555556,
             "#d8576b"
            ],
            [
             0.6666666666666666,
             "#ed7953"
            ],
            [
             0.7777777777777778,
             "#fb9f3a"
            ],
            [
             0.8888888888888888,
             "#fdca26"
            ],
            [
             1,
             "#f0f921"
            ]
           ]
          },
          "colorway": [
           "#636efa",
           "#EF553B",
           "#00cc96",
           "#ab63fa",
           "#FFA15A",
           "#19d3f3",
           "#FF6692",
           "#B6E880",
           "#FF97FF",
           "#FECB52"
          ],
          "font": {
           "color": "#2a3f5f"
          },
          "geo": {
           "bgcolor": "white",
           "lakecolor": "white",
           "landcolor": "#E5ECF6",
           "showlakes": true,
           "showland": true,
           "subunitcolor": "white"
          },
          "hoverlabel": {
           "align": "left"
          },
          "hovermode": "closest",
          "mapbox": {
           "style": "light"
          },
          "paper_bgcolor": "white",
          "plot_bgcolor": "#E5ECF6",
          "polar": {
           "angularaxis": {
            "gridcolor": "white",
            "linecolor": "white",
            "ticks": ""
           },
           "bgcolor": "#E5ECF6",
           "radialaxis": {
            "gridcolor": "white",
            "linecolor": "white",
            "ticks": ""
           }
          },
          "scene": {
           "xaxis": {
            "backgroundcolor": "#E5ECF6",
            "gridcolor": "white",
            "gridwidth": 2,
            "linecolor": "white",
            "showbackground": true,
            "ticks": "",
            "zerolinecolor": "white"
           },
           "yaxis": {
            "backgroundcolor": "#E5ECF6",
            "gridcolor": "white",
            "gridwidth": 2,
            "linecolor": "white",
            "showbackground": true,
            "ticks": "",
            "zerolinecolor": "white"
           },
           "zaxis": {
            "backgroundcolor": "#E5ECF6",
            "gridcolor": "white",
            "gridwidth": 2,
            "linecolor": "white",
            "showbackground": true,
            "ticks": "",
            "zerolinecolor": "white"
           }
          },
          "shapedefaults": {
           "line": {
            "color": "#2a3f5f"
           }
          },
          "ternary": {
           "aaxis": {
            "gridcolor": "white",
            "linecolor": "white",
            "ticks": ""
           },
           "baxis": {
            "gridcolor": "white",
            "linecolor": "white",
            "ticks": ""
           },
           "bgcolor": "#E5ECF6",
           "caxis": {
            "gridcolor": "white",
            "linecolor": "white",
            "ticks": ""
           }
          },
          "title": {
           "x": 0.05
          },
          "xaxis": {
           "automargin": true,
           "gridcolor": "white",
           "linecolor": "white",
           "ticks": "",
           "title": {
            "standoff": 15
           },
           "zerolinecolor": "white",
           "zerolinewidth": 2
          },
          "yaxis": {
           "automargin": true,
           "gridcolor": "white",
           "linecolor": "white",
           "ticks": "",
           "title": {
            "standoff": 15
           },
           "zerolinecolor": "white",
           "zerolinewidth": 2
          }
         }
        },
        "title": {
         "font": {
          "family": "Arial Black",
          "size": 20
         },
         "text": "<b>Predicción vs Realidad - 2.2 - TRAZADO Y DISEÑO GEOMÉTRICO</b>",
         "x": 0.5,
         "xanchor": "center"
        },
        "width": 900,
        "xaxis": {
         "gridcolor": "lightgray",
         "gridwidth": 0.5,
         "showgrid": true,
         "title": {
          "font": {
           "size": 14
          },
          "text": "<b>Valor Real ($)</b>"
         }
        },
        "yaxis": {
         "gridcolor": "lightgray",
         "gridwidth": 0.5,
         "showgrid": true,
         "title": {
          "font": {
           "size": 14
          },
          "text": "<b>Valor Predicho ($)</b>"
         }
        }
       }
      }
     },
     "metadata": {},
     "output_type": "display_data"
    },
    {
     "name": "stdout",
     "output_type": "stream",
     "text": [
      "  → Removed 4/49 outliers (8.2%) using ensemble\n",
      "     • isolation_forest: 5 outliers\n",
      "     • lof: 5 outliers\n",
      "     • robust_statistical: 2 outliers\n",
      "     • z_score: 1 outliers\n",
      "2.3 - SEGURIDAD VIAL\n",
      "Best params: {'regressor__svr__C': 5, 'regressor__svr__epsilon': 0.01, 'regressor__svr__gamma': 'scale'}\n",
      "{'R2': 0.7918920978029302, 'MAE': 2511792.6589240604, 'RMSE': np.float64(4750779.3538916), 'RMSLE': np.float64(0.49436419068004045), 'MAPE%': 35.99627260044706}\n"
     ]
    },
    {
     "data": {
      "application/vnd.plotly.v1+json": {
       "config": {
        "plotlyServerURL": "https://plot.ly"
       },
       "data": [
        {
         "customdata": [
          "<b>Código:</b> 0654801<br><b>Nombre:</b> BUGA - BUENAVENTURA<br><b>LONGITUD KM:</b> 0.80<br><b>ALCANCE:</b> Construcción <br><b>Valor Real:</b> $2,009,797<br><b>Predicción:</b> $2,237,974"
         ],
         "hovertemplate": "%{customdata}<extra></extra>",
         "marker": {
          "color": "#7f7f7f",
          "line": {
           "color": "white",
           "width": 1
          },
          "opacity": 0.8,
          "size": 12
         },
         "mode": "markers",
         "name": "Construcción ",
         "type": "scatter",
         "x": {
          "bdata": "WrntZcWqPkE=",
          "dtype": "f8"
         },
         "y": {
          "bdata": "sn/mEwsTQUE=",
          "dtype": "f8"
         }
        },
        {
         "customdata": [
          "<b>Código:</b> 0266702<br><b>Nombre:</b> CATAMBUCO - PASTO UF5.2<br><b>LONGITUD KM:</b> 5.00<br><b>ALCANCE:</b> Mejoramiento<br><b>Valor Real:</b> $2,105,373<br><b>Predicción:</b> $7,610,300",
          "<b>Código:</b> 0321501<br><b>Nombre:</b> DISEÑO GEOMÉTRICO TERCER CARRIL BOGOTÁ - GIRARDOT<br><b>LONGITUD KM:</b> 9.00<br><b>ALCANCE:</b> Mejoramiento<br><b>Valor Real:</b> $10,802,910<br><b>Predicción:</b> $10,661,334",
          "<b>Código:</b> 0321501<br><b>Nombre:</b> DISEÑO GEOMÉTRICO TERCER CARRIL BOGOTÁ - GIRARDOT<br><b>LONGITUD KM:</b> 21.00<br><b>ALCANCE:</b> Mejoramiento<br><b>Valor Real:</b> $25,206,789<br><b>Predicción:</b> $21,179,827",
          "<b>Código:</b> 0321501<br><b>Nombre:</b> DISEÑO GEOMÉTRICO TERCER CARRIL BOGOTÁ - GIRARDOT<br><b>LONGITUD KM:</b> 14.00<br><b>ALCANCE:</b> Mejoramiento<br><b>Valor Real:</b> $16,804,526<br><b>Predicción:</b> $16,469,869",
          "<b>Código:</b> 0321501<br><b>Nombre:</b> DISEÑO GEOMÉTRICO TERCER CARRIL BOGOTÁ - GIRARDOT<br><b>LONGITUD KM:</b> 6.56<br><b>ALCANCE:</b> Mejoramiento<br><b>Valor Real:</b> $7,874,121<br><b>Predicción:</b> $5,290,532",
          "<b>Código:</b> 0321501<br><b>Nombre:</b> DISEÑO GEOMÉTRICO TERCER CARRIL BOGOTÁ - GIRARDOT<br><b>LONGITUD KM:</b> 18.92<br><b>ALCANCE:</b> Mejoramiento<br><b>Valor Real:</b> $22,710,117<br><b>Predicción:</b> $25,098,116",
          "<b>Código:</b> 0321501<br><b>Nombre:</b> DISEÑO GEOMÉTRICO TERCER CARRIL BOGOTÁ - GIRARDOT<br><b>LONGITUD KM:</b> 14.52<br><b>ALCANCE:</b> Mejoramiento<br><b>Valor Real:</b> $17,428,694<br><b>Predicción:</b> $17,888,336",
          "<b>Código:</b> 0321501<br><b>Nombre:</b> DISEÑO GEOMÉTRICO TERCER CARRIL BOGOTÁ - GIRARDOT<br><b>LONGITUD KM:</b> 9.86<br><b>ALCANCE:</b> Mejoramiento<br><b>Valor Real:</b> $11,835,188<br><b>Predicción:</b> $11,502,109",
          "<b>Código:</b> 0427901<br><b>Nombre:</b> PURIFICACIÓN - LOZANÍA<br><b>LONGITUD KM:</b> 5.00<br><b>ALCANCE:</b> Mejoramiento<br><b>Valor Real:</b> $3,043,905<br><b>Predicción:</b> $5,304,897",
          "<b>Código:</b> 0552903<br><b>Nombre:</b> TRANSVERSAL BOYACÁ<br><b>LONGITUD KM:</b> 10.06<br><b>ALCANCE:</b> Mejoramiento<br><b>Valor Real:</b> $6,537,624<br><b>Predicción:</b> $11,662,476",
          "<b>Código:</b> 0581301<br><b>Nombre:</b> QUEREMAL - DANUBIO<br><b>LONGITUD KM:</b> 5.24<br><b>ALCANCE:</b> Mejoramiento<br><b>Valor Real:</b> $24,146,548<br><b>Predicción:</b> $5,700,812"
         ],
         "hovertemplate": "%{customdata}<extra></extra>",
         "marker": {
          "color": "#2ca02c",
          "line": {
           "color": "white",
           "width": 1
          },
          "opacity": 0.8,
          "size": 12
         },
         "mode": "markers",
         "name": "Mejoramiento",
         "type": "scatter",
         "x": {
          "bdata": "dwifaA4QQEGu7YS425pkQfa/RVcACnhBpCrZ5KoGcEGWhFw5kgleQYGDmk92qHVBwfnDZg2fcEHoEPB55pJmQYcY/XAgOUdBZh0P4WXwWEHdipI4Jwd3QQ==",
          "dtype": "f8"
         },
         "y": {
          "bdata": "FgzLEu8HXUFTOCnIulVkQWD2+S7bMnRBi56NpO1pb0HJjjv5iC5UQVi2kUB473dBNLW+/0QPcUFqIHSmQ/BlQf/OcEKQPFRB4QPjfpE+ZkF1PtYKM79VQQ==",
          "dtype": "f8"
         }
        },
        {
         "customdata": [
          "<b>Código:</b> 0654801<br><b>Nombre:</b> BUGA - BUENAVENTURA<br><b>LONGITUD KM:</b> 3.12<br><b>ALCANCE:</b> Nuevo<br><b>Valor Real:</b> $7,838,210<br><b>Predicción:</b> $4,005,546"
         ],
         "hovertemplate": "%{customdata}<extra></extra>",
         "marker": {
          "color": "#9467bd",
          "line": {
           "color": "white",
           "width": 1
          },
          "opacity": 0.8,
          "size": 12
         },
         "mode": "markers",
         "name": "Nuevo",
         "type": "scatter",
         "x": {
          "bdata": "uZSUdoDmXUE=",
          "dtype": "f8"
         },
         "y": {
          "bdata": "t6nE+lSPTkE=",
          "dtype": "f8"
         }
        },
        {
         "customdata": [
          "<b>Código:</b> 0654801<br><b>Nombre:</b> BUGA - BUENAVENTURA<br><b>LONGITUD KM:</b> 8.21<br><b>ALCANCE:</b> Puesta a punto<br><b>Valor Real:</b> $20,625,546<br><b>Predicción:</b> $20,244,965",
          "<b>Código:</b> 0654801<br><b>Nombre:</b> BUGA - BUENAVENTURA<br><b>LONGITUD KM:</b> 12.16<br><b>ALCANCE:</b> Puesta a punto<br><b>Valor Real:</b> $30,548,920<br><b>Predicción:</b> $28,725,528",
          "<b>Código:</b> 0654801<br><b>Nombre:</b> BUGA - BUENAVENTURA<br><b>LONGITUD KM:</b> 12.16<br><b>ALCANCE:</b> Puesta a punto<br><b>Valor Real:</b> $30,548,920<br><b>Predicción:</b> $28,725,528",
          "<b>Código:</b> 0654801<br><b>Nombre:</b> BUGA - BUENAVENTURA<br><b>LONGITUD KM:</b> 1.00<br><b>ALCANCE:</b> Puesta a punto<br><b>Valor Real:</b> $2,512,247<br><b>Predicción:</b> $3,270,463",
          "<b>Código:</b> 0654801<br><b>Nombre:</b> BUGA - BUENAVENTURA<br><b>LONGITUD KM:</b> 14.00<br><b>ALCANCE:</b> Puesta a punto<br><b>Valor Real:</b> $35,171,454<br><b>Predicción:</b> $34,819,633",
          "<b>Código:</b> 0654801<br><b>Nombre:</b> BUGA - BUENAVENTURA<br><b>LONGITUD KM:</b> 14.00<br><b>ALCANCE:</b> Puesta a punto<br><b>Valor Real:</b> $35,171,454<br><b>Predicción:</b> $34,821,597",
          "<b>Código:</b> 0654801<br><b>Nombre:</b> BUGA - BUENAVENTURA<br><b>LONGITUD KM:</b> 7.84<br><b>ALCANCE:</b> Puesta a punto<br><b>Valor Real:</b> $19,696,015<br><b>Predicción:</b> $19,603,937"
         ],
         "hovertemplate": "%{customdata}<extra></extra>",
         "marker": {
          "color": "#e377c2",
          "line": {
           "color": "white",
           "width": 1
          },
          "opacity": 0.8,
          "size": 12
         },
         "mode": "markers",
         "name": "Puesta a punto",
         "type": "scatter",
         "x": {
          "bdata": "5BPHnIirc0EVcDuHOyJ9QRVwO4c7In1B2JO0X7sqQ0FeAb7zY8WAQV4BvvNjxYBBhwEI6JjIckE=",
          "dtype": "f8"
         },
         "y": {
          "bdata": "049oTZ5Oc0GT35t9EWV7QZPfm30RZXtBY2h2op/zSEHYEwmJcZqAQeBEAOSumoBBH4RaCR6yckE=",
          "dtype": "f8"
         }
        },
        {
         "customdata": [
          "<b>Código:</b> 0347801<br><b>Nombre:</b> TERMINACIÓN TÚNEL DE LA LÍNEA<br><b>LONGITUD KM:</b> 8.35<br><b>ALCANCE:</b> Rehabilitación<br><b>Valor Real:</b> $18,777,301<br><b>Predicción:</b> $18,496,879",
          "<b>Código:</b> 0347801<br><b>Nombre:</b> TERMINACIÓN TÚNEL DE LA LÍNEA<br><b>LONGITUD KM:</b> 8.60<br><b>ALCANCE:</b> Rehabilitación<br><b>Valor Real:</b> $19,339,496<br><b>Predicción:</b> $19,065,418",
          "<b>Código:</b> 0347801<br><b>Nombre:</b> TERMINACIÓN TÚNEL DE LA LÍNEA<br><b>LONGITUD KM:</b> 8.50<br><b>ALCANCE:</b> Rehabilitación<br><b>Valor Real:</b> $19,114,618<br><b>Predicción:</b> $18,883,366",
          "<b>Código:</b> 0654801<br><b>Nombre:</b> BUGA - BUENAVENTURA<br><b>LONGITUD KM:</b> 15.00<br><b>ALCANCE:</b> Rehabilitación<br><b>Valor Real:</b> $37,683,701<br><b>Predicción:</b> $21,870,348",
          "<b>Código:</b> 0654801<br><b>Nombre:</b> BUGA - BUENAVENTURA<br><b>LONGITUD KM:</b> 3.15<br><b>ALCANCE:</b> Rehabilitación<br><b>Valor Real:</b> $7,913,577<br><b>Predicción:</b> $7,725,570"
         ],
         "hovertemplate": "%{customdata}<extra></extra>",
         "marker": {
          "color": "#d62728",
          "line": {
           "color": "white",
           "width": 1
          },
          "opacity": 0.8,
          "size": 12
         },
         "mode": "markers",
         "name": "Rehabilitación",
         "type": "scatter",
         "x": {
          "bdata": "Beg4U03ocUHD/JF9jnFyQUTB1J+nOnJBm0q5qQ/4gUF1AlZQGjBeQQ==",
          "dtype": "f8"
         },
         "y": {
          "bdata": "SNgU69ajcUGBp9GdpC5yQXf29WMyAnJB0oHavnDbdEH/8UB8gHhdQQ==",
          "dtype": "f8"
         }
        },
        {
         "customdata": [
          "<b>Código:</b> 0005<br><b>Nombre:</b> BUENAVENTURA LOBOGUERRERO<br><b>LONGITUD KM:</b> 10.00<br><b>ALCANCE:</b> Segunda calzada<br><b>Valor Real:</b> $1,619,942<br><b>Predicción:</b> $3,384,833",
          "<b>Código:</b> 0005<br><b>Nombre:</b> BUENAVENTURA LOBOGUERRERO<br><b>LONGITUD KM:</b> 14.30<br><b>ALCANCE:</b> Segunda calzada<br><b>Valor Real:</b> $2,316,517<br><b>Predicción:</b> $4,133,063",
          "<b>Código:</b> 0005<br><b>Nombre:</b> BUENAVENTURA LOBOGUERRERO<br><b>LONGITUD KM:</b> 13.50<br><b>ALCANCE:</b> Segunda calzada<br><b>Valor Real:</b> $2,186,922<br><b>Predicción:</b> $3,062,680",
          "<b>Código:</b> 0005<br><b>Nombre:</b> BUENAVENTURA LOBOGUERRERO<br><b>LONGITUD KM:</b> 7.60<br><b>ALCANCE:</b> Segunda calzada<br><b>Valor Real:</b> $1,231,156<br><b>Predicción:</b> $6,060,784",
          "<b>Código:</b> 0300605<br><b>Nombre:</b> BUGA - BUENAVENTURA UF4<br><b>LONGITUD KM:</b> 17.00<br><b>ALCANCE:</b> Segunda calzada<br><b>Valor Real:</b> $11,586,685<br><b>Predicción:</b> $7,457,310",
          "<b>Código:</b> 0654801<br><b>Nombre:</b> BUGA - BUENAVENTURA<br><b>LONGITUD KM:</b> 3.37<br><b>ALCANCE:</b> Segunda calzada<br><b>Valor Real:</b> $8,466,272<br><b>Predicción:</b> $8,572,356",
          "<b>Código:</b> 0654801<br><b>Nombre:</b> BUGA - BUENAVENTURA<br><b>LONGITUD KM:</b> 3.50<br><b>ALCANCE:</b> Segunda calzada<br><b>Valor Real:</b> $8,792,864<br><b>Predicción:</b> $8,329,843",
          "<b>Código:</b> 0654801<br><b>Nombre:</b> BUGA - BUENAVENTURA<br><b>LONGITUD KM:</b> 5.17<br><b>ALCANCE:</b> Segunda calzada<br><b>Valor Real:</b> $12,988,316<br><b>Predicción:</b> $6,221,521",
          "<b>Código:</b> 0654801<br><b>Nombre:</b> BUGA - BUENAVENTURA<br><b>LONGITUD KM:</b> 0.91<br><b>ALCANCE:</b> Segunda calzada<br><b>Valor Real:</b> $2,286,145<br><b>Predicción:</b> $3,294,616",
          "<b>Código:</b> 0654801<br><b>Nombre:</b> BUGA - BUENAVENTURA<br><b>LONGITUD KM:</b> 3.16<br><b>ALCANCE:</b> Segunda calzada<br><b>Valor Real:</b> $7,938,700<br><b>Predicción:</b> $8,130,986",
          "<b>Código:</b> 0654801<br><b>Nombre:</b> BUGA - BUENAVENTURA<br><b>LONGITUD KM:</b> 4.00<br><b>ALCANCE:</b> Segunda calzada<br><b>Valor Real:</b> $10,048,987<br><b>Predicción:</b> $8,393,305",
          "<b>Código:</b> 0654801<br><b>Nombre:</b> BUGA - BUENAVENTURA<br><b>LONGITUD KM:</b> 2.00<br><b>ALCANCE:</b> Segunda calzada<br><b>Valor Real:</b> $5,024,493<br><b>Predicción:</b> $4,974,886",
          "<b>Código:</b> 0654801<br><b>Nombre:</b> BUGA - BUENAVENTURA<br><b>LONGITUD KM:</b> 1.85<br><b>ALCANCE:</b> Segunda calzada<br><b>Valor Real:</b> $4,647,656<br><b>Predicción:</b> $4,507,475",
          "<b>Código:</b> 0654801<br><b>Nombre:</b> BUGA - BUENAVENTURA<br><b>LONGITUD KM:</b> 3.17<br><b>ALCANCE:</b> Segunda calzada<br><b>Valor Real:</b> $7,963,822<br><b>Predicción:</b> $8,272,287",
          "<b>Código:</b> 0654801<br><b>Nombre:</b> BUGA - BUENAVENTURA<br><b>LONGITUD KM:</b> 2.00<br><b>ALCANCE:</b> Segunda calzada<br><b>Valor Real:</b> $5,024,493<br><b>Predicción:</b> $4,975,602",
          "<b>Código:</b> 0654801<br><b>Nombre:</b> BUGA - BUENAVENTURA<br><b>LONGITUD KM:</b> 2.38<br><b>ALCANCE:</b> Segunda calzada<br><b>Valor Real:</b> $5,979,147<br><b>Predicción:</b> $6,277,709",
          "<b>Código:</b> 6935<br><b>Nombre:</b>  PEDREGAL - PASTO UF4-UF5<br><b>LONGITUD KM:</b> 15.76<br><b>ALCANCE:</b> Segunda calzada<br><b>Valor Real:</b> $19,604,291<br><b>Predicción:</b> $7,248,036",
          "<b>Código:</b> 6935<br><b>Nombre:</b>  PEDREGAL - PASTO UF4-UF5<br><b>LONGITUD KM:</b> 22.20<br><b>ALCANCE:</b> Segunda calzada<br><b>Valor Real:</b> $27,615,181<br><b>Predicción:</b> $19,762,678"
         ],
         "hovertemplate": "%{customdata}<extra></extra>",
         "marker": {
          "color": "#1f77b4",
          "line": {
           "color": "white",
           "width": 1
          },
          "opacity": 0.8,
          "size": 12
         },
         "mode": "markers",
         "name": "Segunda calzada",
         "type": "scatter",
         "x": {
          "bdata": "5DzCFOa3OEGVwoWWcqxBQee1nOdUr0BB1vBL+zPJMkEHAGCrjxlmQZqTRfHrJWBBXgG+82PFYEG7b/B188VoQWsBLEUgcUFBCSdB7qJIXkHYk7RfuypjQdiTtF+7KlNBKG/tHrq6UUGdSyyMK2FeQdiTtF+7KlNB2wGc0ALPVkH+mrosNLJyQbULJtP8VXpB",
          "dtype": "f8"
         },
         "y": {
          "bdata": "KNrJeADTSUHoIURkY4hPQZCn3/vLXUdBtKMrC7weV0Ek0tWNh3JcQaLYs4u4WWBBYmc8sJzGX0GYNJgytLtXQeorTcHLIklBePjpfGoEX0Ef1mYiSwJgQQF8bnhJ+lJB/Z0Y29QxUUFBsPi4Z45fQWF1xG78+lJBruYXMJPyV0HrDAQNKaZbQfakgFrf2HJB",
          "dtype": "f8"
         }
        },
        {
         "customdata": [
          "<b>Código:</b> 0005<br><b>Nombre:</b> BUENAVENTURA LOBOGUERRERO<br><b>LONGITUD KM:</b> 10.20<br><b>ALCANCE:</b> operacion y mantenimiento<br><b>Valor Real:</b> $1,652,341<br><b>Predicción:</b> $1,603,863",
          "<b>Código:</b> 0005<br><b>Nombre:</b> BUENAVENTURA LOBOGUERRERO<br><b>LONGITUD KM:</b> 8.50<br><b>ALCANCE:</b> operacion y mantenimiento<br><b>Valor Real:</b> $1,376,951<br><b>Predicción:</b> $1,664,836"
         ],
         "hovertemplate": "%{customdata}<extra></extra>",
         "marker": {
          "color": "#ff7f0e",
          "line": {
           "color": "white",
           "width": 1
          },
          "opacity": 0.8,
          "size": 12
         },
         "mode": "markers",
         "name": "operacion y mantenimiento",
         "type": "scatter",
         "x": {
          "bdata": "O8M27HQ2OUFbTdjEtgI1QQ==",
          "dtype": "f8"
         },
         "y": {
          "bdata": "UTeSMRd5OEGj7x0BRGc5QQ==",
          "dtype": "f8"
         }
        },
        {
         "line": {
          "color": "red",
          "dash": "dash",
          "width": 2
         },
         "mode": "lines",
         "name": "Predicción Perfecta",
         "showlegend": true,
         "type": "scatter",
         "x": [
          1231155.9816275141,
          37683701.21547433
         ],
         "y": [
          1231155.9816275141,
          37683701.21547433
         ]
        }
       ],
       "layout": {
        "height": 600,
        "hovermode": "closest",
        "legend": {
         "bgcolor": "rgba(255, 255, 255, 0.9)",
         "bordercolor": "lightgray",
         "borderwidth": 1,
         "orientation": "v",
         "x": 0.01,
         "xanchor": "left",
         "y": 0.99,
         "yanchor": "top"
        },
        "paper_bgcolor": "white",
        "plot_bgcolor": "white",
        "template": {
         "data": {
          "bar": [
           {
            "error_x": {
             "color": "#2a3f5f"
            },
            "error_y": {
             "color": "#2a3f5f"
            },
            "marker": {
             "line": {
              "color": "#E5ECF6",
              "width": 0.5
             },
             "pattern": {
              "fillmode": "overlay",
              "size": 10,
              "solidity": 0.2
             }
            },
            "type": "bar"
           }
          ],
          "barpolar": [
           {
            "marker": {
             "line": {
              "color": "#E5ECF6",
              "width": 0.5
             },
             "pattern": {
              "fillmode": "overlay",
              "size": 10,
              "solidity": 0.2
             }
            },
            "type": "barpolar"
           }
          ],
          "carpet": [
           {
            "aaxis": {
             "endlinecolor": "#2a3f5f",
             "gridcolor": "white",
             "linecolor": "white",
             "minorgridcolor": "white",
             "startlinecolor": "#2a3f5f"
            },
            "baxis": {
             "endlinecolor": "#2a3f5f",
             "gridcolor": "white",
             "linecolor": "white",
             "minorgridcolor": "white",
             "startlinecolor": "#2a3f5f"
            },
            "type": "carpet"
           }
          ],
          "choropleth": [
           {
            "colorbar": {
             "outlinewidth": 0,
             "ticks": ""
            },
            "type": "choropleth"
           }
          ],
          "contour": [
           {
            "colorbar": {
             "outlinewidth": 0,
             "ticks": ""
            },
            "colorscale": [
             [
              0,
              "#0d0887"
             ],
             [
              0.1111111111111111,
              "#46039f"
             ],
             [
              0.2222222222222222,
              "#7201a8"
             ],
             [
              0.3333333333333333,
              "#9c179e"
             ],
             [
              0.4444444444444444,
              "#bd3786"
             ],
             [
              0.5555555555555556,
              "#d8576b"
             ],
             [
              0.6666666666666666,
              "#ed7953"
             ],
             [
              0.7777777777777778,
              "#fb9f3a"
             ],
             [
              0.8888888888888888,
              "#fdca26"
             ],
             [
              1,
              "#f0f921"
             ]
            ],
            "type": "contour"
           }
          ],
          "contourcarpet": [
           {
            "colorbar": {
             "outlinewidth": 0,
             "ticks": ""
            },
            "type": "contourcarpet"
           }
          ],
          "heatmap": [
           {
            "colorbar": {
             "outlinewidth": 0,
             "ticks": ""
            },
            "colorscale": [
             [
              0,
              "#0d0887"
             ],
             [
              0.1111111111111111,
              "#46039f"
             ],
             [
              0.2222222222222222,
              "#7201a8"
             ],
             [
              0.3333333333333333,
              "#9c179e"
             ],
             [
              0.4444444444444444,
              "#bd3786"
             ],
             [
              0.5555555555555556,
              "#d8576b"
             ],
             [
              0.6666666666666666,
              "#ed7953"
             ],
             [
              0.7777777777777778,
              "#fb9f3a"
             ],
             [
              0.8888888888888888,
              "#fdca26"
             ],
             [
              1,
              "#f0f921"
             ]
            ],
            "type": "heatmap"
           }
          ],
          "histogram": [
           {
            "marker": {
             "pattern": {
              "fillmode": "overlay",
              "size": 10,
              "solidity": 0.2
             }
            },
            "type": "histogram"
           }
          ],
          "histogram2d": [
           {
            "colorbar": {
             "outlinewidth": 0,
             "ticks": ""
            },
            "colorscale": [
             [
              0,
              "#0d0887"
             ],
             [
              0.1111111111111111,
              "#46039f"
             ],
             [
              0.2222222222222222,
              "#7201a8"
             ],
             [
              0.3333333333333333,
              "#9c179e"
             ],
             [
              0.4444444444444444,
              "#bd3786"
             ],
             [
              0.5555555555555556,
              "#d8576b"
             ],
             [
              0.6666666666666666,
              "#ed7953"
             ],
             [
              0.7777777777777778,
              "#fb9f3a"
             ],
             [
              0.8888888888888888,
              "#fdca26"
             ],
             [
              1,
              "#f0f921"
             ]
            ],
            "type": "histogram2d"
           }
          ],
          "histogram2dcontour": [
           {
            "colorbar": {
             "outlinewidth": 0,
             "ticks": ""
            },
            "colorscale": [
             [
              0,
              "#0d0887"
             ],
             [
              0.1111111111111111,
              "#46039f"
             ],
             [
              0.2222222222222222,
              "#7201a8"
             ],
             [
              0.3333333333333333,
              "#9c179e"
             ],
             [
              0.4444444444444444,
              "#bd3786"
             ],
             [
              0.5555555555555556,
              "#d8576b"
             ],
             [
              0.6666666666666666,
              "#ed7953"
             ],
             [
              0.7777777777777778,
              "#fb9f3a"
             ],
             [
              0.8888888888888888,
              "#fdca26"
             ],
             [
              1,
              "#f0f921"
             ]
            ],
            "type": "histogram2dcontour"
           }
          ],
          "mesh3d": [
           {
            "colorbar": {
             "outlinewidth": 0,
             "ticks": ""
            },
            "type": "mesh3d"
           }
          ],
          "parcoords": [
           {
            "line": {
             "colorbar": {
              "outlinewidth": 0,
              "ticks": ""
             }
            },
            "type": "parcoords"
           }
          ],
          "pie": [
           {
            "automargin": true,
            "type": "pie"
           }
          ],
          "scatter": [
           {
            "fillpattern": {
             "fillmode": "overlay",
             "size": 10,
             "solidity": 0.2
            },
            "type": "scatter"
           }
          ],
          "scatter3d": [
           {
            "line": {
             "colorbar": {
              "outlinewidth": 0,
              "ticks": ""
             }
            },
            "marker": {
             "colorbar": {
              "outlinewidth": 0,
              "ticks": ""
             }
            },
            "type": "scatter3d"
           }
          ],
          "scattercarpet": [
           {
            "marker": {
             "colorbar": {
              "outlinewidth": 0,
              "ticks": ""
             }
            },
            "type": "scattercarpet"
           }
          ],
          "scattergeo": [
           {
            "marker": {
             "colorbar": {
              "outlinewidth": 0,
              "ticks": ""
             }
            },
            "type": "scattergeo"
           }
          ],
          "scattergl": [
           {
            "marker": {
             "colorbar": {
              "outlinewidth": 0,
              "ticks": ""
             }
            },
            "type": "scattergl"
           }
          ],
          "scattermap": [
           {
            "marker": {
             "colorbar": {
              "outlinewidth": 0,
              "ticks": ""
             }
            },
            "type": "scattermap"
           }
          ],
          "scattermapbox": [
           {
            "marker": {
             "colorbar": {
              "outlinewidth": 0,
              "ticks": ""
             }
            },
            "type": "scattermapbox"
           }
          ],
          "scatterpolar": [
           {
            "marker": {
             "colorbar": {
              "outlinewidth": 0,
              "ticks": ""
             }
            },
            "type": "scatterpolar"
           }
          ],
          "scatterpolargl": [
           {
            "marker": {
             "colorbar": {
              "outlinewidth": 0,
              "ticks": ""
             }
            },
            "type": "scatterpolargl"
           }
          ],
          "scatterternary": [
           {
            "marker": {
             "colorbar": {
              "outlinewidth": 0,
              "ticks": ""
             }
            },
            "type": "scatterternary"
           }
          ],
          "surface": [
           {
            "colorbar": {
             "outlinewidth": 0,
             "ticks": ""
            },
            "colorscale": [
             [
              0,
              "#0d0887"
             ],
             [
              0.1111111111111111,
              "#46039f"
             ],
             [
              0.2222222222222222,
              "#7201a8"
             ],
             [
              0.3333333333333333,
              "#9c179e"
             ],
             [
              0.4444444444444444,
              "#bd3786"
             ],
             [
              0.5555555555555556,
              "#d8576b"
             ],
             [
              0.6666666666666666,
              "#ed7953"
             ],
             [
              0.7777777777777778,
              "#fb9f3a"
             ],
             [
              0.8888888888888888,
              "#fdca26"
             ],
             [
              1,
              "#f0f921"
             ]
            ],
            "type": "surface"
           }
          ],
          "table": [
           {
            "cells": {
             "fill": {
              "color": "#EBF0F8"
             },
             "line": {
              "color": "white"
             }
            },
            "header": {
             "fill": {
              "color": "#C8D4E3"
             },
             "line": {
              "color": "white"
             }
            },
            "type": "table"
           }
          ]
         },
         "layout": {
          "annotationdefaults": {
           "arrowcolor": "#2a3f5f",
           "arrowhead": 0,
           "arrowwidth": 1
          },
          "autotypenumbers": "strict",
          "coloraxis": {
           "colorbar": {
            "outlinewidth": 0,
            "ticks": ""
           }
          },
          "colorscale": {
           "diverging": [
            [
             0,
             "#8e0152"
            ],
            [
             0.1,
             "#c51b7d"
            ],
            [
             0.2,
             "#de77ae"
            ],
            [
             0.3,
             "#f1b6da"
            ],
            [
             0.4,
             "#fde0ef"
            ],
            [
             0.5,
             "#f7f7f7"
            ],
            [
             0.6,
             "#e6f5d0"
            ],
            [
             0.7,
             "#b8e186"
            ],
            [
             0.8,
             "#7fbc41"
            ],
            [
             0.9,
             "#4d9221"
            ],
            [
             1,
             "#276419"
            ]
           ],
           "sequential": [
            [
             0,
             "#0d0887"
            ],
            [
             0.1111111111111111,
             "#46039f"
            ],
            [
             0.2222222222222222,
             "#7201a8"
            ],
            [
             0.3333333333333333,
             "#9c179e"
            ],
            [
             0.4444444444444444,
             "#bd3786"
            ],
            [
             0.5555555555555556,
             "#d8576b"
            ],
            [
             0.6666666666666666,
             "#ed7953"
            ],
            [
             0.7777777777777778,
             "#fb9f3a"
            ],
            [
             0.8888888888888888,
             "#fdca26"
            ],
            [
             1,
             "#f0f921"
            ]
           ],
           "sequentialminus": [
            [
             0,
             "#0d0887"
            ],
            [
             0.1111111111111111,
             "#46039f"
            ],
            [
             0.2222222222222222,
             "#7201a8"
            ],
            [
             0.3333333333333333,
             "#9c179e"
            ],
            [
             0.4444444444444444,
             "#bd3786"
            ],
            [
             0.5555555555555556,
             "#d8576b"
            ],
            [
             0.6666666666666666,
             "#ed7953"
            ],
            [
             0.7777777777777778,
             "#fb9f3a"
            ],
            [
             0.8888888888888888,
             "#fdca26"
            ],
            [
             1,
             "#f0f921"
            ]
           ]
          },
          "colorway": [
           "#636efa",
           "#EF553B",
           "#00cc96",
           "#ab63fa",
           "#FFA15A",
           "#19d3f3",
           "#FF6692",
           "#B6E880",
           "#FF97FF",
           "#FECB52"
          ],
          "font": {
           "color": "#2a3f5f"
          },
          "geo": {
           "bgcolor": "white",
           "lakecolor": "white",
           "landcolor": "#E5ECF6",
           "showlakes": true,
           "showland": true,
           "subunitcolor": "white"
          },
          "hoverlabel": {
           "align": "left"
          },
          "hovermode": "closest",
          "mapbox": {
           "style": "light"
          },
          "paper_bgcolor": "white",
          "plot_bgcolor": "#E5ECF6",
          "polar": {
           "angularaxis": {
            "gridcolor": "white",
            "linecolor": "white",
            "ticks": ""
           },
           "bgcolor": "#E5ECF6",
           "radialaxis": {
            "gridcolor": "white",
            "linecolor": "white",
            "ticks": ""
           }
          },
          "scene": {
           "xaxis": {
            "backgroundcolor": "#E5ECF6",
            "gridcolor": "white",
            "gridwidth": 2,
            "linecolor": "white",
            "showbackground": true,
            "ticks": "",
            "zerolinecolor": "white"
           },
           "yaxis": {
            "backgroundcolor": "#E5ECF6",
            "gridcolor": "white",
            "gridwidth": 2,
            "linecolor": "white",
            "showbackground": true,
            "ticks": "",
            "zerolinecolor": "white"
           },
           "zaxis": {
            "backgroundcolor": "#E5ECF6",
            "gridcolor": "white",
            "gridwidth": 2,
            "linecolor": "white",
            "showbackground": true,
            "ticks": "",
            "zerolinecolor": "white"
           }
          },
          "shapedefaults": {
           "line": {
            "color": "#2a3f5f"
           }
          },
          "ternary": {
           "aaxis": {
            "gridcolor": "white",
            "linecolor": "white",
            "ticks": ""
           },
           "baxis": {
            "gridcolor": "white",
            "linecolor": "white",
            "ticks": ""
           },
           "bgcolor": "#E5ECF6",
           "caxis": {
            "gridcolor": "white",
            "linecolor": "white",
            "ticks": ""
           }
          },
          "title": {
           "x": 0.05
          },
          "xaxis": {
           "automargin": true,
           "gridcolor": "white",
           "linecolor": "white",
           "ticks": "",
           "title": {
            "standoff": 15
           },
           "zerolinecolor": "white",
           "zerolinewidth": 2
          },
          "yaxis": {
           "automargin": true,
           "gridcolor": "white",
           "linecolor": "white",
           "ticks": "",
           "title": {
            "standoff": 15
           },
           "zerolinecolor": "white",
           "zerolinewidth": 2
          }
         }
        },
        "title": {
         "font": {
          "family": "Arial Black",
          "size": 20
         },
         "text": "<b>Predicción vs Realidad - 2.3 - SEGURIDAD VIAL</b>",
         "x": 0.5,
         "xanchor": "center"
        },
        "width": 900,
        "xaxis": {
         "gridcolor": "lightgray",
         "gridwidth": 0.5,
         "showgrid": true,
         "title": {
          "font": {
           "size": 14
          },
          "text": "<b>Valor Real ($)</b>"
         }
        },
        "yaxis": {
         "gridcolor": "lightgray",
         "gridwidth": 0.5,
         "showgrid": true,
         "title": {
          "font": {
           "size": 14
          },
          "text": "<b>Valor Predicho ($)</b>"
         }
        }
       }
      }
     },
     "metadata": {},
     "output_type": "display_data"
    },
    {
     "name": "stdout",
     "output_type": "stream",
     "text": [
      "  → Removed 5/42 outliers (11.9%) using ensemble\n",
      "     • isolation_forest: 5 outliers\n",
      "     • lof: 5 outliers\n",
      "     • robust_statistical: 4 outliers\n",
      "     • z_score: 1 outliers\n",
      "2.4 - SISTEMAS INTELIGENTES\n",
      "Best params: {'regressor__svr__C': 200, 'regressor__svr__epsilon': 0.01, 'regressor__svr__gamma': 0.01}\n",
      "{'R2': 0.8512799272969779, 'MAE': 409025.9121887115, 'RMSE': np.float64(1723149.2436338912), 'RMSLE': np.float64(0.12688379723284127), 'MAPE%': 4.590438781928622}\n"
     ]
    },
    {
     "data": {
      "application/vnd.plotly.v1+json": {
       "config": {
        "plotlyServerURL": "https://plot.ly"
       },
       "data": [
        {
         "customdata": [
          "<b>Código:</b> 0654801<br><b>Nombre:</b> BUGA - BUENAVENTURA<br><b>LONGITUD KM:</b> 0.80<br><b>ALCANCE:</b> Construcción <br><b>Valor Real:</b> $510,504<br><b>Predicción:</b> $581,720"
         ],
         "hovertemplate": "%{customdata}<extra></extra>",
         "marker": {
          "color": "#7f7f7f",
          "line": {
           "color": "white",
           "width": 1
          },
          "opacity": 0.8,
          "size": 12
         },
         "mode": "markers",
         "name": "Construcción ",
         "type": "scatter",
         "x": {
          "bdata": "m+QgraEoH0E=",
          "dtype": "f8"
         },
         "y": {
          "bdata": "IlUkPrDAIUE=",
          "dtype": "f8"
         }
        },
        {
         "customdata": [
          "<b>Código:</b> 0321501<br><b>Nombre:</b> DISEÑO GEOMÉTRICO TERCER CARRIL BOGOTÁ - GIRARDOT<br><b>LONGITUD KM:</b> 9.00<br><b>ALCANCE:</b> Mejoramiento<br><b>Valor Real:</b> $5,913,181<br><b>Predicción:</b> $5,944,700",
          "<b>Código:</b> 0321501<br><b>Nombre:</b> DISEÑO GEOMÉTRICO TERCER CARRIL BOGOTÁ - GIRARDOT<br><b>LONGITUD KM:</b> 21.00<br><b>ALCANCE:</b> Mejoramiento<br><b>Valor Real:</b> $13,797,423<br><b>Predicción:</b> $13,475,581",
          "<b>Código:</b> 0321501<br><b>Nombre:</b> DISEÑO GEOMÉTRICO TERCER CARRIL BOGOTÁ - GIRARDOT<br><b>LONGITUD KM:</b> 14.00<br><b>ALCANCE:</b> Mejoramiento<br><b>Valor Real:</b> $9,198,282<br><b>Predicción:</b> $9,295,814",
          "<b>Código:</b> 0321501<br><b>Nombre:</b> DISEÑO GEOMÉTRICO TERCER CARRIL BOGOTÁ - GIRARDOT<br><b>LONGITUD KM:</b> 6.56<br><b>ALCANCE:</b> Mejoramiento<br><b>Valor Real:</b> $4,310,052<br><b>Predicción:</b> $4,226,874",
          "<b>Código:</b> 0321501<br><b>Nombre:</b> DISEÑO GEOMÉTRICO TERCER CARRIL BOGOTÁ - GIRARDOT<br><b>LONGITUD KM:</b> 18.92<br><b>ALCANCE:</b> Mejoramiento<br><b>Valor Real:</b> $12,430,821<br><b>Predicción:</b> $12,291,127",
          "<b>Código:</b> 0321501<br><b>Nombre:</b> DISEÑO GEOMÉTRICO TERCER CARRIL BOGOTÁ - GIRARDOT<br><b>LONGITUD KM:</b> 14.52<br><b>ALCANCE:</b> Mejoramiento<br><b>Valor Real:</b> $9,539,932<br><b>Predicción:</b> $9,631,273",
          "<b>Código:</b> 0321501<br><b>Nombre:</b> DISEÑO GEOMÉTRICO TERCER CARRIL BOGOTÁ - GIRARDOT<br><b>LONGITUD KM:</b> 9.86<br><b>ALCANCE:</b> Mejoramiento<br><b>Valor Real:</b> $6,478,219<br><b>Predicción:</b> $6,508,616"
         ],
         "hovertemplate": "%{customdata}<extra></extra>",
         "marker": {
          "color": "#2ca02c",
          "line": {
           "color": "white",
           "width": 1
          },
          "opacity": 0.8,
          "size": 12
         },
         "mode": "markers",
         "name": "Mejoramiento",
         "type": "scatter",
         "x": {
          "bdata": "Mwk7T5eOVkG8im/cBVFqQdKxnz1Zi2FBKeGMBglxUEFChhSgvLVnQfBytowrMmJBIf6Zo2K2WEE=",
          "dtype": "f8"
         },
         "y": {
          "bdata": "obYh+F6tVkFtyLWW37NpQaOwVLD4umFBmpupas4fUEHtTDjRhnFnQfvKaxLFXmJBorxlGxLUWEE=",
          "dtype": "f8"
         }
        },
        {
         "customdata": [
          "<b>Código:</b> 0654801<br><b>Nombre:</b> BUGA - BUENAVENTURA<br><b>LONGITUD KM:</b> 3.12<br><b>ALCANCE:</b> Nuevo<br><b>Valor Real:</b> $1,990,967<br><b>Predicción:</b> $1,729,545"
         ],
         "hovertemplate": "%{customdata}<extra></extra>",
         "marker": {
          "color": "#9467bd",
          "line": {
           "color": "white",
           "width": 1
          },
          "opacity": 0.8,
          "size": 12
         },
         "mode": "markers",
         "name": "Nuevo",
         "type": "scatter",
         "x": {
          "bdata": "GBIAPDdhPkE=",
          "dtype": "f8"
         },
         "y": {
          "bdata": "X6obHglkOkE=",
          "dtype": "f8"
         }
        },
        {
         "customdata": [
          "<b>Código:</b> 0654801<br><b>Nombre:</b> BUGA - BUENAVENTURA<br><b>LONGITUD KM:</b> 19.31<br><b>ALCANCE:</b> Puesta a punto<br><b>Valor Real:</b> $12,322,300<br><b>Predicción:</b> $12,308,816",
          "<b>Código:</b> 0654801<br><b>Nombre:</b> BUGA - BUENAVENTURA<br><b>LONGITUD KM:</b> 8.21<br><b>ALCANCE:</b> Puesta a punto<br><b>Valor Real:</b> $5,239,052<br><b>Predicción:</b> $5,198,890",
          "<b>Código:</b> 0654801<br><b>Nombre:</b> BUGA - BUENAVENTURA<br><b>LONGITUD KM:</b> 12.16<br><b>ALCANCE:</b> Puesta a punto<br><b>Valor Real:</b> $7,759,667<br><b>Predicción:</b> $7,833,454",
          "<b>Código:</b> 0654801<br><b>Nombre:</b> BUGA - BUENAVENTURA<br><b>LONGITUD KM:</b> 12.16<br><b>ALCANCE:</b> Puesta a punto<br><b>Valor Real:</b> $7,759,667<br><b>Predicción:</b> $7,828,160",
          "<b>Código:</b> 0654801<br><b>Nombre:</b> BUGA - BUENAVENTURA<br><b>LONGITUD KM:</b> 1.00<br><b>ALCANCE:</b> Puesta a punto<br><b>Valor Real:</b> $638,131<br><b>Predicción:</b> $656,759",
          "<b>Código:</b> 0654801<br><b>Nombre:</b> BUGA - BUENAVENTURA<br><b>LONGITUD KM:</b> 14.00<br><b>ALCANCE:</b> Puesta a punto<br><b>Valor Real:</b> $8,933,827<br><b>Predicción:</b> $9,023,049",
          "<b>Código:</b> 0654801<br><b>Nombre:</b> BUGA - BUENAVENTURA<br><b>LONGITUD KM:</b> 14.00<br><b>ALCANCE:</b> Puesta a punto<br><b>Valor Real:</b> $8,933,827<br><b>Predicción:</b> $9,022,443",
          "<b>Código:</b> 0654801<br><b>Nombre:</b> BUGA - BUENAVENTURA<br><b>LONGITUD KM:</b> 7.84<br><b>ALCANCE:</b> Puesta a punto<br><b>Valor Real:</b> $5,002,943<br><b>Predicción:</b> $4,935,762"
         ],
         "hovertemplate": "%{customdata}<extra></extra>",
         "marker": {
          "color": "#e377c2",
          "line": {
           "color": "white",
           "width": 1
          },
          "opacity": 0.8,
          "size": 12
         },
         "mode": "markers",
         "name": "Puesta a punto",
         "type": "scatter",
         "x": {
          "bdata": "o09Kjb+AZ0EIGXLmQvxTQZM/38rMmV1Bkz/fysyZXUHhjjQMZXkjQQX9rWo4CmFBBf2tajgKYUGfJaTTrxVTQQ==",
          "dtype": "f8"
         },
         "y": {
          "bdata": "fC0s/il6Z0H8NhaQCtVTQbqaupjb4V1BDtwm/q/cXUF0DGG27QokQcYNvx3JNWFBeDB1X301YUHFicliFNRSQQ==",
          "dtype": "f8"
         }
        },
        {
         "customdata": [
          "<b>Código:</b> 0654801<br><b>Nombre:</b> BUGA - BUENAVENTURA<br><b>LONGITUD KM:</b> 15.00<br><b>ALCANCE:</b> Rehabilitación<br><b>Valor Real:</b> $9,571,958<br><b>Predicción:</b> $10,255,843",
          "<b>Código:</b> 0654801<br><b>Nombre:</b> BUGA - BUENAVENTURA<br><b>LONGITUD KM:</b> 3.15<br><b>ALCANCE:</b> Rehabilitación<br><b>Valor Real:</b> $2,010,111<br><b>Predicción:</b> $1,796,117"
         ],
         "hovertemplate": "%{customdata}<extra></extra>",
         "marker": {
          "color": "#d62728",
          "line": {
           "color": "white",
           "width": 1
          },
          "opacity": 0.8,
          "size": 12
         },
         "mode": "markers",
         "name": "Rehabilitación",
         "type": "scatter",
         "x": {
          "bdata": "80Vxu85BYkEJYWwm/6s+QQ==",
          "dtype": "f8"
         },
         "y": {
          "bdata": "W8rrY7yPY0FLykL7FGg7QQ==",
          "dtype": "f8"
         }
        },
        {
         "customdata": [
          "<b>Código:</b> 0005<br><b>Nombre:</b> BUENAVENTURA LOBOGUERRERO<br><b>LONGITUD KM:</b> 10.00<br><b>ALCANCE:</b> Segunda calzada<br><b>Valor Real:</b> $6,750,908<br><b>Predicción:</b> $6,740,765",
          "<b>Código:</b> 0005<br><b>Nombre:</b> BUENAVENTURA LOBOGUERRERO<br><b>LONGITUD KM:</b> 14.30<br><b>ALCANCE:</b> Segunda calzada<br><b>Valor Real:</b> $9,653,799<br><b>Predicción:</b> $9,763,068",
          "<b>Código:</b> 0005<br><b>Nombre:</b> BUENAVENTURA LOBOGUERRERO<br><b>LONGITUD KM:</b> 13.50<br><b>ALCANCE:</b> Segunda calzada<br><b>Valor Real:</b> $9,113,726<br><b>Predicción:</b> $9,273,607",
          "<b>Código:</b> 0005<br><b>Nombre:</b> BUENAVENTURA LOBOGUERRERO<br><b>LONGITUD KM:</b> 7.60<br><b>ALCANCE:</b> Segunda calzada<br><b>Valor Real:</b> $5,130,690<br><b>Predicción:</b> $5,039,883",
          "<b>Código:</b> 0654801<br><b>Nombre:</b> BUGA - BUENAVENTURA<br><b>LONGITUD KM:</b> 3.37<br><b>ALCANCE:</b> Segunda calzada<br><b>Valor Real:</b> $2,150,500<br><b>Predicción:</b> $2,133,762",
          "<b>Código:</b> 0654801<br><b>Nombre:</b> BUGA - BUENAVENTURA<br><b>LONGITUD KM:</b> 3.50<br><b>ALCANCE:</b> Segunda calzada<br><b>Valor Real:</b> $2,233,457<br><b>Predicción:</b> $2,221,926",
          "<b>Código:</b> 0654801<br><b>Nombre:</b> BUGA - BUENAVENTURA<br><b>LONGITUD KM:</b> 5.17<br><b>ALCANCE:</b> Segunda calzada<br><b>Valor Real:</b> $3,299,135<br><b>Predicción:</b> $3,395,522",
          "<b>Código:</b> 0654801<br><b>Nombre:</b> BUGA - BUENAVENTURA<br><b>LONGITUD KM:</b> 0.91<br><b>ALCANCE:</b> Segunda calzada<br><b>Valor Real:</b> $580,699<br><b>Predicción:</b> $682,100",
          "<b>Código:</b> 0654801<br><b>Nombre:</b> BUGA - BUENAVENTURA<br><b>LONGITUD KM:</b> 3.16<br><b>ALCANCE:</b> Segunda calzada<br><b>Valor Real:</b> $2,016,492<br><b>Predicción:</b> $2,006,389",
          "<b>Código:</b> 0654801<br><b>Nombre:</b> BUGA - BUENAVENTURA<br><b>LONGITUD KM:</b> 4.00<br><b>ALCANCE:</b> Segunda calzada<br><b>Valor Real:</b> $2,552,522<br><b>Predicción:</b> $2,561,334",
          "<b>Código:</b> 0654801<br><b>Nombre:</b> BUGA - BUENAVENTURA<br><b>LONGITUD KM:</b> 2.00<br><b>ALCANCE:</b> Segunda calzada<br><b>Valor Real:</b> $1,276,261<br><b>Predicción:</b> $1,258,530",
          "<b>Código:</b> 0654801<br><b>Nombre:</b> BUGA - BUENAVENTURA<br><b>LONGITUD KM:</b> 1.85<br><b>ALCANCE:</b> Segunda calzada<br><b>Valor Real:</b> $1,180,541<br><b>Predicción:</b> $1,172,953",
          "<b>Código:</b> 0654801<br><b>Nombre:</b> BUGA - BUENAVENTURA<br><b>LONGITUD KM:</b> 3.17<br><b>ALCANCE:</b> Segunda calzada<br><b>Valor Real:</b> $2,022,874<br><b>Predicción:</b> $2,006,722",
          "<b>Código:</b> 0654801<br><b>Nombre:</b> BUGA - BUENAVENTURA<br><b>LONGITUD KM:</b> 2.00<br><b>ALCANCE:</b> Segunda calzada<br><b>Valor Real:</b> $1,276,261<br><b>Predicción:</b> $1,263,959",
          "<b>Código:</b> 0654801<br><b>Nombre:</b> BUGA - BUENAVENTURA<br><b>LONGITUD KM:</b> 2.38<br><b>ALCANCE:</b> Segunda calzada<br><b>Valor Real:</b> $1,518,751<br><b>Predicción:</b> $1,492,440",
          "<b>Código:</b> 6935<br><b>Nombre:</b>  PEDREGAL - PASTO UF4-UF5<br><b>LONGITUD KM:</b> 15.76<br><b>ALCANCE:</b> Segunda calzada<br><b>Valor Real:</b> $20,850,053<br><b>Predicción:</b> $10,468,052"
         ],
         "hovertemplate": "%{customdata}<extra></extra>",
         "marker": {
          "color": "#1f77b4",
          "line": {
           "color": "white",
           "width": 1
          },
          "opacity": 0.8,
          "size": 12
         },
         "mode": "markers",
         "name": "Segunda calzada",
         "type": "scatter",
         "x": {
          "bdata": "6vOdEK/AWUFnDvbZxGliQaQE0cQPYmFBX7m/kXCSU0H6UcPuMWhAQQX9rWo4CkFBRZJ0Z58rSUE4taqNtbghQVp7kHTsxD5B4Y40DGV5Q0HhjjQMZXkzQSoEF3h9AzJBqZW0wtndPkHhjjQMZXkzQdR2kKWeLDdBlpVEU1jic0E=",
          "dtype": "f8"
         },
         "y": {
          "bdata": "Z9KOTse2WUFIgTWMH59iQVWNreggsGFBhkH6w8I5U0FRkvMTgUdAQYB42u6y80BB/lGZCuHnSUGkScdD59AkQYO+HUt1nT5BRUS14pqKQ0HmqhHgITQzQZCk1e/Y5TFBhuKal8GePkEd48IbV0kzQZI55pbXxTZB+xvZcVr3Y0E=",
          "dtype": "f8"
         }
        },
        {
         "customdata": [
          "<b>Código:</b> 0005<br><b>Nombre:</b> BUENAVENTURA LOBOGUERRERO<br><b>LONGITUD KM:</b> 10.20<br><b>ALCANCE:</b> operacion y mantenimiento<br><b>Valor Real:</b> $6,885,926<br><b>Predicción:</b> $6,050,778",
          "<b>Código:</b> 0005<br><b>Nombre:</b> BUENAVENTURA LOBOGUERRERO<br><b>LONGITUD KM:</b> 8.50<br><b>ALCANCE:</b> operacion y mantenimiento<br><b>Valor Real:</b> $5,738,272<br><b>Predicción:</b> $5,002,215"
         ],
         "hovertemplate": "%{customdata}<extra></extra>",
         "marker": {
          "color": "#ff7f0e",
          "line": {
           "color": "white",
           "width": 1
          },
          "opacity": 0.8,
          "size": 12
         },
         "mode": "markers",
         "name": "operacion y mantenimiento",
         "type": "scatter",
         "x": {
          "bdata": "y3gwm4lEWkFTD1MByONVQQ==",
          "dtype": "f8"
         },
         "y": {
          "bdata": "/uppf/YUV0Fld66l+RRTQQ==",
          "dtype": "f8"
         }
        },
        {
         "line": {
          "color": "red",
          "dash": "dash",
          "width": 2
         },
         "mode": "lines",
         "name": "Predicción Perfecta",
         "showlegend": true,
         "type": "scatter",
         "x": [
          510504.4190707893,
          20850053.20424422
         ],
         "y": [
          510504.4190707893,
          20850053.20424422
         ]
        }
       ],
       "layout": {
        "height": 600,
        "hovermode": "closest",
        "legend": {
         "bgcolor": "rgba(255, 255, 255, 0.9)",
         "bordercolor": "lightgray",
         "borderwidth": 1,
         "orientation": "v",
         "x": 0.01,
         "xanchor": "left",
         "y": 0.99,
         "yanchor": "top"
        },
        "paper_bgcolor": "white",
        "plot_bgcolor": "white",
        "template": {
         "data": {
          "bar": [
           {
            "error_x": {
             "color": "#2a3f5f"
            },
            "error_y": {
             "color": "#2a3f5f"
            },
            "marker": {
             "line": {
              "color": "#E5ECF6",
              "width": 0.5
             },
             "pattern": {
              "fillmode": "overlay",
              "size": 10,
              "solidity": 0.2
             }
            },
            "type": "bar"
           }
          ],
          "barpolar": [
           {
            "marker": {
             "line": {
              "color": "#E5ECF6",
              "width": 0.5
             },
             "pattern": {
              "fillmode": "overlay",
              "size": 10,
              "solidity": 0.2
             }
            },
            "type": "barpolar"
           }
          ],
          "carpet": [
           {
            "aaxis": {
             "endlinecolor": "#2a3f5f",
             "gridcolor": "white",
             "linecolor": "white",
             "minorgridcolor": "white",
             "startlinecolor": "#2a3f5f"
            },
            "baxis": {
             "endlinecolor": "#2a3f5f",
             "gridcolor": "white",
             "linecolor": "white",
             "minorgridcolor": "white",
             "startlinecolor": "#2a3f5f"
            },
            "type": "carpet"
           }
          ],
          "choropleth": [
           {
            "colorbar": {
             "outlinewidth": 0,
             "ticks": ""
            },
            "type": "choropleth"
           }
          ],
          "contour": [
           {
            "colorbar": {
             "outlinewidth": 0,
             "ticks": ""
            },
            "colorscale": [
             [
              0,
              "#0d0887"
             ],
             [
              0.1111111111111111,
              "#46039f"
             ],
             [
              0.2222222222222222,
              "#7201a8"
             ],
             [
              0.3333333333333333,
              "#9c179e"
             ],
             [
              0.4444444444444444,
              "#bd3786"
             ],
             [
              0.5555555555555556,
              "#d8576b"
             ],
             [
              0.6666666666666666,
              "#ed7953"
             ],
             [
              0.7777777777777778,
              "#fb9f3a"
             ],
             [
              0.8888888888888888,
              "#fdca26"
             ],
             [
              1,
              "#f0f921"
             ]
            ],
            "type": "contour"
           }
          ],
          "contourcarpet": [
           {
            "colorbar": {
             "outlinewidth": 0,
             "ticks": ""
            },
            "type": "contourcarpet"
           }
          ],
          "heatmap": [
           {
            "colorbar": {
             "outlinewidth": 0,
             "ticks": ""
            },
            "colorscale": [
             [
              0,
              "#0d0887"
             ],
             [
              0.1111111111111111,
              "#46039f"
             ],
             [
              0.2222222222222222,
              "#7201a8"
             ],
             [
              0.3333333333333333,
              "#9c179e"
             ],
             [
              0.4444444444444444,
              "#bd3786"
             ],
             [
              0.5555555555555556,
              "#d8576b"
             ],
             [
              0.6666666666666666,
              "#ed7953"
             ],
             [
              0.7777777777777778,
              "#fb9f3a"
             ],
             [
              0.8888888888888888,
              "#fdca26"
             ],
             [
              1,
              "#f0f921"
             ]
            ],
            "type": "heatmap"
           }
          ],
          "histogram": [
           {
            "marker": {
             "pattern": {
              "fillmode": "overlay",
              "size": 10,
              "solidity": 0.2
             }
            },
            "type": "histogram"
           }
          ],
          "histogram2d": [
           {
            "colorbar": {
             "outlinewidth": 0,
             "ticks": ""
            },
            "colorscale": [
             [
              0,
              "#0d0887"
             ],
             [
              0.1111111111111111,
              "#46039f"
             ],
             [
              0.2222222222222222,
              "#7201a8"
             ],
             [
              0.3333333333333333,
              "#9c179e"
             ],
             [
              0.4444444444444444,
              "#bd3786"
             ],
             [
              0.5555555555555556,
              "#d8576b"
             ],
             [
              0.6666666666666666,
              "#ed7953"
             ],
             [
              0.7777777777777778,
              "#fb9f3a"
             ],
             [
              0.8888888888888888,
              "#fdca26"
             ],
             [
              1,
              "#f0f921"
             ]
            ],
            "type": "histogram2d"
           }
          ],
          "histogram2dcontour": [
           {
            "colorbar": {
             "outlinewidth": 0,
             "ticks": ""
            },
            "colorscale": [
             [
              0,
              "#0d0887"
             ],
             [
              0.1111111111111111,
              "#46039f"
             ],
             [
              0.2222222222222222,
              "#7201a8"
             ],
             [
              0.3333333333333333,
              "#9c179e"
             ],
             [
              0.4444444444444444,
              "#bd3786"
             ],
             [
              0.5555555555555556,
              "#d8576b"
             ],
             [
              0.6666666666666666,
              "#ed7953"
             ],
             [
              0.7777777777777778,
              "#fb9f3a"
             ],
             [
              0.8888888888888888,
              "#fdca26"
             ],
             [
              1,
              "#f0f921"
             ]
            ],
            "type": "histogram2dcontour"
           }
          ],
          "mesh3d": [
           {
            "colorbar": {
             "outlinewidth": 0,
             "ticks": ""
            },
            "type": "mesh3d"
           }
          ],
          "parcoords": [
           {
            "line": {
             "colorbar": {
              "outlinewidth": 0,
              "ticks": ""
             }
            },
            "type": "parcoords"
           }
          ],
          "pie": [
           {
            "automargin": true,
            "type": "pie"
           }
          ],
          "scatter": [
           {
            "fillpattern": {
             "fillmode": "overlay",
             "size": 10,
             "solidity": 0.2
            },
            "type": "scatter"
           }
          ],
          "scatter3d": [
           {
            "line": {
             "colorbar": {
              "outlinewidth": 0,
              "ticks": ""
             }
            },
            "marker": {
             "colorbar": {
              "outlinewidth": 0,
              "ticks": ""
             }
            },
            "type": "scatter3d"
           }
          ],
          "scattercarpet": [
           {
            "marker": {
             "colorbar": {
              "outlinewidth": 0,
              "ticks": ""
             }
            },
            "type": "scattercarpet"
           }
          ],
          "scattergeo": [
           {
            "marker": {
             "colorbar": {
              "outlinewidth": 0,
              "ticks": ""
             }
            },
            "type": "scattergeo"
           }
          ],
          "scattergl": [
           {
            "marker": {
             "colorbar": {
              "outlinewidth": 0,
              "ticks": ""
             }
            },
            "type": "scattergl"
           }
          ],
          "scattermap": [
           {
            "marker": {
             "colorbar": {
              "outlinewidth": 0,
              "ticks": ""
             }
            },
            "type": "scattermap"
           }
          ],
          "scattermapbox": [
           {
            "marker": {
             "colorbar": {
              "outlinewidth": 0,
              "ticks": ""
             }
            },
            "type": "scattermapbox"
           }
          ],
          "scatterpolar": [
           {
            "marker": {
             "colorbar": {
              "outlinewidth": 0,
              "ticks": ""
             }
            },
            "type": "scatterpolar"
           }
          ],
          "scatterpolargl": [
           {
            "marker": {
             "colorbar": {
              "outlinewidth": 0,
              "ticks": ""
             }
            },
            "type": "scatterpolargl"
           }
          ],
          "scatterternary": [
           {
            "marker": {
             "colorbar": {
              "outlinewidth": 0,
              "ticks": ""
             }
            },
            "type": "scatterternary"
           }
          ],
          "surface": [
           {
            "colorbar": {
             "outlinewidth": 0,
             "ticks": ""
            },
            "colorscale": [
             [
              0,
              "#0d0887"
             ],
             [
              0.1111111111111111,
              "#46039f"
             ],
             [
              0.2222222222222222,
              "#7201a8"
             ],
             [
              0.3333333333333333,
              "#9c179e"
             ],
             [
              0.4444444444444444,
              "#bd3786"
             ],
             [
              0.5555555555555556,
              "#d8576b"
             ],
             [
              0.6666666666666666,
              "#ed7953"
             ],
             [
              0.7777777777777778,
              "#fb9f3a"
             ],
             [
              0.8888888888888888,
              "#fdca26"
             ],
             [
              1,
              "#f0f921"
             ]
            ],
            "type": "surface"
           }
          ],
          "table": [
           {
            "cells": {
             "fill": {
              "color": "#EBF0F8"
             },
             "line": {
              "color": "white"
             }
            },
            "header": {
             "fill": {
              "color": "#C8D4E3"
             },
             "line": {
              "color": "white"
             }
            },
            "type": "table"
           }
          ]
         },
         "layout": {
          "annotationdefaults": {
           "arrowcolor": "#2a3f5f",
           "arrowhead": 0,
           "arrowwidth": 1
          },
          "autotypenumbers": "strict",
          "coloraxis": {
           "colorbar": {
            "outlinewidth": 0,
            "ticks": ""
           }
          },
          "colorscale": {
           "diverging": [
            [
             0,
             "#8e0152"
            ],
            [
             0.1,
             "#c51b7d"
            ],
            [
             0.2,
             "#de77ae"
            ],
            [
             0.3,
             "#f1b6da"
            ],
            [
             0.4,
             "#fde0ef"
            ],
            [
             0.5,
             "#f7f7f7"
            ],
            [
             0.6,
             "#e6f5d0"
            ],
            [
             0.7,
             "#b8e186"
            ],
            [
             0.8,
             "#7fbc41"
            ],
            [
             0.9,
             "#4d9221"
            ],
            [
             1,
             "#276419"
            ]
           ],
           "sequential": [
            [
             0,
             "#0d0887"
            ],
            [
             0.1111111111111111,
             "#46039f"
            ],
            [
             0.2222222222222222,
             "#7201a8"
            ],
            [
             0.3333333333333333,
             "#9c179e"
            ],
            [
             0.4444444444444444,
             "#bd3786"
            ],
            [
             0.5555555555555556,
             "#d8576b"
            ],
            [
             0.6666666666666666,
             "#ed7953"
            ],
            [
             0.7777777777777778,
             "#fb9f3a"
            ],
            [
             0.8888888888888888,
             "#fdca26"
            ],
            [
             1,
             "#f0f921"
            ]
           ],
           "sequentialminus": [
            [
             0,
             "#0d0887"
            ],
            [
             0.1111111111111111,
             "#46039f"
            ],
            [
             0.2222222222222222,
             "#7201a8"
            ],
            [
             0.3333333333333333,
             "#9c179e"
            ],
            [
             0.4444444444444444,
             "#bd3786"
            ],
            [
             0.5555555555555556,
             "#d8576b"
            ],
            [
             0.6666666666666666,
             "#ed7953"
            ],
            [
             0.7777777777777778,
             "#fb9f3a"
            ],
            [
             0.8888888888888888,
             "#fdca26"
            ],
            [
             1,
             "#f0f921"
            ]
           ]
          },
          "colorway": [
           "#636efa",
           "#EF553B",
           "#00cc96",
           "#ab63fa",
           "#FFA15A",
           "#19d3f3",
           "#FF6692",
           "#B6E880",
           "#FF97FF",
           "#FECB52"
          ],
          "font": {
           "color": "#2a3f5f"
          },
          "geo": {
           "bgcolor": "white",
           "lakecolor": "white",
           "landcolor": "#E5ECF6",
           "showlakes": true,
           "showland": true,
           "subunitcolor": "white"
          },
          "hoverlabel": {
           "align": "left"
          },
          "hovermode": "closest",
          "mapbox": {
           "style": "light"
          },
          "paper_bgcolor": "white",
          "plot_bgcolor": "#E5ECF6",
          "polar": {
           "angularaxis": {
            "gridcolor": "white",
            "linecolor": "white",
            "ticks": ""
           },
           "bgcolor": "#E5ECF6",
           "radialaxis": {
            "gridcolor": "white",
            "linecolor": "white",
            "ticks": ""
           }
          },
          "scene": {
           "xaxis": {
            "backgroundcolor": "#E5ECF6",
            "gridcolor": "white",
            "gridwidth": 2,
            "linecolor": "white",
            "showbackground": true,
            "ticks": "",
            "zerolinecolor": "white"
           },
           "yaxis": {
            "backgroundcolor": "#E5ECF6",
            "gridcolor": "white",
            "gridwidth": 2,
            "linecolor": "white",
            "showbackground": true,
            "ticks": "",
            "zerolinecolor": "white"
           },
           "zaxis": {
            "backgroundcolor": "#E5ECF6",
            "gridcolor": "white",
            "gridwidth": 2,
            "linecolor": "white",
            "showbackground": true,
            "ticks": "",
            "zerolinecolor": "white"
           }
          },
          "shapedefaults": {
           "line": {
            "color": "#2a3f5f"
           }
          },
          "ternary": {
           "aaxis": {
            "gridcolor": "white",
            "linecolor": "white",
            "ticks": ""
           },
           "baxis": {
            "gridcolor": "white",
            "linecolor": "white",
            "ticks": ""
           },
           "bgcolor": "#E5ECF6",
           "caxis": {
            "gridcolor": "white",
            "linecolor": "white",
            "ticks": ""
           }
          },
          "title": {
           "x": 0.05
          },
          "xaxis": {
           "automargin": true,
           "gridcolor": "white",
           "linecolor": "white",
           "ticks": "",
           "title": {
            "standoff": 15
           },
           "zerolinecolor": "white",
           "zerolinewidth": 2
          },
          "yaxis": {
           "automargin": true,
           "gridcolor": "white",
           "linecolor": "white",
           "ticks": "",
           "title": {
            "standoff": 15
           },
           "zerolinecolor": "white",
           "zerolinewidth": 2
          }
         }
        },
        "title": {
         "font": {
          "family": "Arial Black",
          "size": 20
         },
         "text": "<b>Predicción vs Realidad - 2.4 - SISTEMAS INTELIGENTES</b>",
         "x": 0.5,
         "xanchor": "center"
        },
        "width": 900,
        "xaxis": {
         "gridcolor": "lightgray",
         "gridwidth": 0.5,
         "showgrid": true,
         "title": {
          "font": {
           "size": 14
          },
          "text": "<b>Valor Real ($)</b>"
         }
        },
        "yaxis": {
         "gridcolor": "lightgray",
         "gridwidth": 0.5,
         "showgrid": true,
         "title": {
          "font": {
           "size": 14
          },
          "text": "<b>Valor Predicho ($)</b>"
         }
        }
       }
      }
     },
     "metadata": {},
     "output_type": "display_data"
    },
    {
     "name": "stdout",
     "output_type": "stream",
     "text": [
      "  → Removed 7/44 outliers (15.9%) using ensemble\n",
      "     • isolation_forest: 5 outliers\n",
      "     • lof: 5 outliers\n",
      "     • robust_statistical: 9 outliers\n",
      "     • z_score: 0 outliers\n",
      "5 - TALUDES\n",
      "Best params: {'regressor__svr__C': 80, 'regressor__svr__epsilon': 0.01, 'regressor__svr__gamma': 0.01}\n",
      "{'R2': 0.5500808832166654, 'MAE': 4610935.4374588, 'RMSE': np.float64(11457757.603246277), 'RMSLE': np.float64(0.6167585671285556), 'MAPE%': 21.407052573444656}\n"
     ]
    },
    {
     "data": {
      "application/vnd.plotly.v1+json": {
       "config": {
        "plotlyServerURL": "https://plot.ly"
       },
       "data": [
        {
         "customdata": [
          "<b>Código:</b> 0654801<br><b>Nombre:</b> BUGA - BUENAVENTURA<br><b>LONGITUD KM:</b> 0.80<br><b>ALCANCE:</b> Construcción <br><b>Valor Real:</b> $2,032,312<br><b>Predicción:</b> $928,503"
         ],
         "hovertemplate": "%{customdata}<extra></extra>",
         "marker": {
          "color": "#7f7f7f",
          "line": {
           "color": "white",
           "width": 1
          },
          "opacity": 0.8,
          "size": 12
         },
         "mode": "markers",
         "name": "Construcción ",
         "type": "scatter",
         "x": {
          "bdata": "L73HTbgCP0E=",
          "dtype": "f8"
         },
         "y": {
          "bdata": "ckNxCO1VLEE=",
          "dtype": "f8"
         }
        },
        {
         "customdata": [
          "<b>Código:</b> 0266702<br><b>Nombre:</b> CATAMBUCO - PASTO UF5.2<br><b>LONGITUD KM:</b> 5.00<br><b>ALCANCE:</b> Mejoramiento<br><b>Valor Real:</b> $25,736,595<br><b>Predicción:</b> $2,072,171",
          "<b>Código:</b> 0321501<br><b>Nombre:</b> DISEÑO GEOMÉTRICO TERCER CARRIL BOGOTÁ - GIRARDOT<br><b>LONGITUD KM:</b> 9.00<br><b>ALCANCE:</b> Mejoramiento<br><b>Valor Real:</b> $3,722,531<br><b>Predicción:</b> $4,745,967",
          "<b>Código:</b> 0321501<br><b>Nombre:</b> DISEÑO GEOMÉTRICO TERCER CARRIL BOGOTÁ - GIRARDOT<br><b>LONGITUD KM:</b> 21.00<br><b>ALCANCE:</b> Mejoramiento<br><b>Valor Real:</b> $8,685,906<br><b>Predicción:</b> $7,995,015",
          "<b>Código:</b> 0321501<br><b>Nombre:</b> DISEÑO GEOMÉTRICO TERCER CARRIL BOGOTÁ - GIRARDOT<br><b>LONGITUD KM:</b> 14.00<br><b>ALCANCE:</b> Mejoramiento<br><b>Valor Real:</b> $5,790,604<br><b>Predicción:</b> $5,851,069",
          "<b>Código:</b> 0321501<br><b>Nombre:</b> DISEÑO GEOMÉTRICO TERCER CARRIL BOGOTÁ - GIRARDOT<br><b>LONGITUD KM:</b> 6.56<br><b>ALCANCE:</b> Mejoramiento<br><b>Valor Real:</b> $2,713,312<br><b>Predicción:</b> $4,390,557",
          "<b>Código:</b> 0321501<br><b>Nombre:</b> DISEÑO GEOMÉTRICO TERCER CARRIL BOGOTÁ - GIRARDOT<br><b>LONGITUD KM:</b> 18.92<br><b>ALCANCE:</b> Mejoramiento<br><b>Valor Real:</b> $7,825,588<br><b>Predicción:</b> $7,663,043",
          "<b>Código:</b> 0321501<br><b>Nombre:</b> DISEÑO GEOMÉTRICO TERCER CARRIL BOGOTÁ - GIRARDOT<br><b>LONGITUD KM:</b> 14.52<br><b>ALCANCE:</b> Mejoramiento<br><b>Valor Real:</b> $6,005,683<br><b>Predicción:</b> $9,764,899",
          "<b>Código:</b> 0321501<br><b>Nombre:</b> DISEÑO GEOMÉTRICO TERCER CARRIL BOGOTÁ - GIRARDOT<br><b>LONGITUD KM:</b> 9.86<br><b>ALCANCE:</b> Mejoramiento<br><b>Valor Real:</b> $4,078,240<br><b>Predicción:</b> $8,088,686",
          "<b>Código:</b> 0427901<br><b>Nombre:</b> PURIFICACIÓN - LOZANÍA<br><b>LONGITUD KM:</b> 5.00<br><b>ALCANCE:</b> Mejoramiento<br><b>Valor Real:</b> $6,931,841<br><b>Predicción:</b> $2,072,171",
          "<b>Código:</b> 0552903<br><b>Nombre:</b> TRANSVERSAL BOYACÁ<br><b>LONGITUD KM:</b> 10.06<br><b>ALCANCE:</b> Mejoramiento<br><b>Valor Real:</b> $44,276,648<br><b>Predicción:</b> $8,204,297"
         ],
         "hovertemplate": "%{customdata}<extra></extra>",
         "marker": {
          "color": "#2ca02c",
          "line": {
           "color": "white",
           "width": 1
          },
          "opacity": 0.8,
          "size": 12
         },
         "mode": "markers",
         "name": "Mejoramiento",
         "type": "scatter",
         "x": {
          "bdata": "XTU+NlmLeEHel4GKkWZMQUJDdjsqkWBBVwTz+eIWVkGvsKrFb7NEQZoGE+Qs2l1BUWSp3uzoVkEaJMnNTx1PQUtUBiBgcVpBjL4qPN0chUE=",
          "dtype": "f8"
         },
         "y": {
          "bdata": "j3/M02qeP0EVMQiyuxpSQcDGKcqhf15BvpdzOu9RVkHrk2BOp79QQTB6espwO11Bl75taQSgYkHgZTd7G9teQY9/zNNqnj9Bg+sQPQJMX0E=",
          "dtype": "f8"
         }
        },
        {
         "customdata": [
          "<b>Código:</b> 0654801<br><b>Nombre:</b> BUGA - BUENAVENTURA<br><b>LONGITUD KM:</b> 3.12<br><b>ALCANCE:</b> Nuevo<br><b>Valor Real:</b> $7,926,018<br><b>Predicción:</b> $6,079,837"
         ],
         "hovertemplate": "%{customdata}<extra></extra>",
         "marker": {
          "color": "#9467bd",
          "line": {
           "color": "white",
           "width": 1
          },
          "opacity": 0.8,
          "size": 12
         },
         "mode": "markers",
         "name": "Nuevo",
         "type": "scatter",
         "x": {
          "bdata": "QiUJf0A8XkE=",
          "dtype": "f8"
         },
         "y": {
          "bdata": "4hCkUlcxV0E=",
          "dtype": "f8"
         }
        },
        {
         "customdata": [
          "<b>Código:</b> 0654801<br><b>Nombre:</b> BUGA - BUENAVENTURA<br><b>LONGITUD KM:</b> 19.31<br><b>ALCANCE:</b> Puesta a punto<br><b>Valor Real:</b> $49,054,938<br><b>Predicción:</b> $33,585,849",
          "<b>Código:</b> 0654801<br><b>Nombre:</b> BUGA - BUENAVENTURA<br><b>LONGITUD KM:</b> 8.21<br><b>ALCANCE:</b> Puesta a punto<br><b>Valor Real:</b> $20,856,605<br><b>Predicción:</b> $20,479,704",
          "<b>Código:</b> 0654801<br><b>Nombre:</b> BUGA - BUENAVENTURA<br><b>LONGITUD KM:</b> 12.16<br><b>ALCANCE:</b> Puesta a punto<br><b>Valor Real:</b> $30,891,147<br><b>Predicción:</b> $31,209,510",
          "<b>Código:</b> 0654801<br><b>Nombre:</b> BUGA - BUENAVENTURA<br><b>LONGITUD KM:</b> 12.16<br><b>ALCANCE:</b> Puesta a punto<br><b>Valor Real:</b> $30,891,147<br><b>Predicción:</b> $30,568,595",
          "<b>Código:</b> 0654801<br><b>Nombre:</b> BUGA - BUENAVENTURA<br><b>LONGITUD KM:</b> 1.00<br><b>ALCANCE:</b> Puesta a punto<br><b>Valor Real:</b> $2,540,390<br><b>Predicción:</b> $2,720,381",
          "<b>Código:</b> 0654801<br><b>Nombre:</b> BUGA - BUENAVENTURA<br><b>LONGITUD KM:</b> 14.00<br><b>ALCANCE:</b> Puesta a punto<br><b>Valor Real:</b> $35,565,465<br><b>Predicción:</b> $35,906,624",
          "<b>Código:</b> 0654801<br><b>Nombre:</b> BUGA - BUENAVENTURA<br><b>LONGITUD KM:</b> 14.00<br><b>ALCANCE:</b> Puesta a punto<br><b>Valor Real:</b> $35,565,465<br><b>Predicción:</b> $35,915,968",
          "<b>Código:</b> 0654801<br><b>Nombre:</b> BUGA - BUENAVENTURA<br><b>LONGITUD KM:</b> 7.84<br><b>ALCANCE:</b> Puesta a punto<br><b>Valor Real:</b> $19,916,661<br><b>Predicción:</b> $20,750,805"
         ],
         "hovertemplate": "%{customdata}<extra></extra>",
         "marker": {
          "color": "#e377c2",
          "line": {
           "color": "white",
           "width": 1
          },
          "opacity": 0.8,
          "size": 12
         },
         "mode": "markers",
         "name": "Puesta a punto",
         "type": "scatter",
         "x": {
          "bdata": "AJDe0SZkh0Hz6UnQ8eNzQVONSrDIdX1BU41KsMh1fUE91pwws2FDQXY7icp89YBBdjuJynz1gEFHij1Jd/5yQQ==",
          "dtype": "f8"
         },
         "y": {
          "bdata": "0kcfytUDgEGXppCF7YdzQYULBFuCw31B5UN6NQknfUHWz9dOPsFEQS11LgAiH4FBIbQN/kUggUHtQb9SHcpzQQ==",
          "dtype": "f8"
         }
        },
        {
         "customdata": [
          "<b>Código:</b> 0347801<br><b>Nombre:</b> TERMINACIÓN TÚNEL DE LA LÍNEA<br><b>LONGITUD KM:</b> 8.35<br><b>ALCANCE:</b> Rehabilitación<br><b>Valor Real:</b> $71,114,032<br><b>Predicción:</b> $21,717,027",
          "<b>Código:</b> 0654801<br><b>Nombre:</b> BUGA - BUENAVENTURA<br><b>LONGITUD KM:</b> 15.00<br><b>ALCANCE:</b> Rehabilitación<br><b>Valor Real:</b> $38,105,856<br><b>Predicción:</b> $35,508,813",
          "<b>Código:</b> 0654801<br><b>Nombre:</b> BUGA - BUENAVENTURA<br><b>LONGITUD KM:</b> 3.15<br><b>ALCANCE:</b> Rehabilitación<br><b>Valor Real:</b> $8,002,230<br><b>Predicción:</b> $9,050,434"
         ],
         "hovertemplate": "%{customdata}<extra></extra>",
         "marker": {
          "color": "#d62728",
          "line": {
           "color": "white",
           "width": 1
          },
          "opacity": 0.8,
          "size": 12
         },
         "mode": "markers",
         "name": "Rehabilitación",
         "type": "scatter",
         "x": {
          "bdata": "lukrvnT0kEHaCJP9lyuCQTuekGythl5B",
          "dtype": "f8"
         },
         "y": {
          "bdata": "qIrFLAK2dEEsxz9oku6AQVNUdDcoQ2FB",
          "dtype": "f8"
         }
        },
        {
         "customdata": [
          "<b>Código:</b> 0300604<br><b>Nombre:</b> BUGA - BUENAVENTURA EL PORVENIR UF5<br><b>LONGITUD KM:</b> 2.50<br><b>ALCANCE:</b> Segunda calzada<br><b>Valor Real:</b> $6,567,226<br><b>Predicción:</b> $6,316,020",
          "<b>Código:</b> 0300605<br><b>Nombre:</b> BUGA - BUENAVENTURA UF4<br><b>LONGITUD KM:</b> 17.00<br><b>ALCANCE:</b> Segunda calzada<br><b>Valor Real:</b> $35,487,964<br><b>Predicción:</b> $39,581,386",
          "<b>Código:</b> 0654801<br><b>Nombre:</b> BUGA - BUENAVENTURA<br><b>LONGITUD KM:</b> 3.37<br><b>ALCANCE:</b> Segunda calzada<br><b>Valor Real:</b> $8,561,116<br><b>Predicción:</b> $8,618,394",
          "<b>Código:</b> 0654801<br><b>Nombre:</b> BUGA - BUENAVENTURA<br><b>LONGITUD KM:</b> 3.50<br><b>ALCANCE:</b> Segunda calzada<br><b>Valor Real:</b> $8,891,366<br><b>Predicción:</b> $8,808,835",
          "<b>Código:</b> 0654801<br><b>Nombre:</b> BUGA - BUENAVENTURA<br><b>LONGITUD KM:</b> 5.17<br><b>ALCANCE:</b> Segunda calzada<br><b>Valor Real:</b> $13,133,818<br><b>Predicción:</b> $13,142,534",
          "<b>Código:</b> 0654801<br><b>Nombre:</b> BUGA - BUENAVENTURA<br><b>LONGITUD KM:</b> 0.91<br><b>ALCANCE:</b> Segunda calzada<br><b>Valor Real:</b> $2,311,755<br><b>Predicción:</b> $2,771,972",
          "<b>Código:</b> 0654801<br><b>Nombre:</b> BUGA - BUENAVENTURA<br><b>LONGITUD KM:</b> 3.16<br><b>ALCANCE:</b> Segunda calzada<br><b>Valor Real:</b> $8,027,634<br><b>Predicción:</b> $7,947,119",
          "<b>Código:</b> 0654801<br><b>Nombre:</b> BUGA - BUENAVENTURA<br><b>LONGITUD KM:</b> 4.00<br><b>ALCANCE:</b> Segunda calzada<br><b>Valor Real:</b> $10,161,562<br><b>Predicción:</b> $10,086,660",
          "<b>Código:</b> 0654801<br><b>Nombre:</b> BUGA - BUENAVENTURA<br><b>LONGITUD KM:</b> 2.00<br><b>ALCANCE:</b> Segunda calzada<br><b>Valor Real:</b> $5,080,781<br><b>Predicción:</b> $5,100,838",
          "<b>Código:</b> 0654801<br><b>Nombre:</b> BUGA - BUENAVENTURA<br><b>LONGITUD KM:</b> 1.85<br><b>ALCANCE:</b> Segunda calzada<br><b>Valor Real:</b> $4,699,722<br><b>Predicción:</b> $4,785,530",
          "<b>Código:</b> 0654801<br><b>Nombre:</b> BUGA - BUENAVENTURA<br><b>LONGITUD KM:</b> 3.17<br><b>ALCANCE:</b> Segunda calzada<br><b>Valor Real:</b> $8,053,038<br><b>Predicción:</b> $7,971,740",
          "<b>Código:</b> 0654801<br><b>Nombre:</b> BUGA - BUENAVENTURA<br><b>LONGITUD KM:</b> 2.00<br><b>ALCANCE:</b> Segunda calzada<br><b>Valor Real:</b> $5,080,781<br><b>Predicción:</b> $5,098,434",
          "<b>Código:</b> 0654801<br><b>Nombre:</b> BUGA - BUENAVENTURA<br><b>LONGITUD KM:</b> 2.38<br><b>ALCANCE:</b> Segunda calzada<br><b>Valor Real:</b> $6,046,129<br><b>Predicción:</b> $6,011,728",
          "<b>Código:</b> 6935<br><b>Nombre:</b>  PEDREGAL - PASTO UF4-UF5<br><b>LONGITUD KM:</b> 15.76<br><b>ALCANCE:</b> Segunda calzada<br><b>Valor Real:</b> $52,424,393<br><b>Predicción:</b> $37,333,416"
         ],
         "hovertemplate": "%{customdata}<extra></extra>",
         "marker": {
          "color": "#1f77b4",
          "line": {
           "color": "white",
           "width": 1
          },
          "opacity": 0.8,
          "size": 12
         },
         "mode": "markers",
         "name": "Segunda calzada",
         "type": "scatter",
         "x": {
          "bdata": "mL9KmE4NWUFXL7HjBuyAQQVgjnI7VGBBdjuJynz1YEE6jW5I/wxpQWYAcJ8lo0FBOXFoZnyfXkE91pwws2FjQT3WnDCzYVNBYHn3jJLtUUE1REBgS7heQT3WnDCzYVNB6CemRmwQV0ErAUVIdv+IQQ==",
          "dtype": "f8"
         },
         "y": {
          "bdata": "VK5s4fwXWEFarvpPtt+CQR5P10IzcGBB/733azDNYEHkOs+6QBFpQbMEuwUCJkVBbIXHtNtQXkECT6iJID1jQa3S/ZRJdVNBlpKvmF5BUkGNZifp5mheQZK0L5HwclNBzym8CtTuVkFUlYVDTc2BQQ==",
          "dtype": "f8"
         }
        },
        {
         "line": {
          "color": "red",
          "dash": "dash",
          "width": 2
         },
         "mode": "lines",
         "name": "Predicción Perfecta",
         "showlegend": true,
         "type": "scatter",
         "x": [
          928502.5164891316,
          71114031.54288325
         ],
         "y": [
          928502.5164891316,
          71114031.54288325
         ]
        }
       ],
       "layout": {
        "height": 600,
        "hovermode": "closest",
        "legend": {
         "bgcolor": "rgba(255, 255, 255, 0.9)",
         "bordercolor": "lightgray",
         "borderwidth": 1,
         "orientation": "v",
         "x": 0.01,
         "xanchor": "left",
         "y": 0.99,
         "yanchor": "top"
        },
        "paper_bgcolor": "white",
        "plot_bgcolor": "white",
        "template": {
         "data": {
          "bar": [
           {
            "error_x": {
             "color": "#2a3f5f"
            },
            "error_y": {
             "color": "#2a3f5f"
            },
            "marker": {
             "line": {
              "color": "#E5ECF6",
              "width": 0.5
             },
             "pattern": {
              "fillmode": "overlay",
              "size": 10,
              "solidity": 0.2
             }
            },
            "type": "bar"
           }
          ],
          "barpolar": [
           {
            "marker": {
             "line": {
              "color": "#E5ECF6",
              "width": 0.5
             },
             "pattern": {
              "fillmode": "overlay",
              "size": 10,
              "solidity": 0.2
             }
            },
            "type": "barpolar"
           }
          ],
          "carpet": [
           {
            "aaxis": {
             "endlinecolor": "#2a3f5f",
             "gridcolor": "white",
             "linecolor": "white",
             "minorgridcolor": "white",
             "startlinecolor": "#2a3f5f"
            },
            "baxis": {
             "endlinecolor": "#2a3f5f",
             "gridcolor": "white",
             "linecolor": "white",
             "minorgridcolor": "white",
             "startlinecolor": "#2a3f5f"
            },
            "type": "carpet"
           }
          ],
          "choropleth": [
           {
            "colorbar": {
             "outlinewidth": 0,
             "ticks": ""
            },
            "type": "choropleth"
           }
          ],
          "contour": [
           {
            "colorbar": {
             "outlinewidth": 0,
             "ticks": ""
            },
            "colorscale": [
             [
              0,
              "#0d0887"
             ],
             [
              0.1111111111111111,
              "#46039f"
             ],
             [
              0.2222222222222222,
              "#7201a8"
             ],
             [
              0.3333333333333333,
              "#9c179e"
             ],
             [
              0.4444444444444444,
              "#bd3786"
             ],
             [
              0.5555555555555556,
              "#d8576b"
             ],
             [
              0.6666666666666666,
              "#ed7953"
             ],
             [
              0.7777777777777778,
              "#fb9f3a"
             ],
             [
              0.8888888888888888,
              "#fdca26"
             ],
             [
              1,
              "#f0f921"
             ]
            ],
            "type": "contour"
           }
          ],
          "contourcarpet": [
           {
            "colorbar": {
             "outlinewidth": 0,
             "ticks": ""
            },
            "type": "contourcarpet"
           }
          ],
          "heatmap": [
           {
            "colorbar": {
             "outlinewidth": 0,
             "ticks": ""
            },
            "colorscale": [
             [
              0,
              "#0d0887"
             ],
             [
              0.1111111111111111,
              "#46039f"
             ],
             [
              0.2222222222222222,
              "#7201a8"
             ],
             [
              0.3333333333333333,
              "#9c179e"
             ],
             [
              0.4444444444444444,
              "#bd3786"
             ],
             [
              0.5555555555555556,
              "#d8576b"
             ],
             [
              0.6666666666666666,
              "#ed7953"
             ],
             [
              0.7777777777777778,
              "#fb9f3a"
             ],
             [
              0.8888888888888888,
              "#fdca26"
             ],
             [
              1,
              "#f0f921"
             ]
            ],
            "type": "heatmap"
           }
          ],
          "histogram": [
           {
            "marker": {
             "pattern": {
              "fillmode": "overlay",
              "size": 10,
              "solidity": 0.2
             }
            },
            "type": "histogram"
           }
          ],
          "histogram2d": [
           {
            "colorbar": {
             "outlinewidth": 0,
             "ticks": ""
            },
            "colorscale": [
             [
              0,
              "#0d0887"
             ],
             [
              0.1111111111111111,
              "#46039f"
             ],
             [
              0.2222222222222222,
              "#7201a8"
             ],
             [
              0.3333333333333333,
              "#9c179e"
             ],
             [
              0.4444444444444444,
              "#bd3786"
             ],
             [
              0.5555555555555556,
              "#d8576b"
             ],
             [
              0.6666666666666666,
              "#ed7953"
             ],
             [
              0.7777777777777778,
              "#fb9f3a"
             ],
             [
              0.8888888888888888,
              "#fdca26"
             ],
             [
              1,
              "#f0f921"
             ]
            ],
            "type": "histogram2d"
           }
          ],
          "histogram2dcontour": [
           {
            "colorbar": {
             "outlinewidth": 0,
             "ticks": ""
            },
            "colorscale": [
             [
              0,
              "#0d0887"
             ],
             [
              0.1111111111111111,
              "#46039f"
             ],
             [
              0.2222222222222222,
              "#7201a8"
             ],
             [
              0.3333333333333333,
              "#9c179e"
             ],
             [
              0.4444444444444444,
              "#bd3786"
             ],
             [
              0.5555555555555556,
              "#d8576b"
             ],
             [
              0.6666666666666666,
              "#ed7953"
             ],
             [
              0.7777777777777778,
              "#fb9f3a"
             ],
             [
              0.8888888888888888,
              "#fdca26"
             ],
             [
              1,
              "#f0f921"
             ]
            ],
            "type": "histogram2dcontour"
           }
          ],
          "mesh3d": [
           {
            "colorbar": {
             "outlinewidth": 0,
             "ticks": ""
            },
            "type": "mesh3d"
           }
          ],
          "parcoords": [
           {
            "line": {
             "colorbar": {
              "outlinewidth": 0,
              "ticks": ""
             }
            },
            "type": "parcoords"
           }
          ],
          "pie": [
           {
            "automargin": true,
            "type": "pie"
           }
          ],
          "scatter": [
           {
            "fillpattern": {
             "fillmode": "overlay",
             "size": 10,
             "solidity": 0.2
            },
            "type": "scatter"
           }
          ],
          "scatter3d": [
           {
            "line": {
             "colorbar": {
              "outlinewidth": 0,
              "ticks": ""
             }
            },
            "marker": {
             "colorbar": {
              "outlinewidth": 0,
              "ticks": ""
             }
            },
            "type": "scatter3d"
           }
          ],
          "scattercarpet": [
           {
            "marker": {
             "colorbar": {
              "outlinewidth": 0,
              "ticks": ""
             }
            },
            "type": "scattercarpet"
           }
          ],
          "scattergeo": [
           {
            "marker": {
             "colorbar": {
              "outlinewidth": 0,
              "ticks": ""
             }
            },
            "type": "scattergeo"
           }
          ],
          "scattergl": [
           {
            "marker": {
             "colorbar": {
              "outlinewidth": 0,
              "ticks": ""
             }
            },
            "type": "scattergl"
           }
          ],
          "scattermap": [
           {
            "marker": {
             "colorbar": {
              "outlinewidth": 0,
              "ticks": ""
             }
            },
            "type": "scattermap"
           }
          ],
          "scattermapbox": [
           {
            "marker": {
             "colorbar": {
              "outlinewidth": 0,
              "ticks": ""
             }
            },
            "type": "scattermapbox"
           }
          ],
          "scatterpolar": [
           {
            "marker": {
             "colorbar": {
              "outlinewidth": 0,
              "ticks": ""
             }
            },
            "type": "scatterpolar"
           }
          ],
          "scatterpolargl": [
           {
            "marker": {
             "colorbar": {
              "outlinewidth": 0,
              "ticks": ""
             }
            },
            "type": "scatterpolargl"
           }
          ],
          "scatterternary": [
           {
            "marker": {
             "colorbar": {
              "outlinewidth": 0,
              "ticks": ""
             }
            },
            "type": "scatterternary"
           }
          ],
          "surface": [
           {
            "colorbar": {
             "outlinewidth": 0,
             "ticks": ""
            },
            "colorscale": [
             [
              0,
              "#0d0887"
             ],
             [
              0.1111111111111111,
              "#46039f"
             ],
             [
              0.2222222222222222,
              "#7201a8"
             ],
             [
              0.3333333333333333,
              "#9c179e"
             ],
             [
              0.4444444444444444,
              "#bd3786"
             ],
             [
              0.5555555555555556,
              "#d8576b"
             ],
             [
              0.6666666666666666,
              "#ed7953"
             ],
             [
              0.7777777777777778,
              "#fb9f3a"
             ],
             [
              0.8888888888888888,
              "#fdca26"
             ],
             [
              1,
              "#f0f921"
             ]
            ],
            "type": "surface"
           }
          ],
          "table": [
           {
            "cells": {
             "fill": {
              "color": "#EBF0F8"
             },
             "line": {
              "color": "white"
             }
            },
            "header": {
             "fill": {
              "color": "#C8D4E3"
             },
             "line": {
              "color": "white"
             }
            },
            "type": "table"
           }
          ]
         },
         "layout": {
          "annotationdefaults": {
           "arrowcolor": "#2a3f5f",
           "arrowhead": 0,
           "arrowwidth": 1
          },
          "autotypenumbers": "strict",
          "coloraxis": {
           "colorbar": {
            "outlinewidth": 0,
            "ticks": ""
           }
          },
          "colorscale": {
           "diverging": [
            [
             0,
             "#8e0152"
            ],
            [
             0.1,
             "#c51b7d"
            ],
            [
             0.2,
             "#de77ae"
            ],
            [
             0.3,
             "#f1b6da"
            ],
            [
             0.4,
             "#fde0ef"
            ],
            [
             0.5,
             "#f7f7f7"
            ],
            [
             0.6,
             "#e6f5d0"
            ],
            [
             0.7,
             "#b8e186"
            ],
            [
             0.8,
             "#7fbc41"
            ],
            [
             0.9,
             "#4d9221"
            ],
            [
             1,
             "#276419"
            ]
           ],
           "sequential": [
            [
             0,
             "#0d0887"
            ],
            [
             0.1111111111111111,
             "#46039f"
            ],
            [
             0.2222222222222222,
             "#7201a8"
            ],
            [
             0.3333333333333333,
             "#9c179e"
            ],
            [
             0.4444444444444444,
             "#bd3786"
            ],
            [
             0.5555555555555556,
             "#d8576b"
            ],
            [
             0.6666666666666666,
             "#ed7953"
            ],
            [
             0.7777777777777778,
             "#fb9f3a"
            ],
            [
             0.8888888888888888,
             "#fdca26"
            ],
            [
             1,
             "#f0f921"
            ]
           ],
           "sequentialminus": [
            [
             0,
             "#0d0887"
            ],
            [
             0.1111111111111111,
             "#46039f"
            ],
            [
             0.2222222222222222,
             "#7201a8"
            ],
            [
             0.3333333333333333,
             "#9c179e"
            ],
            [
             0.4444444444444444,
             "#bd3786"
            ],
            [
             0.5555555555555556,
             "#d8576b"
            ],
            [
             0.6666666666666666,
             "#ed7953"
            ],
            [
             0.7777777777777778,
             "#fb9f3a"
            ],
            [
             0.8888888888888888,
             "#fdca26"
            ],
            [
             1,
             "#f0f921"
            ]
           ]
          },
          "colorway": [
           "#636efa",
           "#EF553B",
           "#00cc96",
           "#ab63fa",
           "#FFA15A",
           "#19d3f3",
           "#FF6692",
           "#B6E880",
           "#FF97FF",
           "#FECB52"
          ],
          "font": {
           "color": "#2a3f5f"
          },
          "geo": {
           "bgcolor": "white",
           "lakecolor": "white",
           "landcolor": "#E5ECF6",
           "showlakes": true,
           "showland": true,
           "subunitcolor": "white"
          },
          "hoverlabel": {
           "align": "left"
          },
          "hovermode": "closest",
          "mapbox": {
           "style": "light"
          },
          "paper_bgcolor": "white",
          "plot_bgcolor": "#E5ECF6",
          "polar": {
           "angularaxis": {
            "gridcolor": "white",
            "linecolor": "white",
            "ticks": ""
           },
           "bgcolor": "#E5ECF6",
           "radialaxis": {
            "gridcolor": "white",
            "linecolor": "white",
            "ticks": ""
           }
          },
          "scene": {
           "xaxis": {
            "backgroundcolor": "#E5ECF6",
            "gridcolor": "white",
            "gridwidth": 2,
            "linecolor": "white",
            "showbackground": true,
            "ticks": "",
            "zerolinecolor": "white"
           },
           "yaxis": {
            "backgroundcolor": "#E5ECF6",
            "gridcolor": "white",
            "gridwidth": 2,
            "linecolor": "white",
            "showbackground": true,
            "ticks": "",
            "zerolinecolor": "white"
           },
           "zaxis": {
            "backgroundcolor": "#E5ECF6",
            "gridcolor": "white",
            "gridwidth": 2,
            "linecolor": "white",
            "showbackground": true,
            "ticks": "",
            "zerolinecolor": "white"
           }
          },
          "shapedefaults": {
           "line": {
            "color": "#2a3f5f"
           }
          },
          "ternary": {
           "aaxis": {
            "gridcolor": "white",
            "linecolor": "white",
            "ticks": ""
           },
           "baxis": {
            "gridcolor": "white",
            "linecolor": "white",
            "ticks": ""
           },
           "bgcolor": "#E5ECF6",
           "caxis": {
            "gridcolor": "white",
            "linecolor": "white",
            "ticks": ""
           }
          },
          "title": {
           "x": 0.05
          },
          "xaxis": {
           "automargin": true,
           "gridcolor": "white",
           "linecolor": "white",
           "ticks": "",
           "title": {
            "standoff": 15
           },
           "zerolinecolor": "white",
           "zerolinewidth": 2
          },
          "yaxis": {
           "automargin": true,
           "gridcolor": "white",
           "linecolor": "white",
           "ticks": "",
           "title": {
            "standoff": 15
           },
           "zerolinecolor": "white",
           "zerolinewidth": 2
          }
         }
        },
        "title": {
         "font": {
          "family": "Arial Black",
          "size": 20
         },
         "text": "<b>Predicción vs Realidad - 5 - TALUDES</b>",
         "x": 0.5,
         "xanchor": "center"
        },
        "width": 900,
        "xaxis": {
         "gridcolor": "lightgray",
         "gridwidth": 0.5,
         "showgrid": true,
         "title": {
          "font": {
           "size": 14
          },
          "text": "<b>Valor Real ($)</b>"
         }
        },
        "yaxis": {
         "gridcolor": "lightgray",
         "gridwidth": 0.5,
         "showgrid": true,
         "title": {
          "font": {
           "size": 14
          },
          "text": "<b>Valor Predicho ($)</b>"
         }
        }
       }
      }
     },
     "metadata": {},
     "output_type": "display_data"
    },
    {
     "name": "stdout",
     "output_type": "stream",
     "text": [
      "  → Removed 4/34 outliers (11.8%) using ensemble\n",
      "     • isolation_forest: 4 outliers\n",
      "     • lof: 4 outliers\n",
      "     • robust_statistical: 4 outliers\n",
      "     • z_score: 0 outliers\n",
      "6 - PAVIMENTO\n",
      "Best params: {'regressor__svr__C': 5, 'regressor__svr__epsilon': 0.01, 'regressor__svr__gamma': 0.01}\n",
      "{'R2': 0.24086125721603624, 'MAE': 4531609.340969036, 'RMSE': np.float64(10548559.482150026), 'RMSLE': np.float64(0.6518224834715809), 'MAPE%': 30.959784696545945}\n"
     ]
    },
    {
     "data": {
      "application/vnd.plotly.v1+json": {
       "config": {
        "plotlyServerURL": "https://plot.ly"
       },
       "data": [
        {
         "customdata": [
          "<b>Código:</b> 0654801<br><b>Nombre:</b> BUGA - BUENAVENTURA<br><b>LONGITUD KM:</b> 0.80<br><b>ALCANCE:</b> Construcción <br><b>Valor Real:</b> $907,455<br><b>Predicción:</b> $1,571,367"
         ],
         "hovertemplate": "%{customdata}<extra></extra>",
         "marker": {
          "color": "#7f7f7f",
          "line": {
           "color": "white",
           "width": 1
          },
          "opacity": 0.8,
          "size": 12
         },
         "mode": "markers",
         "name": "Construcción ",
         "type": "scatter",
         "x": {
          "bdata": "/4lIwn6xK0E=",
          "dtype": "f8"
         },
         "y": {
          "bdata": "OhTBtib6N0E=",
          "dtype": "f8"
         }
        },
        {
         "customdata": [
          "<b>Código:</b> 0427901<br><b>Nombre:</b> PURIFICACIÓN - LOZANÍA<br><b>LONGITUD KM:</b> 5.00<br><b>ALCANCE:</b> Mejoramiento<br><b>Valor Real:</b> $2,079,552<br><b>Predicción:</b> $6,764,170",
          "<b>Código:</b> 0552903<br><b>Nombre:</b> TRANSVERSAL BOYACÁ<br><b>LONGITUD KM:</b> 10.06<br><b>ALCANCE:</b> Mejoramiento<br><b>Valor Real:</b> $23,047,385<br><b>Predicción:</b> $11,361,916",
          "<b>Código:</b> 0581301<br><b>Nombre:</b> QUEREMAL - DANUBIO<br><b>LONGITUD KM:</b> 5.24<br><b>ALCANCE:</b> Mejoramiento<br><b>Valor Real:</b> $23,710,890<br><b>Predicción:</b> $5,382,341"
         ],
         "hovertemplate": "%{customdata}<extra></extra>",
         "marker": {
          "color": "#2ca02c",
          "line": {
           "color": "white",
           "width": 1
          },
          "opacity": 0.8,
          "size": 12
         },
         "mode": "markers",
         "name": "Mejoramiento",
         "type": "scatter",
         "x": {
          "bdata": "UTVlJEC7P0Fyys+Pzfp1QY5KXpvKnHZB",
          "dtype": "f8"
         },
         "y": {
          "bdata": "0RCYaaLNWUHJdu+Mz6tlQcYpjD0xiFRB",
          "dtype": "f8"
         }
        },
        {
         "customdata": [
          "<b>Código:</b> 0004<br><b>Nombre:</b> DCO<br><b>LONGITUD KM:</b> 13.69<br><b>ALCANCE:</b> Nuevo<br><b>Valor Real:</b> $44,902,033<br><b>Predicción:</b> $15,936,261",
          "<b>Código:</b> 0654801<br><b>Nombre:</b> BUGA - BUENAVENTURA<br><b>LONGITUD KM:</b> 3.12<br><b>ALCANCE:</b> Nuevo<br><b>Valor Real:</b> $3,539,076<br><b>Predicción:</b> $4,307,708"
         ],
         "hovertemplate": "%{customdata}<extra></extra>",
         "marker": {
          "color": "#9467bd",
          "line": {
           "color": "white",
           "width": 1
          },
          "opacity": 0.8,
          "size": 12
         },
         "mode": "markers",
         "name": "Nuevo",
         "type": "scatter",
         "x": {
          "bdata": "AdEdhDRphUEmIG39QQBLQQ==",
          "dtype": "f8"
         },
         "y": {
          "bdata": "kLCAomBlbkHZ2t0dv25QQQ==",
          "dtype": "f8"
         }
        },
        {
         "customdata": [
          "<b>Código:</b> 0654801<br><b>Nombre:</b> BUGA - BUENAVENTURA<br><b>LONGITUD KM:</b> 19.31<br><b>ALCANCE:</b> Puesta a punto<br><b>Valor Real:</b> $21,903,704<br><b>Predicción:</b> $19,965,963",
          "<b>Código:</b> 0654801<br><b>Nombre:</b> BUGA - BUENAVENTURA<br><b>LONGITUD KM:</b> 8.21<br><b>ALCANCE:</b> Puesta a punto<br><b>Valor Real:</b> $9,312,761<br><b>Predicción:</b> $8,808,477",
          "<b>Código:</b> 0654801<br><b>Nombre:</b> BUGA - BUENAVENTURA<br><b>LONGITUD KM:</b> 12.16<br><b>ALCANCE:</b> Puesta a punto<br><b>Valor Real:</b> $13,793,322<br><b>Predicción:</b> $13,970,241",
          "<b>Código:</b> 0654801<br><b>Nombre:</b> BUGA - BUENAVENTURA<br><b>LONGITUD KM:</b> 12.16<br><b>ALCANCE:</b> Puesta a punto<br><b>Valor Real:</b> $13,793,322<br><b>Predicción:</b> $13,928,108",
          "<b>Código:</b> 0654801<br><b>Nombre:</b> BUGA - BUENAVENTURA<br><b>LONGITUD KM:</b> 1.00<br><b>ALCANCE:</b> Puesta a punto<br><b>Valor Real:</b> $1,134,319<br><b>Predicción:</b> $1,773,935",
          "<b>Código:</b> 0654801<br><b>Nombre:</b> BUGA - BUENAVENTURA<br><b>LONGITUD KM:</b> 14.00<br><b>ALCANCE:</b> Puesta a punto<br><b>Valor Real:</b> $15,880,469<br><b>Predicción:</b> $16,199,797",
          "<b>Código:</b> 0654801<br><b>Nombre:</b> BUGA - BUENAVENTURA<br><b>LONGITUD KM:</b> 14.00<br><b>ALCANCE:</b> Puesta a punto<br><b>Valor Real:</b> $15,880,469<br><b>Predicción:</b> $15,968,500",
          "<b>Código:</b> 0654801<br><b>Nombre:</b> BUGA - BUENAVENTURA<br><b>LONGITUD KM:</b> 7.84<br><b>ALCANCE:</b> Puesta a punto<br><b>Valor Real:</b> $8,893,063<br><b>Predicción:</b> $8,273,958"
         ],
         "hovertemplate": "%{customdata}<extra></extra>",
         "marker": {
          "color": "#e377c2",
          "line": {
           "color": "white",
           "width": 1
          },
          "opacity": 0.8,
          "size": 12
         },
         "mode": "markers",
         "name": "Puesta a punto",
         "type": "scatter",
         "x": {
          "bdata": "sR2Mg5XjdEG3U50aP8NhQUy2kTgFT2pBTLaROAVPakE/Vm05704xQe9Wf6QiSm5B71Z/pCJKbkFTof/WUPZgQQ==",
          "dtype": "f8"
         },
         "y": {
          "bdata": "rPMBqIAKc0H1DIqnA81gQbaRcBFopWpBrIDNd9WQakHJdoa3bhE7QT8Z5qcO5m5BOlGBhx51bkGryxKQCZBfQQ==",
          "dtype": "f8"
         }
        },
        {
         "customdata": [
          "<b>Código:</b> 0347801<br><b>Nombre:</b> TERMINACIÓN TÚNEL DE LA LÍNEA<br><b>LONGITUD KM:</b> 8.35<br><b>ALCANCE:</b> Rehabilitación<br><b>Valor Real:</b> $50,048,978<br><b>Predicción:</b> $8,847,547",
          "<b>Código:</b> 0654801<br><b>Nombre:</b> BUGA - BUENAVENTURA<br><b>LONGITUD KM:</b> 15.00<br><b>ALCANCE:</b> Rehabilitación<br><b>Valor Real:</b> $17,014,788<br><b>Predicción:</b> $20,912,723",
          "<b>Código:</b> 0654801<br><b>Nombre:</b> BUGA - BUENAVENTURA<br><b>LONGITUD KM:</b> 3.15<br><b>ALCANCE:</b> Rehabilitación<br><b>Valor Real:</b> $3,573,106<br><b>Predicción:</b> $4,362,095"
         ],
         "hovertemplate": "%{customdata}<extra></extra>",
         "marker": {
          "color": "#d62728",
          "line": {
           "color": "white",
           "width": 1
          },
          "opacity": 0.8,
          "size": 12
         },
         "mode": "markers",
         "name": "Rehabilitación",
         "type": "scatter",
         "x": {
          "bdata": "2MDJkX7dh0HcgNZFADpwQddnP8e4QktB",
          "dtype": "f8"
         },
         "y": {
          "bdata": "dL1CZxfgYEH/I9c3pfFzQTtff8Hbo1BB",
          "dtype": "f8"
         }
        },
        {
         "customdata": [
          "<b>Código:</b> 0300604<br><b>Nombre:</b> BUGA - BUENAVENTURA EL PORVENIR UF5<br><b>LONGITUD KM:</b> 2.50<br><b>ALCANCE:</b> Segunda calzada<br><b>Valor Real:</b> $19,701,679<br><b>Predicción:</b> $2,906,726",
          "<b>Código:</b> 0654801<br><b>Nombre:</b> BUGA - BUENAVENTURA<br><b>LONGITUD KM:</b> 3.37<br><b>ALCANCE:</b> Segunda calzada<br><b>Valor Real:</b> $3,822,656<br><b>Predicción:</b> $3,802,482",
          "<b>Código:</b> 0654801<br><b>Nombre:</b> BUGA - BUENAVENTURA<br><b>LONGITUD KM:</b> 3.50<br><b>ALCANCE:</b> Segunda calzada<br><b>Valor Real:</b> $3,970,117<br><b>Predicción:</b> $3,945,345",
          "<b>Código:</b> 0654801<br><b>Nombre:</b> BUGA - BUENAVENTURA<br><b>LONGITUD KM:</b> 5.17<br><b>ALCANCE:</b> Segunda calzada<br><b>Valor Real:</b> $5,864,430<br><b>Predicción:</b> $5,351,940",
          "<b>Código:</b> 0654801<br><b>Nombre:</b> BUGA - BUENAVENTURA<br><b>LONGITUD KM:</b> 0.91<br><b>ALCANCE:</b> Segunda calzada<br><b>Valor Real:</b> $1,032,230<br><b>Predicción:</b> $1,653,099",
          "<b>Código:</b> 0654801<br><b>Nombre:</b> BUGA - BUENAVENTURA<br><b>LONGITUD KM:</b> 3.16<br><b>ALCANCE:</b> Segunda calzada<br><b>Valor Real:</b> $3,584,449<br><b>Predicción:</b> $3,600,992",
          "<b>Código:</b> 0654801<br><b>Nombre:</b> BUGA - BUENAVENTURA<br><b>LONGITUD KM:</b> 4.00<br><b>ALCANCE:</b> Segunda calzada<br><b>Valor Real:</b> $4,537,277<br><b>Predicción:</b> $4,432,276",
          "<b>Código:</b> 0654801<br><b>Nombre:</b> BUGA - BUENAVENTURA<br><b>LONGITUD KM:</b> 2.00<br><b>ALCANCE:</b> Segunda calzada<br><b>Valor Real:</b> $2,268,638<br><b>Predicción:</b> $2,571,085",
          "<b>Código:</b> 0654801<br><b>Nombre:</b> BUGA - BUENAVENTURA<br><b>LONGITUD KM:</b> 1.85<br><b>ALCANCE:</b> Segunda calzada<br><b>Valor Real:</b> $2,098,491<br><b>Predicción:</b> $2,337,959",
          "<b>Código:</b> 0654801<br><b>Nombre:</b> BUGA - BUENAVENTURA<br><b>LONGITUD KM:</b> 3.17<br><b>ALCANCE:</b> Segunda calzada<br><b>Valor Real:</b> $3,595,792<br><b>Predicción:</b> $3,583,201",
          "<b>Código:</b> 0654801<br><b>Nombre:</b> BUGA - BUENAVENTURA<br><b>LONGITUD KM:</b> 2.00<br><b>ALCANCE:</b> Segunda calzada<br><b>Valor Real:</b> $2,268,638<br><b>Predicción:</b> $2,535,870",
          "<b>Código:</b> 0654801<br><b>Nombre:</b> BUGA - BUENAVENTURA<br><b>LONGITUD KM:</b> 2.38<br><b>ALCANCE:</b> Segunda calzada<br><b>Valor Real:</b> $2,699,680<br><b>Predicción:</b> $2,779,878",
          "<b>Código:</b> 6935<br><b>Nombre:</b>  PEDREGAL - PASTO UF4-UF5<br><b>LONGITUD KM:</b> 15.76<br><b>ALCANCE:</b> Segunda calzada<br><b>Valor Real:</b> $18,237,983<br><b>Predicción:</b> $19,784,411"
         ],
         "hovertemplate": "%{customdata}<extra></extra>",
         "marker": {
          "color": "#1f77b4",
          "line": {
           "color": "white",
           "width": 1
          },
          "opacity": 0.8,
          "size": 12
         },
         "mode": "markers",
         "name": "Segunda calzada",
         "type": "scatter",
         "x": {
          "bdata": "oAZ28vrJckHuyprkHypNQe9Wf6QiSk5BRszxmPteVkEsUP/8TIAvQRLV2l/gWEtBP1ZtOe9OUUE/Vm05705BQcjvUUidAkBBTUJ2+AdvS0E/Vm05705BQQmNf+DPmERByY2Q8KFkcUE=",
          "dtype": "f8"
         },
         "y": {
          "bdata": "8Z4G9jItRkEM2fkkuQJNQdV9I3rAGU5BM7p5C4FqVEHN70uJajk5Qd/zitEveUtBo7k16mToUEF7iqyupp1DQffKBk5T1kFBxkJpiXBWS0HIABPS3lhDQaS+FCNzNUVBBA7htS3eckE=",
          "dtype": "f8"
         }
        },
        {
         "line": {
          "color": "red",
          "dash": "dash",
          "width": 2
         },
         "mode": "lines",
         "name": "Predicción Perfecta",
         "showlegend": true,
         "type": "scatter",
         "x": [
          907455.379459679,
          50048978.22351235
         ],
         "y": [
          907455.379459679,
          50048978.22351235
         ]
        }
       ],
       "layout": {
        "height": 600,
        "hovermode": "closest",
        "legend": {
         "bgcolor": "rgba(255, 255, 255, 0.9)",
         "bordercolor": "lightgray",
         "borderwidth": 1,
         "orientation": "v",
         "x": 0.01,
         "xanchor": "left",
         "y": 0.99,
         "yanchor": "top"
        },
        "paper_bgcolor": "white",
        "plot_bgcolor": "white",
        "template": {
         "data": {
          "bar": [
           {
            "error_x": {
             "color": "#2a3f5f"
            },
            "error_y": {
             "color": "#2a3f5f"
            },
            "marker": {
             "line": {
              "color": "#E5ECF6",
              "width": 0.5
             },
             "pattern": {
              "fillmode": "overlay",
              "size": 10,
              "solidity": 0.2
             }
            },
            "type": "bar"
           }
          ],
          "barpolar": [
           {
            "marker": {
             "line": {
              "color": "#E5ECF6",
              "width": 0.5
             },
             "pattern": {
              "fillmode": "overlay",
              "size": 10,
              "solidity": 0.2
             }
            },
            "type": "barpolar"
           }
          ],
          "carpet": [
           {
            "aaxis": {
             "endlinecolor": "#2a3f5f",
             "gridcolor": "white",
             "linecolor": "white",
             "minorgridcolor": "white",
             "startlinecolor": "#2a3f5f"
            },
            "baxis": {
             "endlinecolor": "#2a3f5f",
             "gridcolor": "white",
             "linecolor": "white",
             "minorgridcolor": "white",
             "startlinecolor": "#2a3f5f"
            },
            "type": "carpet"
           }
          ],
          "choropleth": [
           {
            "colorbar": {
             "outlinewidth": 0,
             "ticks": ""
            },
            "type": "choropleth"
           }
          ],
          "contour": [
           {
            "colorbar": {
             "outlinewidth": 0,
             "ticks": ""
            },
            "colorscale": [
             [
              0,
              "#0d0887"
             ],
             [
              0.1111111111111111,
              "#46039f"
             ],
             [
              0.2222222222222222,
              "#7201a8"
             ],
             [
              0.3333333333333333,
              "#9c179e"
             ],
             [
              0.4444444444444444,
              "#bd3786"
             ],
             [
              0.5555555555555556,
              "#d8576b"
             ],
             [
              0.6666666666666666,
              "#ed7953"
             ],
             [
              0.7777777777777778,
              "#fb9f3a"
             ],
             [
              0.8888888888888888,
              "#fdca26"
             ],
             [
              1,
              "#f0f921"
             ]
            ],
            "type": "contour"
           }
          ],
          "contourcarpet": [
           {
            "colorbar": {
             "outlinewidth": 0,
             "ticks": ""
            },
            "type": "contourcarpet"
           }
          ],
          "heatmap": [
           {
            "colorbar": {
             "outlinewidth": 0,
             "ticks": ""
            },
            "colorscale": [
             [
              0,
              "#0d0887"
             ],
             [
              0.1111111111111111,
              "#46039f"
             ],
             [
              0.2222222222222222,
              "#7201a8"
             ],
             [
              0.3333333333333333,
              "#9c179e"
             ],
             [
              0.4444444444444444,
              "#bd3786"
             ],
             [
              0.5555555555555556,
              "#d8576b"
             ],
             [
              0.6666666666666666,
              "#ed7953"
             ],
             [
              0.7777777777777778,
              "#fb9f3a"
             ],
             [
              0.8888888888888888,
              "#fdca26"
             ],
             [
              1,
              "#f0f921"
             ]
            ],
            "type": "heatmap"
           }
          ],
          "histogram": [
           {
            "marker": {
             "pattern": {
              "fillmode": "overlay",
              "size": 10,
              "solidity": 0.2
             }
            },
            "type": "histogram"
           }
          ],
          "histogram2d": [
           {
            "colorbar": {
             "outlinewidth": 0,
             "ticks": ""
            },
            "colorscale": [
             [
              0,
              "#0d0887"
             ],
             [
              0.1111111111111111,
              "#46039f"
             ],
             [
              0.2222222222222222,
              "#7201a8"
             ],
             [
              0.3333333333333333,
              "#9c179e"
             ],
             [
              0.4444444444444444,
              "#bd3786"
             ],
             [
              0.5555555555555556,
              "#d8576b"
             ],
             [
              0.6666666666666666,
              "#ed7953"
             ],
             [
              0.7777777777777778,
              "#fb9f3a"
             ],
             [
              0.8888888888888888,
              "#fdca26"
             ],
             [
              1,
              "#f0f921"
             ]
            ],
            "type": "histogram2d"
           }
          ],
          "histogram2dcontour": [
           {
            "colorbar": {
             "outlinewidth": 0,
             "ticks": ""
            },
            "colorscale": [
             [
              0,
              "#0d0887"
             ],
             [
              0.1111111111111111,
              "#46039f"
             ],
             [
              0.2222222222222222,
              "#7201a8"
             ],
             [
              0.3333333333333333,
              "#9c179e"
             ],
             [
              0.4444444444444444,
              "#bd3786"
             ],
             [
              0.5555555555555556,
              "#d8576b"
             ],
             [
              0.6666666666666666,
              "#ed7953"
             ],
             [
              0.7777777777777778,
              "#fb9f3a"
             ],
             [
              0.8888888888888888,
              "#fdca26"
             ],
             [
              1,
              "#f0f921"
             ]
            ],
            "type": "histogram2dcontour"
           }
          ],
          "mesh3d": [
           {
            "colorbar": {
             "outlinewidth": 0,
             "ticks": ""
            },
            "type": "mesh3d"
           }
          ],
          "parcoords": [
           {
            "line": {
             "colorbar": {
              "outlinewidth": 0,
              "ticks": ""
             }
            },
            "type": "parcoords"
           }
          ],
          "pie": [
           {
            "automargin": true,
            "type": "pie"
           }
          ],
          "scatter": [
           {
            "fillpattern": {
             "fillmode": "overlay",
             "size": 10,
             "solidity": 0.2
            },
            "type": "scatter"
           }
          ],
          "scatter3d": [
           {
            "line": {
             "colorbar": {
              "outlinewidth": 0,
              "ticks": ""
             }
            },
            "marker": {
             "colorbar": {
              "outlinewidth": 0,
              "ticks": ""
             }
            },
            "type": "scatter3d"
           }
          ],
          "scattercarpet": [
           {
            "marker": {
             "colorbar": {
              "outlinewidth": 0,
              "ticks": ""
             }
            },
            "type": "scattercarpet"
           }
          ],
          "scattergeo": [
           {
            "marker": {
             "colorbar": {
              "outlinewidth": 0,
              "ticks": ""
             }
            },
            "type": "scattergeo"
           }
          ],
          "scattergl": [
           {
            "marker": {
             "colorbar": {
              "outlinewidth": 0,
              "ticks": ""
             }
            },
            "type": "scattergl"
           }
          ],
          "scattermap": [
           {
            "marker": {
             "colorbar": {
              "outlinewidth": 0,
              "ticks": ""
             }
            },
            "type": "scattermap"
           }
          ],
          "scattermapbox": [
           {
            "marker": {
             "colorbar": {
              "outlinewidth": 0,
              "ticks": ""
             }
            },
            "type": "scattermapbox"
           }
          ],
          "scatterpolar": [
           {
            "marker": {
             "colorbar": {
              "outlinewidth": 0,
              "ticks": ""
             }
            },
            "type": "scatterpolar"
           }
          ],
          "scatterpolargl": [
           {
            "marker": {
             "colorbar": {
              "outlinewidth": 0,
              "ticks": ""
             }
            },
            "type": "scatterpolargl"
           }
          ],
          "scatterternary": [
           {
            "marker": {
             "colorbar": {
              "outlinewidth": 0,
              "ticks": ""
             }
            },
            "type": "scatterternary"
           }
          ],
          "surface": [
           {
            "colorbar": {
             "outlinewidth": 0,
             "ticks": ""
            },
            "colorscale": [
             [
              0,
              "#0d0887"
             ],
             [
              0.1111111111111111,
              "#46039f"
             ],
             [
              0.2222222222222222,
              "#7201a8"
             ],
             [
              0.3333333333333333,
              "#9c179e"
             ],
             [
              0.4444444444444444,
              "#bd3786"
             ],
             [
              0.5555555555555556,
              "#d8576b"
             ],
             [
              0.6666666666666666,
              "#ed7953"
             ],
             [
              0.7777777777777778,
              "#fb9f3a"
             ],
             [
              0.8888888888888888,
              "#fdca26"
             ],
             [
              1,
              "#f0f921"
             ]
            ],
            "type": "surface"
           }
          ],
          "table": [
           {
            "cells": {
             "fill": {
              "color": "#EBF0F8"
             },
             "line": {
              "color": "white"
             }
            },
            "header": {
             "fill": {
              "color": "#C8D4E3"
             },
             "line": {
              "color": "white"
             }
            },
            "type": "table"
           }
          ]
         },
         "layout": {
          "annotationdefaults": {
           "arrowcolor": "#2a3f5f",
           "arrowhead": 0,
           "arrowwidth": 1
          },
          "autotypenumbers": "strict",
          "coloraxis": {
           "colorbar": {
            "outlinewidth": 0,
            "ticks": ""
           }
          },
          "colorscale": {
           "diverging": [
            [
             0,
             "#8e0152"
            ],
            [
             0.1,
             "#c51b7d"
            ],
            [
             0.2,
             "#de77ae"
            ],
            [
             0.3,
             "#f1b6da"
            ],
            [
             0.4,
             "#fde0ef"
            ],
            [
             0.5,
             "#f7f7f7"
            ],
            [
             0.6,
             "#e6f5d0"
            ],
            [
             0.7,
             "#b8e186"
            ],
            [
             0.8,
             "#7fbc41"
            ],
            [
             0.9,
             "#4d9221"
            ],
            [
             1,
             "#276419"
            ]
           ],
           "sequential": [
            [
             0,
             "#0d0887"
            ],
            [
             0.1111111111111111,
             "#46039f"
            ],
            [
             0.2222222222222222,
             "#7201a8"
            ],
            [
             0.3333333333333333,
             "#9c179e"
            ],
            [
             0.4444444444444444,
             "#bd3786"
            ],
            [
             0.5555555555555556,
             "#d8576b"
            ],
            [
             0.6666666666666666,
             "#ed7953"
            ],
            [
             0.7777777777777778,
             "#fb9f3a"
            ],
            [
             0.8888888888888888,
             "#fdca26"
            ],
            [
             1,
             "#f0f921"
            ]
           ],
           "sequentialminus": [
            [
             0,
             "#0d0887"
            ],
            [
             0.1111111111111111,
             "#46039f"
            ],
            [
             0.2222222222222222,
             "#7201a8"
            ],
            [
             0.3333333333333333,
             "#9c179e"
            ],
            [
             0.4444444444444444,
             "#bd3786"
            ],
            [
             0.5555555555555556,
             "#d8576b"
            ],
            [
             0.6666666666666666,
             "#ed7953"
            ],
            [
             0.7777777777777778,
             "#fb9f3a"
            ],
            [
             0.8888888888888888,
             "#fdca26"
            ],
            [
             1,
             "#f0f921"
            ]
           ]
          },
          "colorway": [
           "#636efa",
           "#EF553B",
           "#00cc96",
           "#ab63fa",
           "#FFA15A",
           "#19d3f3",
           "#FF6692",
           "#B6E880",
           "#FF97FF",
           "#FECB52"
          ],
          "font": {
           "color": "#2a3f5f"
          },
          "geo": {
           "bgcolor": "white",
           "lakecolor": "white",
           "landcolor": "#E5ECF6",
           "showlakes": true,
           "showland": true,
           "subunitcolor": "white"
          },
          "hoverlabel": {
           "align": "left"
          },
          "hovermode": "closest",
          "mapbox": {
           "style": "light"
          },
          "paper_bgcolor": "white",
          "plot_bgcolor": "#E5ECF6",
          "polar": {
           "angularaxis": {
            "gridcolor": "white",
            "linecolor": "white",
            "ticks": ""
           },
           "bgcolor": "#E5ECF6",
           "radialaxis": {
            "gridcolor": "white",
            "linecolor": "white",
            "ticks": ""
           }
          },
          "scene": {
           "xaxis": {
            "backgroundcolor": "#E5ECF6",
            "gridcolor": "white",
            "gridwidth": 2,
            "linecolor": "white",
            "showbackground": true,
            "ticks": "",
            "zerolinecolor": "white"
           },
           "yaxis": {
            "backgroundcolor": "#E5ECF6",
            "gridcolor": "white",
            "gridwidth": 2,
            "linecolor": "white",
            "showbackground": true,
            "ticks": "",
            "zerolinecolor": "white"
           },
           "zaxis": {
            "backgroundcolor": "#E5ECF6",
            "gridcolor": "white",
            "gridwidth": 2,
            "linecolor": "white",
            "showbackground": true,
            "ticks": "",
            "zerolinecolor": "white"
           }
          },
          "shapedefaults": {
           "line": {
            "color": "#2a3f5f"
           }
          },
          "ternary": {
           "aaxis": {
            "gridcolor": "white",
            "linecolor": "white",
            "ticks": ""
           },
           "baxis": {
            "gridcolor": "white",
            "linecolor": "white",
            "ticks": ""
           },
           "bgcolor": "#E5ECF6",
           "caxis": {
            "gridcolor": "white",
            "linecolor": "white",
            "ticks": ""
           }
          },
          "title": {
           "x": 0.05
          },
          "xaxis": {
           "automargin": true,
           "gridcolor": "white",
           "linecolor": "white",
           "ticks": "",
           "title": {
            "standoff": 15
           },
           "zerolinecolor": "white",
           "zerolinewidth": 2
          },
          "yaxis": {
           "automargin": true,
           "gridcolor": "white",
           "linecolor": "white",
           "ticks": "",
           "title": {
            "standoff": 15
           },
           "zerolinecolor": "white",
           "zerolinewidth": 2
          }
         }
        },
        "title": {
         "font": {
          "family": "Arial Black",
          "size": 20
         },
         "text": "<b>Predicción vs Realidad - 6 - PAVIMENTO</b>",
         "x": 0.5,
         "xanchor": "center"
        },
        "width": 900,
        "xaxis": {
         "gridcolor": "lightgray",
         "gridwidth": 0.5,
         "showgrid": true,
         "title": {
          "font": {
           "size": 14
          },
          "text": "<b>Valor Real ($)</b>"
         }
        },
        "yaxis": {
         "gridcolor": "lightgray",
         "gridwidth": 0.5,
         "showgrid": true,
         "title": {
          "font": {
           "size": 14
          },
          "text": "<b>Valor Predicho ($)</b>"
         }
        }
       }
      }
     },
     "metadata": {},
     "output_type": "display_data"
    },
    {
     "name": "stdout",
     "output_type": "stream",
     "text": [
      "  → Removed 5/50 outliers (10.0%) using ensemble\n",
      "     • isolation_forest: 5 outliers\n",
      "     • lof: 5 outliers\n",
      "     • robust_statistical: 1 outliers\n",
      "     • z_score: 1 outliers\n",
      "7 - SOCAVACIÓN\n",
      "Best params: {'regressor__svr__C': 5, 'regressor__svr__epsilon': 0.01, 'regressor__svr__gamma': 'scale'}\n",
      "{'R2': 0.9191092259281675, 'MAE': 3759520.04480352, 'RMSE': np.float64(6367428.417797689), 'RMSLE': np.float64(0.28881793052083904), 'MAPE%': 19.058232143082638}\n"
     ]
    },
    {
     "data": {
      "application/vnd.plotly.v1+json": {
       "config": {
        "plotlyServerURL": "https://plot.ly"
       },
       "data": [
        {
         "customdata": [
          "<b>Código:</b> 0654801<br><b>Nombre:</b> BUGA - BUENAVENTURA<br><b>LONGITUD KM:</b> 0.80<br><b>ALCANCE:</b> Construcción <br><b>Valor Real:</b> $4,245,131<br><b>Predicción:</b> $4,638,650"
         ],
         "hovertemplate": "%{customdata}<extra></extra>",
         "marker": {
          "color": "#7f7f7f",
          "line": {
           "color": "white",
           "width": 1
          },
          "opacity": 0.8,
          "size": 12
         },
         "mode": "markers",
         "name": "Construcción ",
         "type": "scatter",
         "x": {
          "bdata": "GnW626IxUEE=",
          "dtype": "f8"
         },
         "y": {
          "bdata": "FYwTY+6xUUE=",
          "dtype": "f8"
         }
        },
        {
         "customdata": [
          "<b>Código:</b> 0266702<br><b>Nombre:</b> CATAMBUCO - PASTO UF5.2<br><b>LONGITUD KM:</b> 5.00<br><b>ALCANCE:</b> Mejoramiento<br><b>Valor Real:</b> $6,289,853<br><b>Predicción:</b> $16,350,245",
          "<b>Código:</b> 0321501<br><b>Nombre:</b> DISEÑO GEOMÉTRICO TERCER CARRIL BOGOTÁ - GIRARDOT<br><b>LONGITUD KM:</b> 9.00<br><b>ALCANCE:</b> Mejoramiento<br><b>Valor Real:</b> $29,010,185<br><b>Predicción:</b> $28,944,562",
          "<b>Código:</b> 0321501<br><b>Nombre:</b> DISEÑO GEOMÉTRICO TERCER CARRIL BOGOTÁ - GIRARDOT<br><b>LONGITUD KM:</b> 14.00<br><b>ALCANCE:</b> Mejoramiento<br><b>Valor Real:</b> $45,126,955<br><b>Predicción:</b> $45,290,073",
          "<b>Código:</b> 0321501<br><b>Nombre:</b> DISEÑO GEOMÉTRICO TERCER CARRIL BOGOTÁ - GIRARDOT<br><b>LONGITUD KM:</b> 6.56<br><b>ALCANCE:</b> Mejoramiento<br><b>Valor Real:</b> $21,145,202<br><b>Predicción:</b> $19,421,538",
          "<b>Código:</b> 0321501<br><b>Nombre:</b> DISEÑO GEOMÉTRICO TERCER CARRIL BOGOTÁ - GIRARDOT<br><b>LONGITUD KM:</b> 18.92<br><b>ALCANCE:</b> Mejoramiento<br><b>Valor Real:</b> $60,985,856<br><b>Predicción:</b> $52,111,274",
          "<b>Código:</b> 0321501<br><b>Nombre:</b> DISEÑO GEOMÉTRICO TERCER CARRIL BOGOTÁ - GIRARDOT<br><b>LONGITUD KM:</b> 14.52<br><b>ALCANCE:</b> Mejoramiento<br><b>Valor Real:</b> $46,803,099<br><b>Predicción:</b> $47,441,244",
          "<b>Código:</b> 0321501<br><b>Nombre:</b> DISEÑO GEOMÉTRICO TERCER CARRIL BOGOTÁ - GIRARDOT<br><b>LONGITUD KM:</b> 9.86<br><b>ALCANCE:</b> Mejoramiento<br><b>Valor Real:</b> $31,782,270<br><b>Predicción:</b> $31,967,775",
          "<b>Código:</b> 0427901<br><b>Nombre:</b> PURIFICACIÓN - LOZANÍA<br><b>LONGITUD KM:</b> 5.00<br><b>ALCANCE:</b> Mejoramiento<br><b>Valor Real:</b> $13,210,826<br><b>Predicción:</b> $16,121,161",
          "<b>Código:</b> 0552903<br><b>Nombre:</b> TRANSVERSAL BOYACÁ<br><b>LONGITUD KM:</b> 10.06<br><b>ALCANCE:</b> Mejoramiento<br><b>Valor Real:</b> $35,960,495<br><b>Predicción:</b> $32,062,407",
          "<b>Código:</b> 0581301<br><b>Nombre:</b> QUEREMAL - DANUBIO<br><b>LONGITUD KM:</b> 5.24<br><b>ALCANCE:</b> Mejoramiento<br><b>Valor Real:</b> $35,321,701<br><b>Predicción:</b> $14,038,170"
         ],
         "hovertemplate": "%{customdata}<extra></extra>",
         "marker": {
          "color": "#2ca02c",
          "line": {
           "color": "white",
           "width": 1
          },
          "opacity": 0.8,
          "size": 12
         },
         "mode": "markers",
         "name": "Mejoramiento",
         "type": "scatter",
         "x": {
          "bdata": "HFF1OG/+V0EV5Q2WkKp7QS2yQ1iphIVBVjaXHGcqdEGOZvwCkBSNQVr7ndhEUYZBIdck3FdPfkFDgA81mTJpQWBG8Hq1JYFB0AA0JLvXgEE=",
          "dtype": "f8"
         },
         "y": {
          "bdata": "TcV7p4Qvb0FLl68Yi5p7QV96fMiSmIVBFwkgG5aFckF5buJQPdmIQcifTeMqn4ZBZz9266F8fkG8hbwgqb9uQdMdWmy8k35BvKaEOJPGakE=",
          "dtype": "f8"
         }
        },
        {
         "customdata": [
          "<b>Código:</b> 0654801<br><b>Nombre:</b> BUGA - BUENAVENTURA<br><b>LONGITUD KM:</b> 3.12<br><b>ALCANCE:</b> Nuevo<br><b>Valor Real:</b> $16,556,013<br><b>Predicción:</b> $10,834,718"
         ],
         "hovertemplate": "%{customdata}<extra></extra>",
         "marker": {
          "color": "#9467bd",
          "line": {
           "color": "white",
           "width": 1
          },
          "opacity": 0.8,
          "size": 12
         },
         "mode": "markers",
         "name": "Nuevo",
         "type": "scatter",
         "x": {
          "bdata": "v8rekv2Tb0E=",
          "dtype": "f8"
         },
         "y": {
          "bdata": "lOcbvmOqZEE=",
          "dtype": "f8"
         }
        },
        {
         "customdata": [
          "<b>Código:</b> 0654801<br><b>Nombre:</b> BUGA - BUENAVENTURA<br><b>LONGITUD KM:</b> 8.21<br><b>ALCANCE:</b> Puesta a punto<br><b>Valor Real:</b> $43,565,661<br><b>Predicción:</b> $43,245,223",
          "<b>Código:</b> 0654801<br><b>Nombre:</b> BUGA - BUENAVENTURA<br><b>LONGITUD KM:</b> 12.16<br><b>ALCANCE:</b> Puesta a punto<br><b>Valor Real:</b> $64,525,998<br><b>Predicción:</b> $63,884,075",
          "<b>Código:</b> 0654801<br><b>Nombre:</b> BUGA - BUENAVENTURA<br><b>LONGITUD KM:</b> 12.16<br><b>ALCANCE:</b> Puesta a punto<br><b>Valor Real:</b> $64,525,998<br><b>Predicción:</b> $63,852,601",
          "<b>Código:</b> 0654801<br><b>Nombre:</b> BUGA - BUENAVENTURA<br><b>LONGITUD KM:</b> 1.00<br><b>ALCANCE:</b> Puesta a punto<br><b>Valor Real:</b> $5,306,414<br><b>Predicción:</b> $7,139,621",
          "<b>Código:</b> 0654801<br><b>Nombre:</b> BUGA - BUENAVENTURA<br><b>LONGITUD KM:</b> 14.00<br><b>ALCANCE:</b> Puesta a punto<br><b>Valor Real:</b> $74,289,800<br><b>Predicción:</b> $73,563,907",
          "<b>Código:</b> 0654801<br><b>Nombre:</b> BUGA - BUENAVENTURA<br><b>LONGITUD KM:</b> 14.00<br><b>ALCANCE:</b> Puesta a punto<br><b>Valor Real:</b> $74,289,800<br><b>Predicción:</b> $73,533,571",
          "<b>Código:</b> 0654801<br><b>Nombre:</b> BUGA - BUENAVENTURA<br><b>LONGITUD KM:</b> 7.84<br><b>ALCANCE:</b> Puesta a punto<br><b>Valor Real:</b> $41,602,288<br><b>Predicción:</b> $41,248,016"
         ],
         "hovertemplate": "%{customdata}<extra></extra>",
         "marker": {
          "color": "#e377c2",
          "line": {
           "color": "white",
           "width": 1
          },
          "opacity": 0.8,
          "size": 12
         },
         "mode": "markers",
         "name": "Puesta a punto",
         "type": "scatter",
         "x": {
          "bdata": "BZer6hLGhEFKq0hutcSOQUqrSG61xI5BYBKpkgs+VEEU8FMgSraRQRTwUyBKtpFBpgJegGfWg0E=",
          "dtype": "f8"
         },
         "y": {
          "bdata": "3SQxOPWehEG6ZHlUWXaOQVazMMSBco5BsH6+I0k8W0Hl1Z8L/ImRQR/acA0iiJFBOYKQfiirg0E=",
          "dtype": "f8"
         }
        },
        {
         "customdata": [
          "<b>Código:</b> 0347801<br><b>Nombre:</b> TERMINACIÓN TÚNEL DE LA LÍNEA<br><b>LONGITUD KM:</b> 8.35<br><b>ALCANCE:</b> Rehabilitación<br><b>Valor Real:</b> $62,840,227<br><b>Predicción:</b> $62,712,694",
          "<b>Código:</b> 0347801<br><b>Nombre:</b> TERMINACIÓN TÚNEL DE LA LÍNEA<br><b>LONGITUD KM:</b> 8.60<br><b>ALCANCE:</b> Rehabilitación<br><b>Valor Real:</b> $64,721,671<br><b>Predicción:</b> $63,840,521",
          "<b>Código:</b> 0347801<br><b>Nombre:</b> TERMINACIÓN TÚNEL DE LA LÍNEA<br><b>LONGITUD KM:</b> 8.50<br><b>ALCANCE:</b> Rehabilitación<br><b>Valor Real:</b> $63,969,094<br><b>Predicción:</b> $63,620,109",
          "<b>Código:</b> 0654801<br><b>Nombre:</b> BUGA - BUENAVENTURA<br><b>LONGITUD KM:</b> 15.00<br><b>ALCANCE:</b> Rehabilitación<br><b>Valor Real:</b> $79,596,214<br><b>Predicción:</b> $63,555,491",
          "<b>Código:</b> 0654801<br><b>Nombre:</b> BUGA - BUENAVENTURA<br><b>LONGITUD KM:</b> 3.15<br><b>ALCANCE:</b> Rehabilitación<br><b>Valor Real:</b> $16,715,205<br><b>Predicción:</b> $14,925,368"
         ],
         "hovertemplate": "%{customdata}<extra></extra>",
         "marker": {
          "color": "#d62728",
          "line": {
           "color": "white",
           "width": 1
          },
          "opacity": 0.8,
          "size": 12
         },
         "mode": "markers",
         "name": "Rehabilitación",
         "type": "scatter",
         "x": {
          "bdata": "4aS0G+32jUEVnzE7mNyOQQI7mS66gI5BOoF+2Sr6kkGKFpeguOFvQQ==",
          "dtype": "f8"
         },
         "y": {
          "bdata": "1z38sFvnjUHKz35GCHGOQRJOymkgVo5B9gi2GT1OjkHKW4IMx3dsQQ==",
          "dtype": "f8"
         }
        },
        {
         "customdata": [
          "<b>Código:</b> 0001<br><b>Nombre:</b> TAMBILLO - COLIBRÍ<br><b>LONGITUD KM:</b> 17.40<br><b>ALCANCE:</b> Segunda calzada<br><b>Valor Real:</b> $52,759,747<br><b>Predicción:</b> $63,092,657",
          "<b>Código:</b> 0005<br><b>Nombre:</b> BUENAVENTURA LOBOGUERRERO<br><b>LONGITUD KM:</b> 10.00<br><b>ALCANCE:</b> Segunda calzada<br><b>Valor Real:</b> $12,401,650<br><b>Predicción:</b> $8,102,644",
          "<b>Código:</b> 0005<br><b>Nombre:</b> BUENAVENTURA LOBOGUERRERO<br><b>LONGITUD KM:</b> 14.30<br><b>ALCANCE:</b> Segunda calzada<br><b>Valor Real:</b> $17,734,360<br><b>Predicción:</b> $21,958,915",
          "<b>Código:</b> 0005<br><b>Nombre:</b> BUENAVENTURA LOBOGUERRERO<br><b>LONGITUD KM:</b> 13.50<br><b>ALCANCE:</b> Segunda calzada<br><b>Valor Real:</b> $16,742,228<br><b>Predicción:</b> $25,772,203",
          "<b>Código:</b> 0005<br><b>Nombre:</b> BUENAVENTURA LOBOGUERRERO<br><b>LONGITUD KM:</b> 7.60<br><b>ALCANCE:</b> Segunda calzada<br><b>Valor Real:</b> $9,425,254<br><b>Predicción:</b> $17,860,339",
          "<b>Código:</b> 0300604<br><b>Nombre:</b> BUGA - BUENAVENTURA EL PORVENIR UF5<br><b>LONGITUD KM:</b> 2.50<br><b>ALCANCE:</b> Segunda calzada<br><b>Valor Real:</b> $9,159,642<br><b>Predicción:</b> $13,572,856",
          "<b>Código:</b> 0300605<br><b>Nombre:</b> BUGA - BUENAVENTURA UF4<br><b>LONGITUD KM:</b> 17.00<br><b>ALCANCE:</b> Segunda calzada<br><b>Valor Real:</b> $44,676,559<br><b>Predicción:</b> $59,435,850",
          "<b>Código:</b> 0654801<br><b>Nombre:</b> BUGA - BUENAVENTURA<br><b>LONGITUD KM:</b> 3.37<br><b>ALCANCE:</b> Segunda calzada<br><b>Valor Real:</b> $17,882,616<br><b>Predicción:</b> $18,087,799",
          "<b>Código:</b> 0654801<br><b>Nombre:</b> BUGA - BUENAVENTURA<br><b>LONGITUD KM:</b> 3.50<br><b>ALCANCE:</b> Segunda calzada<br><b>Valor Real:</b> $18,572,450<br><b>Predicción:</b> $18,572,181",
          "<b>Código:</b> 0654801<br><b>Nombre:</b> BUGA - BUENAVENTURA<br><b>LONGITUD KM:</b> 5.17<br><b>ALCANCE:</b> Segunda calzada<br><b>Valor Real:</b> $27,434,162<br><b>Predicción:</b> $18,829,816",
          "<b>Código:</b> 0654801<br><b>Nombre:</b> BUGA - BUENAVENTURA<br><b>LONGITUD KM:</b> 0.91<br><b>ALCANCE:</b> Segunda calzada<br><b>Valor Real:</b> $4,828,837<br><b>Predicción:</b> $6,920,527",
          "<b>Código:</b> 0654801<br><b>Nombre:</b> BUGA - BUENAVENTURA<br><b>LONGITUD KM:</b> 3.16<br><b>ALCANCE:</b> Segunda calzada<br><b>Valor Real:</b> $16,768,269<br><b>Predicción:</b> $16,942,153",
          "<b>Código:</b> 0654801<br><b>Nombre:</b> BUGA - BUENAVENTURA<br><b>LONGITUD KM:</b> 4.00<br><b>ALCANCE:</b> Segunda calzada<br><b>Valor Real:</b> $21,225,657<br><b>Predicción:</b> $19,121,032",
          "<b>Código:</b> 0654801<br><b>Nombre:</b> BUGA - BUENAVENTURA<br><b>LONGITUD KM:</b> 2.00<br><b>ALCANCE:</b> Segunda calzada<br><b>Valor Real:</b> $10,612,829<br><b>Predicción:</b> $10,072,978",
          "<b>Código:</b> 0654801<br><b>Nombre:</b> BUGA - BUENAVENTURA<br><b>LONGITUD KM:</b> 1.85<br><b>ALCANCE:</b> Segunda calzada<br><b>Valor Real:</b> $9,816,866<br><b>Predicción:</b> $9,153,402",
          "<b>Código:</b> 0654801<br><b>Nombre:</b> BUGA - BUENAVENTURA<br><b>LONGITUD KM:</b> 3.17<br><b>ALCANCE:</b> Segunda calzada<br><b>Valor Real:</b> $16,821,333<br><b>Predicción:</b> $17,179,786",
          "<b>Código:</b> 0654801<br><b>Nombre:</b> BUGA - BUENAVENTURA<br><b>LONGITUD KM:</b> 2.00<br><b>ALCANCE:</b> Segunda calzada<br><b>Valor Real:</b> $10,612,829<br><b>Predicción:</b> $10,109,901",
          "<b>Código:</b> 0654801<br><b>Nombre:</b> BUGA - BUENAVENTURA<br><b>LONGITUD KM:</b> 2.38<br><b>ALCANCE:</b> Segunda calzada<br><b>Valor Real:</b> $12,629,266<br><b>Predicción:</b> $12,849,169",
          "<b>Código:</b> 6935<br><b>Nombre:</b>  PEDREGAL - PASTO UF4-UF5<br><b>LONGITUD KM:</b> 15.76<br><b>ALCANCE:</b> Segunda calzada<br><b>Valor Real:</b> $47,034,443<br><b>Predicción:</b> $31,383,447"
         ],
         "hovertemplate": "%{customdata}<extra></extra>",
         "marker": {
          "color": "#1f77b4",
          "line": {
           "color": "white",
           "width": 1
          },
          "opacity": 0.8,
          "size": 12
         },
         "mode": "markers",
         "name": "Segunda calzada",
         "type": "scatter",
         "x": {
          "bdata": "fS62G2YoiUGJZQFGfqdnQRQ9S3yt6XBBRnwbeOrub0Hja5DELPphQRBOjjN7eGFBx29nda5NhUGG9pmC3w1xQRTwUyBKtnFBZNgyHsspekGaS1dAqWtSQXnaKaWh+29BYBKpkgs+dEFgEqmSCz5kQWaXD05kuWJBM0/eVMUKcEFgEqmSCz5kQcknckCiFmhBWXkLV4JthkE=",
          "dtype": "f8"
         },
         "y": {
          "bdata": "Pf6Jib0VjkG4NpL/vOheQQqaHyoQ8XRBGDxcsgqUeEE3ALA1bwhxQXe9SA9f42lB4eL1UFpXjEFsvGJy9z9xQdajTFA5tnFBClbeeR/1cUHq/ZPQU2ZaQcutOZJEKHBBmXEtfTg8ckHlBYM5cjZjQWVN6jVvdWFBt1lcoEhicEGyEEmfeUhjQZbWKisCgmhBfxa3d/ntfUE=",
          "dtype": "f8"
         }
        },
        {
         "customdata": [
          "<b>Código:</b> 0005<br><b>Nombre:</b> BUENAVENTURA LOBOGUERRERO<br><b>LONGITUD KM:</b> 10.20<br><b>ALCANCE:</b> operacion y mantenimiento<br><b>Valor Real:</b> $12,649,683<br><b>Predicción:</b> $11,794,390",
          "<b>Código:</b> 0005<br><b>Nombre:</b> BUENAVENTURA LOBOGUERRERO<br><b>LONGITUD KM:</b> 8.50<br><b>ALCANCE:</b> operacion y mantenimiento<br><b>Valor Real:</b> $10,541,403<br><b>Predicción:</b> $11,843,496"
         ],
         "hovertemplate": "%{customdata}<extra></extra>",
         "marker": {
          "color": "#ff7f0e",
          "line": {
           "color": "white",
           "width": 1
          },
          "opacity": 0.8,
          "size": 12
         },
         "mode": "markers",
         "name": "operacion y mantenimiento",
         "type": "scatter",
         "x": {
          "bdata": "ASUgZpogaEGByRpVKxtkQQ==",
          "dtype": "f8"
         },
         "y": {
          "bdata": "jQUWzvp+ZkHvkRT+9JZmQQ==",
          "dtype": "f8"
         }
        },
        {
         "line": {
          "color": "red",
          "dash": "dash",
          "width": 2
         },
         "mode": "lines",
         "name": "Predicción Perfecta",
         "showlegend": true,
         "type": "scatter",
         "x": [
          4245131.433255458,
          79596214.37353984
         ],
         "y": [
          4245131.433255458,
          79596214.37353984
         ]
        }
       ],
       "layout": {
        "height": 600,
        "hovermode": "closest",
        "legend": {
         "bgcolor": "rgba(255, 255, 255, 0.9)",
         "bordercolor": "lightgray",
         "borderwidth": 1,
         "orientation": "v",
         "x": 0.01,
         "xanchor": "left",
         "y": 0.99,
         "yanchor": "top"
        },
        "paper_bgcolor": "white",
        "plot_bgcolor": "white",
        "template": {
         "data": {
          "bar": [
           {
            "error_x": {
             "color": "#2a3f5f"
            },
            "error_y": {
             "color": "#2a3f5f"
            },
            "marker": {
             "line": {
              "color": "#E5ECF6",
              "width": 0.5
             },
             "pattern": {
              "fillmode": "overlay",
              "size": 10,
              "solidity": 0.2
             }
            },
            "type": "bar"
           }
          ],
          "barpolar": [
           {
            "marker": {
             "line": {
              "color": "#E5ECF6",
              "width": 0.5
             },
             "pattern": {
              "fillmode": "overlay",
              "size": 10,
              "solidity": 0.2
             }
            },
            "type": "barpolar"
           }
          ],
          "carpet": [
           {
            "aaxis": {
             "endlinecolor": "#2a3f5f",
             "gridcolor": "white",
             "linecolor": "white",
             "minorgridcolor": "white",
             "startlinecolor": "#2a3f5f"
            },
            "baxis": {
             "endlinecolor": "#2a3f5f",
             "gridcolor": "white",
             "linecolor": "white",
             "minorgridcolor": "white",
             "startlinecolor": "#2a3f5f"
            },
            "type": "carpet"
           }
          ],
          "choropleth": [
           {
            "colorbar": {
             "outlinewidth": 0,
             "ticks": ""
            },
            "type": "choropleth"
           }
          ],
          "contour": [
           {
            "colorbar": {
             "outlinewidth": 0,
             "ticks": ""
            },
            "colorscale": [
             [
              0,
              "#0d0887"
             ],
             [
              0.1111111111111111,
              "#46039f"
             ],
             [
              0.2222222222222222,
              "#7201a8"
             ],
             [
              0.3333333333333333,
              "#9c179e"
             ],
             [
              0.4444444444444444,
              "#bd3786"
             ],
             [
              0.5555555555555556,
              "#d8576b"
             ],
             [
              0.6666666666666666,
              "#ed7953"
             ],
             [
              0.7777777777777778,
              "#fb9f3a"
             ],
             [
              0.8888888888888888,
              "#fdca26"
             ],
             [
              1,
              "#f0f921"
             ]
            ],
            "type": "contour"
           }
          ],
          "contourcarpet": [
           {
            "colorbar": {
             "outlinewidth": 0,
             "ticks": ""
            },
            "type": "contourcarpet"
           }
          ],
          "heatmap": [
           {
            "colorbar": {
             "outlinewidth": 0,
             "ticks": ""
            },
            "colorscale": [
             [
              0,
              "#0d0887"
             ],
             [
              0.1111111111111111,
              "#46039f"
             ],
             [
              0.2222222222222222,
              "#7201a8"
             ],
             [
              0.3333333333333333,
              "#9c179e"
             ],
             [
              0.4444444444444444,
              "#bd3786"
             ],
             [
              0.5555555555555556,
              "#d8576b"
             ],
             [
              0.6666666666666666,
              "#ed7953"
             ],
             [
              0.7777777777777778,
              "#fb9f3a"
             ],
             [
              0.8888888888888888,
              "#fdca26"
             ],
             [
              1,
              "#f0f921"
             ]
            ],
            "type": "heatmap"
           }
          ],
          "histogram": [
           {
            "marker": {
             "pattern": {
              "fillmode": "overlay",
              "size": 10,
              "solidity": 0.2
             }
            },
            "type": "histogram"
           }
          ],
          "histogram2d": [
           {
            "colorbar": {
             "outlinewidth": 0,
             "ticks": ""
            },
            "colorscale": [
             [
              0,
              "#0d0887"
             ],
             [
              0.1111111111111111,
              "#46039f"
             ],
             [
              0.2222222222222222,
              "#7201a8"
             ],
             [
              0.3333333333333333,
              "#9c179e"
             ],
             [
              0.4444444444444444,
              "#bd3786"
             ],
             [
              0.5555555555555556,
              "#d8576b"
             ],
             [
              0.6666666666666666,
              "#ed7953"
             ],
             [
              0.7777777777777778,
              "#fb9f3a"
             ],
             [
              0.8888888888888888,
              "#fdca26"
             ],
             [
              1,
              "#f0f921"
             ]
            ],
            "type": "histogram2d"
           }
          ],
          "histogram2dcontour": [
           {
            "colorbar": {
             "outlinewidth": 0,
             "ticks": ""
            },
            "colorscale": [
             [
              0,
              "#0d0887"
             ],
             [
              0.1111111111111111,
              "#46039f"
             ],
             [
              0.2222222222222222,
              "#7201a8"
             ],
             [
              0.3333333333333333,
              "#9c179e"
             ],
             [
              0.4444444444444444,
              "#bd3786"
             ],
             [
              0.5555555555555556,
              "#d8576b"
             ],
             [
              0.6666666666666666,
              "#ed7953"
             ],
             [
              0.7777777777777778,
              "#fb9f3a"
             ],
             [
              0.8888888888888888,
              "#fdca26"
             ],
             [
              1,
              "#f0f921"
             ]
            ],
            "type": "histogram2dcontour"
           }
          ],
          "mesh3d": [
           {
            "colorbar": {
             "outlinewidth": 0,
             "ticks": ""
            },
            "type": "mesh3d"
           }
          ],
          "parcoords": [
           {
            "line": {
             "colorbar": {
              "outlinewidth": 0,
              "ticks": ""
             }
            },
            "type": "parcoords"
           }
          ],
          "pie": [
           {
            "automargin": true,
            "type": "pie"
           }
          ],
          "scatter": [
           {
            "fillpattern": {
             "fillmode": "overlay",
             "size": 10,
             "solidity": 0.2
            },
            "type": "scatter"
           }
          ],
          "scatter3d": [
           {
            "line": {
             "colorbar": {
              "outlinewidth": 0,
              "ticks": ""
             }
            },
            "marker": {
             "colorbar": {
              "outlinewidth": 0,
              "ticks": ""
             }
            },
            "type": "scatter3d"
           }
          ],
          "scattercarpet": [
           {
            "marker": {
             "colorbar": {
              "outlinewidth": 0,
              "ticks": ""
             }
            },
            "type": "scattercarpet"
           }
          ],
          "scattergeo": [
           {
            "marker": {
             "colorbar": {
              "outlinewidth": 0,
              "ticks": ""
             }
            },
            "type": "scattergeo"
           }
          ],
          "scattergl": [
           {
            "marker": {
             "colorbar": {
              "outlinewidth": 0,
              "ticks": ""
             }
            },
            "type": "scattergl"
           }
          ],
          "scattermap": [
           {
            "marker": {
             "colorbar": {
              "outlinewidth": 0,
              "ticks": ""
             }
            },
            "type": "scattermap"
           }
          ],
          "scattermapbox": [
           {
            "marker": {
             "colorbar": {
              "outlinewidth": 0,
              "ticks": ""
             }
            },
            "type": "scattermapbox"
           }
          ],
          "scatterpolar": [
           {
            "marker": {
             "colorbar": {
              "outlinewidth": 0,
              "ticks": ""
             }
            },
            "type": "scatterpolar"
           }
          ],
          "scatterpolargl": [
           {
            "marker": {
             "colorbar": {
              "outlinewidth": 0,
              "ticks": ""
             }
            },
            "type": "scatterpolargl"
           }
          ],
          "scatterternary": [
           {
            "marker": {
             "colorbar": {
              "outlinewidth": 0,
              "ticks": ""
             }
            },
            "type": "scatterternary"
           }
          ],
          "surface": [
           {
            "colorbar": {
             "outlinewidth": 0,
             "ticks": ""
            },
            "colorscale": [
             [
              0,
              "#0d0887"
             ],
             [
              0.1111111111111111,
              "#46039f"
             ],
             [
              0.2222222222222222,
              "#7201a8"
             ],
             [
              0.3333333333333333,
              "#9c179e"
             ],
             [
              0.4444444444444444,
              "#bd3786"
             ],
             [
              0.5555555555555556,
              "#d8576b"
             ],
             [
              0.6666666666666666,
              "#ed7953"
             ],
             [
              0.7777777777777778,
              "#fb9f3a"
             ],
             [
              0.8888888888888888,
              "#fdca26"
             ],
             [
              1,
              "#f0f921"
             ]
            ],
            "type": "surface"
           }
          ],
          "table": [
           {
            "cells": {
             "fill": {
              "color": "#EBF0F8"
             },
             "line": {
              "color": "white"
             }
            },
            "header": {
             "fill": {
              "color": "#C8D4E3"
             },
             "line": {
              "color": "white"
             }
            },
            "type": "table"
           }
          ]
         },
         "layout": {
          "annotationdefaults": {
           "arrowcolor": "#2a3f5f",
           "arrowhead": 0,
           "arrowwidth": 1
          },
          "autotypenumbers": "strict",
          "coloraxis": {
           "colorbar": {
            "outlinewidth": 0,
            "ticks": ""
           }
          },
          "colorscale": {
           "diverging": [
            [
             0,
             "#8e0152"
            ],
            [
             0.1,
             "#c51b7d"
            ],
            [
             0.2,
             "#de77ae"
            ],
            [
             0.3,
             "#f1b6da"
            ],
            [
             0.4,
             "#fde0ef"
            ],
            [
             0.5,
             "#f7f7f7"
            ],
            [
             0.6,
             "#e6f5d0"
            ],
            [
             0.7,
             "#b8e186"
            ],
            [
             0.8,
             "#7fbc41"
            ],
            [
             0.9,
             "#4d9221"
            ],
            [
             1,
             "#276419"
            ]
           ],
           "sequential": [
            [
             0,
             "#0d0887"
            ],
            [
             0.1111111111111111,
             "#46039f"
            ],
            [
             0.2222222222222222,
             "#7201a8"
            ],
            [
             0.3333333333333333,
             "#9c179e"
            ],
            [
             0.4444444444444444,
             "#bd3786"
            ],
            [
             0.5555555555555556,
             "#d8576b"
            ],
            [
             0.6666666666666666,
             "#ed7953"
            ],
            [
             0.7777777777777778,
             "#fb9f3a"
            ],
            [
             0.8888888888888888,
             "#fdca26"
            ],
            [
             1,
             "#f0f921"
            ]
           ],
           "sequentialminus": [
            [
             0,
             "#0d0887"
            ],
            [
             0.1111111111111111,
             "#46039f"
            ],
            [
             0.2222222222222222,
             "#7201a8"
            ],
            [
             0.3333333333333333,
             "#9c179e"
            ],
            [
             0.4444444444444444,
             "#bd3786"
            ],
            [
             0.5555555555555556,
             "#d8576b"
            ],
            [
             0.6666666666666666,
             "#ed7953"
            ],
            [
             0.7777777777777778,
             "#fb9f3a"
            ],
            [
             0.8888888888888888,
             "#fdca26"
            ],
            [
             1,
             "#f0f921"
            ]
           ]
          },
          "colorway": [
           "#636efa",
           "#EF553B",
           "#00cc96",
           "#ab63fa",
           "#FFA15A",
           "#19d3f3",
           "#FF6692",
           "#B6E880",
           "#FF97FF",
           "#FECB52"
          ],
          "font": {
           "color": "#2a3f5f"
          },
          "geo": {
           "bgcolor": "white",
           "lakecolor": "white",
           "landcolor": "#E5ECF6",
           "showlakes": true,
           "showland": true,
           "subunitcolor": "white"
          },
          "hoverlabel": {
           "align": "left"
          },
          "hovermode": "closest",
          "mapbox": {
           "style": "light"
          },
          "paper_bgcolor": "white",
          "plot_bgcolor": "#E5ECF6",
          "polar": {
           "angularaxis": {
            "gridcolor": "white",
            "linecolor": "white",
            "ticks": ""
           },
           "bgcolor": "#E5ECF6",
           "radialaxis": {
            "gridcolor": "white",
            "linecolor": "white",
            "ticks": ""
           }
          },
          "scene": {
           "xaxis": {
            "backgroundcolor": "#E5ECF6",
            "gridcolor": "white",
            "gridwidth": 2,
            "linecolor": "white",
            "showbackground": true,
            "ticks": "",
            "zerolinecolor": "white"
           },
           "yaxis": {
            "backgroundcolor": "#E5ECF6",
            "gridcolor": "white",
            "gridwidth": 2,
            "linecolor": "white",
            "showbackground": true,
            "ticks": "",
            "zerolinecolor": "white"
           },
           "zaxis": {
            "backgroundcolor": "#E5ECF6",
            "gridcolor": "white",
            "gridwidth": 2,
            "linecolor": "white",
            "showbackground": true,
            "ticks": "",
            "zerolinecolor": "white"
           }
          },
          "shapedefaults": {
           "line": {
            "color": "#2a3f5f"
           }
          },
          "ternary": {
           "aaxis": {
            "gridcolor": "white",
            "linecolor": "white",
            "ticks": ""
           },
           "baxis": {
            "gridcolor": "white",
            "linecolor": "white",
            "ticks": ""
           },
           "bgcolor": "#E5ECF6",
           "caxis": {
            "gridcolor": "white",
            "linecolor": "white",
            "ticks": ""
           }
          },
          "title": {
           "x": 0.05
          },
          "xaxis": {
           "automargin": true,
           "gridcolor": "white",
           "linecolor": "white",
           "ticks": "",
           "title": {
            "standoff": 15
           },
           "zerolinecolor": "white",
           "zerolinewidth": 2
          },
          "yaxis": {
           "automargin": true,
           "gridcolor": "white",
           "linecolor": "white",
           "ticks": "",
           "title": {
            "standoff": 15
           },
           "zerolinecolor": "white",
           "zerolinewidth": 2
          }
         }
        },
        "title": {
         "font": {
          "family": "Arial Black",
          "size": 20
         },
         "text": "<b>Predicción vs Realidad - 7 - SOCAVACIÓN</b>",
         "x": 0.5,
         "xanchor": "center"
        },
        "width": 900,
        "xaxis": {
         "gridcolor": "lightgray",
         "gridwidth": 0.5,
         "showgrid": true,
         "title": {
          "font": {
           "size": 14
          },
          "text": "<b>Valor Real ($)</b>"
         }
        },
        "yaxis": {
         "gridcolor": "lightgray",
         "gridwidth": 0.5,
         "showgrid": true,
         "title": {
          "font": {
           "size": 14
          },
          "text": "<b>Valor Predicho ($)</b>"
         }
        }
       }
      }
     },
     "metadata": {},
     "output_type": "display_data"
    },
    {
     "name": "stdout",
     "output_type": "stream",
     "text": [
      "Warning: Only 4 samples. Skipping outlier detection.\n",
      "11 - PREDIAL\n",
      "Best params: {'regressor__svr__C': 5, 'regressor__svr__epsilon': 0.01, 'regressor__svr__gamma': 1.0}\n",
      "{'R2': -0.4044402705078842, 'MAE': 710990.1232883679, 'RMSE': np.float64(1052513.0803657123), 'RMSLE': np.float64(0.059109258098428374), 'MAPE%': 3.8924951032041744}\n"
     ]
    },
    {
     "data": {
      "application/vnd.plotly.v1+json": {
       "config": {
        "plotlyServerURL": "https://plot.ly"
       },
       "data": [
        {
         "customdata": [
          "<b>Código:</b> 0581301<br><b>Nombre:</b> QUEREMAL - DANUBIO<br><b>LONGITUD KM:</b> 5.24<br><b>ALCANCE:</b> Mejoramiento<br><b>Valor Real:</b> $18,914,855<br><b>Predicción:</b> $16,886,655"
         ],
         "hovertemplate": "%{customdata}<extra></extra>",
         "marker": {
          "color": "#2ca02c",
          "line": {
           "color": "white",
           "width": 1
          },
          "opacity": 0.8,
          "size": 12
         },
         "mode": "markers",
         "name": "Mejoramiento",
         "type": "scatter",
         "x": {
          "bdata": "qku0cuIJckE=",
          "dtype": "f8"
         },
         "y": {
          "bdata": "UfCB97cacEE=",
          "dtype": "f8"
         }
        },
        {
         "customdata": [
          "<b>Código:</b> 0347801<br><b>Nombre:</b> TERMINACIÓN TÚNEL DE LA LÍNEA<br><b>LONGITUD KM:</b> 8.35<br><b>ALCANCE:</b> Rehabilitación<br><b>Valor Real:</b> $16,639,400<br><b>Predicción:</b> $17,120,530",
          "<b>Código:</b> 0347801<br><b>Nombre:</b> TERMINACIÓN TÚNEL DE LA LÍNEA<br><b>LONGITUD KM:</b> 8.60<br><b>ALCANCE:</b> Rehabilitación<br><b>Valor Real:</b> $17,137,585<br><b>Predicción:</b> $16,847,661",
          "<b>Código:</b> 0347801<br><b>Nombre:</b> TERMINACIÓN TÚNEL DE LA LÍNEA<br><b>LONGITUD KM:</b> 8.50<br><b>ALCANCE:</b> Rehabilitación<br><b>Valor Real:</b> $16,938,311<br><b>Predicción:</b> $16,893,605"
         ],
         "hovertemplate": "%{customdata}<extra></extra>",
         "marker": {
          "color": "#d62728",
          "line": {
           "color": "white",
           "width": 1
          },
          "opacity": 0.8,
          "size": 12
         },
         "mode": "markers",
         "name": "Rehabilitación",
         "type": "scatter",
         "x": {
          "bdata": "ToQ+97S8b0FZCI0V+1dwQaxSlHFUJ3BB",
          "dtype": "f8"
         },
         "y": {
          "bdata": "04XaH9FTcEHaZIrPMhFwQUugIE9qHHBB",
          "dtype": "f8"
         }
        },
        {
         "line": {
          "color": "red",
          "dash": "dash",
          "width": 2
         },
         "mode": "lines",
         "name": "Predicción Perfecta",
         "showlegend": true,
         "type": "scatter",
         "x": [
          16639399.726381447,
          18914855.16901747
         ],
         "y": [
          16639399.726381447,
          18914855.16901747
         ]
        }
       ],
       "layout": {
        "height": 600,
        "hovermode": "closest",
        "legend": {
         "bgcolor": "rgba(255, 255, 255, 0.9)",
         "bordercolor": "lightgray",
         "borderwidth": 1,
         "orientation": "v",
         "x": 0.01,
         "xanchor": "left",
         "y": 0.99,
         "yanchor": "top"
        },
        "paper_bgcolor": "white",
        "plot_bgcolor": "white",
        "template": {
         "data": {
          "bar": [
           {
            "error_x": {
             "color": "#2a3f5f"
            },
            "error_y": {
             "color": "#2a3f5f"
            },
            "marker": {
             "line": {
              "color": "#E5ECF6",
              "width": 0.5
             },
             "pattern": {
              "fillmode": "overlay",
              "size": 10,
              "solidity": 0.2
             }
            },
            "type": "bar"
           }
          ],
          "barpolar": [
           {
            "marker": {
             "line": {
              "color": "#E5ECF6",
              "width": 0.5
             },
             "pattern": {
              "fillmode": "overlay",
              "size": 10,
              "solidity": 0.2
             }
            },
            "type": "barpolar"
           }
          ],
          "carpet": [
           {
            "aaxis": {
             "endlinecolor": "#2a3f5f",
             "gridcolor": "white",
             "linecolor": "white",
             "minorgridcolor": "white",
             "startlinecolor": "#2a3f5f"
            },
            "baxis": {
             "endlinecolor": "#2a3f5f",
             "gridcolor": "white",
             "linecolor": "white",
             "minorgridcolor": "white",
             "startlinecolor": "#2a3f5f"
            },
            "type": "carpet"
           }
          ],
          "choropleth": [
           {
            "colorbar": {
             "outlinewidth": 0,
             "ticks": ""
            },
            "type": "choropleth"
           }
          ],
          "contour": [
           {
            "colorbar": {
             "outlinewidth": 0,
             "ticks": ""
            },
            "colorscale": [
             [
              0,
              "#0d0887"
             ],
             [
              0.1111111111111111,
              "#46039f"
             ],
             [
              0.2222222222222222,
              "#7201a8"
             ],
             [
              0.3333333333333333,
              "#9c179e"
             ],
             [
              0.4444444444444444,
              "#bd3786"
             ],
             [
              0.5555555555555556,
              "#d8576b"
             ],
             [
              0.6666666666666666,
              "#ed7953"
             ],
             [
              0.7777777777777778,
              "#fb9f3a"
             ],
             [
              0.8888888888888888,
              "#fdca26"
             ],
             [
              1,
              "#f0f921"
             ]
            ],
            "type": "contour"
           }
          ],
          "contourcarpet": [
           {
            "colorbar": {
             "outlinewidth": 0,
             "ticks": ""
            },
            "type": "contourcarpet"
           }
          ],
          "heatmap": [
           {
            "colorbar": {
             "outlinewidth": 0,
             "ticks": ""
            },
            "colorscale": [
             [
              0,
              "#0d0887"
             ],
             [
              0.1111111111111111,
              "#46039f"
             ],
             [
              0.2222222222222222,
              "#7201a8"
             ],
             [
              0.3333333333333333,
              "#9c179e"
             ],
             [
              0.4444444444444444,
              "#bd3786"
             ],
             [
              0.5555555555555556,
              "#d8576b"
             ],
             [
              0.6666666666666666,
              "#ed7953"
             ],
             [
              0.7777777777777778,
              "#fb9f3a"
             ],
             [
              0.8888888888888888,
              "#fdca26"
             ],
             [
              1,
              "#f0f921"
             ]
            ],
            "type": "heatmap"
           }
          ],
          "histogram": [
           {
            "marker": {
             "pattern": {
              "fillmode": "overlay",
              "size": 10,
              "solidity": 0.2
             }
            },
            "type": "histogram"
           }
          ],
          "histogram2d": [
           {
            "colorbar": {
             "outlinewidth": 0,
             "ticks": ""
            },
            "colorscale": [
             [
              0,
              "#0d0887"
             ],
             [
              0.1111111111111111,
              "#46039f"
             ],
             [
              0.2222222222222222,
              "#7201a8"
             ],
             [
              0.3333333333333333,
              "#9c179e"
             ],
             [
              0.4444444444444444,
              "#bd3786"
             ],
             [
              0.5555555555555556,
              "#d8576b"
             ],
             [
              0.6666666666666666,
              "#ed7953"
             ],
             [
              0.7777777777777778,
              "#fb9f3a"
             ],
             [
              0.8888888888888888,
              "#fdca26"
             ],
             [
              1,
              "#f0f921"
             ]
            ],
            "type": "histogram2d"
           }
          ],
          "histogram2dcontour": [
           {
            "colorbar": {
             "outlinewidth": 0,
             "ticks": ""
            },
            "colorscale": [
             [
              0,
              "#0d0887"
             ],
             [
              0.1111111111111111,
              "#46039f"
             ],
             [
              0.2222222222222222,
              "#7201a8"
             ],
             [
              0.3333333333333333,
              "#9c179e"
             ],
             [
              0.4444444444444444,
              "#bd3786"
             ],
             [
              0.5555555555555556,
              "#d8576b"
             ],
             [
              0.6666666666666666,
              "#ed7953"
             ],
             [
              0.7777777777777778,
              "#fb9f3a"
             ],
             [
              0.8888888888888888,
              "#fdca26"
             ],
             [
              1,
              "#f0f921"
             ]
            ],
            "type": "histogram2dcontour"
           }
          ],
          "mesh3d": [
           {
            "colorbar": {
             "outlinewidth": 0,
             "ticks": ""
            },
            "type": "mesh3d"
           }
          ],
          "parcoords": [
           {
            "line": {
             "colorbar": {
              "outlinewidth": 0,
              "ticks": ""
             }
            },
            "type": "parcoords"
           }
          ],
          "pie": [
           {
            "automargin": true,
            "type": "pie"
           }
          ],
          "scatter": [
           {
            "fillpattern": {
             "fillmode": "overlay",
             "size": 10,
             "solidity": 0.2
            },
            "type": "scatter"
           }
          ],
          "scatter3d": [
           {
            "line": {
             "colorbar": {
              "outlinewidth": 0,
              "ticks": ""
             }
            },
            "marker": {
             "colorbar": {
              "outlinewidth": 0,
              "ticks": ""
             }
            },
            "type": "scatter3d"
           }
          ],
          "scattercarpet": [
           {
            "marker": {
             "colorbar": {
              "outlinewidth": 0,
              "ticks": ""
             }
            },
            "type": "scattercarpet"
           }
          ],
          "scattergeo": [
           {
            "marker": {
             "colorbar": {
              "outlinewidth": 0,
              "ticks": ""
             }
            },
            "type": "scattergeo"
           }
          ],
          "scattergl": [
           {
            "marker": {
             "colorbar": {
              "outlinewidth": 0,
              "ticks": ""
             }
            },
            "type": "scattergl"
           }
          ],
          "scattermap": [
           {
            "marker": {
             "colorbar": {
              "outlinewidth": 0,
              "ticks": ""
             }
            },
            "type": "scattermap"
           }
          ],
          "scattermapbox": [
           {
            "marker": {
             "colorbar": {
              "outlinewidth": 0,
              "ticks": ""
             }
            },
            "type": "scattermapbox"
           }
          ],
          "scatterpolar": [
           {
            "marker": {
             "colorbar": {
              "outlinewidth": 0,
              "ticks": ""
             }
            },
            "type": "scatterpolar"
           }
          ],
          "scatterpolargl": [
           {
            "marker": {
             "colorbar": {
              "outlinewidth": 0,
              "ticks": ""
             }
            },
            "type": "scatterpolargl"
           }
          ],
          "scatterternary": [
           {
            "marker": {
             "colorbar": {
              "outlinewidth": 0,
              "ticks": ""
             }
            },
            "type": "scatterternary"
           }
          ],
          "surface": [
           {
            "colorbar": {
             "outlinewidth": 0,
             "ticks": ""
            },
            "colorscale": [
             [
              0,
              "#0d0887"
             ],
             [
              0.1111111111111111,
              "#46039f"
             ],
             [
              0.2222222222222222,
              "#7201a8"
             ],
             [
              0.3333333333333333,
              "#9c179e"
             ],
             [
              0.4444444444444444,
              "#bd3786"
             ],
             [
              0.5555555555555556,
              "#d8576b"
             ],
             [
              0.6666666666666666,
              "#ed7953"
             ],
             [
              0.7777777777777778,
              "#fb9f3a"
             ],
             [
              0.8888888888888888,
              "#fdca26"
             ],
             [
              1,
              "#f0f921"
             ]
            ],
            "type": "surface"
           }
          ],
          "table": [
           {
            "cells": {
             "fill": {
              "color": "#EBF0F8"
             },
             "line": {
              "color": "white"
             }
            },
            "header": {
             "fill": {
              "color": "#C8D4E3"
             },
             "line": {
              "color": "white"
             }
            },
            "type": "table"
           }
          ]
         },
         "layout": {
          "annotationdefaults": {
           "arrowcolor": "#2a3f5f",
           "arrowhead": 0,
           "arrowwidth": 1
          },
          "autotypenumbers": "strict",
          "coloraxis": {
           "colorbar": {
            "outlinewidth": 0,
            "ticks": ""
           }
          },
          "colorscale": {
           "diverging": [
            [
             0,
             "#8e0152"
            ],
            [
             0.1,
             "#c51b7d"
            ],
            [
             0.2,
             "#de77ae"
            ],
            [
             0.3,
             "#f1b6da"
            ],
            [
             0.4,
             "#fde0ef"
            ],
            [
             0.5,
             "#f7f7f7"
            ],
            [
             0.6,
             "#e6f5d0"
            ],
            [
             0.7,
             "#b8e186"
            ],
            [
             0.8,
             "#7fbc41"
            ],
            [
             0.9,
             "#4d9221"
            ],
            [
             1,
             "#276419"
            ]
           ],
           "sequential": [
            [
             0,
             "#0d0887"
            ],
            [
             0.1111111111111111,
             "#46039f"
            ],
            [
             0.2222222222222222,
             "#7201a8"
            ],
            [
             0.3333333333333333,
             "#9c179e"
            ],
            [
             0.4444444444444444,
             "#bd3786"
            ],
            [
             0.5555555555555556,
             "#d8576b"
            ],
            [
             0.6666666666666666,
             "#ed7953"
            ],
            [
             0.7777777777777778,
             "#fb9f3a"
            ],
            [
             0.8888888888888888,
             "#fdca26"
            ],
            [
             1,
             "#f0f921"
            ]
           ],
           "sequentialminus": [
            [
             0,
             "#0d0887"
            ],
            [
             0.1111111111111111,
             "#46039f"
            ],
            [
             0.2222222222222222,
             "#7201a8"
            ],
            [
             0.3333333333333333,
             "#9c179e"
            ],
            [
             0.4444444444444444,
             "#bd3786"
            ],
            [
             0.5555555555555556,
             "#d8576b"
            ],
            [
             0.6666666666666666,
             "#ed7953"
            ],
            [
             0.7777777777777778,
             "#fb9f3a"
            ],
            [
             0.8888888888888888,
             "#fdca26"
            ],
            [
             1,
             "#f0f921"
            ]
           ]
          },
          "colorway": [
           "#636efa",
           "#EF553B",
           "#00cc96",
           "#ab63fa",
           "#FFA15A",
           "#19d3f3",
           "#FF6692",
           "#B6E880",
           "#FF97FF",
           "#FECB52"
          ],
          "font": {
           "color": "#2a3f5f"
          },
          "geo": {
           "bgcolor": "white",
           "lakecolor": "white",
           "landcolor": "#E5ECF6",
           "showlakes": true,
           "showland": true,
           "subunitcolor": "white"
          },
          "hoverlabel": {
           "align": "left"
          },
          "hovermode": "closest",
          "mapbox": {
           "style": "light"
          },
          "paper_bgcolor": "white",
          "plot_bgcolor": "#E5ECF6",
          "polar": {
           "angularaxis": {
            "gridcolor": "white",
            "linecolor": "white",
            "ticks": ""
           },
           "bgcolor": "#E5ECF6",
           "radialaxis": {
            "gridcolor": "white",
            "linecolor": "white",
            "ticks": ""
           }
          },
          "scene": {
           "xaxis": {
            "backgroundcolor": "#E5ECF6",
            "gridcolor": "white",
            "gridwidth": 2,
            "linecolor": "white",
            "showbackground": true,
            "ticks": "",
            "zerolinecolor": "white"
           },
           "yaxis": {
            "backgroundcolor": "#E5ECF6",
            "gridcolor": "white",
            "gridwidth": 2,
            "linecolor": "white",
            "showbackground": true,
            "ticks": "",
            "zerolinecolor": "white"
           },
           "zaxis": {
            "backgroundcolor": "#E5ECF6",
            "gridcolor": "white",
            "gridwidth": 2,
            "linecolor": "white",
            "showbackground": true,
            "ticks": "",
            "zerolinecolor": "white"
           }
          },
          "shapedefaults": {
           "line": {
            "color": "#2a3f5f"
           }
          },
          "ternary": {
           "aaxis": {
            "gridcolor": "white",
            "linecolor": "white",
            "ticks": ""
           },
           "baxis": {
            "gridcolor": "white",
            "linecolor": "white",
            "ticks": ""
           },
           "bgcolor": "#E5ECF6",
           "caxis": {
            "gridcolor": "white",
            "linecolor": "white",
            "ticks": ""
           }
          },
          "title": {
           "x": 0.05
          },
          "xaxis": {
           "automargin": true,
           "gridcolor": "white",
           "linecolor": "white",
           "ticks": "",
           "title": {
            "standoff": 15
           },
           "zerolinecolor": "white",
           "zerolinewidth": 2
          },
          "yaxis": {
           "automargin": true,
           "gridcolor": "white",
           "linecolor": "white",
           "ticks": "",
           "title": {
            "standoff": 15
           },
           "zerolinecolor": "white",
           "zerolinewidth": 2
          }
         }
        },
        "title": {
         "font": {
          "family": "Arial Black",
          "size": 20
         },
         "text": "<b>Predicción vs Realidad - 11 - PREDIAL</b>",
         "x": 0.5,
         "xanchor": "center"
        },
        "width": 900,
        "xaxis": {
         "gridcolor": "lightgray",
         "gridwidth": 0.5,
         "showgrid": true,
         "title": {
          "font": {
           "size": 14
          },
          "text": "<b>Valor Real ($)</b>"
         }
        },
        "yaxis": {
         "gridcolor": "lightgray",
         "gridwidth": 0.5,
         "showgrid": true,
         "title": {
          "font": {
           "size": 14
          },
          "text": "<b>Valor Predicho ($)</b>"
         }
        }
       }
      }
     },
     "metadata": {},
     "output_type": "display_data"
    },
    {
     "name": "stdout",
     "output_type": "stream",
     "text": [
      "Warning: Only 2 samples. Skipping outlier detection.\n",
      "12 - IMPACTO AMBIENTAL\n",
      "Best params: {'regressor__svr__C': 5, 'regressor__svr__epsilon': 0.01, 'regressor__svr__gamma': 'scale'}\n",
      "{'R2': -3.000000000000001, 'MAE': 117199626.3808198, 'RMSE': np.float64(117199626.38081981), 'RMSLE': np.float64(4.2750618423999285), 'MAPE%': 3593.535818986291}\n"
     ]
    },
    {
     "data": {
      "application/vnd.plotly.v1+json": {
       "config": {
        "plotlyServerURL": "https://plot.ly"
       },
       "data": [
        {
         "customdata": [
          "<b>Código:</b> 0427901<br><b>Nombre:</b> PURIFICACIÓN - LOZANÍA<br><b>LONGITUD KM:</b> 5.00<br><b>ALCANCE:</b> Mejoramiento<br><b>Valor Real:</b> $1,653,386<br><b>Predicción:</b> $118,853,012",
          "<b>Código:</b> 0581301<br><b>Nombre:</b> QUEREMAL - DANUBIO<br><b>LONGITUD KM:</b> 5.24<br><b>ALCANCE:</b> Mejoramiento<br><b>Valor Real:</b> $118,853,012<br><b>Predicción:</b> $1,653,386"
         ],
         "hovertemplate": "%{customdata}<extra></extra>",
         "marker": {
          "color": "#2ca02c",
          "line": {
           "color": "white",
           "width": 1
          },
          "opacity": 0.8,
          "size": 12
         },
         "mode": "markers",
         "name": "Mejoramiento",
         "type": "scatter",
         "x": {
          "bdata": "+Ha6p4k6OUF83yRQNlacQQ==",
          "dtype": "f8"
         },
         "y": {
          "bdata": "fd8kUDZWnEH8drqniTo5QQ==",
          "dtype": "f8"
         }
        },
        {
         "line": {
          "color": "red",
          "dash": "dash",
          "width": 2
         },
         "mode": "lines",
         "name": "Predicción Perfecta",
         "showlegend": true,
         "type": "scatter",
         "x": [
          1653385.6551889759,
          118853012.03600879
         ],
         "y": [
          1653385.6551889759,
          118853012.03600879
         ]
        }
       ],
       "layout": {
        "height": 600,
        "hovermode": "closest",
        "legend": {
         "bgcolor": "rgba(255, 255, 255, 0.9)",
         "bordercolor": "lightgray",
         "borderwidth": 1,
         "orientation": "v",
         "x": 0.01,
         "xanchor": "left",
         "y": 0.99,
         "yanchor": "top"
        },
        "paper_bgcolor": "white",
        "plot_bgcolor": "white",
        "template": {
         "data": {
          "bar": [
           {
            "error_x": {
             "color": "#2a3f5f"
            },
            "error_y": {
             "color": "#2a3f5f"
            },
            "marker": {
             "line": {
              "color": "#E5ECF6",
              "width": 0.5
             },
             "pattern": {
              "fillmode": "overlay",
              "size": 10,
              "solidity": 0.2
             }
            },
            "type": "bar"
           }
          ],
          "barpolar": [
           {
            "marker": {
             "line": {
              "color": "#E5ECF6",
              "width": 0.5
             },
             "pattern": {
              "fillmode": "overlay",
              "size": 10,
              "solidity": 0.2
             }
            },
            "type": "barpolar"
           }
          ],
          "carpet": [
           {
            "aaxis": {
             "endlinecolor": "#2a3f5f",
             "gridcolor": "white",
             "linecolor": "white",
             "minorgridcolor": "white",
             "startlinecolor": "#2a3f5f"
            },
            "baxis": {
             "endlinecolor": "#2a3f5f",
             "gridcolor": "white",
             "linecolor": "white",
             "minorgridcolor": "white",
             "startlinecolor": "#2a3f5f"
            },
            "type": "carpet"
           }
          ],
          "choropleth": [
           {
            "colorbar": {
             "outlinewidth": 0,
             "ticks": ""
            },
            "type": "choropleth"
           }
          ],
          "contour": [
           {
            "colorbar": {
             "outlinewidth": 0,
             "ticks": ""
            },
            "colorscale": [
             [
              0,
              "#0d0887"
             ],
             [
              0.1111111111111111,
              "#46039f"
             ],
             [
              0.2222222222222222,
              "#7201a8"
             ],
             [
              0.3333333333333333,
              "#9c179e"
             ],
             [
              0.4444444444444444,
              "#bd3786"
             ],
             [
              0.5555555555555556,
              "#d8576b"
             ],
             [
              0.6666666666666666,
              "#ed7953"
             ],
             [
              0.7777777777777778,
              "#fb9f3a"
             ],
             [
              0.8888888888888888,
              "#fdca26"
             ],
             [
              1,
              "#f0f921"
             ]
            ],
            "type": "contour"
           }
          ],
          "contourcarpet": [
           {
            "colorbar": {
             "outlinewidth": 0,
             "ticks": ""
            },
            "type": "contourcarpet"
           }
          ],
          "heatmap": [
           {
            "colorbar": {
             "outlinewidth": 0,
             "ticks": ""
            },
            "colorscale": [
             [
              0,
              "#0d0887"
             ],
             [
              0.1111111111111111,
              "#46039f"
             ],
             [
              0.2222222222222222,
              "#7201a8"
             ],
             [
              0.3333333333333333,
              "#9c179e"
             ],
             [
              0.4444444444444444,
              "#bd3786"
             ],
             [
              0.5555555555555556,
              "#d8576b"
             ],
             [
              0.6666666666666666,
              "#ed7953"
             ],
             [
              0.7777777777777778,
              "#fb9f3a"
             ],
             [
              0.8888888888888888,
              "#fdca26"
             ],
             [
              1,
              "#f0f921"
             ]
            ],
            "type": "heatmap"
           }
          ],
          "histogram": [
           {
            "marker": {
             "pattern": {
              "fillmode": "overlay",
              "size": 10,
              "solidity": 0.2
             }
            },
            "type": "histogram"
           }
          ],
          "histogram2d": [
           {
            "colorbar": {
             "outlinewidth": 0,
             "ticks": ""
            },
            "colorscale": [
             [
              0,
              "#0d0887"
             ],
             [
              0.1111111111111111,
              "#46039f"
             ],
             [
              0.2222222222222222,
              "#7201a8"
             ],
             [
              0.3333333333333333,
              "#9c179e"
             ],
             [
              0.4444444444444444,
              "#bd3786"
             ],
             [
              0.5555555555555556,
              "#d8576b"
             ],
             [
              0.6666666666666666,
              "#ed7953"
             ],
             [
              0.7777777777777778,
              "#fb9f3a"
             ],
             [
              0.8888888888888888,
              "#fdca26"
             ],
             [
              1,
              "#f0f921"
             ]
            ],
            "type": "histogram2d"
           }
          ],
          "histogram2dcontour": [
           {
            "colorbar": {
             "outlinewidth": 0,
             "ticks": ""
            },
            "colorscale": [
             [
              0,
              "#0d0887"
             ],
             [
              0.1111111111111111,
              "#46039f"
             ],
             [
              0.2222222222222222,
              "#7201a8"
             ],
             [
              0.3333333333333333,
              "#9c179e"
             ],
             [
              0.4444444444444444,
              "#bd3786"
             ],
             [
              0.5555555555555556,
              "#d8576b"
             ],
             [
              0.6666666666666666,
              "#ed7953"
             ],
             [
              0.7777777777777778,
              "#fb9f3a"
             ],
             [
              0.8888888888888888,
              "#fdca26"
             ],
             [
              1,
              "#f0f921"
             ]
            ],
            "type": "histogram2dcontour"
           }
          ],
          "mesh3d": [
           {
            "colorbar": {
             "outlinewidth": 0,
             "ticks": ""
            },
            "type": "mesh3d"
           }
          ],
          "parcoords": [
           {
            "line": {
             "colorbar": {
              "outlinewidth": 0,
              "ticks": ""
             }
            },
            "type": "parcoords"
           }
          ],
          "pie": [
           {
            "automargin": true,
            "type": "pie"
           }
          ],
          "scatter": [
           {
            "fillpattern": {
             "fillmode": "overlay",
             "size": 10,
             "solidity": 0.2
            },
            "type": "scatter"
           }
          ],
          "scatter3d": [
           {
            "line": {
             "colorbar": {
              "outlinewidth": 0,
              "ticks": ""
             }
            },
            "marker": {
             "colorbar": {
              "outlinewidth": 0,
              "ticks": ""
             }
            },
            "type": "scatter3d"
           }
          ],
          "scattercarpet": [
           {
            "marker": {
             "colorbar": {
              "outlinewidth": 0,
              "ticks": ""
             }
            },
            "type": "scattercarpet"
           }
          ],
          "scattergeo": [
           {
            "marker": {
             "colorbar": {
              "outlinewidth": 0,
              "ticks": ""
             }
            },
            "type": "scattergeo"
           }
          ],
          "scattergl": [
           {
            "marker": {
             "colorbar": {
              "outlinewidth": 0,
              "ticks": ""
             }
            },
            "type": "scattergl"
           }
          ],
          "scattermap": [
           {
            "marker": {
             "colorbar": {
              "outlinewidth": 0,
              "ticks": ""
             }
            },
            "type": "scattermap"
           }
          ],
          "scattermapbox": [
           {
            "marker": {
             "colorbar": {
              "outlinewidth": 0,
              "ticks": ""
             }
            },
            "type": "scattermapbox"
           }
          ],
          "scatterpolar": [
           {
            "marker": {
             "colorbar": {
              "outlinewidth": 0,
              "ticks": ""
             }
            },
            "type": "scatterpolar"
           }
          ],
          "scatterpolargl": [
           {
            "marker": {
             "colorbar": {
              "outlinewidth": 0,
              "ticks": ""
             }
            },
            "type": "scatterpolargl"
           }
          ],
          "scatterternary": [
           {
            "marker": {
             "colorbar": {
              "outlinewidth": 0,
              "ticks": ""
             }
            },
            "type": "scatterternary"
           }
          ],
          "surface": [
           {
            "colorbar": {
             "outlinewidth": 0,
             "ticks": ""
            },
            "colorscale": [
             [
              0,
              "#0d0887"
             ],
             [
              0.1111111111111111,
              "#46039f"
             ],
             [
              0.2222222222222222,
              "#7201a8"
             ],
             [
              0.3333333333333333,
              "#9c179e"
             ],
             [
              0.4444444444444444,
              "#bd3786"
             ],
             [
              0.5555555555555556,
              "#d8576b"
             ],
             [
              0.6666666666666666,
              "#ed7953"
             ],
             [
              0.7777777777777778,
              "#fb9f3a"
             ],
             [
              0.8888888888888888,
              "#fdca26"
             ],
             [
              1,
              "#f0f921"
             ]
            ],
            "type": "surface"
           }
          ],
          "table": [
           {
            "cells": {
             "fill": {
              "color": "#EBF0F8"
             },
             "line": {
              "color": "white"
             }
            },
            "header": {
             "fill": {
              "color": "#C8D4E3"
             },
             "line": {
              "color": "white"
             }
            },
            "type": "table"
           }
          ]
         },
         "layout": {
          "annotationdefaults": {
           "arrowcolor": "#2a3f5f",
           "arrowhead": 0,
           "arrowwidth": 1
          },
          "autotypenumbers": "strict",
          "coloraxis": {
           "colorbar": {
            "outlinewidth": 0,
            "ticks": ""
           }
          },
          "colorscale": {
           "diverging": [
            [
             0,
             "#8e0152"
            ],
            [
             0.1,
             "#c51b7d"
            ],
            [
             0.2,
             "#de77ae"
            ],
            [
             0.3,
             "#f1b6da"
            ],
            [
             0.4,
             "#fde0ef"
            ],
            [
             0.5,
             "#f7f7f7"
            ],
            [
             0.6,
             "#e6f5d0"
            ],
            [
             0.7,
             "#b8e186"
            ],
            [
             0.8,
             "#7fbc41"
            ],
            [
             0.9,
             "#4d9221"
            ],
            [
             1,
             "#276419"
            ]
           ],
           "sequential": [
            [
             0,
             "#0d0887"
            ],
            [
             0.1111111111111111,
             "#46039f"
            ],
            [
             0.2222222222222222,
             "#7201a8"
            ],
            [
             0.3333333333333333,
             "#9c179e"
            ],
            [
             0.4444444444444444,
             "#bd3786"
            ],
            [
             0.5555555555555556,
             "#d8576b"
            ],
            [
             0.6666666666666666,
             "#ed7953"
            ],
            [
             0.7777777777777778,
             "#fb9f3a"
            ],
            [
             0.8888888888888888,
             "#fdca26"
            ],
            [
             1,
             "#f0f921"
            ]
           ],
           "sequentialminus": [
            [
             0,
             "#0d0887"
            ],
            [
             0.1111111111111111,
             "#46039f"
            ],
            [
             0.2222222222222222,
             "#7201a8"
            ],
            [
             0.3333333333333333,
             "#9c179e"
            ],
            [
             0.4444444444444444,
             "#bd3786"
            ],
            [
             0.5555555555555556,
             "#d8576b"
            ],
            [
             0.6666666666666666,
             "#ed7953"
            ],
            [
             0.7777777777777778,
             "#fb9f3a"
            ],
            [
             0.8888888888888888,
             "#fdca26"
            ],
            [
             1,
             "#f0f921"
            ]
           ]
          },
          "colorway": [
           "#636efa",
           "#EF553B",
           "#00cc96",
           "#ab63fa",
           "#FFA15A",
           "#19d3f3",
           "#FF6692",
           "#B6E880",
           "#FF97FF",
           "#FECB52"
          ],
          "font": {
           "color": "#2a3f5f"
          },
          "geo": {
           "bgcolor": "white",
           "lakecolor": "white",
           "landcolor": "#E5ECF6",
           "showlakes": true,
           "showland": true,
           "subunitcolor": "white"
          },
          "hoverlabel": {
           "align": "left"
          },
          "hovermode": "closest",
          "mapbox": {
           "style": "light"
          },
          "paper_bgcolor": "white",
          "plot_bgcolor": "#E5ECF6",
          "polar": {
           "angularaxis": {
            "gridcolor": "white",
            "linecolor": "white",
            "ticks": ""
           },
           "bgcolor": "#E5ECF6",
           "radialaxis": {
            "gridcolor": "white",
            "linecolor": "white",
            "ticks": ""
           }
          },
          "scene": {
           "xaxis": {
            "backgroundcolor": "#E5ECF6",
            "gridcolor": "white",
            "gridwidth": 2,
            "linecolor": "white",
            "showbackground": true,
            "ticks": "",
            "zerolinecolor": "white"
           },
           "yaxis": {
            "backgroundcolor": "#E5ECF6",
            "gridcolor": "white",
            "gridwidth": 2,
            "linecolor": "white",
            "showbackground": true,
            "ticks": "",
            "zerolinecolor": "white"
           },
           "zaxis": {
            "backgroundcolor": "#E5ECF6",
            "gridcolor": "white",
            "gridwidth": 2,
            "linecolor": "white",
            "showbackground": true,
            "ticks": "",
            "zerolinecolor": "white"
           }
          },
          "shapedefaults": {
           "line": {
            "color": "#2a3f5f"
           }
          },
          "ternary": {
           "aaxis": {
            "gridcolor": "white",
            "linecolor": "white",
            "ticks": ""
           },
           "baxis": {
            "gridcolor": "white",
            "linecolor": "white",
            "ticks": ""
           },
           "bgcolor": "#E5ECF6",
           "caxis": {
            "gridcolor": "white",
            "linecolor": "white",
            "ticks": ""
           }
          },
          "title": {
           "x": 0.05
          },
          "xaxis": {
           "automargin": true,
           "gridcolor": "white",
           "linecolor": "white",
           "ticks": "",
           "title": {
            "standoff": 15
           },
           "zerolinecolor": "white",
           "zerolinewidth": 2
          },
          "yaxis": {
           "automargin": true,
           "gridcolor": "white",
           "linecolor": "white",
           "ticks": "",
           "title": {
            "standoff": 15
           },
           "zerolinecolor": "white",
           "zerolinewidth": 2
          }
         }
        },
        "title": {
         "font": {
          "family": "Arial Black",
          "size": 20
         },
         "text": "<b>Predicción vs Realidad - 12 - IMPACTO AMBIENTAL</b>",
         "x": 0.5,
         "xanchor": "center"
        },
        "width": 900,
        "xaxis": {
         "gridcolor": "lightgray",
         "gridwidth": 0.5,
         "showgrid": true,
         "title": {
          "font": {
           "size": 14
          },
          "text": "<b>Valor Real ($)</b>"
         }
        },
        "yaxis": {
         "gridcolor": "lightgray",
         "gridwidth": 0.5,
         "showgrid": true,
         "title": {
          "font": {
           "size": 14
          },
          "text": "<b>Valor Predicho ($)</b>"
         }
        }
       }
      }
     },
     "metadata": {},
     "output_type": "display_data"
    },
    {
     "name": "stdout",
     "output_type": "stream",
     "text": [
      "  → Removed 4/34 outliers (11.8%) using ensemble\n",
      "     • isolation_forest: 4 outliers\n",
      "     • lof: 4 outliers\n",
      "     • robust_statistical: 7 outliers\n",
      "     • z_score: 1 outliers\n",
      "15 - OTROS - MANEJO DE REDES\n",
      "Best params: {'regressor__svr__C': 200, 'regressor__svr__epsilon': 0.01, 'regressor__svr__gamma': 0.1}\n",
      "{'R2': 0.7624701568730734, 'MAE': 3693765.6476776865, 'RMSE': np.float64(8049804.631489442), 'RMSLE': np.float64(0.3844994149087249), 'MAPE%': 20.865049176069167}\n"
     ]
    },
    {
     "data": {
      "application/vnd.plotly.v1+json": {
       "config": {
        "plotlyServerURL": "https://plot.ly"
       },
       "data": [
        {
         "customdata": [
          "<b>Código:</b> 0654801<br><b>Nombre:</b> BUGA - BUENAVENTURA<br><b>LONGITUD KM:</b> 0.80<br><b>ALCANCE:</b> Construcción <br><b>Valor Real:</b> $2,883,774<br><b>Predicción:</b> $4,709,587"
         ],
         "hovertemplate": "%{customdata}<extra></extra>",
         "marker": {
          "color": "#7f7f7f",
          "line": {
           "color": "white",
           "width": 1
          },
          "opacity": 0.8,
          "size": 12
         },
         "mode": "markers",
         "name": "Construcción ",
         "type": "scatter",
         "x": {
          "bdata": "mpqLIV8ARkE=",
          "dtype": "f8"
         },
         "y": {
          "bdata": "5mYeojT3UUE=",
          "dtype": "f8"
         }
        },
        {
         "customdata": [
          "<b>Código:</b> 0266702<br><b>Nombre:</b> CATAMBUCO - PASTO UF5.2<br><b>LONGITUD KM:</b> 5.00<br><b>ALCANCE:</b> Mejoramiento<br><b>Valor Real:</b> $29,011,253<br><b>Predicción:</b> $11,548,407"
         ],
         "hovertemplate": "%{customdata}<extra></extra>",
         "marker": {
          "color": "#2ca02c",
          "line": {
           "color": "white",
           "width": 1
          },
          "opacity": 0.8,
          "size": 12
         },
         "mode": "markers",
         "name": "Mejoramiento",
         "type": "scatter",
         "x": {
          "bdata": "S7I6VtOqe0E=",
          "dtype": "f8"
         },
         "y": {
          "bdata": "ZO/S694GZkE=",
          "dtype": "f8"
         }
        },
        {
         "customdata": [
          "<b>Código:</b> 0654801<br><b>Nombre:</b> BUGA - BUENAVENTURA<br><b>LONGITUD KM:</b> 3.12<br><b>ALCANCE:</b> Nuevo<br><b>Valor Real:</b> $11,246,720<br><b>Predicción:</b> $7,862,367"
         ],
         "hovertemplate": "%{customdata}<extra></extra>",
         "marker": {
          "color": "#9467bd",
          "line": {
           "color": "white",
           "width": 1
          },
          "opacity": 0.8,
          "size": 12
         },
         "mode": "markers",
         "name": "Nuevo",
         "type": "scatter",
         "x": {
          "bdata": "Ix3o849zZUE=",
          "dtype": "f8"
         },
         "y": {
          "bdata": "5SjN2xf+XUE=",
          "dtype": "f8"
         }
        },
        {
         "customdata": [
          "<b>Código:</b> 0654801<br><b>Nombre:</b> BUGA - BUENAVENTURA<br><b>LONGITUD KM:</b> 8.21<br><b>ALCANCE:</b> Puesta a punto<br><b>Valor Real:</b> $29,594,733<br><b>Predicción:</b> $30,071,798",
          "<b>Código:</b> 0654801<br><b>Nombre:</b> BUGA - BUENAVENTURA<br><b>LONGITUD KM:</b> 12.16<br><b>ALCANCE:</b> Puesta a punto<br><b>Valor Real:</b> $43,833,369<br><b>Predicción:</b> $43,300,157",
          "<b>Código:</b> 0654801<br><b>Nombre:</b> BUGA - BUENAVENTURA<br><b>LONGITUD KM:</b> 12.16<br><b>ALCANCE:</b> Puesta a punto<br><b>Valor Real:</b> $43,833,369<br><b>Predicción:</b> $39,874,371",
          "<b>Código:</b> 0654801<br><b>Nombre:</b> BUGA - BUENAVENTURA<br><b>LONGITUD KM:</b> 1.00<br><b>ALCANCE:</b> Puesta a punto<br><b>Valor Real:</b> $3,604,718<br><b>Predicción:</b> $1,713,578",
          "<b>Código:</b> 0654801<br><b>Nombre:</b> BUGA - BUENAVENTURA<br><b>LONGITUD KM:</b> 14.00<br><b>ALCANCE:</b> Puesta a punto<br><b>Valor Real:</b> $50,466,050<br><b>Predicción:</b> $50,983,221",
          "<b>Código:</b> 0654801<br><b>Nombre:</b> BUGA - BUENAVENTURA<br><b>LONGITUD KM:</b> 14.00<br><b>ALCANCE:</b> Puesta a punto<br><b>Valor Real:</b> $50,466,050<br><b>Predicción:</b> $50,974,263",
          "<b>Código:</b> 0654801<br><b>Nombre:</b> BUGA - BUENAVENTURA<br><b>LONGITUD KM:</b> 7.84<br><b>ALCANCE:</b> Puesta a punto<br><b>Valor Real:</b> $28,260,988<br><b>Predicción:</b> $29,066,106"
         ],
         "hovertemplate": "%{customdata}<extra></extra>",
         "marker": {
          "color": "#e377c2",
          "line": {
           "color": "white",
           "width": 1
          },
          "opacity": 0.8,
          "size": 12
         },
         "mode": "markers",
         "name": "Puesta a punto",
         "type": "scatter",
         "x": {
          "bdata": "7hXV1UY5fEGsn0TGwOaEQayfRMbA5oRBQIHu6XaAS0EZsbAMaBCIQRmxsAxoEIhByQNLvKfzekE=",
          "dtype": "f8"
         },
         "y": {
          "bdata": "7vj2Zb+tfEFZs3blqaWEQeiiWBd6A4NBgB8vL6olOkEp5e+riU+IQYKMcblxTohBXj37nje4e0E=",
          "dtype": "f8"
         }
        },
        {
         "customdata": [
          "<b>Código:</b> 0654801<br><b>Nombre:</b> BUGA - BUENAVENTURA<br><b>LONGITUD KM:</b> 15.00<br><b>ALCANCE:</b> Rehabilitación<br><b>Valor Real:</b> $54,070,767<br><b>Predicción:</b> $33,783,751",
          "<b>Código:</b> 0654801<br><b>Nombre:</b> BUGA - BUENAVENTURA<br><b>LONGITUD KM:</b> 3.15<br><b>ALCANCE:</b> Rehabilitación<br><b>Valor Real:</b> $11,354,861<br><b>Predicción:</b> $14,623,211"
         ],
         "hovertemplate": "%{customdata}<extra></extra>",
         "marker": {
          "color": "#d62728",
          "line": {
           "color": "white",
           "width": 1
          },
          "opacity": 0.8,
          "size": 12
         },
         "mode": "markers",
         "name": "Rehabilitación",
         "type": "scatter",
         "x": {
          "bdata": "LZlPe2/IiUEwbAWlXahlQQ==",
          "dtype": "f8"
         },
         "y": {
          "bdata": "DtR4Of4bgEFJaspgPeRrQQ==",
          "dtype": "f8"
         }
        },
        {
         "customdata": [
          "<b>Código:</b> 0001<br><b>Nombre:</b> TAMBILLO - COLIBRÍ<br><b>LONGITUD KM:</b> 17.40<br><b>ALCANCE:</b> Segunda calzada<br><b>Valor Real:</b> $50,279,649<br><b>Predicción:</b> $17,512,499",
          "<b>Código:</b> 0005<br><b>Nombre:</b> BUENAVENTURA LOBOGUERRERO<br><b>LONGITUD KM:</b> 10.00<br><b>ALCANCE:</b> Segunda calzada<br><b>Valor Real:</b> $6,825,669<br><b>Predicción:</b> $3,718,551",
          "<b>Código:</b> 0005<br><b>Nombre:</b> BUENAVENTURA LOBOGUERRERO<br><b>LONGITUD KM:</b> 14.30<br><b>ALCANCE:</b> Segunda calzada<br><b>Valor Real:</b> $9,760,706<br><b>Predicción:</b> $10,314,798",
          "<b>Código:</b> 0005<br><b>Nombre:</b> BUENAVENTURA LOBOGUERRERO<br><b>LONGITUD KM:</b> 13.50<br><b>ALCANCE:</b> Segunda calzada<br><b>Valor Real:</b> $9,214,653<br><b>Predicción:</b> $7,405,489",
          "<b>Código:</b> 0005<br><b>Nombre:</b> BUENAVENTURA LOBOGUERRERO<br><b>LONGITUD KM:</b> 7.60<br><b>ALCANCE:</b> Segunda calzada<br><b>Valor Real:</b> $5,187,508<br><b>Predicción:</b> $9,631,660",
          "<b>Código:</b> 0654801<br><b>Nombre:</b> BUGA - BUENAVENTURA<br><b>LONGITUD KM:</b> 3.37<br><b>ALCANCE:</b> Segunda calzada<br><b>Valor Real:</b> $12,147,899<br><b>Predicción:</b> $12,112,502",
          "<b>Código:</b> 0654801<br><b>Nombre:</b> BUGA - BUENAVENTURA<br><b>LONGITUD KM:</b> 3.50<br><b>ALCANCE:</b> Segunda calzada<br><b>Valor Real:</b> $12,616,512<br><b>Predicción:</b> $12,313,064",
          "<b>Código:</b> 0654801<br><b>Nombre:</b> BUGA - BUENAVENTURA<br><b>LONGITUD KM:</b> 5.17<br><b>ALCANCE:</b> Segunda calzada<br><b>Valor Real:</b> $18,636,391<br><b>Predicción:</b> $10,250,496",
          "<b>Código:</b> 0654801<br><b>Nombre:</b> BUGA - BUENAVENTURA<br><b>LONGITUD KM:</b> 0.91<br><b>ALCANCE:</b> Segunda calzada<br><b>Valor Real:</b> $3,280,293<br><b>Predicción:</b> $3,897,159",
          "<b>Código:</b> 0654801<br><b>Nombre:</b> BUGA - BUENAVENTURA<br><b>LONGITUD KM:</b> 3.16<br><b>ALCANCE:</b> Segunda calzada<br><b>Valor Real:</b> $11,390,908<br><b>Predicción:</b> $11,509,560",
          "<b>Código:</b> 0654801<br><b>Nombre:</b> BUGA - BUENAVENTURA<br><b>LONGITUD KM:</b> 4.00<br><b>ALCANCE:</b> Segunda calzada<br><b>Valor Real:</b> $14,418,871<br><b>Predicción:</b> $13,384,106",
          "<b>Código:</b> 0654801<br><b>Nombre:</b> BUGA - BUENAVENTURA<br><b>LONGITUD KM:</b> 2.00<br><b>ALCANCE:</b> Segunda calzada<br><b>Valor Real:</b> $7,209,436<br><b>Predicción:</b> $7,139,177",
          "<b>Código:</b> 0654801<br><b>Nombre:</b> BUGA - BUENAVENTURA<br><b>LONGITUD KM:</b> 1.85<br><b>ALCANCE:</b> Segunda calzada<br><b>Valor Real:</b> $6,668,728<br><b>Predicción:</b> $6,623,959",
          "<b>Código:</b> 0654801<br><b>Nombre:</b> BUGA - BUENAVENTURA<br><b>LONGITUD KM:</b> 3.17<br><b>ALCANCE:</b> Segunda calzada<br><b>Valor Real:</b> $11,426,956<br><b>Predicción:</b> $11,628,213",
          "<b>Código:</b> 0654801<br><b>Nombre:</b> BUGA - BUENAVENTURA<br><b>LONGITUD KM:</b> 2.00<br><b>ALCANCE:</b> Segunda calzada<br><b>Valor Real:</b> $7,209,436<br><b>Predicción:</b> $7,227,839",
          "<b>Código:</b> 0654801<br><b>Nombre:</b> BUGA - BUENAVENTURA<br><b>LONGITUD KM:</b> 2.38<br><b>ALCANCE:</b> Segunda calzada<br><b>Valor Real:</b> $8,579,228<br><b>Predicción:</b> $8,758,857"
         ],
         "hovertemplate": "%{customdata}<extra></extra>",
         "marker": {
          "color": "#1f77b4",
          "line": {
           "color": "white",
           "width": 1
          },
          "opacity": 0.8,
          "size": 12
         },
         "mode": "markers",
         "name": "Segunda calzada",
         "type": "scatter",
         "x": {
          "bdata": "hg60B6f5h0EcDb4osQlaQQ+Rz0T4nWJBc+IZlVeTYUF89XsK7clTQTcFh2KXK2dBGbGwDGgQaEEXxrJy5sVxQanMjpzSBklB39u5ive5ZUFAge7pdoBrQUCB7ul2gFtBwmrJ/m1wWUGNS25wkctlQUCB7ul2gFtBltS/jRNdYEE=",
          "dtype": "f8"
         },
         "y": {
          "bdata": "hXYkLYOzcEEq6sBDy15MQbCtlLuFrGNBE6dwKuw/XEHWUzZ89V5iQR4r7sNOGmdBgpAvCD18Z0H4xKwCII1jQUMCtpyju01BZSMZD+fzZUE/kEBENYdpQaB5bEnaO1tBwBNDzLVEWUFENUii1i1mQTcVO9tvkltB1fwxHcm0YEE=",
          "dtype": "f8"
         }
        },
        {
         "customdata": [
          "<b>Código:</b> 0005<br><b>Nombre:</b> BUENAVENTURA LOBOGUERRERO<br><b>LONGITUD KM:</b> 10.20<br><b>ALCANCE:</b> operacion y mantenimiento<br><b>Valor Real:</b> $6,962,182<br><b>Predicción:</b> $5,825,959",
          "<b>Código:</b> 0005<br><b>Nombre:</b> BUENAVENTURA LOBOGUERRERO<br><b>LONGITUD KM:</b> 8.50<br><b>ALCANCE:</b> operacion y mantenimiento<br><b>Valor Real:</b> $5,801,818<br><b>Predicción:</b> $6,868,254"
         ],
         "hovertemplate": "%{customdata}<extra></extra>",
         "marker": {
          "color": "#ff7f0e",
          "line": {
           "color": "white",
           "width": 1
          },
          "opacity": 0.8,
          "size": 12
         },
         "mode": "markers",
         "name": "operacion y mantenimiento",
         "type": "scatter",
         "x": {
          "bdata": "auSYgAGPWkFYvtSV1iFWQQ==",
          "dtype": "f8"
         },
         "y": {
          "bdata": "8SX7ymk5VkGTPbJyRzNaQQ==",
          "dtype": "f8"
         }
        },
        {
         "line": {
          "color": "red",
          "dash": "dash",
          "width": 2
         },
         "mode": "lines",
         "name": "Predicción Perfecta",
         "showlegend": true,
         "type": "scatter",
         "x": [
          1713578.1843127906,
          54070767.41386638
         ],
         "y": [
          1713578.1843127906,
          54070767.41386638
         ]
        }
       ],
       "layout": {
        "height": 600,
        "hovermode": "closest",
        "legend": {
         "bgcolor": "rgba(255, 255, 255, 0.9)",
         "bordercolor": "lightgray",
         "borderwidth": 1,
         "orientation": "v",
         "x": 0.01,
         "xanchor": "left",
         "y": 0.99,
         "yanchor": "top"
        },
        "paper_bgcolor": "white",
        "plot_bgcolor": "white",
        "template": {
         "data": {
          "bar": [
           {
            "error_x": {
             "color": "#2a3f5f"
            },
            "error_y": {
             "color": "#2a3f5f"
            },
            "marker": {
             "line": {
              "color": "#E5ECF6",
              "width": 0.5
             },
             "pattern": {
              "fillmode": "overlay",
              "size": 10,
              "solidity": 0.2
             }
            },
            "type": "bar"
           }
          ],
          "barpolar": [
           {
            "marker": {
             "line": {
              "color": "#E5ECF6",
              "width": 0.5
             },
             "pattern": {
              "fillmode": "overlay",
              "size": 10,
              "solidity": 0.2
             }
            },
            "type": "barpolar"
           }
          ],
          "carpet": [
           {
            "aaxis": {
             "endlinecolor": "#2a3f5f",
             "gridcolor": "white",
             "linecolor": "white",
             "minorgridcolor": "white",
             "startlinecolor": "#2a3f5f"
            },
            "baxis": {
             "endlinecolor": "#2a3f5f",
             "gridcolor": "white",
             "linecolor": "white",
             "minorgridcolor": "white",
             "startlinecolor": "#2a3f5f"
            },
            "type": "carpet"
           }
          ],
          "choropleth": [
           {
            "colorbar": {
             "outlinewidth": 0,
             "ticks": ""
            },
            "type": "choropleth"
           }
          ],
          "contour": [
           {
            "colorbar": {
             "outlinewidth": 0,
             "ticks": ""
            },
            "colorscale": [
             [
              0,
              "#0d0887"
             ],
             [
              0.1111111111111111,
              "#46039f"
             ],
             [
              0.2222222222222222,
              "#7201a8"
             ],
             [
              0.3333333333333333,
              "#9c179e"
             ],
             [
              0.4444444444444444,
              "#bd3786"
             ],
             [
              0.5555555555555556,
              "#d8576b"
             ],
             [
              0.6666666666666666,
              "#ed7953"
             ],
             [
              0.7777777777777778,
              "#fb9f3a"
             ],
             [
              0.8888888888888888,
              "#fdca26"
             ],
             [
              1,
              "#f0f921"
             ]
            ],
            "type": "contour"
           }
          ],
          "contourcarpet": [
           {
            "colorbar": {
             "outlinewidth": 0,
             "ticks": ""
            },
            "type": "contourcarpet"
           }
          ],
          "heatmap": [
           {
            "colorbar": {
             "outlinewidth": 0,
             "ticks": ""
            },
            "colorscale": [
             [
              0,
              "#0d0887"
             ],
             [
              0.1111111111111111,
              "#46039f"
             ],
             [
              0.2222222222222222,
              "#7201a8"
             ],
             [
              0.3333333333333333,
              "#9c179e"
             ],
             [
              0.4444444444444444,
              "#bd3786"
             ],
             [
              0.5555555555555556,
              "#d8576b"
             ],
             [
              0.6666666666666666,
              "#ed7953"
             ],
             [
              0.7777777777777778,
              "#fb9f3a"
             ],
             [
              0.8888888888888888,
              "#fdca26"
             ],
             [
              1,
              "#f0f921"
             ]
            ],
            "type": "heatmap"
           }
          ],
          "histogram": [
           {
            "marker": {
             "pattern": {
              "fillmode": "overlay",
              "size": 10,
              "solidity": 0.2
             }
            },
            "type": "histogram"
           }
          ],
          "histogram2d": [
           {
            "colorbar": {
             "outlinewidth": 0,
             "ticks": ""
            },
            "colorscale": [
             [
              0,
              "#0d0887"
             ],
             [
              0.1111111111111111,
              "#46039f"
             ],
             [
              0.2222222222222222,
              "#7201a8"
             ],
             [
              0.3333333333333333,
              "#9c179e"
             ],
             [
              0.4444444444444444,
              "#bd3786"
             ],
             [
              0.5555555555555556,
              "#d8576b"
             ],
             [
              0.6666666666666666,
              "#ed7953"
             ],
             [
              0.7777777777777778,
              "#fb9f3a"
             ],
             [
              0.8888888888888888,
              "#fdca26"
             ],
             [
              1,
              "#f0f921"
             ]
            ],
            "type": "histogram2d"
           }
          ],
          "histogram2dcontour": [
           {
            "colorbar": {
             "outlinewidth": 0,
             "ticks": ""
            },
            "colorscale": [
             [
              0,
              "#0d0887"
             ],
             [
              0.1111111111111111,
              "#46039f"
             ],
             [
              0.2222222222222222,
              "#7201a8"
             ],
             [
              0.3333333333333333,
              "#9c179e"
             ],
             [
              0.4444444444444444,
              "#bd3786"
             ],
             [
              0.5555555555555556,
              "#d8576b"
             ],
             [
              0.6666666666666666,
              "#ed7953"
             ],
             [
              0.7777777777777778,
              "#fb9f3a"
             ],
             [
              0.8888888888888888,
              "#fdca26"
             ],
             [
              1,
              "#f0f921"
             ]
            ],
            "type": "histogram2dcontour"
           }
          ],
          "mesh3d": [
           {
            "colorbar": {
             "outlinewidth": 0,
             "ticks": ""
            },
            "type": "mesh3d"
           }
          ],
          "parcoords": [
           {
            "line": {
             "colorbar": {
              "outlinewidth": 0,
              "ticks": ""
             }
            },
            "type": "parcoords"
           }
          ],
          "pie": [
           {
            "automargin": true,
            "type": "pie"
           }
          ],
          "scatter": [
           {
            "fillpattern": {
             "fillmode": "overlay",
             "size": 10,
             "solidity": 0.2
            },
            "type": "scatter"
           }
          ],
          "scatter3d": [
           {
            "line": {
             "colorbar": {
              "outlinewidth": 0,
              "ticks": ""
             }
            },
            "marker": {
             "colorbar": {
              "outlinewidth": 0,
              "ticks": ""
             }
            },
            "type": "scatter3d"
           }
          ],
          "scattercarpet": [
           {
            "marker": {
             "colorbar": {
              "outlinewidth": 0,
              "ticks": ""
             }
            },
            "type": "scattercarpet"
           }
          ],
          "scattergeo": [
           {
            "marker": {
             "colorbar": {
              "outlinewidth": 0,
              "ticks": ""
             }
            },
            "type": "scattergeo"
           }
          ],
          "scattergl": [
           {
            "marker": {
             "colorbar": {
              "outlinewidth": 0,
              "ticks": ""
             }
            },
            "type": "scattergl"
           }
          ],
          "scattermap": [
           {
            "marker": {
             "colorbar": {
              "outlinewidth": 0,
              "ticks": ""
             }
            },
            "type": "scattermap"
           }
          ],
          "scattermapbox": [
           {
            "marker": {
             "colorbar": {
              "outlinewidth": 0,
              "ticks": ""
             }
            },
            "type": "scattermapbox"
           }
          ],
          "scatterpolar": [
           {
            "marker": {
             "colorbar": {
              "outlinewidth": 0,
              "ticks": ""
             }
            },
            "type": "scatterpolar"
           }
          ],
          "scatterpolargl": [
           {
            "marker": {
             "colorbar": {
              "outlinewidth": 0,
              "ticks": ""
             }
            },
            "type": "scatterpolargl"
           }
          ],
          "scatterternary": [
           {
            "marker": {
             "colorbar": {
              "outlinewidth": 0,
              "ticks": ""
             }
            },
            "type": "scatterternary"
           }
          ],
          "surface": [
           {
            "colorbar": {
             "outlinewidth": 0,
             "ticks": ""
            },
            "colorscale": [
             [
              0,
              "#0d0887"
             ],
             [
              0.1111111111111111,
              "#46039f"
             ],
             [
              0.2222222222222222,
              "#7201a8"
             ],
             [
              0.3333333333333333,
              "#9c179e"
             ],
             [
              0.4444444444444444,
              "#bd3786"
             ],
             [
              0.5555555555555556,
              "#d8576b"
             ],
             [
              0.6666666666666666,
              "#ed7953"
             ],
             [
              0.7777777777777778,
              "#fb9f3a"
             ],
             [
              0.8888888888888888,
              "#fdca26"
             ],
             [
              1,
              "#f0f921"
             ]
            ],
            "type": "surface"
           }
          ],
          "table": [
           {
            "cells": {
             "fill": {
              "color": "#EBF0F8"
             },
             "line": {
              "color": "white"
             }
            },
            "header": {
             "fill": {
              "color": "#C8D4E3"
             },
             "line": {
              "color": "white"
             }
            },
            "type": "table"
           }
          ]
         },
         "layout": {
          "annotationdefaults": {
           "arrowcolor": "#2a3f5f",
           "arrowhead": 0,
           "arrowwidth": 1
          },
          "autotypenumbers": "strict",
          "coloraxis": {
           "colorbar": {
            "outlinewidth": 0,
            "ticks": ""
           }
          },
          "colorscale": {
           "diverging": [
            [
             0,
             "#8e0152"
            ],
            [
             0.1,
             "#c51b7d"
            ],
            [
             0.2,
             "#de77ae"
            ],
            [
             0.3,
             "#f1b6da"
            ],
            [
             0.4,
             "#fde0ef"
            ],
            [
             0.5,
             "#f7f7f7"
            ],
            [
             0.6,
             "#e6f5d0"
            ],
            [
             0.7,
             "#b8e186"
            ],
            [
             0.8,
             "#7fbc41"
            ],
            [
             0.9,
             "#4d9221"
            ],
            [
             1,
             "#276419"
            ]
           ],
           "sequential": [
            [
             0,
             "#0d0887"
            ],
            [
             0.1111111111111111,
             "#46039f"
            ],
            [
             0.2222222222222222,
             "#7201a8"
            ],
            [
             0.3333333333333333,
             "#9c179e"
            ],
            [
             0.4444444444444444,
             "#bd3786"
            ],
            [
             0.5555555555555556,
             "#d8576b"
            ],
            [
             0.6666666666666666,
             "#ed7953"
            ],
            [
             0.7777777777777778,
             "#fb9f3a"
            ],
            [
             0.8888888888888888,
             "#fdca26"
            ],
            [
             1,
             "#f0f921"
            ]
           ],
           "sequentialminus": [
            [
             0,
             "#0d0887"
            ],
            [
             0.1111111111111111,
             "#46039f"
            ],
            [
             0.2222222222222222,
             "#7201a8"
            ],
            [
             0.3333333333333333,
             "#9c179e"
            ],
            [
             0.4444444444444444,
             "#bd3786"
            ],
            [
             0.5555555555555556,
             "#d8576b"
            ],
            [
             0.6666666666666666,
             "#ed7953"
            ],
            [
             0.7777777777777778,
             "#fb9f3a"
            ],
            [
             0.8888888888888888,
             "#fdca26"
            ],
            [
             1,
             "#f0f921"
            ]
           ]
          },
          "colorway": [
           "#636efa",
           "#EF553B",
           "#00cc96",
           "#ab63fa",
           "#FFA15A",
           "#19d3f3",
           "#FF6692",
           "#B6E880",
           "#FF97FF",
           "#FECB52"
          ],
          "font": {
           "color": "#2a3f5f"
          },
          "geo": {
           "bgcolor": "white",
           "lakecolor": "white",
           "landcolor": "#E5ECF6",
           "showlakes": true,
           "showland": true,
           "subunitcolor": "white"
          },
          "hoverlabel": {
           "align": "left"
          },
          "hovermode": "closest",
          "mapbox": {
           "style": "light"
          },
          "paper_bgcolor": "white",
          "plot_bgcolor": "#E5ECF6",
          "polar": {
           "angularaxis": {
            "gridcolor": "white",
            "linecolor": "white",
            "ticks": ""
           },
           "bgcolor": "#E5ECF6",
           "radialaxis": {
            "gridcolor": "white",
            "linecolor": "white",
            "ticks": ""
           }
          },
          "scene": {
           "xaxis": {
            "backgroundcolor": "#E5ECF6",
            "gridcolor": "white",
            "gridwidth": 2,
            "linecolor": "white",
            "showbackground": true,
            "ticks": "",
            "zerolinecolor": "white"
           },
           "yaxis": {
            "backgroundcolor": "#E5ECF6",
            "gridcolor": "white",
            "gridwidth": 2,
            "linecolor": "white",
            "showbackground": true,
            "ticks": "",
            "zerolinecolor": "white"
           },
           "zaxis": {
            "backgroundcolor": "#E5ECF6",
            "gridcolor": "white",
            "gridwidth": 2,
            "linecolor": "white",
            "showbackground": true,
            "ticks": "",
            "zerolinecolor": "white"
           }
          },
          "shapedefaults": {
           "line": {
            "color": "#2a3f5f"
           }
          },
          "ternary": {
           "aaxis": {
            "gridcolor": "white",
            "linecolor": "white",
            "ticks": ""
           },
           "baxis": {
            "gridcolor": "white",
            "linecolor": "white",
            "ticks": ""
           },
           "bgcolor": "#E5ECF6",
           "caxis": {
            "gridcolor": "white",
            "linecolor": "white",
            "ticks": ""
           }
          },
          "title": {
           "x": 0.05
          },
          "xaxis": {
           "automargin": true,
           "gridcolor": "white",
           "linecolor": "white",
           "ticks": "",
           "title": {
            "standoff": 15
           },
           "zerolinecolor": "white",
           "zerolinewidth": 2
          },
          "yaxis": {
           "automargin": true,
           "gridcolor": "white",
           "linecolor": "white",
           "ticks": "",
           "title": {
            "standoff": 15
           },
           "zerolinecolor": "white",
           "zerolinewidth": 2
          }
         }
        },
        "title": {
         "font": {
          "family": "Arial Black",
          "size": 20
         },
         "text": "<b>Predicción vs Realidad - 15 - OTROS - MANEJO DE REDES</b>",
         "x": 0.5,
         "xanchor": "center"
        },
        "width": 900,
        "xaxis": {
         "gridcolor": "lightgray",
         "gridwidth": 0.5,
         "showgrid": true,
         "title": {
          "font": {
           "size": 14
          },
          "text": "<b>Valor Real ($)</b>"
         }
        },
        "yaxis": {
         "gridcolor": "lightgray",
         "gridwidth": 0.5,
         "showgrid": true,
         "title": {
          "font": {
           "size": 14
          },
          "text": "<b>Valor Predicho ($)</b>"
         }
        }
       }
      }
     },
     "metadata": {},
     "output_type": "display_data"
    },
    {
     "name": "stdout",
     "output_type": "stream",
     "text": [
      "  → Removed 6/51 outliers (11.8%) using ensemble\n",
      "     • isolation_forest: 5 outliers\n",
      "     • lof: 5 outliers\n",
      "     • robust_statistical: 9 outliers\n",
      "     • z_score: 3 outliers\n",
      "16 - DIRECCIÓN Y COORDINACIÓN\n",
      "Best params: {'regressor__svr__C': 10, 'regressor__svr__epsilon': 0.01, 'regressor__svr__gamma': 'scale'}\n",
      "{'R2': 0.21370390700900155, 'MAE': 8699400.727068625, 'RMSE': np.float64(26692933.321417972), 'RMSLE': np.float64(0.6642193520187814), 'MAPE%': 27.372159165142275}\n"
     ]
    },
    {
     "data": {
      "application/vnd.plotly.v1+json": {
       "config": {
        "plotlyServerURL": "https://plot.ly"
       },
       "data": [
        {
         "customdata": [
          "<b>Código:</b> 0654801<br><b>Nombre:</b> BUGA - BUENAVENTURA<br><b>LONGITUD KM:</b> 0.80<br><b>ALCANCE:</b> Construcción <br><b>Valor Real:</b> $2,255,420<br><b>Predicción:</b> $4,143,250"
         ],
         "hovertemplate": "%{customdata}<extra></extra>",
         "marker": {
          "color": "#7f7f7f",
          "line": {
           "color": "white",
           "width": 1
          },
          "opacity": 0.8,
          "size": 12
         },
         "mode": "markers",
         "name": "Construcción ",
         "type": "scatter",
         "x": {
          "bdata": "uqjy6x01QUE=",
          "dtype": "f8"
         },
         "y": {
          "bdata": "ehex5EicT0E=",
          "dtype": "f8"
         }
        },
        {
         "customdata": [
          "<b>Código:</b> 0266702<br><b>Nombre:</b> CATAMBUCO - PASTO UF5.2<br><b>LONGITUD KM:</b> 5.00<br><b>ALCANCE:</b> Mejoramiento<br><b>Valor Real:</b> $6,672,842<br><b>Predicción:</b> $5,755,073",
          "<b>Código:</b> 0321501<br><b>Nombre:</b> DISEÑO GEOMÉTRICO TERCER CARRIL BOGOTÁ - GIRARDOT<br><b>LONGITUD KM:</b> 9.00<br><b>ALCANCE:</b> Mejoramiento<br><b>Valor Real:</b> $7,306,812<br><b>Predicción:</b> $7,359,057",
          "<b>Código:</b> 0321501<br><b>Nombre:</b> DISEÑO GEOMÉTRICO TERCER CARRIL BOGOTÁ - GIRARDOT<br><b>LONGITUD KM:</b> 21.00<br><b>ALCANCE:</b> Mejoramiento<br><b>Valor Real:</b> $17,049,228<br><b>Predicción:</b> $17,149,034",
          "<b>Código:</b> 0321501<br><b>Nombre:</b> DISEÑO GEOMÉTRICO TERCER CARRIL BOGOTÁ - GIRARDOT<br><b>LONGITUD KM:</b> 14.00<br><b>ALCANCE:</b> Mejoramiento<br><b>Valor Real:</b> $11,366,152<br><b>Predicción:</b> $11,494,611",
          "<b>Código:</b> 0321501<br><b>Nombre:</b> DISEÑO GEOMÉTRICO TERCER CARRIL BOGOTÁ - GIRARDOT<br><b>LONGITUD KM:</b> 6.56<br><b>ALCANCE:</b> Mejoramiento<br><b>Valor Real:</b> $5,325,854<br><b>Predicción:</b> $6,879,803",
          "<b>Código:</b> 0321501<br><b>Nombre:</b> DISEÑO GEOMÉTRICO TERCER CARRIL BOGOTÁ - GIRARDOT<br><b>LONGITUD KM:</b> 18.92<br><b>ALCANCE:</b> Mejoramiento<br><b>Valor Real:</b> $15,360,543<br><b>Predicción:</b> $16,335,803",
          "<b>Código:</b> 0321501<br><b>Nombre:</b> DISEÑO GEOMÉTRICO TERCER CARRIL BOGOTÁ - GIRARDOT<br><b>LONGITUD KM:</b> 14.52<br><b>ALCANCE:</b> Mejoramiento<br><b>Valor Real:</b> $11,788,323<br><b>Predicción:</b> $11,715,697",
          "<b>Código:</b> 0321501<br><b>Nombre:</b> DISEÑO GEOMÉTRICO TERCER CARRIL BOGOTÁ - GIRARDOT<br><b>LONGITUD KM:</b> 9.86<br><b>ALCANCE:</b> Mejoramiento<br><b>Valor Real:</b> $8,005,018<br><b>Predicción:</b> $7,903,660",
          "<b>Código:</b> 0427901<br><b>Nombre:</b> PURIFICACIÓN - LOZANÍA<br><b>LONGITUD KM:</b> 5.00<br><b>ALCANCE:</b> Mejoramiento<br><b>Valor Real:</b> $5,695,082<br><b>Predicción:</b> $6,608,388",
          "<b>Código:</b> 0552903<br><b>Nombre:</b> TRANSVERSAL BOYACÁ<br><b>LONGITUD KM:</b> 10.06<br><b>ALCANCE:</b> Mejoramiento<br><b>Valor Real:</b> $22,021,940<br><b>Predicción:</b> $8,061,460",
          "<b>Código:</b> 0581301<br><b>Nombre:</b> QUEREMAL - DANUBIO<br><b>LONGITUD KM:</b> 5.24<br><b>ALCANCE:</b> Mejoramiento<br><b>Valor Real:</b> $79,293,031<br><b>Predicción:</b> $6,653,207"
         ],
         "hovertemplate": "%{customdata}<extra></extra>",
         "marker": {
          "color": "#2ca02c",
          "line": {
           "color": "white",
           "width": 1
          },
          "opacity": 0.8,
          "size": 12
         },
         "mode": "markers",
         "name": "Mejoramiento",
         "type": "scatter",
         "x": {
          "bdata": "fomMbHJ0WUEv4en/jt9bQbEY879oQnBBlsvu/+CtZUHCmA6FB1FUQeBE1NFDTG1Bt0ZzawR8ZkH9FaCeZoleQaT8TXeauVVBQ4DyQnMAdUGHMDCdqeeSQQ==",
          "dtype": "f8"
         },
         "y": {
          "bdata": "TzrdUDD0VUGDVuM8lBJcQZCuf6PGWnBBkjlNbprsZUEzXm7bjj5aQWXcLGF3KG9BPzf4Io5YZkHsVQz8aiZeQYOw6AKBNVlBP+HmDoXAXkGE8BOgRWFZQQ==",
          "dtype": "f8"
         }
        },
        {
         "customdata": [
          "<b>Código:</b> 0004<br><b>Nombre:</b> DCO<br><b>LONGITUD KM:</b> 13.69<br><b>ALCANCE:</b> Nuevo<br><b>Valor Real:</b> $163,428,929<br><b>Predicción:</b> $15,073,788",
          "<b>Código:</b> 0654801<br><b>Nombre:</b> BUGA - BUENAVENTURA<br><b>LONGITUD KM:</b> 3.12<br><b>ALCANCE:</b> Nuevo<br><b>Valor Real:</b> $8,796,137<br><b>Predicción:</b> $10,417,147"
         ],
         "hovertemplate": "%{customdata}<extra></extra>",
         "marker": {
          "color": "#9467bd",
          "line": {
           "color": "white",
           "width": 1
          },
          "opacity": 0.8,
          "size": 12
         },
         "mode": "markers",
         "name": "Nuevo",
         "type": "scatter",
         "x": {
          "bdata": "vCDsgXR7o0Ec/nIs/cZgQQ==",
          "dtype": "f8"
         },
         "y": {
          "bdata": "BlSGiD/AbEGzZetnf95jQQ==",
          "dtype": "f8"
         }
        },
        {
         "customdata": [
          "<b>Código:</b> 0654801<br><b>Nombre:</b> BUGA - BUENAVENTURA<br><b>LONGITUD KM:</b> 19.31<br><b>ALCANCE:</b> Puesta a punto<br><b>Valor Real:</b> $54,440,196<br><b>Predicción:</b> $50,273,932",
          "<b>Código:</b> 0654801<br><b>Nombre:</b> BUGA - BUENAVENTURA<br><b>LONGITUD KM:</b> 8.21<br><b>ALCANCE:</b> Puesta a punto<br><b>Valor Real:</b> $23,146,246<br><b>Predicción:</b> $22,360,187",
          "<b>Código:</b> 0654801<br><b>Nombre:</b> BUGA - BUENAVENTURA<br><b>LONGITUD KM:</b> 12.16<br><b>ALCANCE:</b> Puesta a punto<br><b>Valor Real:</b> $34,282,382<br><b>Predicción:</b> $31,648,636",
          "<b>Código:</b> 0654801<br><b>Nombre:</b> BUGA - BUENAVENTURA<br><b>LONGITUD KM:</b> 12.16<br><b>ALCANCE:</b> Puesta a punto<br><b>Valor Real:</b> $34,282,382<br><b>Predicción:</b> $31,648,636",
          "<b>Código:</b> 0654801<br><b>Nombre:</b> BUGA - BUENAVENTURA<br><b>LONGITUD KM:</b> 1.00<br><b>ALCANCE:</b> Puesta a punto<br><b>Valor Real:</b> $2,819,275<br><b>Predicción:</b> $7,027,550",
          "<b>Código:</b> 0654801<br><b>Nombre:</b> BUGA - BUENAVENTURA<br><b>LONGITUD KM:</b> 14.00<br><b>ALCANCE:</b> Puesta a punto<br><b>Valor Real:</b> $39,469,847<br><b>Predicción:</b> $39,085,543",
          "<b>Código:</b> 0654801<br><b>Nombre:</b> BUGA - BUENAVENTURA<br><b>LONGITUD KM:</b> 14.00<br><b>ALCANCE:</b> Puesta a punto<br><b>Valor Real:</b> $39,469,847<br><b>Predicción:</b> $39,876,918",
          "<b>Código:</b> 0654801<br><b>Nombre:</b> BUGA - BUENAVENTURA<br><b>LONGITUD KM:</b> 7.84<br><b>ALCANCE:</b> Puesta a punto<br><b>Valor Real:</b> $22,103,114<br><b>Predicción:</b> $22,037,949"
         ],
         "hovertemplate": "%{customdata}<extra></extra>",
         "marker": {
          "color": "#e377c2",
          "line": {
           "color": "white",
           "width": 1
          },
          "opacity": 0.8,
          "size": 12
         },
         "mode": "markers",
         "name": "Puesta a punto",
         "type": "scatter",
         "x": {
          "bdata": "vd+/I4j1iUHZ4kZi8BJ2QX1T82zcWIBBfVPzbNxYgEHoUu9mZYJFQYtoEboY0oJBi2gRuhjSgkFKqG+nRBR1QQ==",
          "dtype": "f8"
         },
         "y": {
          "bdata": "Xvc5XfT4h0EIbry2B1N1QWUSb8e3Ln5BZRJvx7cufkH/oih9185aQUQF/Dkvo4JBGMwArckDg0G92QXTWwR1QQ==",
          "dtype": "f8"
         }
        },
        {
         "customdata": [
          "<b>Código:</b> 0654801<br><b>Nombre:</b> BUGA - BUENAVENTURA<br><b>LONGITUD KM:</b> 15.00<br><b>ALCANCE:</b> Rehabilitación<br><b>Valor Real:</b> $42,289,122<br><b>Predicción:</b> $25,162,533",
          "<b>Código:</b> 0654801<br><b>Nombre:</b> BUGA - BUENAVENTURA<br><b>LONGITUD KM:</b> 3.15<br><b>ALCANCE:</b> Rehabilitación<br><b>Valor Real:</b> $8,880,716<br><b>Predicción:</b> $9,344,033"
         ],
         "hovertemplate": "%{customdata}<extra></extra>",
         "marker": {
          "color": "#d62728",
          "line": {
           "color": "white",
           "width": 1
          },
          "opacity": 0.8,
          "size": 12
         },
         "mode": "markers",
         "name": "Rehabilitación",
         "type": "scatter",
         "x": {
          "bdata": "ul2AED8qhEEX3kJ0SfBgQQ==",
          "dtype": "f8"
         },
         "y": {
          "bdata": "SrZeUTL/d0GLqkUVhNJhQQ==",
          "dtype": "f8"
         }
        },
        {
         "customdata": [
          "<b>Código:</b> 0005<br><b>Nombre:</b> BUENAVENTURA LOBOGUERRERO<br><b>LONGITUD KM:</b> 10.00<br><b>ALCANCE:</b> Segunda calzada<br><b>Valor Real:</b> $3,505,045<br><b>Predicción:</b> $1,741,380",
          "<b>Código:</b> 0005<br><b>Nombre:</b> BUENAVENTURA LOBOGUERRERO<br><b>LONGITUD KM:</b> 14.30<br><b>ALCANCE:</b> Segunda calzada<br><b>Valor Real:</b> $5,012,214<br><b>Predicción:</b> $8,652,581",
          "<b>Código:</b> 0005<br><b>Nombre:</b> BUENAVENTURA LOBOGUERRERO<br><b>LONGITUD KM:</b> 13.50<br><b>ALCANCE:</b> Segunda calzada<br><b>Valor Real:</b> $4,731,811<br><b>Predicción:</b> $8,645,053",
          "<b>Código:</b> 0005<br><b>Nombre:</b> BUENAVENTURA LOBOGUERRERO<br><b>LONGITUD KM:</b> 7.60<br><b>ALCANCE:</b> Segunda calzada<br><b>Valor Real:</b> $2,663,834<br><b>Predicción:</b> $4,894,478",
          "<b>Código:</b> 0300604<br><b>Nombre:</b> BUGA - BUENAVENTURA EL PORVENIR UF5<br><b>LONGITUD KM:</b> 2.50<br><b>ALCANCE:</b> Segunda calzada<br><b>Valor Real:</b> $12,509,602<br><b>Predicción:</b> $7,183,179",
          "<b>Código:</b> 0300605<br><b>Nombre:</b> BUGA - BUENAVENTURA UF4<br><b>LONGITUD KM:</b> 17.00<br><b>ALCANCE:</b> Segunda calzada<br><b>Valor Real:</b> $37,755,153<br><b>Predicción:</b> $37,226,283",
          "<b>Código:</b> 0654801<br><b>Nombre:</b> BUGA - BUENAVENTURA<br><b>LONGITUD KM:</b> 3.37<br><b>ALCANCE:</b> Segunda calzada<br><b>Valor Real:</b> $9,500,956<br><b>Predicción:</b> $9,651,500",
          "<b>Código:</b> 0654801<br><b>Nombre:</b> BUGA - BUENAVENTURA<br><b>LONGITUD KM:</b> 3.50<br><b>ALCANCE:</b> Segunda calzada<br><b>Valor Real:</b> $9,867,462<br><b>Predicción:</b> $9,586,999",
          "<b>Código:</b> 0654801<br><b>Nombre:</b> BUGA - BUENAVENTURA<br><b>LONGITUD KM:</b> 5.17<br><b>ALCANCE:</b> Segunda calzada<br><b>Valor Real:</b> $14,575,651<br><b>Predicción:</b> $8,246,843",
          "<b>Código:</b> 0654801<br><b>Nombre:</b> BUGA - BUENAVENTURA<br><b>LONGITUD KM:</b> 0.91<br><b>ALCANCE:</b> Segunda calzada<br><b>Valor Real:</b> $2,565,540<br><b>Predicción:</b> $3,825,960",
          "<b>Código:</b> 0654801<br><b>Nombre:</b> BUGA - BUENAVENTURA<br><b>LONGITUD KM:</b> 3.16<br><b>ALCANCE:</b> Segunda calzada<br><b>Valor Real:</b> $8,908,908<br><b>Predicción:</b> $9,279,087",
          "<b>Código:</b> 0654801<br><b>Nombre:</b> BUGA - BUENAVENTURA<br><b>LONGITUD KM:</b> 4.00<br><b>ALCANCE:</b> Segunda calzada<br><b>Valor Real:</b> $11,277,099<br><b>Predicción:</b> $9,923,413",
          "<b>Código:</b> 0654801<br><b>Nombre:</b> BUGA - BUENAVENTURA<br><b>LONGITUD KM:</b> 2.00<br><b>ALCANCE:</b> Segunda calzada<br><b>Valor Real:</b> $5,638,550<br><b>Predicción:</b> $5,580,437",
          "<b>Código:</b> 0654801<br><b>Nombre:</b> BUGA - BUENAVENTURA<br><b>LONGITUD KM:</b> 1.85<br><b>ALCANCE:</b> Segunda calzada<br><b>Valor Real:</b> $5,215,658<br><b>Predicción:</b> $4,940,560",
          "<b>Código:</b> 0654801<br><b>Nombre:</b> BUGA - BUENAVENTURA<br><b>LONGITUD KM:</b> 3.17<br><b>ALCANCE:</b> Segunda calzada<br><b>Valor Real:</b> $8,937,101<br><b>Predicción:</b> $9,350,566",
          "<b>Código:</b> 0654801<br><b>Nombre:</b> BUGA - BUENAVENTURA<br><b>LONGITUD KM:</b> 2.00<br><b>ALCANCE:</b> Segunda calzada<br><b>Valor Real:</b> $5,638,550<br><b>Predicción:</b> $5,448,480",
          "<b>Código:</b> 0654801<br><b>Nombre:</b> BUGA - BUENAVENTURA<br><b>LONGITUD KM:</b> 2.38<br><b>ALCANCE:</b> Segunda calzada<br><b>Valor Real:</b> $6,709,874<br><b>Predicción:</b> $6,918,633",
          "<b>Código:</b> 6935<br><b>Nombre:</b>  PEDREGAL - PASTO UF4-UF5<br><b>LONGITUD KM:</b> 15.76<br><b>ALCANCE:</b> Segunda calzada<br><b>Valor Real:</b> $69,277,653<br><b>Predicción:</b> $12,394,166",
          "<b>Código:</b> 6935<br><b>Nombre:</b>  PEDREGAL - PASTO UF4-UF5<br><b>LONGITUD KM:</b> 22.20<br><b>ALCANCE:</b> Segunda calzada<br><b>Valor Real:</b> $97,586,542<br><b>Predicción:</b> $127,293,413"
         ],
         "hovertemplate": "%{customdata}<extra></extra>",
         "marker": {
          "color": "#1f77b4",
          "line": {
           "color": "white",
           "width": 1
          },
          "opacity": 0.8,
          "size": 12
         },
         "mode": "markers",
         "name": "Segunda calzada",
         "type": "scatter",
         "x": {
          "bdata": "XelRhMq9SkF2IH2ZvR5TQYZ96rLoDFJBwhfiHM1SREGMre1JNNxnQdeWdIbIAIJBSvPhgiMfYkGLaBG6GNJiQTJymlcEzWtBINMwCdKSQ0Fr0zKMDf5gQehS72ZlgmVB6FLvZmWCVUEXk9CYauVTQb7IIqTRC2FB6FLvZmWCVUHHJyyCnJhZQWgkCFVfhJBB3GkauDVEl0E=",
          "dtype": "f8"
         },
         "y": {
          "bdata": "N1nlUESSOkFq+Eue5IBgQcht6KU3fWBBEfVwl8OrUkHFj9ii0mZbQWUFMlU5wIFBtp3egKVoYkFS7GzQJkliQYDOxbKOdV9BsIKlP5QwTUF8pU/XzbJhQbbCH5Bq7WJBwJanWqVJVUGhuJgTxNhSQTd0RLy01WFBHyjbF8jIVEH0Ts9eemRaQWHD7rzWo2dBuTxAlV9ZnkE=",
          "dtype": "f8"
         }
        },
        {
         "customdata": [
          "<b>Código:</b> 0005<br><b>Nombre:</b> BUENAVENTURA LOBOGUERRERO<br><b>LONGITUD KM:</b> 10.20<br><b>ALCANCE:</b> operacion y mantenimiento<br><b>Valor Real:</b> $3,575,146<br><b>Predicción:</b> $3,682,291",
          "<b>Código:</b> 0005<br><b>Nombre:</b> BUENAVENTURA LOBOGUERRERO<br><b>LONGITUD KM:</b> 8.50<br><b>ALCANCE:</b> operacion y mantenimiento<br><b>Valor Real:</b> $2,979,288<br><b>Predicción:</b> $3,308,402"
         ],
         "hovertemplate": "%{customdata}<extra></extra>",
         "marker": {
          "color": "#ff7f0e",
          "line": {
           "color": "white",
           "width": 1
          },
          "opacity": 0.8,
          "size": 12
         },
         "mode": "markers",
         "name": "operacion y mantenimiento",
         "type": "scatter",
         "x": {
          "bdata": "1Tqb97RGS0FcBqwj7LpGQQ==",
          "dtype": "f8"
         },
         "y": {
          "bdata": "9TQmUfkXTEF46WfkuD1JQQ==",
          "dtype": "f8"
         }
        },
        {
         "line": {
          "color": "red",
          "dash": "dash",
          "width": 2
         },
         "mode": "lines",
         "name": "Predicción Perfecta",
         "showlegend": true,
         "type": "scatter",
         "x": [
          1741380.3159995803,
          163428928.96118724
         ],
         "y": [
          1741380.3159995803,
          163428928.96118724
         ]
        }
       ],
       "layout": {
        "height": 600,
        "hovermode": "closest",
        "legend": {
         "bgcolor": "rgba(255, 255, 255, 0.9)",
         "bordercolor": "lightgray",
         "borderwidth": 1,
         "orientation": "v",
         "x": 0.01,
         "xanchor": "left",
         "y": 0.99,
         "yanchor": "top"
        },
        "paper_bgcolor": "white",
        "plot_bgcolor": "white",
        "template": {
         "data": {
          "bar": [
           {
            "error_x": {
             "color": "#2a3f5f"
            },
            "error_y": {
             "color": "#2a3f5f"
            },
            "marker": {
             "line": {
              "color": "#E5ECF6",
              "width": 0.5
             },
             "pattern": {
              "fillmode": "overlay",
              "size": 10,
              "solidity": 0.2
             }
            },
            "type": "bar"
           }
          ],
          "barpolar": [
           {
            "marker": {
             "line": {
              "color": "#E5ECF6",
              "width": 0.5
             },
             "pattern": {
              "fillmode": "overlay",
              "size": 10,
              "solidity": 0.2
             }
            },
            "type": "barpolar"
           }
          ],
          "carpet": [
           {
            "aaxis": {
             "endlinecolor": "#2a3f5f",
             "gridcolor": "white",
             "linecolor": "white",
             "minorgridcolor": "white",
             "startlinecolor": "#2a3f5f"
            },
            "baxis": {
             "endlinecolor": "#2a3f5f",
             "gridcolor": "white",
             "linecolor": "white",
             "minorgridcolor": "white",
             "startlinecolor": "#2a3f5f"
            },
            "type": "carpet"
           }
          ],
          "choropleth": [
           {
            "colorbar": {
             "outlinewidth": 0,
             "ticks": ""
            },
            "type": "choropleth"
           }
          ],
          "contour": [
           {
            "colorbar": {
             "outlinewidth": 0,
             "ticks": ""
            },
            "colorscale": [
             [
              0,
              "#0d0887"
             ],
             [
              0.1111111111111111,
              "#46039f"
             ],
             [
              0.2222222222222222,
              "#7201a8"
             ],
             [
              0.3333333333333333,
              "#9c179e"
             ],
             [
              0.4444444444444444,
              "#bd3786"
             ],
             [
              0.5555555555555556,
              "#d8576b"
             ],
             [
              0.6666666666666666,
              "#ed7953"
             ],
             [
              0.7777777777777778,
              "#fb9f3a"
             ],
             [
              0.8888888888888888,
              "#fdca26"
             ],
             [
              1,
              "#f0f921"
             ]
            ],
            "type": "contour"
           }
          ],
          "contourcarpet": [
           {
            "colorbar": {
             "outlinewidth": 0,
             "ticks": ""
            },
            "type": "contourcarpet"
           }
          ],
          "heatmap": [
           {
            "colorbar": {
             "outlinewidth": 0,
             "ticks": ""
            },
            "colorscale": [
             [
              0,
              "#0d0887"
             ],
             [
              0.1111111111111111,
              "#46039f"
             ],
             [
              0.2222222222222222,
              "#7201a8"
             ],
             [
              0.3333333333333333,
              "#9c179e"
             ],
             [
              0.4444444444444444,
              "#bd3786"
             ],
             [
              0.5555555555555556,
              "#d8576b"
             ],
             [
              0.6666666666666666,
              "#ed7953"
             ],
             [
              0.7777777777777778,
              "#fb9f3a"
             ],
             [
              0.8888888888888888,
              "#fdca26"
             ],
             [
              1,
              "#f0f921"
             ]
            ],
            "type": "heatmap"
           }
          ],
          "histogram": [
           {
            "marker": {
             "pattern": {
              "fillmode": "overlay",
              "size": 10,
              "solidity": 0.2
             }
            },
            "type": "histogram"
           }
          ],
          "histogram2d": [
           {
            "colorbar": {
             "outlinewidth": 0,
             "ticks": ""
            },
            "colorscale": [
             [
              0,
              "#0d0887"
             ],
             [
              0.1111111111111111,
              "#46039f"
             ],
             [
              0.2222222222222222,
              "#7201a8"
             ],
             [
              0.3333333333333333,
              "#9c179e"
             ],
             [
              0.4444444444444444,
              "#bd3786"
             ],
             [
              0.5555555555555556,
              "#d8576b"
             ],
             [
              0.6666666666666666,
              "#ed7953"
             ],
             [
              0.7777777777777778,
              "#fb9f3a"
             ],
             [
              0.8888888888888888,
              "#fdca26"
             ],
             [
              1,
              "#f0f921"
             ]
            ],
            "type": "histogram2d"
           }
          ],
          "histogram2dcontour": [
           {
            "colorbar": {
             "outlinewidth": 0,
             "ticks": ""
            },
            "colorscale": [
             [
              0,
              "#0d0887"
             ],
             [
              0.1111111111111111,
              "#46039f"
             ],
             [
              0.2222222222222222,
              "#7201a8"
             ],
             [
              0.3333333333333333,
              "#9c179e"
             ],
             [
              0.4444444444444444,
              "#bd3786"
             ],
             [
              0.5555555555555556,
              "#d8576b"
             ],
             [
              0.6666666666666666,
              "#ed7953"
             ],
             [
              0.7777777777777778,
              "#fb9f3a"
             ],
             [
              0.8888888888888888,
              "#fdca26"
             ],
             [
              1,
              "#f0f921"
             ]
            ],
            "type": "histogram2dcontour"
           }
          ],
          "mesh3d": [
           {
            "colorbar": {
             "outlinewidth": 0,
             "ticks": ""
            },
            "type": "mesh3d"
           }
          ],
          "parcoords": [
           {
            "line": {
             "colorbar": {
              "outlinewidth": 0,
              "ticks": ""
             }
            },
            "type": "parcoords"
           }
          ],
          "pie": [
           {
            "automargin": true,
            "type": "pie"
           }
          ],
          "scatter": [
           {
            "fillpattern": {
             "fillmode": "overlay",
             "size": 10,
             "solidity": 0.2
            },
            "type": "scatter"
           }
          ],
          "scatter3d": [
           {
            "line": {
             "colorbar": {
              "outlinewidth": 0,
              "ticks": ""
             }
            },
            "marker": {
             "colorbar": {
              "outlinewidth": 0,
              "ticks": ""
             }
            },
            "type": "scatter3d"
           }
          ],
          "scattercarpet": [
           {
            "marker": {
             "colorbar": {
              "outlinewidth": 0,
              "ticks": ""
             }
            },
            "type": "scattercarpet"
           }
          ],
          "scattergeo": [
           {
            "marker": {
             "colorbar": {
              "outlinewidth": 0,
              "ticks": ""
             }
            },
            "type": "scattergeo"
           }
          ],
          "scattergl": [
           {
            "marker": {
             "colorbar": {
              "outlinewidth": 0,
              "ticks": ""
             }
            },
            "type": "scattergl"
           }
          ],
          "scattermap": [
           {
            "marker": {
             "colorbar": {
              "outlinewidth": 0,
              "ticks": ""
             }
            },
            "type": "scattermap"
           }
          ],
          "scattermapbox": [
           {
            "marker": {
             "colorbar": {
              "outlinewidth": 0,
              "ticks": ""
             }
            },
            "type": "scattermapbox"
           }
          ],
          "scatterpolar": [
           {
            "marker": {
             "colorbar": {
              "outlinewidth": 0,
              "ticks": ""
             }
            },
            "type": "scatterpolar"
           }
          ],
          "scatterpolargl": [
           {
            "marker": {
             "colorbar": {
              "outlinewidth": 0,
              "ticks": ""
             }
            },
            "type": "scatterpolargl"
           }
          ],
          "scatterternary": [
           {
            "marker": {
             "colorbar": {
              "outlinewidth": 0,
              "ticks": ""
             }
            },
            "type": "scatterternary"
           }
          ],
          "surface": [
           {
            "colorbar": {
             "outlinewidth": 0,
             "ticks": ""
            },
            "colorscale": [
             [
              0,
              "#0d0887"
             ],
             [
              0.1111111111111111,
              "#46039f"
             ],
             [
              0.2222222222222222,
              "#7201a8"
             ],
             [
              0.3333333333333333,
              "#9c179e"
             ],
             [
              0.4444444444444444,
              "#bd3786"
             ],
             [
              0.5555555555555556,
              "#d8576b"
             ],
             [
              0.6666666666666666,
              "#ed7953"
             ],
             [
              0.7777777777777778,
              "#fb9f3a"
             ],
             [
              0.8888888888888888,
              "#fdca26"
             ],
             [
              1,
              "#f0f921"
             ]
            ],
            "type": "surface"
           }
          ],
          "table": [
           {
            "cells": {
             "fill": {
              "color": "#EBF0F8"
             },
             "line": {
              "color": "white"
             }
            },
            "header": {
             "fill": {
              "color": "#C8D4E3"
             },
             "line": {
              "color": "white"
             }
            },
            "type": "table"
           }
          ]
         },
         "layout": {
          "annotationdefaults": {
           "arrowcolor": "#2a3f5f",
           "arrowhead": 0,
           "arrowwidth": 1
          },
          "autotypenumbers": "strict",
          "coloraxis": {
           "colorbar": {
            "outlinewidth": 0,
            "ticks": ""
           }
          },
          "colorscale": {
           "diverging": [
            [
             0,
             "#8e0152"
            ],
            [
             0.1,
             "#c51b7d"
            ],
            [
             0.2,
             "#de77ae"
            ],
            [
             0.3,
             "#f1b6da"
            ],
            [
             0.4,
             "#fde0ef"
            ],
            [
             0.5,
             "#f7f7f7"
            ],
            [
             0.6,
             "#e6f5d0"
            ],
            [
             0.7,
             "#b8e186"
            ],
            [
             0.8,
             "#7fbc41"
            ],
            [
             0.9,
             "#4d9221"
            ],
            [
             1,
             "#276419"
            ]
           ],
           "sequential": [
            [
             0,
             "#0d0887"
            ],
            [
             0.1111111111111111,
             "#46039f"
            ],
            [
             0.2222222222222222,
             "#7201a8"
            ],
            [
             0.3333333333333333,
             "#9c179e"
            ],
            [
             0.4444444444444444,
             "#bd3786"
            ],
            [
             0.5555555555555556,
             "#d8576b"
            ],
            [
             0.6666666666666666,
             "#ed7953"
            ],
            [
             0.7777777777777778,
             "#fb9f3a"
            ],
            [
             0.8888888888888888,
             "#fdca26"
            ],
            [
             1,
             "#f0f921"
            ]
           ],
           "sequentialminus": [
            [
             0,
             "#0d0887"
            ],
            [
             0.1111111111111111,
             "#46039f"
            ],
            [
             0.2222222222222222,
             "#7201a8"
            ],
            [
             0.3333333333333333,
             "#9c179e"
            ],
            [
             0.4444444444444444,
             "#bd3786"
            ],
            [
             0.5555555555555556,
             "#d8576b"
            ],
            [
             0.6666666666666666,
             "#ed7953"
            ],
            [
             0.7777777777777778,
             "#fb9f3a"
            ],
            [
             0.8888888888888888,
             "#fdca26"
            ],
            [
             1,
             "#f0f921"
            ]
           ]
          },
          "colorway": [
           "#636efa",
           "#EF553B",
           "#00cc96",
           "#ab63fa",
           "#FFA15A",
           "#19d3f3",
           "#FF6692",
           "#B6E880",
           "#FF97FF",
           "#FECB52"
          ],
          "font": {
           "color": "#2a3f5f"
          },
          "geo": {
           "bgcolor": "white",
           "lakecolor": "white",
           "landcolor": "#E5ECF6",
           "showlakes": true,
           "showland": true,
           "subunitcolor": "white"
          },
          "hoverlabel": {
           "align": "left"
          },
          "hovermode": "closest",
          "mapbox": {
           "style": "light"
          },
          "paper_bgcolor": "white",
          "plot_bgcolor": "#E5ECF6",
          "polar": {
           "angularaxis": {
            "gridcolor": "white",
            "linecolor": "white",
            "ticks": ""
           },
           "bgcolor": "#E5ECF6",
           "radialaxis": {
            "gridcolor": "white",
            "linecolor": "white",
            "ticks": ""
           }
          },
          "scene": {
           "xaxis": {
            "backgroundcolor": "#E5ECF6",
            "gridcolor": "white",
            "gridwidth": 2,
            "linecolor": "white",
            "showbackground": true,
            "ticks": "",
            "zerolinecolor": "white"
           },
           "yaxis": {
            "backgroundcolor": "#E5ECF6",
            "gridcolor": "white",
            "gridwidth": 2,
            "linecolor": "white",
            "showbackground": true,
            "ticks": "",
            "zerolinecolor": "white"
           },
           "zaxis": {
            "backgroundcolor": "#E5ECF6",
            "gridcolor": "white",
            "gridwidth": 2,
            "linecolor": "white",
            "showbackground": true,
            "ticks": "",
            "zerolinecolor": "white"
           }
          },
          "shapedefaults": {
           "line": {
            "color": "#2a3f5f"
           }
          },
          "ternary": {
           "aaxis": {
            "gridcolor": "white",
            "linecolor": "white",
            "ticks": ""
           },
           "baxis": {
            "gridcolor": "white",
            "linecolor": "white",
            "ticks": ""
           },
           "bgcolor": "#E5ECF6",
           "caxis": {
            "gridcolor": "white",
            "linecolor": "white",
            "ticks": ""
           }
          },
          "title": {
           "x": 0.05
          },
          "xaxis": {
           "automargin": true,
           "gridcolor": "white",
           "linecolor": "white",
           "ticks": "",
           "title": {
            "standoff": 15
           },
           "zerolinecolor": "white",
           "zerolinewidth": 2
          },
          "yaxis": {
           "automargin": true,
           "gridcolor": "white",
           "linecolor": "white",
           "ticks": "",
           "title": {
            "standoff": 15
           },
           "zerolinecolor": "white",
           "zerolinewidth": 2
          }
         }
        },
        "title": {
         "font": {
          "family": "Arial Black",
          "size": 20
         },
         "text": "<b>Predicción vs Realidad - 16 - DIRECCIÓN Y COORDINACIÓN</b>",
         "x": 0.5,
         "xanchor": "center"
        },
        "width": 900,
        "xaxis": {
         "gridcolor": "lightgray",
         "gridwidth": 0.5,
         "showgrid": true,
         "title": {
          "font": {
           "size": 14
          },
          "text": "<b>Valor Real ($)</b>"
         }
        },
        "yaxis": {
         "gridcolor": "lightgray",
         "gridwidth": 0.5,
         "showgrid": true,
         "title": {
          "font": {
           "size": 14
          },
          "text": "<b>Valor Predicho ($)</b>"
         }
        }
       }
      }
     },
     "metadata": {},
     "output_type": "display_data"
    }
   ],
   "source": [
    "def train_and_calculate_metrics(df, target_columns, predictor_name, hue_name):\n",
    "    results = {}\n",
    "    \n",
    "    for target_name in target_columns:\n",
    "        df_item = df.loc[:, [predictor_name, hue_name, target_name]]\n",
    "        df_item_cleaned = remove_outliers(df_item, target_name) \n",
    "        # df_item_cleaned = remove_outliers(df_item, target_name, method='all_strict') \n",
    "        # preproccesing.show_plots_eda(predictor_name, target_name, hue_name, df_item_cleaned)\n",
    "        print(target_name)\n",
    "        X, y, y_predicted, trained_model = train_model(df_item_cleaned, predictor_name, hue_name, target_name)\n",
    "        analysis_plots(y, y_predicted, df_item_cleaned, predictor_name, target_name, hue_name)\n",
    "        \n",
    "        results[target_name] = {\n",
    "            'X': X,\n",
    "            'y': y,\n",
    "            'y_predicted': y_predicted,\n",
    "            'trained_model': trained_model\n",
    "        }\n",
    "        \n",
    "        # if target_name == '16 - DIRECCIÓN Y COORDINACIÓN':\n",
    "        #     break\n",
    "    return results    \n",
    "\n",
    "predictor_name = 'LONGITUD KM'\n",
    "hue_name = 'ALCANCE'\n",
    "\n",
    "# Fase II\n",
    "# ['NOMBRE DEL PROYECTO', 'CÓDIGO', 'LONGITUD KM',\n",
    "#        'PUENTES VEHICULARES UND', 'PUENTES VEHICULARES M2',\n",
    "#        'PUENTES PEATONALES UND', 'PUENTES PEATONALES M2', 'TUNELES UND',\n",
    "#        'TUNELES KM', 'ALCANCE', 'ZONA', 'TIPO TERRENO', '1 - TRANSPORTE',\n",
    "#        '2 - TRAZADO Y TOPOGRAFIA (incluye subcomponentes)',\n",
    "#        '3 - GEOLOGÍA (incluye subcomponentes)', '4 - TALUDES',\n",
    "#        '5 - HIDROLOGÍA E HIDRÁULICA', '6 - ESTRUCTURAS', '7 - TÚNELES',\n",
    "#        '8 - PAVIMENTO', '9 - PREDIAL', '10 - AMBIENTAL Y SOCIAL',\n",
    "#        '11 - COSTOS Y PRESUPUESTOS', '12 - SOCIOECONÓMICA',\n",
    "#        '13 - DIRECCIÓN Y COORDINACIÓN']\n",
    "\n",
    "#Fase III\n",
    "# ['LONGITUD KM', 'ALCANCE', '1 - TRANSPORTE', '2.1 - INFORMACIÓN GEOGRÁFICA', '2.2 - TRAZADO Y DISEÑO GEOMÉTRICO',\n",
    "#        '2.3 - SEGURIDAD VIAL', '2.4 - SISTEMAS INTELIGENTES', '3.1 - GEOLOGÍA','3.2 - HIDROGEOLOGÍA', '4 - SUELOS', '5 - TALUDES', '6 - PAVIMENTO',\n",
    "#        '7 - SOCAVACIÓN', '8 - ESTRUCTURAS', '9 - TÚNELES', '10 - URBANISMO Y PAISAJISMO', '11 - PREDIAL', '12 - IMPACTO AMBIENTAL',\n",
    "#        '13 - CANTIDADES', '14 - EVALUACIÓN SOCIOECONÓMICA', '15 - OTROS - MANEJO DE REDES', '16 - DIRECCIÓN Y COORDINACIÓN']\n",
    "\n",
    "target_columns_fase_II = ['1 - TRANSPORTE', '2 - TRAZADO Y TOPOGRAFIA (incluye subcomponentes)', '3 - GEOLOGÍA (incluye subcomponentes)', \n",
    "                          '8 - PAVIMENTO', '9 - PREDIAL', '10 - AMBIENTAL Y SOCIAL',\n",
    "                          '11 - COSTOS Y PRESUPUESTOS', '12 - SOCIOECONÓMICA', '13 - DIRECCIÓN Y COORDINACIÓN']\n",
    "\n",
    "target_columns_fase_III = ['1 - TRANSPORTE', '2.1 - INFORMACIÓN GEOGRÁFICA','2.2 - TRAZADO Y DISEÑO GEOMÉTRICO', '2.3 - SEGURIDAD VIAL', '2.4 - SISTEMAS INTELIGENTES', \n",
    "                  '5 - TALUDES', '6 - PAVIMENTO', '7 - SOCAVACIÓN', '11 - PREDIAL', \n",
    "                  '12 - IMPACTO AMBIENTAL', '15 - OTROS - MANEJO DE REDES', '16 - DIRECCIÓN Y COORDINACIÓN']\n",
    "\n",
    "df = df_vp[['LONGITUD KM', 'ALCANCE']].join(df_vp.loc[:, '1 - TRANSPORTE':'16 - DIRECCIÓN Y COORDINACIÓN'])\n",
    "results = train_and_calculate_metrics(df, target_columns_fase_III, predictor_name, hue_name)    "
   ]
  },
  {
   "cell_type": "code",
   "execution_count": 19,
   "id": "861b5b44",
   "metadata": {},
   "outputs": [
    {
     "data": {
      "text/html": [
       "<div>\n",
       "<style scoped>\n",
       "    .dataframe tbody tr th:only-of-type {\n",
       "        vertical-align: middle;\n",
       "    }\n",
       "\n",
       "    .dataframe tbody tr th {\n",
       "        vertical-align: top;\n",
       "    }\n",
       "\n",
       "    .dataframe thead th {\n",
       "        text-align: right;\n",
       "    }\n",
       "</style>\n",
       "<table border=\"1\" class=\"dataframe\">\n",
       "  <thead>\n",
       "    <tr style=\"text-align: right;\">\n",
       "      <th></th>\n",
       "      <th>LONGITUD KM</th>\n",
       "      <th>ALCANCE</th>\n",
       "      <th>1 - TRANSPORTE</th>\n",
       "      <th>2.1 - INFORMACIÓN GEOGRÁFICA</th>\n",
       "      <th>2.2 - TRAZADO Y DISEÑO GEOMÉTRICO</th>\n",
       "      <th>2.3 - SEGURIDAD VIAL</th>\n",
       "      <th>2.4 - SISTEMAS INTELIGENTES</th>\n",
       "      <th>3.1 - GEOLOGÍA</th>\n",
       "      <th>3.2 - HIDROGEOLOGÍA</th>\n",
       "      <th>4 - SUELOS</th>\n",
       "      <th>...</th>\n",
       "      <th>7 - SOCAVACIÓN</th>\n",
       "      <th>8 - ESTRUCTURAS</th>\n",
       "      <th>9 - TÚNELES</th>\n",
       "      <th>10 - URBANISMO Y PAISAJISMO</th>\n",
       "      <th>11 - PREDIAL</th>\n",
       "      <th>12 - IMPACTO AMBIENTAL</th>\n",
       "      <th>13 - CANTIDADES</th>\n",
       "      <th>14 - EVALUACIÓN SOCIOECONÓMICA</th>\n",
       "      <th>15 - OTROS - MANEJO DE REDES</th>\n",
       "      <th>16 - DIRECCIÓN Y COORDINACIÓN</th>\n",
       "    </tr>\n",
       "  </thead>\n",
       "  <tbody>\n",
       "    <tr>\n",
       "      <th>0</th>\n",
       "      <td>17.400</td>\n",
       "      <td>Segunda calzada</td>\n",
       "      <td>0.000000e+00</td>\n",
       "      <td>0.000000e+00</td>\n",
       "      <td>1.353405e+08</td>\n",
       "      <td>7.287564e+07</td>\n",
       "      <td>4.013575e+07</td>\n",
       "      <td>1.239362e+08</td>\n",
       "      <td>0.000000e+00</td>\n",
       "      <td>1.878437e+08</td>\n",
       "      <td>...</td>\n",
       "      <td>5.275975e+07</td>\n",
       "      <td>6.838215e+08</td>\n",
       "      <td>0.000000e+00</td>\n",
       "      <td>0.000000e+00</td>\n",
       "      <td>0.000000e+00</td>\n",
       "      <td>0.000000e+00</td>\n",
       "      <td>1.377238e+07</td>\n",
       "      <td>0.000000e+00</td>\n",
       "      <td>5.027965e+07</td>\n",
       "      <td>1.714043e+08</td>\n",
       "    </tr>\n",
       "    <tr>\n",
       "      <th>1</th>\n",
       "      <td>13.690</td>\n",
       "      <td>Nuevo</td>\n",
       "      <td>0.000000e+00</td>\n",
       "      <td>0.000000e+00</td>\n",
       "      <td>0.000000e+00</td>\n",
       "      <td>0.000000e+00</td>\n",
       "      <td>2.443049e+07</td>\n",
       "      <td>6.507553e+07</td>\n",
       "      <td>0.000000e+00</td>\n",
       "      <td>1.937793e+08</td>\n",
       "      <td>...</td>\n",
       "      <td>0.000000e+00</td>\n",
       "      <td>0.000000e+00</td>\n",
       "      <td>0.000000e+00</td>\n",
       "      <td>0.000000e+00</td>\n",
       "      <td>0.000000e+00</td>\n",
       "      <td>0.000000e+00</td>\n",
       "      <td>0.000000e+00</td>\n",
       "      <td>0.000000e+00</td>\n",
       "      <td>0.000000e+00</td>\n",
       "      <td>1.634289e+08</td>\n",
       "    </tr>\n",
       "    <tr>\n",
       "      <th>2</th>\n",
       "      <td>10.000</td>\n",
       "      <td>Segunda calzada</td>\n",
       "      <td>0.000000e+00</td>\n",
       "      <td>1.332293e+06</td>\n",
       "      <td>6.119988e+06</td>\n",
       "      <td>1.619942e+06</td>\n",
       "      <td>6.750908e+06</td>\n",
       "      <td>0.000000e+00</td>\n",
       "      <td>0.000000e+00</td>\n",
       "      <td>0.000000e+00</td>\n",
       "      <td>...</td>\n",
       "      <td>1.240165e+07</td>\n",
       "      <td>0.000000e+00</td>\n",
       "      <td>0.000000e+00</td>\n",
       "      <td>0.000000e+00</td>\n",
       "      <td>0.000000e+00</td>\n",
       "      <td>0.000000e+00</td>\n",
       "      <td>0.000000e+00</td>\n",
       "      <td>0.000000e+00</td>\n",
       "      <td>6.825669e+06</td>\n",
       "      <td>3.505045e+06</td>\n",
       "    </tr>\n",
       "    <tr>\n",
       "      <th>3</th>\n",
       "      <td>14.300</td>\n",
       "      <td>Segunda calzada</td>\n",
       "      <td>0.000000e+00</td>\n",
       "      <td>1.905179e+06</td>\n",
       "      <td>8.751583e+06</td>\n",
       "      <td>2.316517e+06</td>\n",
       "      <td>9.653799e+06</td>\n",
       "      <td>0.000000e+00</td>\n",
       "      <td>0.000000e+00</td>\n",
       "      <td>0.000000e+00</td>\n",
       "      <td>...</td>\n",
       "      <td>1.773436e+07</td>\n",
       "      <td>0.000000e+00</td>\n",
       "      <td>0.000000e+00</td>\n",
       "      <td>0.000000e+00</td>\n",
       "      <td>0.000000e+00</td>\n",
       "      <td>0.000000e+00</td>\n",
       "      <td>0.000000e+00</td>\n",
       "      <td>0.000000e+00</td>\n",
       "      <td>9.760706e+06</td>\n",
       "      <td>5.012214e+06</td>\n",
       "    </tr>\n",
       "    <tr>\n",
       "      <th>4</th>\n",
       "      <td>10.200</td>\n",
       "      <td>operacion y mantenimiento</td>\n",
       "      <td>0.000000e+00</td>\n",
       "      <td>1.358939e+06</td>\n",
       "      <td>6.242388e+06</td>\n",
       "      <td>1.652341e+06</td>\n",
       "      <td>6.885926e+06</td>\n",
       "      <td>0.000000e+00</td>\n",
       "      <td>0.000000e+00</td>\n",
       "      <td>0.000000e+00</td>\n",
       "      <td>...</td>\n",
       "      <td>1.264968e+07</td>\n",
       "      <td>0.000000e+00</td>\n",
       "      <td>0.000000e+00</td>\n",
       "      <td>0.000000e+00</td>\n",
       "      <td>0.000000e+00</td>\n",
       "      <td>0.000000e+00</td>\n",
       "      <td>0.000000e+00</td>\n",
       "      <td>0.000000e+00</td>\n",
       "      <td>6.962182e+06</td>\n",
       "      <td>3.575146e+06</td>\n",
       "    </tr>\n",
       "    <tr>\n",
       "      <th>5</th>\n",
       "      <td>8.500</td>\n",
       "      <td>operacion y mantenimiento</td>\n",
       "      <td>0.000000e+00</td>\n",
       "      <td>1.132449e+06</td>\n",
       "      <td>5.201990e+06</td>\n",
       "      <td>1.376951e+06</td>\n",
       "      <td>5.738272e+06</td>\n",
       "      <td>0.000000e+00</td>\n",
       "      <td>0.000000e+00</td>\n",
       "      <td>0.000000e+00</td>\n",
       "      <td>...</td>\n",
       "      <td>1.054140e+07</td>\n",
       "      <td>0.000000e+00</td>\n",
       "      <td>0.000000e+00</td>\n",
       "      <td>0.000000e+00</td>\n",
       "      <td>0.000000e+00</td>\n",
       "      <td>0.000000e+00</td>\n",
       "      <td>0.000000e+00</td>\n",
       "      <td>0.000000e+00</td>\n",
       "      <td>5.801818e+06</td>\n",
       "      <td>2.979288e+06</td>\n",
       "    </tr>\n",
       "    <tr>\n",
       "      <th>6</th>\n",
       "      <td>13.500</td>\n",
       "      <td>Segunda calzada</td>\n",
       "      <td>0.000000e+00</td>\n",
       "      <td>1.798596e+06</td>\n",
       "      <td>8.261984e+06</td>\n",
       "      <td>2.186922e+06</td>\n",
       "      <td>9.113726e+06</td>\n",
       "      <td>0.000000e+00</td>\n",
       "      <td>0.000000e+00</td>\n",
       "      <td>0.000000e+00</td>\n",
       "      <td>...</td>\n",
       "      <td>1.674223e+07</td>\n",
       "      <td>0.000000e+00</td>\n",
       "      <td>0.000000e+00</td>\n",
       "      <td>0.000000e+00</td>\n",
       "      <td>0.000000e+00</td>\n",
       "      <td>0.000000e+00</td>\n",
       "      <td>0.000000e+00</td>\n",
       "      <td>0.000000e+00</td>\n",
       "      <td>9.214653e+06</td>\n",
       "      <td>4.731811e+06</td>\n",
       "    </tr>\n",
       "    <tr>\n",
       "      <th>7</th>\n",
       "      <td>47.200</td>\n",
       "      <td>operacion y mantenimiento</td>\n",
       "      <td>0.000000e+00</td>\n",
       "      <td>6.288425e+06</td>\n",
       "      <td>2.888634e+07</td>\n",
       "      <td>7.646127e+06</td>\n",
       "      <td>3.186429e+07</td>\n",
       "      <td>0.000000e+00</td>\n",
       "      <td>0.000000e+00</td>\n",
       "      <td>0.000000e+00</td>\n",
       "      <td>...</td>\n",
       "      <td>5.853579e+07</td>\n",
       "      <td>0.000000e+00</td>\n",
       "      <td>0.000000e+00</td>\n",
       "      <td>0.000000e+00</td>\n",
       "      <td>0.000000e+00</td>\n",
       "      <td>0.000000e+00</td>\n",
       "      <td>0.000000e+00</td>\n",
       "      <td>0.000000e+00</td>\n",
       "      <td>3.221716e+07</td>\n",
       "      <td>1.654381e+07</td>\n",
       "    </tr>\n",
       "    <tr>\n",
       "      <th>8</th>\n",
       "      <td>7.600</td>\n",
       "      <td>Segunda calzada</td>\n",
       "      <td>0.000000e+00</td>\n",
       "      <td>1.012543e+06</td>\n",
       "      <td>4.651191e+06</td>\n",
       "      <td>1.231156e+06</td>\n",
       "      <td>5.130690e+06</td>\n",
       "      <td>0.000000e+00</td>\n",
       "      <td>0.000000e+00</td>\n",
       "      <td>0.000000e+00</td>\n",
       "      <td>...</td>\n",
       "      <td>9.425254e+06</td>\n",
       "      <td>0.000000e+00</td>\n",
       "      <td>0.000000e+00</td>\n",
       "      <td>0.000000e+00</td>\n",
       "      <td>0.000000e+00</td>\n",
       "      <td>0.000000e+00</td>\n",
       "      <td>0.000000e+00</td>\n",
       "      <td>0.000000e+00</td>\n",
       "      <td>5.187508e+06</td>\n",
       "      <td>2.663834e+06</td>\n",
       "    </tr>\n",
       "    <tr>\n",
       "      <th>9</th>\n",
       "      <td>5.000</td>\n",
       "      <td>Mejoramiento</td>\n",
       "      <td>0.000000e+00</td>\n",
       "      <td>0.000000e+00</td>\n",
       "      <td>6.311029e+06</td>\n",
       "      <td>2.105373e+06</td>\n",
       "      <td>0.000000e+00</td>\n",
       "      <td>1.385817e+07</td>\n",
       "      <td>0.000000e+00</td>\n",
       "      <td>1.326106e+07</td>\n",
       "      <td>...</td>\n",
       "      <td>6.289853e+06</td>\n",
       "      <td>6.421774e+05</td>\n",
       "      <td>0.000000e+00</td>\n",
       "      <td>0.000000e+00</td>\n",
       "      <td>0.000000e+00</td>\n",
       "      <td>0.000000e+00</td>\n",
       "      <td>0.000000e+00</td>\n",
       "      <td>0.000000e+00</td>\n",
       "      <td>2.901125e+07</td>\n",
       "      <td>6.672842e+06</td>\n",
       "    </tr>\n",
       "    <tr>\n",
       "      <th>10</th>\n",
       "      <td>2.500</td>\n",
       "      <td>Segunda calzada</td>\n",
       "      <td>0.000000e+00</td>\n",
       "      <td>0.000000e+00</td>\n",
       "      <td>1.814013e+06</td>\n",
       "      <td>0.000000e+00</td>\n",
       "      <td>0.000000e+00</td>\n",
       "      <td>0.000000e+00</td>\n",
       "      <td>0.000000e+00</td>\n",
       "      <td>1.532367e+07</td>\n",
       "      <td>...</td>\n",
       "      <td>9.159642e+06</td>\n",
       "      <td>0.000000e+00</td>\n",
       "      <td>0.000000e+00</td>\n",
       "      <td>0.000000e+00</td>\n",
       "      <td>0.000000e+00</td>\n",
       "      <td>0.000000e+00</td>\n",
       "      <td>0.000000e+00</td>\n",
       "      <td>0.000000e+00</td>\n",
       "      <td>0.000000e+00</td>\n",
       "      <td>1.250960e+07</td>\n",
       "    </tr>\n",
       "    <tr>\n",
       "      <th>11</th>\n",
       "      <td>17.000</td>\n",
       "      <td>Segunda calzada</td>\n",
       "      <td>0.000000e+00</td>\n",
       "      <td>0.000000e+00</td>\n",
       "      <td>8.023420e+07</td>\n",
       "      <td>1.158669e+07</td>\n",
       "      <td>0.000000e+00</td>\n",
       "      <td>4.968315e+07</td>\n",
       "      <td>0.000000e+00</td>\n",
       "      <td>1.308015e+08</td>\n",
       "      <td>...</td>\n",
       "      <td>4.467656e+07</td>\n",
       "      <td>0.000000e+00</td>\n",
       "      <td>0.000000e+00</td>\n",
       "      <td>0.000000e+00</td>\n",
       "      <td>0.000000e+00</td>\n",
       "      <td>0.000000e+00</td>\n",
       "      <td>0.000000e+00</td>\n",
       "      <td>0.000000e+00</td>\n",
       "      <td>0.000000e+00</td>\n",
       "      <td>3.775515e+07</td>\n",
       "    </tr>\n",
       "    <tr>\n",
       "      <th>12</th>\n",
       "      <td>50.900</td>\n",
       "      <td>Mejoramiento</td>\n",
       "      <td>0.000000e+00</td>\n",
       "      <td>0.000000e+00</td>\n",
       "      <td>1.134648e+08</td>\n",
       "      <td>6.109646e+07</td>\n",
       "      <td>3.344233e+07</td>\n",
       "      <td>0.000000e+00</td>\n",
       "      <td>0.000000e+00</td>\n",
       "      <td>0.000000e+00</td>\n",
       "      <td>...</td>\n",
       "      <td>1.640687e+08</td>\n",
       "      <td>3.872771e+06</td>\n",
       "      <td>0.000000e+00</td>\n",
       "      <td>0.000000e+00</td>\n",
       "      <td>0.000000e+00</td>\n",
       "      <td>0.000000e+00</td>\n",
       "      <td>0.000000e+00</td>\n",
       "      <td>0.000000e+00</td>\n",
       "      <td>0.000000e+00</td>\n",
       "      <td>4.132408e+07</td>\n",
       "    </tr>\n",
       "    <tr>\n",
       "      <th>13</th>\n",
       "      <td>9.000</td>\n",
       "      <td>Mejoramiento</td>\n",
       "      <td>0.000000e+00</td>\n",
       "      <td>0.000000e+00</td>\n",
       "      <td>2.006255e+07</td>\n",
       "      <td>1.080291e+07</td>\n",
       "      <td>5.913181e+06</td>\n",
       "      <td>0.000000e+00</td>\n",
       "      <td>0.000000e+00</td>\n",
       "      <td>0.000000e+00</td>\n",
       "      <td>...</td>\n",
       "      <td>2.901019e+07</td>\n",
       "      <td>6.847729e+05</td>\n",
       "      <td>0.000000e+00</td>\n",
       "      <td>0.000000e+00</td>\n",
       "      <td>0.000000e+00</td>\n",
       "      <td>0.000000e+00</td>\n",
       "      <td>0.000000e+00</td>\n",
       "      <td>0.000000e+00</td>\n",
       "      <td>0.000000e+00</td>\n",
       "      <td>7.306812e+06</td>\n",
       "    </tr>\n",
       "    <tr>\n",
       "      <th>14</th>\n",
       "      <td>21.000</td>\n",
       "      <td>Mejoramiento</td>\n",
       "      <td>0.000000e+00</td>\n",
       "      <td>0.000000e+00</td>\n",
       "      <td>4.681261e+07</td>\n",
       "      <td>2.520679e+07</td>\n",
       "      <td>1.379742e+07</td>\n",
       "      <td>0.000000e+00</td>\n",
       "      <td>0.000000e+00</td>\n",
       "      <td>0.000000e+00</td>\n",
       "      <td>...</td>\n",
       "      <td>6.769043e+07</td>\n",
       "      <td>1.597804e+06</td>\n",
       "      <td>0.000000e+00</td>\n",
       "      <td>0.000000e+00</td>\n",
       "      <td>0.000000e+00</td>\n",
       "      <td>0.000000e+00</td>\n",
       "      <td>0.000000e+00</td>\n",
       "      <td>0.000000e+00</td>\n",
       "      <td>0.000000e+00</td>\n",
       "      <td>1.704923e+07</td>\n",
       "    </tr>\n",
       "    <tr>\n",
       "      <th>15</th>\n",
       "      <td>14.000</td>\n",
       "      <td>Mejoramiento</td>\n",
       "      <td>0.000000e+00</td>\n",
       "      <td>0.000000e+00</td>\n",
       "      <td>3.120841e+07</td>\n",
       "      <td>1.680453e+07</td>\n",
       "      <td>9.198282e+06</td>\n",
       "      <td>0.000000e+00</td>\n",
       "      <td>0.000000e+00</td>\n",
       "      <td>0.000000e+00</td>\n",
       "      <td>...</td>\n",
       "      <td>4.512696e+07</td>\n",
       "      <td>1.065202e+06</td>\n",
       "      <td>0.000000e+00</td>\n",
       "      <td>0.000000e+00</td>\n",
       "      <td>0.000000e+00</td>\n",
       "      <td>0.000000e+00</td>\n",
       "      <td>0.000000e+00</td>\n",
       "      <td>0.000000e+00</td>\n",
       "      <td>0.000000e+00</td>\n",
       "      <td>1.136615e+07</td>\n",
       "    </tr>\n",
       "    <tr>\n",
       "      <th>16</th>\n",
       "      <td>6.560</td>\n",
       "      <td>Mejoramiento</td>\n",
       "      <td>0.000000e+00</td>\n",
       "      <td>0.000000e+00</td>\n",
       "      <td>1.462337e+07</td>\n",
       "      <td>7.874121e+06</td>\n",
       "      <td>4.310052e+06</td>\n",
       "      <td>0.000000e+00</td>\n",
       "      <td>0.000000e+00</td>\n",
       "      <td>0.000000e+00</td>\n",
       "      <td>...</td>\n",
       "      <td>2.114520e+07</td>\n",
       "      <td>4.991234e+05</td>\n",
       "      <td>0.000000e+00</td>\n",
       "      <td>0.000000e+00</td>\n",
       "      <td>0.000000e+00</td>\n",
       "      <td>0.000000e+00</td>\n",
       "      <td>0.000000e+00</td>\n",
       "      <td>0.000000e+00</td>\n",
       "      <td>0.000000e+00</td>\n",
       "      <td>5.325854e+06</td>\n",
       "    </tr>\n",
       "    <tr>\n",
       "      <th>17</th>\n",
       "      <td>18.920</td>\n",
       "      <td>Mejoramiento</td>\n",
       "      <td>0.000000e+00</td>\n",
       "      <td>0.000000e+00</td>\n",
       "      <td>4.217593e+07</td>\n",
       "      <td>2.271012e+07</td>\n",
       "      <td>1.243082e+07</td>\n",
       "      <td>0.000000e+00</td>\n",
       "      <td>0.000000e+00</td>\n",
       "      <td>0.000000e+00</td>\n",
       "      <td>...</td>\n",
       "      <td>6.098586e+07</td>\n",
       "      <td>1.439545e+06</td>\n",
       "      <td>0.000000e+00</td>\n",
       "      <td>0.000000e+00</td>\n",
       "      <td>0.000000e+00</td>\n",
       "      <td>0.000000e+00</td>\n",
       "      <td>0.000000e+00</td>\n",
       "      <td>0.000000e+00</td>\n",
       "      <td>0.000000e+00</td>\n",
       "      <td>1.536054e+07</td>\n",
       "    </tr>\n",
       "    <tr>\n",
       "      <th>18</th>\n",
       "      <td>14.520</td>\n",
       "      <td>Mejoramiento</td>\n",
       "      <td>0.000000e+00</td>\n",
       "      <td>0.000000e+00</td>\n",
       "      <td>3.236758e+07</td>\n",
       "      <td>1.742869e+07</td>\n",
       "      <td>9.539932e+06</td>\n",
       "      <td>0.000000e+00</td>\n",
       "      <td>0.000000e+00</td>\n",
       "      <td>0.000000e+00</td>\n",
       "      <td>...</td>\n",
       "      <td>4.680310e+07</td>\n",
       "      <td>1.104767e+06</td>\n",
       "      <td>0.000000e+00</td>\n",
       "      <td>0.000000e+00</td>\n",
       "      <td>0.000000e+00</td>\n",
       "      <td>0.000000e+00</td>\n",
       "      <td>0.000000e+00</td>\n",
       "      <td>0.000000e+00</td>\n",
       "      <td>0.000000e+00</td>\n",
       "      <td>1.178832e+07</td>\n",
       "    </tr>\n",
       "    <tr>\n",
       "      <th>19</th>\n",
       "      <td>9.860</td>\n",
       "      <td>Mejoramiento</td>\n",
       "      <td>0.000000e+00</td>\n",
       "      <td>0.000000e+00</td>\n",
       "      <td>2.197963e+07</td>\n",
       "      <td>1.183519e+07</td>\n",
       "      <td>6.478219e+06</td>\n",
       "      <td>0.000000e+00</td>\n",
       "      <td>0.000000e+00</td>\n",
       "      <td>0.000000e+00</td>\n",
       "      <td>...</td>\n",
       "      <td>3.178227e+07</td>\n",
       "      <td>7.502068e+05</td>\n",
       "      <td>0.000000e+00</td>\n",
       "      <td>0.000000e+00</td>\n",
       "      <td>0.000000e+00</td>\n",
       "      <td>0.000000e+00</td>\n",
       "      <td>0.000000e+00</td>\n",
       "      <td>0.000000e+00</td>\n",
       "      <td>0.000000e+00</td>\n",
       "      <td>8.005018e+06</td>\n",
       "    </tr>\n",
       "    <tr>\n",
       "      <th>20</th>\n",
       "      <td>8.350</td>\n",
       "      <td>Rehabilitación</td>\n",
       "      <td>0.000000e+00</td>\n",
       "      <td>3.826976e+07</td>\n",
       "      <td>2.405652e+07</td>\n",
       "      <td>1.877730e+07</td>\n",
       "      <td>0.000000e+00</td>\n",
       "      <td>4.694332e+07</td>\n",
       "      <td>0.000000e+00</td>\n",
       "      <td>2.844561e+08</td>\n",
       "      <td>...</td>\n",
       "      <td>6.284023e+07</td>\n",
       "      <td>4.415680e+08</td>\n",
       "      <td>1.379371e+08</td>\n",
       "      <td>0.000000e+00</td>\n",
       "      <td>1.663940e+07</td>\n",
       "      <td>0.000000e+00</td>\n",
       "      <td>0.000000e+00</td>\n",
       "      <td>0.000000e+00</td>\n",
       "      <td>0.000000e+00</td>\n",
       "      <td>2.006346e+08</td>\n",
       "    </tr>\n",
       "    <tr>\n",
       "      <th>21</th>\n",
       "      <td>8.600</td>\n",
       "      <td>Rehabilitación</td>\n",
       "      <td>0.000000e+00</td>\n",
       "      <td>3.941557e+07</td>\n",
       "      <td>2.477678e+07</td>\n",
       "      <td>1.933950e+07</td>\n",
       "      <td>0.000000e+00</td>\n",
       "      <td>4.834880e+07</td>\n",
       "      <td>0.000000e+00</td>\n",
       "      <td>2.929728e+08</td>\n",
       "      <td>...</td>\n",
       "      <td>6.472167e+07</td>\n",
       "      <td>4.547886e+08</td>\n",
       "      <td>1.420669e+08</td>\n",
       "      <td>0.000000e+00</td>\n",
       "      <td>1.713759e+07</td>\n",
       "      <td>0.000000e+00</td>\n",
       "      <td>0.000000e+00</td>\n",
       "      <td>0.000000e+00</td>\n",
       "      <td>0.000000e+00</td>\n",
       "      <td>2.066416e+08</td>\n",
       "    </tr>\n",
       "    <tr>\n",
       "      <th>22</th>\n",
       "      <td>8.500</td>\n",
       "      <td>Rehabilitación</td>\n",
       "      <td>0.000000e+00</td>\n",
       "      <td>3.895725e+07</td>\n",
       "      <td>2.448867e+07</td>\n",
       "      <td>1.911462e+07</td>\n",
       "      <td>0.000000e+00</td>\n",
       "      <td>4.778661e+07</td>\n",
       "      <td>0.000000e+00</td>\n",
       "      <td>2.895661e+08</td>\n",
       "      <td>...</td>\n",
       "      <td>6.396909e+07</td>\n",
       "      <td>4.495003e+08</td>\n",
       "      <td>1.404150e+08</td>\n",
       "      <td>0.000000e+00</td>\n",
       "      <td>1.693831e+07</td>\n",
       "      <td>0.000000e+00</td>\n",
       "      <td>0.000000e+00</td>\n",
       "      <td>0.000000e+00</td>\n",
       "      <td>0.000000e+00</td>\n",
       "      <td>2.042388e+08</td>\n",
       "    </tr>\n",
       "    <tr>\n",
       "      <th>23</th>\n",
       "      <td>5.000</td>\n",
       "      <td>Mejoramiento</td>\n",
       "      <td>0.000000e+00</td>\n",
       "      <td>0.000000e+00</td>\n",
       "      <td>5.652966e+06</td>\n",
       "      <td>3.043905e+06</td>\n",
       "      <td>0.000000e+00</td>\n",
       "      <td>4.852288e+06</td>\n",
       "      <td>0.000000e+00</td>\n",
       "      <td>1.220348e+07</td>\n",
       "      <td>...</td>\n",
       "      <td>1.321083e+07</td>\n",
       "      <td>9.507830e+06</td>\n",
       "      <td>0.000000e+00</td>\n",
       "      <td>0.000000e+00</td>\n",
       "      <td>0.000000e+00</td>\n",
       "      <td>1.653386e+06</td>\n",
       "      <td>6.853860e+06</td>\n",
       "      <td>0.000000e+00</td>\n",
       "      <td>0.000000e+00</td>\n",
       "      <td>5.695082e+06</td>\n",
       "    </tr>\n",
       "    <tr>\n",
       "      <th>24</th>\n",
       "      <td>10.060</td>\n",
       "      <td>Mejoramiento</td>\n",
       "      <td>1.747040e+07</td>\n",
       "      <td>0.000000e+00</td>\n",
       "      <td>2.561191e+07</td>\n",
       "      <td>6.537624e+06</td>\n",
       "      <td>0.000000e+00</td>\n",
       "      <td>2.915567e+07</td>\n",
       "      <td>0.000000e+00</td>\n",
       "      <td>6.696069e+07</td>\n",
       "      <td>...</td>\n",
       "      <td>3.596050e+07</td>\n",
       "      <td>2.169088e+08</td>\n",
       "      <td>0.000000e+00</td>\n",
       "      <td>0.000000e+00</td>\n",
       "      <td>0.000000e+00</td>\n",
       "      <td>0.000000e+00</td>\n",
       "      <td>3.513204e+06</td>\n",
       "      <td>0.000000e+00</td>\n",
       "      <td>0.000000e+00</td>\n",
       "      <td>2.202194e+07</td>\n",
       "    </tr>\n",
       "    <tr>\n",
       "      <th>25</th>\n",
       "      <td>5.243</td>\n",
       "      <td>Mejoramiento</td>\n",
       "      <td>2.211438e+07</td>\n",
       "      <td>0.000000e+00</td>\n",
       "      <td>3.623384e+07</td>\n",
       "      <td>2.414655e+07</td>\n",
       "      <td>0.000000e+00</td>\n",
       "      <td>4.229544e+07</td>\n",
       "      <td>0.000000e+00</td>\n",
       "      <td>4.285348e+07</td>\n",
       "      <td>...</td>\n",
       "      <td>3.532170e+07</td>\n",
       "      <td>2.649237e+08</td>\n",
       "      <td>0.000000e+00</td>\n",
       "      <td>0.000000e+00</td>\n",
       "      <td>1.891486e+07</td>\n",
       "      <td>1.188530e+08</td>\n",
       "      <td>1.725694e+07</td>\n",
       "      <td>1.724510e+07</td>\n",
       "      <td>0.000000e+00</td>\n",
       "      <td>7.929303e+07</td>\n",
       "    </tr>\n",
       "    <tr>\n",
       "      <th>26</th>\n",
       "      <td>15.000</td>\n",
       "      <td>Rehabilitación</td>\n",
       "      <td>0.000000e+00</td>\n",
       "      <td>0.000000e+00</td>\n",
       "      <td>3.505602e+07</td>\n",
       "      <td>3.768370e+07</td>\n",
       "      <td>9.571958e+06</td>\n",
       "      <td>2.441464e+07</td>\n",
       "      <td>0.000000e+00</td>\n",
       "      <td>3.181604e+07</td>\n",
       "      <td>...</td>\n",
       "      <td>7.959621e+07</td>\n",
       "      <td>5.515732e+07</td>\n",
       "      <td>0.000000e+00</td>\n",
       "      <td>2.868054e+07</td>\n",
       "      <td>0.000000e+00</td>\n",
       "      <td>0.000000e+00</td>\n",
       "      <td>5.039982e+06</td>\n",
       "      <td>0.000000e+00</td>\n",
       "      <td>5.407077e+07</td>\n",
       "      <td>4.228912e+07</td>\n",
       "    </tr>\n",
       "    <tr>\n",
       "      <th>27</th>\n",
       "      <td>3.120</td>\n",
       "      <td>Nuevo</td>\n",
       "      <td>0.000000e+00</td>\n",
       "      <td>0.000000e+00</td>\n",
       "      <td>7.291653e+06</td>\n",
       "      <td>7.838210e+06</td>\n",
       "      <td>1.990967e+06</td>\n",
       "      <td>5.078245e+06</td>\n",
       "      <td>0.000000e+00</td>\n",
       "      <td>6.617737e+06</td>\n",
       "      <td>...</td>\n",
       "      <td>1.655601e+07</td>\n",
       "      <td>1.147272e+07</td>\n",
       "      <td>0.000000e+00</td>\n",
       "      <td>5.965552e+06</td>\n",
       "      <td>0.000000e+00</td>\n",
       "      <td>0.000000e+00</td>\n",
       "      <td>1.048316e+06</td>\n",
       "      <td>0.000000e+00</td>\n",
       "      <td>1.124672e+07</td>\n",
       "      <td>8.796137e+06</td>\n",
       "    </tr>\n",
       "    <tr>\n",
       "      <th>28</th>\n",
       "      <td>3.370</td>\n",
       "      <td>Segunda calzada</td>\n",
       "      <td>0.000000e+00</td>\n",
       "      <td>0.000000e+00</td>\n",
       "      <td>7.875920e+06</td>\n",
       "      <td>8.466272e+06</td>\n",
       "      <td>2.150500e+06</td>\n",
       "      <td>5.485156e+06</td>\n",
       "      <td>0.000000e+00</td>\n",
       "      <td>7.148004e+06</td>\n",
       "      <td>...</td>\n",
       "      <td>1.788262e+07</td>\n",
       "      <td>1.239201e+07</td>\n",
       "      <td>0.000000e+00</td>\n",
       "      <td>6.443561e+06</td>\n",
       "      <td>0.000000e+00</td>\n",
       "      <td>0.000000e+00</td>\n",
       "      <td>1.132316e+06</td>\n",
       "      <td>0.000000e+00</td>\n",
       "      <td>1.214790e+07</td>\n",
       "      <td>9.500956e+06</td>\n",
       "    </tr>\n",
       "    <tr>\n",
       "      <th>29</th>\n",
       "      <td>0.800</td>\n",
       "      <td>Construcción</td>\n",
       "      <td>0.000000e+00</td>\n",
       "      <td>0.000000e+00</td>\n",
       "      <td>1.869655e+06</td>\n",
       "      <td>2.009797e+06</td>\n",
       "      <td>5.105044e+05</td>\n",
       "      <td>1.302114e+06</td>\n",
       "      <td>0.000000e+00</td>\n",
       "      <td>1.696856e+06</td>\n",
       "      <td>...</td>\n",
       "      <td>4.245131e+06</td>\n",
       "      <td>2.941724e+06</td>\n",
       "      <td>0.000000e+00</td>\n",
       "      <td>1.529629e+06</td>\n",
       "      <td>0.000000e+00</td>\n",
       "      <td>0.000000e+00</td>\n",
       "      <td>2.687990e+05</td>\n",
       "      <td>0.000000e+00</td>\n",
       "      <td>2.883774e+06</td>\n",
       "      <td>2.255420e+06</td>\n",
       "    </tr>\n",
       "    <tr>\n",
       "      <th>30</th>\n",
       "      <td>3.500</td>\n",
       "      <td>Segunda calzada</td>\n",
       "      <td>0.000000e+00</td>\n",
       "      <td>0.000000e+00</td>\n",
       "      <td>8.179739e+06</td>\n",
       "      <td>8.792864e+06</td>\n",
       "      <td>2.233457e+06</td>\n",
       "      <td>5.696749e+06</td>\n",
       "      <td>0.000000e+00</td>\n",
       "      <td>7.423743e+06</td>\n",
       "      <td>...</td>\n",
       "      <td>1.857245e+07</td>\n",
       "      <td>1.287004e+07</td>\n",
       "      <td>0.000000e+00</td>\n",
       "      <td>6.692126e+06</td>\n",
       "      <td>0.000000e+00</td>\n",
       "      <td>0.000000e+00</td>\n",
       "      <td>1.175996e+06</td>\n",
       "      <td>0.000000e+00</td>\n",
       "      <td>1.261651e+07</td>\n",
       "      <td>9.867462e+06</td>\n",
       "    </tr>\n",
       "    <tr>\n",
       "      <th>31</th>\n",
       "      <td>5.170</td>\n",
       "      <td>Segunda calzada</td>\n",
       "      <td>0.000000e+00</td>\n",
       "      <td>0.000000e+00</td>\n",
       "      <td>1.208264e+07</td>\n",
       "      <td>1.298832e+07</td>\n",
       "      <td>3.299135e+06</td>\n",
       "      <td>8.414912e+06</td>\n",
       "      <td>0.000000e+00</td>\n",
       "      <td>1.096593e+07</td>\n",
       "      <td>...</td>\n",
       "      <td>2.743416e+07</td>\n",
       "      <td>1.901089e+07</td>\n",
       "      <td>0.000000e+00</td>\n",
       "      <td>9.885226e+06</td>\n",
       "      <td>0.000000e+00</td>\n",
       "      <td>0.000000e+00</td>\n",
       "      <td>1.737114e+06</td>\n",
       "      <td>0.000000e+00</td>\n",
       "      <td>1.863639e+07</td>\n",
       "      <td>1.457565e+07</td>\n",
       "    </tr>\n",
       "    <tr>\n",
       "      <th>32</th>\n",
       "      <td>19.310</td>\n",
       "      <td>Puesta a punto</td>\n",
       "      <td>0.000000e+00</td>\n",
       "      <td>0.000000e+00</td>\n",
       "      <td>4.512879e+07</td>\n",
       "      <td>4.851148e+07</td>\n",
       "      <td>1.232230e+07</td>\n",
       "      <td>3.142978e+07</td>\n",
       "      <td>0.000000e+00</td>\n",
       "      <td>4.095785e+07</td>\n",
       "      <td>...</td>\n",
       "      <td>1.024669e+08</td>\n",
       "      <td>7.100586e+07</td>\n",
       "      <td>0.000000e+00</td>\n",
       "      <td>3.692142e+07</td>\n",
       "      <td>0.000000e+00</td>\n",
       "      <td>0.000000e+00</td>\n",
       "      <td>6.488137e+06</td>\n",
       "      <td>0.000000e+00</td>\n",
       "      <td>6.960710e+07</td>\n",
       "      <td>5.444020e+07</td>\n",
       "    </tr>\n",
       "    <tr>\n",
       "      <th>33</th>\n",
       "      <td>8.210</td>\n",
       "      <td>Puesta a punto</td>\n",
       "      <td>0.000000e+00</td>\n",
       "      <td>0.000000e+00</td>\n",
       "      <td>1.918733e+07</td>\n",
       "      <td>2.062555e+07</td>\n",
       "      <td>5.239052e+06</td>\n",
       "      <td>1.336295e+07</td>\n",
       "      <td>0.000000e+00</td>\n",
       "      <td>1.741398e+07</td>\n",
       "      <td>...</td>\n",
       "      <td>4.356566e+07</td>\n",
       "      <td>3.018944e+07</td>\n",
       "      <td>0.000000e+00</td>\n",
       "      <td>1.569782e+07</td>\n",
       "      <td>0.000000e+00</td>\n",
       "      <td>0.000000e+00</td>\n",
       "      <td>2.758550e+06</td>\n",
       "      <td>0.000000e+00</td>\n",
       "      <td>2.959473e+07</td>\n",
       "      <td>2.314625e+07</td>\n",
       "    </tr>\n",
       "    <tr>\n",
       "      <th>34</th>\n",
       "      <td>0.910</td>\n",
       "      <td>Segunda calzada</td>\n",
       "      <td>0.000000e+00</td>\n",
       "      <td>0.000000e+00</td>\n",
       "      <td>2.126732e+06</td>\n",
       "      <td>2.286145e+06</td>\n",
       "      <td>5.806988e+05</td>\n",
       "      <td>1.481155e+06</td>\n",
       "      <td>0.000000e+00</td>\n",
       "      <td>1.930173e+06</td>\n",
       "      <td>...</td>\n",
       "      <td>4.828837e+06</td>\n",
       "      <td>3.346211e+06</td>\n",
       "      <td>0.000000e+00</td>\n",
       "      <td>1.739953e+06</td>\n",
       "      <td>0.000000e+00</td>\n",
       "      <td>0.000000e+00</td>\n",
       "      <td>3.057589e+05</td>\n",
       "      <td>0.000000e+00</td>\n",
       "      <td>3.280293e+06</td>\n",
       "      <td>2.565540e+06</td>\n",
       "    </tr>\n",
       "    <tr>\n",
       "      <th>35</th>\n",
       "      <td>3.160</td>\n",
       "      <td>Segunda calzada</td>\n",
       "      <td>0.000000e+00</td>\n",
       "      <td>0.000000e+00</td>\n",
       "      <td>7.385135e+06</td>\n",
       "      <td>7.938700e+06</td>\n",
       "      <td>2.016492e+06</td>\n",
       "      <td>5.143351e+06</td>\n",
       "      <td>0.000000e+00</td>\n",
       "      <td>6.702579e+06</td>\n",
       "      <td>...</td>\n",
       "      <td>1.676827e+07</td>\n",
       "      <td>1.161981e+07</td>\n",
       "      <td>0.000000e+00</td>\n",
       "      <td>6.042034e+06</td>\n",
       "      <td>0.000000e+00</td>\n",
       "      <td>0.000000e+00</td>\n",
       "      <td>1.061756e+06</td>\n",
       "      <td>0.000000e+00</td>\n",
       "      <td>1.139091e+07</td>\n",
       "      <td>8.908908e+06</td>\n",
       "    </tr>\n",
       "    <tr>\n",
       "      <th>36</th>\n",
       "      <td>12.160</td>\n",
       "      <td>Puesta a punto</td>\n",
       "      <td>0.000000e+00</td>\n",
       "      <td>0.000000e+00</td>\n",
       "      <td>2.841875e+07</td>\n",
       "      <td>3.054892e+07</td>\n",
       "      <td>7.759667e+06</td>\n",
       "      <td>1.979213e+07</td>\n",
       "      <td>0.000000e+00</td>\n",
       "      <td>2.579220e+07</td>\n",
       "      <td>...</td>\n",
       "      <td>6.452600e+07</td>\n",
       "      <td>4.471420e+07</td>\n",
       "      <td>0.000000e+00</td>\n",
       "      <td>2.325036e+07</td>\n",
       "      <td>0.000000e+00</td>\n",
       "      <td>0.000000e+00</td>\n",
       "      <td>4.085745e+06</td>\n",
       "      <td>0.000000e+00</td>\n",
       "      <td>4.383337e+07</td>\n",
       "      <td>3.428238e+07</td>\n",
       "    </tr>\n",
       "    <tr>\n",
       "      <th>37</th>\n",
       "      <td>12.160</td>\n",
       "      <td>Puesta a punto</td>\n",
       "      <td>0.000000e+00</td>\n",
       "      <td>0.000000e+00</td>\n",
       "      <td>2.841875e+07</td>\n",
       "      <td>3.054892e+07</td>\n",
       "      <td>7.759667e+06</td>\n",
       "      <td>1.979213e+07</td>\n",
       "      <td>0.000000e+00</td>\n",
       "      <td>2.579220e+07</td>\n",
       "      <td>...</td>\n",
       "      <td>6.452600e+07</td>\n",
       "      <td>4.471420e+07</td>\n",
       "      <td>0.000000e+00</td>\n",
       "      <td>2.325036e+07</td>\n",
       "      <td>0.000000e+00</td>\n",
       "      <td>0.000000e+00</td>\n",
       "      <td>4.085745e+06</td>\n",
       "      <td>0.000000e+00</td>\n",
       "      <td>4.383337e+07</td>\n",
       "      <td>3.428238e+07</td>\n",
       "    </tr>\n",
       "    <tr>\n",
       "      <th>38</th>\n",
       "      <td>4.000</td>\n",
       "      <td>Segunda calzada</td>\n",
       "      <td>0.000000e+00</td>\n",
       "      <td>0.000000e+00</td>\n",
       "      <td>9.348273e+06</td>\n",
       "      <td>1.004899e+07</td>\n",
       "      <td>2.552522e+06</td>\n",
       "      <td>6.510570e+06</td>\n",
       "      <td>0.000000e+00</td>\n",
       "      <td>8.484278e+06</td>\n",
       "      <td>...</td>\n",
       "      <td>2.122566e+07</td>\n",
       "      <td>1.470862e+07</td>\n",
       "      <td>0.000000e+00</td>\n",
       "      <td>7.648144e+06</td>\n",
       "      <td>0.000000e+00</td>\n",
       "      <td>0.000000e+00</td>\n",
       "      <td>1.343995e+06</td>\n",
       "      <td>0.000000e+00</td>\n",
       "      <td>1.441887e+07</td>\n",
       "      <td>1.127710e+07</td>\n",
       "    </tr>\n",
       "    <tr>\n",
       "      <th>39</th>\n",
       "      <td>2.000</td>\n",
       "      <td>Segunda calzada</td>\n",
       "      <td>0.000000e+00</td>\n",
       "      <td>0.000000e+00</td>\n",
       "      <td>4.674136e+06</td>\n",
       "      <td>5.024493e+06</td>\n",
       "      <td>1.276261e+06</td>\n",
       "      <td>3.255285e+06</td>\n",
       "      <td>0.000000e+00</td>\n",
       "      <td>4.242139e+06</td>\n",
       "      <td>...</td>\n",
       "      <td>1.061283e+07</td>\n",
       "      <td>7.354310e+06</td>\n",
       "      <td>0.000000e+00</td>\n",
       "      <td>3.824072e+06</td>\n",
       "      <td>0.000000e+00</td>\n",
       "      <td>0.000000e+00</td>\n",
       "      <td>6.719976e+05</td>\n",
       "      <td>0.000000e+00</td>\n",
       "      <td>7.209436e+06</td>\n",
       "      <td>5.638550e+06</td>\n",
       "    </tr>\n",
       "    <tr>\n",
       "      <th>40</th>\n",
       "      <td>3.150</td>\n",
       "      <td>Rehabilitación</td>\n",
       "      <td>0.000000e+00</td>\n",
       "      <td>0.000000e+00</td>\n",
       "      <td>7.361765e+06</td>\n",
       "      <td>7.913577e+06</td>\n",
       "      <td>2.010111e+06</td>\n",
       "      <td>5.127074e+06</td>\n",
       "      <td>0.000000e+00</td>\n",
       "      <td>6.681369e+06</td>\n",
       "      <td>...</td>\n",
       "      <td>1.671521e+07</td>\n",
       "      <td>1.158304e+07</td>\n",
       "      <td>0.000000e+00</td>\n",
       "      <td>6.022913e+06</td>\n",
       "      <td>0.000000e+00</td>\n",
       "      <td>0.000000e+00</td>\n",
       "      <td>1.058396e+06</td>\n",
       "      <td>0.000000e+00</td>\n",
       "      <td>1.135486e+07</td>\n",
       "      <td>8.880716e+06</td>\n",
       "    </tr>\n",
       "    <tr>\n",
       "      <th>41</th>\n",
       "      <td>1.850</td>\n",
       "      <td>Segunda calzada</td>\n",
       "      <td>0.000000e+00</td>\n",
       "      <td>0.000000e+00</td>\n",
       "      <td>4.323576e+06</td>\n",
       "      <td>4.647656e+06</td>\n",
       "      <td>1.180541e+06</td>\n",
       "      <td>3.011139e+06</td>\n",
       "      <td>0.000000e+00</td>\n",
       "      <td>3.923978e+06</td>\n",
       "      <td>...</td>\n",
       "      <td>9.816866e+06</td>\n",
       "      <td>6.802736e+06</td>\n",
       "      <td>0.000000e+00</td>\n",
       "      <td>3.537267e+06</td>\n",
       "      <td>0.000000e+00</td>\n",
       "      <td>0.000000e+00</td>\n",
       "      <td>6.215978e+05</td>\n",
       "      <td>0.000000e+00</td>\n",
       "      <td>6.668728e+06</td>\n",
       "      <td>5.215658e+06</td>\n",
       "    </tr>\n",
       "    <tr>\n",
       "      <th>42</th>\n",
       "      <td>1.000</td>\n",
       "      <td>Puesta a punto</td>\n",
       "      <td>0.000000e+00</td>\n",
       "      <td>0.000000e+00</td>\n",
       "      <td>2.337068e+06</td>\n",
       "      <td>2.512247e+06</td>\n",
       "      <td>6.381305e+05</td>\n",
       "      <td>1.627643e+06</td>\n",
       "      <td>0.000000e+00</td>\n",
       "      <td>2.121069e+06</td>\n",
       "      <td>...</td>\n",
       "      <td>5.306414e+06</td>\n",
       "      <td>3.677155e+06</td>\n",
       "      <td>0.000000e+00</td>\n",
       "      <td>1.912036e+06</td>\n",
       "      <td>0.000000e+00</td>\n",
       "      <td>0.000000e+00</td>\n",
       "      <td>3.359988e+05</td>\n",
       "      <td>0.000000e+00</td>\n",
       "      <td>3.604718e+06</td>\n",
       "      <td>2.819275e+06</td>\n",
       "    </tr>\n",
       "    <tr>\n",
       "      <th>43</th>\n",
       "      <td>14.000</td>\n",
       "      <td>Puesta a punto</td>\n",
       "      <td>0.000000e+00</td>\n",
       "      <td>0.000000e+00</td>\n",
       "      <td>3.271895e+07</td>\n",
       "      <td>3.517145e+07</td>\n",
       "      <td>8.933827e+06</td>\n",
       "      <td>2.278700e+07</td>\n",
       "      <td>0.000000e+00</td>\n",
       "      <td>2.969497e+07</td>\n",
       "      <td>...</td>\n",
       "      <td>7.428980e+07</td>\n",
       "      <td>5.148017e+07</td>\n",
       "      <td>0.000000e+00</td>\n",
       "      <td>2.676850e+07</td>\n",
       "      <td>0.000000e+00</td>\n",
       "      <td>0.000000e+00</td>\n",
       "      <td>4.703983e+06</td>\n",
       "      <td>0.000000e+00</td>\n",
       "      <td>5.046605e+07</td>\n",
       "      <td>3.946985e+07</td>\n",
       "    </tr>\n",
       "    <tr>\n",
       "      <th>44</th>\n",
       "      <td>14.000</td>\n",
       "      <td>Puesta a punto</td>\n",
       "      <td>0.000000e+00</td>\n",
       "      <td>0.000000e+00</td>\n",
       "      <td>3.271895e+07</td>\n",
       "      <td>3.517145e+07</td>\n",
       "      <td>8.933827e+06</td>\n",
       "      <td>2.278700e+07</td>\n",
       "      <td>0.000000e+00</td>\n",
       "      <td>2.969497e+07</td>\n",
       "      <td>...</td>\n",
       "      <td>7.428980e+07</td>\n",
       "      <td>5.148017e+07</td>\n",
       "      <td>0.000000e+00</td>\n",
       "      <td>2.676850e+07</td>\n",
       "      <td>0.000000e+00</td>\n",
       "      <td>0.000000e+00</td>\n",
       "      <td>4.703983e+06</td>\n",
       "      <td>0.000000e+00</td>\n",
       "      <td>5.046605e+07</td>\n",
       "      <td>3.946985e+07</td>\n",
       "    </tr>\n",
       "    <tr>\n",
       "      <th>45</th>\n",
       "      <td>7.840</td>\n",
       "      <td>Puesta a punto</td>\n",
       "      <td>0.000000e+00</td>\n",
       "      <td>0.000000e+00</td>\n",
       "      <td>1.832261e+07</td>\n",
       "      <td>1.969601e+07</td>\n",
       "      <td>5.002943e+06</td>\n",
       "      <td>1.276072e+07</td>\n",
       "      <td>0.000000e+00</td>\n",
       "      <td>1.662918e+07</td>\n",
       "      <td>...</td>\n",
       "      <td>4.160229e+07</td>\n",
       "      <td>2.882889e+07</td>\n",
       "      <td>0.000000e+00</td>\n",
       "      <td>1.499036e+07</td>\n",
       "      <td>0.000000e+00</td>\n",
       "      <td>0.000000e+00</td>\n",
       "      <td>2.634231e+06</td>\n",
       "      <td>0.000000e+00</td>\n",
       "      <td>2.826099e+07</td>\n",
       "      <td>2.210311e+07</td>\n",
       "    </tr>\n",
       "    <tr>\n",
       "      <th>46</th>\n",
       "      <td>3.170</td>\n",
       "      <td>Segunda calzada</td>\n",
       "      <td>0.000000e+00</td>\n",
       "      <td>0.000000e+00</td>\n",
       "      <td>7.408506e+06</td>\n",
       "      <td>7.963822e+06</td>\n",
       "      <td>2.022874e+06</td>\n",
       "      <td>5.159627e+06</td>\n",
       "      <td>0.000000e+00</td>\n",
       "      <td>6.723790e+06</td>\n",
       "      <td>...</td>\n",
       "      <td>1.682133e+07</td>\n",
       "      <td>1.165658e+07</td>\n",
       "      <td>0.000000e+00</td>\n",
       "      <td>6.061154e+06</td>\n",
       "      <td>0.000000e+00</td>\n",
       "      <td>0.000000e+00</td>\n",
       "      <td>1.065116e+06</td>\n",
       "      <td>0.000000e+00</td>\n",
       "      <td>1.142696e+07</td>\n",
       "      <td>8.937101e+06</td>\n",
       "    </tr>\n",
       "    <tr>\n",
       "      <th>47</th>\n",
       "      <td>2.000</td>\n",
       "      <td>Segunda calzada</td>\n",
       "      <td>0.000000e+00</td>\n",
       "      <td>0.000000e+00</td>\n",
       "      <td>4.674136e+06</td>\n",
       "      <td>5.024493e+06</td>\n",
       "      <td>1.276261e+06</td>\n",
       "      <td>3.255285e+06</td>\n",
       "      <td>0.000000e+00</td>\n",
       "      <td>4.242139e+06</td>\n",
       "      <td>...</td>\n",
       "      <td>1.061283e+07</td>\n",
       "      <td>7.354310e+06</td>\n",
       "      <td>0.000000e+00</td>\n",
       "      <td>3.824072e+06</td>\n",
       "      <td>0.000000e+00</td>\n",
       "      <td>0.000000e+00</td>\n",
       "      <td>6.719976e+05</td>\n",
       "      <td>0.000000e+00</td>\n",
       "      <td>7.209436e+06</td>\n",
       "      <td>5.638550e+06</td>\n",
       "    </tr>\n",
       "    <tr>\n",
       "      <th>48</th>\n",
       "      <td>2.380</td>\n",
       "      <td>Segunda calzada</td>\n",
       "      <td>0.000000e+00</td>\n",
       "      <td>0.000000e+00</td>\n",
       "      <td>5.562222e+06</td>\n",
       "      <td>5.979147e+06</td>\n",
       "      <td>1.518751e+06</td>\n",
       "      <td>3.873789e+06</td>\n",
       "      <td>0.000000e+00</td>\n",
       "      <td>5.048145e+06</td>\n",
       "      <td>...</td>\n",
       "      <td>1.262927e+07</td>\n",
       "      <td>8.751628e+06</td>\n",
       "      <td>0.000000e+00</td>\n",
       "      <td>4.550646e+06</td>\n",
       "      <td>0.000000e+00</td>\n",
       "      <td>0.000000e+00</td>\n",
       "      <td>7.996771e+05</td>\n",
       "      <td>0.000000e+00</td>\n",
       "      <td>8.579228e+06</td>\n",
       "      <td>6.709874e+06</td>\n",
       "    </tr>\n",
       "    <tr>\n",
       "      <th>49</th>\n",
       "      <td>15.760</td>\n",
       "      <td>Segunda calzada</td>\n",
       "      <td>0.000000e+00</td>\n",
       "      <td>0.000000e+00</td>\n",
       "      <td>3.233665e+07</td>\n",
       "      <td>1.960429e+07</td>\n",
       "      <td>2.085005e+07</td>\n",
       "      <td>0.000000e+00</td>\n",
       "      <td>3.191203e+07</td>\n",
       "      <td>4.275924e+07</td>\n",
       "      <td>...</td>\n",
       "      <td>4.703444e+07</td>\n",
       "      <td>1.502529e+08</td>\n",
       "      <td>0.000000e+00</td>\n",
       "      <td>1.071796e+07</td>\n",
       "      <td>0.000000e+00</td>\n",
       "      <td>0.000000e+00</td>\n",
       "      <td>0.000000e+00</td>\n",
       "      <td>0.000000e+00</td>\n",
       "      <td>7.783432e+07</td>\n",
       "      <td>6.927765e+07</td>\n",
       "    </tr>\n",
       "    <tr>\n",
       "      <th>50</th>\n",
       "      <td>22.200</td>\n",
       "      <td>Segunda calzada</td>\n",
       "      <td>0.000000e+00</td>\n",
       "      <td>0.000000e+00</td>\n",
       "      <td>4.555036e+07</td>\n",
       "      <td>2.761518e+07</td>\n",
       "      <td>2.937000e+07</td>\n",
       "      <td>0.000000e+00</td>\n",
       "      <td>4.495222e+07</td>\n",
       "      <td>6.023192e+07</td>\n",
       "      <td>...</td>\n",
       "      <td>6.625410e+07</td>\n",
       "      <td>2.116507e+08</td>\n",
       "      <td>0.000000e+00</td>\n",
       "      <td>1.509764e+07</td>\n",
       "      <td>0.000000e+00</td>\n",
       "      <td>0.000000e+00</td>\n",
       "      <td>0.000000e+00</td>\n",
       "      <td>0.000000e+00</td>\n",
       "      <td>1.096397e+08</td>\n",
       "      <td>9.758654e+07</td>\n",
       "    </tr>\n",
       "  </tbody>\n",
       "</table>\n",
       "<p>51 rows × 22 columns</p>\n",
       "</div>"
      ],
      "text/plain": [
       "    LONGITUD KM                    ALCANCE  1 - TRANSPORTE  \\\n",
       "0        17.400            Segunda calzada    0.000000e+00   \n",
       "1        13.690                      Nuevo    0.000000e+00   \n",
       "2        10.000            Segunda calzada    0.000000e+00   \n",
       "3        14.300            Segunda calzada    0.000000e+00   \n",
       "4        10.200  operacion y mantenimiento    0.000000e+00   \n",
       "5         8.500  operacion y mantenimiento    0.000000e+00   \n",
       "6        13.500            Segunda calzada    0.000000e+00   \n",
       "7        47.200  operacion y mantenimiento    0.000000e+00   \n",
       "8         7.600            Segunda calzada    0.000000e+00   \n",
       "9         5.000               Mejoramiento    0.000000e+00   \n",
       "10        2.500            Segunda calzada    0.000000e+00   \n",
       "11       17.000            Segunda calzada    0.000000e+00   \n",
       "12       50.900               Mejoramiento    0.000000e+00   \n",
       "13        9.000               Mejoramiento    0.000000e+00   \n",
       "14       21.000               Mejoramiento    0.000000e+00   \n",
       "15       14.000               Mejoramiento    0.000000e+00   \n",
       "16        6.560               Mejoramiento    0.000000e+00   \n",
       "17       18.920               Mejoramiento    0.000000e+00   \n",
       "18       14.520               Mejoramiento    0.000000e+00   \n",
       "19        9.860               Mejoramiento    0.000000e+00   \n",
       "20        8.350             Rehabilitación    0.000000e+00   \n",
       "21        8.600             Rehabilitación    0.000000e+00   \n",
       "22        8.500             Rehabilitación    0.000000e+00   \n",
       "23        5.000               Mejoramiento    0.000000e+00   \n",
       "24       10.060               Mejoramiento    1.747040e+07   \n",
       "25        5.243               Mejoramiento    2.211438e+07   \n",
       "26       15.000             Rehabilitación    0.000000e+00   \n",
       "27        3.120                      Nuevo    0.000000e+00   \n",
       "28        3.370            Segunda calzada    0.000000e+00   \n",
       "29        0.800              Construcción     0.000000e+00   \n",
       "30        3.500            Segunda calzada    0.000000e+00   \n",
       "31        5.170            Segunda calzada    0.000000e+00   \n",
       "32       19.310             Puesta a punto    0.000000e+00   \n",
       "33        8.210             Puesta a punto    0.000000e+00   \n",
       "34        0.910            Segunda calzada    0.000000e+00   \n",
       "35        3.160            Segunda calzada    0.000000e+00   \n",
       "36       12.160             Puesta a punto    0.000000e+00   \n",
       "37       12.160             Puesta a punto    0.000000e+00   \n",
       "38        4.000            Segunda calzada    0.000000e+00   \n",
       "39        2.000            Segunda calzada    0.000000e+00   \n",
       "40        3.150             Rehabilitación    0.000000e+00   \n",
       "41        1.850            Segunda calzada    0.000000e+00   \n",
       "42        1.000             Puesta a punto    0.000000e+00   \n",
       "43       14.000             Puesta a punto    0.000000e+00   \n",
       "44       14.000             Puesta a punto    0.000000e+00   \n",
       "45        7.840             Puesta a punto    0.000000e+00   \n",
       "46        3.170            Segunda calzada    0.000000e+00   \n",
       "47        2.000            Segunda calzada    0.000000e+00   \n",
       "48        2.380            Segunda calzada    0.000000e+00   \n",
       "49       15.760            Segunda calzada    0.000000e+00   \n",
       "50       22.200            Segunda calzada    0.000000e+00   \n",
       "\n",
       "    2.1 - INFORMACIÓN GEOGRÁFICA  2.2 - TRAZADO Y DISEÑO GEOMÉTRICO  \\\n",
       "0                   0.000000e+00                       1.353405e+08   \n",
       "1                   0.000000e+00                       0.000000e+00   \n",
       "2                   1.332293e+06                       6.119988e+06   \n",
       "3                   1.905179e+06                       8.751583e+06   \n",
       "4                   1.358939e+06                       6.242388e+06   \n",
       "5                   1.132449e+06                       5.201990e+06   \n",
       "6                   1.798596e+06                       8.261984e+06   \n",
       "7                   6.288425e+06                       2.888634e+07   \n",
       "8                   1.012543e+06                       4.651191e+06   \n",
       "9                   0.000000e+00                       6.311029e+06   \n",
       "10                  0.000000e+00                       1.814013e+06   \n",
       "11                  0.000000e+00                       8.023420e+07   \n",
       "12                  0.000000e+00                       1.134648e+08   \n",
       "13                  0.000000e+00                       2.006255e+07   \n",
       "14                  0.000000e+00                       4.681261e+07   \n",
       "15                  0.000000e+00                       3.120841e+07   \n",
       "16                  0.000000e+00                       1.462337e+07   \n",
       "17                  0.000000e+00                       4.217593e+07   \n",
       "18                  0.000000e+00                       3.236758e+07   \n",
       "19                  0.000000e+00                       2.197963e+07   \n",
       "20                  3.826976e+07                       2.405652e+07   \n",
       "21                  3.941557e+07                       2.477678e+07   \n",
       "22                  3.895725e+07                       2.448867e+07   \n",
       "23                  0.000000e+00                       5.652966e+06   \n",
       "24                  0.000000e+00                       2.561191e+07   \n",
       "25                  0.000000e+00                       3.623384e+07   \n",
       "26                  0.000000e+00                       3.505602e+07   \n",
       "27                  0.000000e+00                       7.291653e+06   \n",
       "28                  0.000000e+00                       7.875920e+06   \n",
       "29                  0.000000e+00                       1.869655e+06   \n",
       "30                  0.000000e+00                       8.179739e+06   \n",
       "31                  0.000000e+00                       1.208264e+07   \n",
       "32                  0.000000e+00                       4.512879e+07   \n",
       "33                  0.000000e+00                       1.918733e+07   \n",
       "34                  0.000000e+00                       2.126732e+06   \n",
       "35                  0.000000e+00                       7.385135e+06   \n",
       "36                  0.000000e+00                       2.841875e+07   \n",
       "37                  0.000000e+00                       2.841875e+07   \n",
       "38                  0.000000e+00                       9.348273e+06   \n",
       "39                  0.000000e+00                       4.674136e+06   \n",
       "40                  0.000000e+00                       7.361765e+06   \n",
       "41                  0.000000e+00                       4.323576e+06   \n",
       "42                  0.000000e+00                       2.337068e+06   \n",
       "43                  0.000000e+00                       3.271895e+07   \n",
       "44                  0.000000e+00                       3.271895e+07   \n",
       "45                  0.000000e+00                       1.832261e+07   \n",
       "46                  0.000000e+00                       7.408506e+06   \n",
       "47                  0.000000e+00                       4.674136e+06   \n",
       "48                  0.000000e+00                       5.562222e+06   \n",
       "49                  0.000000e+00                       3.233665e+07   \n",
       "50                  0.000000e+00                       4.555036e+07   \n",
       "\n",
       "    2.3 - SEGURIDAD VIAL  2.4 - SISTEMAS INTELIGENTES  3.1 - GEOLOGÍA  \\\n",
       "0           7.287564e+07                 4.013575e+07    1.239362e+08   \n",
       "1           0.000000e+00                 2.443049e+07    6.507553e+07   \n",
       "2           1.619942e+06                 6.750908e+06    0.000000e+00   \n",
       "3           2.316517e+06                 9.653799e+06    0.000000e+00   \n",
       "4           1.652341e+06                 6.885926e+06    0.000000e+00   \n",
       "5           1.376951e+06                 5.738272e+06    0.000000e+00   \n",
       "6           2.186922e+06                 9.113726e+06    0.000000e+00   \n",
       "7           7.646127e+06                 3.186429e+07    0.000000e+00   \n",
       "8           1.231156e+06                 5.130690e+06    0.000000e+00   \n",
       "9           2.105373e+06                 0.000000e+00    1.385817e+07   \n",
       "10          0.000000e+00                 0.000000e+00    0.000000e+00   \n",
       "11          1.158669e+07                 0.000000e+00    4.968315e+07   \n",
       "12          6.109646e+07                 3.344233e+07    0.000000e+00   \n",
       "13          1.080291e+07                 5.913181e+06    0.000000e+00   \n",
       "14          2.520679e+07                 1.379742e+07    0.000000e+00   \n",
       "15          1.680453e+07                 9.198282e+06    0.000000e+00   \n",
       "16          7.874121e+06                 4.310052e+06    0.000000e+00   \n",
       "17          2.271012e+07                 1.243082e+07    0.000000e+00   \n",
       "18          1.742869e+07                 9.539932e+06    0.000000e+00   \n",
       "19          1.183519e+07                 6.478219e+06    0.000000e+00   \n",
       "20          1.877730e+07                 0.000000e+00    4.694332e+07   \n",
       "21          1.933950e+07                 0.000000e+00    4.834880e+07   \n",
       "22          1.911462e+07                 0.000000e+00    4.778661e+07   \n",
       "23          3.043905e+06                 0.000000e+00    4.852288e+06   \n",
       "24          6.537624e+06                 0.000000e+00    2.915567e+07   \n",
       "25          2.414655e+07                 0.000000e+00    4.229544e+07   \n",
       "26          3.768370e+07                 9.571958e+06    2.441464e+07   \n",
       "27          7.838210e+06                 1.990967e+06    5.078245e+06   \n",
       "28          8.466272e+06                 2.150500e+06    5.485156e+06   \n",
       "29          2.009797e+06                 5.105044e+05    1.302114e+06   \n",
       "30          8.792864e+06                 2.233457e+06    5.696749e+06   \n",
       "31          1.298832e+07                 3.299135e+06    8.414912e+06   \n",
       "32          4.851148e+07                 1.232230e+07    3.142978e+07   \n",
       "33          2.062555e+07                 5.239052e+06    1.336295e+07   \n",
       "34          2.286145e+06                 5.806988e+05    1.481155e+06   \n",
       "35          7.938700e+06                 2.016492e+06    5.143351e+06   \n",
       "36          3.054892e+07                 7.759667e+06    1.979213e+07   \n",
       "37          3.054892e+07                 7.759667e+06    1.979213e+07   \n",
       "38          1.004899e+07                 2.552522e+06    6.510570e+06   \n",
       "39          5.024493e+06                 1.276261e+06    3.255285e+06   \n",
       "40          7.913577e+06                 2.010111e+06    5.127074e+06   \n",
       "41          4.647656e+06                 1.180541e+06    3.011139e+06   \n",
       "42          2.512247e+06                 6.381305e+05    1.627643e+06   \n",
       "43          3.517145e+07                 8.933827e+06    2.278700e+07   \n",
       "44          3.517145e+07                 8.933827e+06    2.278700e+07   \n",
       "45          1.969601e+07                 5.002943e+06    1.276072e+07   \n",
       "46          7.963822e+06                 2.022874e+06    5.159627e+06   \n",
       "47          5.024493e+06                 1.276261e+06    3.255285e+06   \n",
       "48          5.979147e+06                 1.518751e+06    3.873789e+06   \n",
       "49          1.960429e+07                 2.085005e+07    0.000000e+00   \n",
       "50          2.761518e+07                 2.937000e+07    0.000000e+00   \n",
       "\n",
       "    3.2 - HIDROGEOLOGÍA    4 - SUELOS  ...  7 - SOCAVACIÓN  8 - ESTRUCTURAS  \\\n",
       "0          0.000000e+00  1.878437e+08  ...    5.275975e+07     6.838215e+08   \n",
       "1          0.000000e+00  1.937793e+08  ...    0.000000e+00     0.000000e+00   \n",
       "2          0.000000e+00  0.000000e+00  ...    1.240165e+07     0.000000e+00   \n",
       "3          0.000000e+00  0.000000e+00  ...    1.773436e+07     0.000000e+00   \n",
       "4          0.000000e+00  0.000000e+00  ...    1.264968e+07     0.000000e+00   \n",
       "5          0.000000e+00  0.000000e+00  ...    1.054140e+07     0.000000e+00   \n",
       "6          0.000000e+00  0.000000e+00  ...    1.674223e+07     0.000000e+00   \n",
       "7          0.000000e+00  0.000000e+00  ...    5.853579e+07     0.000000e+00   \n",
       "8          0.000000e+00  0.000000e+00  ...    9.425254e+06     0.000000e+00   \n",
       "9          0.000000e+00  1.326106e+07  ...    6.289853e+06     6.421774e+05   \n",
       "10         0.000000e+00  1.532367e+07  ...    9.159642e+06     0.000000e+00   \n",
       "11         0.000000e+00  1.308015e+08  ...    4.467656e+07     0.000000e+00   \n",
       "12         0.000000e+00  0.000000e+00  ...    1.640687e+08     3.872771e+06   \n",
       "13         0.000000e+00  0.000000e+00  ...    2.901019e+07     6.847729e+05   \n",
       "14         0.000000e+00  0.000000e+00  ...    6.769043e+07     1.597804e+06   \n",
       "15         0.000000e+00  0.000000e+00  ...    4.512696e+07     1.065202e+06   \n",
       "16         0.000000e+00  0.000000e+00  ...    2.114520e+07     4.991234e+05   \n",
       "17         0.000000e+00  0.000000e+00  ...    6.098586e+07     1.439545e+06   \n",
       "18         0.000000e+00  0.000000e+00  ...    4.680310e+07     1.104767e+06   \n",
       "19         0.000000e+00  0.000000e+00  ...    3.178227e+07     7.502068e+05   \n",
       "20         0.000000e+00  2.844561e+08  ...    6.284023e+07     4.415680e+08   \n",
       "21         0.000000e+00  2.929728e+08  ...    6.472167e+07     4.547886e+08   \n",
       "22         0.000000e+00  2.895661e+08  ...    6.396909e+07     4.495003e+08   \n",
       "23         0.000000e+00  1.220348e+07  ...    1.321083e+07     9.507830e+06   \n",
       "24         0.000000e+00  6.696069e+07  ...    3.596050e+07     2.169088e+08   \n",
       "25         0.000000e+00  4.285348e+07  ...    3.532170e+07     2.649237e+08   \n",
       "26         0.000000e+00  3.181604e+07  ...    7.959621e+07     5.515732e+07   \n",
       "27         0.000000e+00  6.617737e+06  ...    1.655601e+07     1.147272e+07   \n",
       "28         0.000000e+00  7.148004e+06  ...    1.788262e+07     1.239201e+07   \n",
       "29         0.000000e+00  1.696856e+06  ...    4.245131e+06     2.941724e+06   \n",
       "30         0.000000e+00  7.423743e+06  ...    1.857245e+07     1.287004e+07   \n",
       "31         0.000000e+00  1.096593e+07  ...    2.743416e+07     1.901089e+07   \n",
       "32         0.000000e+00  4.095785e+07  ...    1.024669e+08     7.100586e+07   \n",
       "33         0.000000e+00  1.741398e+07  ...    4.356566e+07     3.018944e+07   \n",
       "34         0.000000e+00  1.930173e+06  ...    4.828837e+06     3.346211e+06   \n",
       "35         0.000000e+00  6.702579e+06  ...    1.676827e+07     1.161981e+07   \n",
       "36         0.000000e+00  2.579220e+07  ...    6.452600e+07     4.471420e+07   \n",
       "37         0.000000e+00  2.579220e+07  ...    6.452600e+07     4.471420e+07   \n",
       "38         0.000000e+00  8.484278e+06  ...    2.122566e+07     1.470862e+07   \n",
       "39         0.000000e+00  4.242139e+06  ...    1.061283e+07     7.354310e+06   \n",
       "40         0.000000e+00  6.681369e+06  ...    1.671521e+07     1.158304e+07   \n",
       "41         0.000000e+00  3.923978e+06  ...    9.816866e+06     6.802736e+06   \n",
       "42         0.000000e+00  2.121069e+06  ...    5.306414e+06     3.677155e+06   \n",
       "43         0.000000e+00  2.969497e+07  ...    7.428980e+07     5.148017e+07   \n",
       "44         0.000000e+00  2.969497e+07  ...    7.428980e+07     5.148017e+07   \n",
       "45         0.000000e+00  1.662918e+07  ...    4.160229e+07     2.882889e+07   \n",
       "46         0.000000e+00  6.723790e+06  ...    1.682133e+07     1.165658e+07   \n",
       "47         0.000000e+00  4.242139e+06  ...    1.061283e+07     7.354310e+06   \n",
       "48         0.000000e+00  5.048145e+06  ...    1.262927e+07     8.751628e+06   \n",
       "49         3.191203e+07  4.275924e+07  ...    4.703444e+07     1.502529e+08   \n",
       "50         4.495222e+07  6.023192e+07  ...    6.625410e+07     2.116507e+08   \n",
       "\n",
       "     9 - TÚNELES  10 - URBANISMO Y PAISAJISMO  11 - PREDIAL  \\\n",
       "0   0.000000e+00                 0.000000e+00  0.000000e+00   \n",
       "1   0.000000e+00                 0.000000e+00  0.000000e+00   \n",
       "2   0.000000e+00                 0.000000e+00  0.000000e+00   \n",
       "3   0.000000e+00                 0.000000e+00  0.000000e+00   \n",
       "4   0.000000e+00                 0.000000e+00  0.000000e+00   \n",
       "5   0.000000e+00                 0.000000e+00  0.000000e+00   \n",
       "6   0.000000e+00                 0.000000e+00  0.000000e+00   \n",
       "7   0.000000e+00                 0.000000e+00  0.000000e+00   \n",
       "8   0.000000e+00                 0.000000e+00  0.000000e+00   \n",
       "9   0.000000e+00                 0.000000e+00  0.000000e+00   \n",
       "10  0.000000e+00                 0.000000e+00  0.000000e+00   \n",
       "11  0.000000e+00                 0.000000e+00  0.000000e+00   \n",
       "12  0.000000e+00                 0.000000e+00  0.000000e+00   \n",
       "13  0.000000e+00                 0.000000e+00  0.000000e+00   \n",
       "14  0.000000e+00                 0.000000e+00  0.000000e+00   \n",
       "15  0.000000e+00                 0.000000e+00  0.000000e+00   \n",
       "16  0.000000e+00                 0.000000e+00  0.000000e+00   \n",
       "17  0.000000e+00                 0.000000e+00  0.000000e+00   \n",
       "18  0.000000e+00                 0.000000e+00  0.000000e+00   \n",
       "19  0.000000e+00                 0.000000e+00  0.000000e+00   \n",
       "20  1.379371e+08                 0.000000e+00  1.663940e+07   \n",
       "21  1.420669e+08                 0.000000e+00  1.713759e+07   \n",
       "22  1.404150e+08                 0.000000e+00  1.693831e+07   \n",
       "23  0.000000e+00                 0.000000e+00  0.000000e+00   \n",
       "24  0.000000e+00                 0.000000e+00  0.000000e+00   \n",
       "25  0.000000e+00                 0.000000e+00  1.891486e+07   \n",
       "26  0.000000e+00                 2.868054e+07  0.000000e+00   \n",
       "27  0.000000e+00                 5.965552e+06  0.000000e+00   \n",
       "28  0.000000e+00                 6.443561e+06  0.000000e+00   \n",
       "29  0.000000e+00                 1.529629e+06  0.000000e+00   \n",
       "30  0.000000e+00                 6.692126e+06  0.000000e+00   \n",
       "31  0.000000e+00                 9.885226e+06  0.000000e+00   \n",
       "32  0.000000e+00                 3.692142e+07  0.000000e+00   \n",
       "33  0.000000e+00                 1.569782e+07  0.000000e+00   \n",
       "34  0.000000e+00                 1.739953e+06  0.000000e+00   \n",
       "35  0.000000e+00                 6.042034e+06  0.000000e+00   \n",
       "36  0.000000e+00                 2.325036e+07  0.000000e+00   \n",
       "37  0.000000e+00                 2.325036e+07  0.000000e+00   \n",
       "38  0.000000e+00                 7.648144e+06  0.000000e+00   \n",
       "39  0.000000e+00                 3.824072e+06  0.000000e+00   \n",
       "40  0.000000e+00                 6.022913e+06  0.000000e+00   \n",
       "41  0.000000e+00                 3.537267e+06  0.000000e+00   \n",
       "42  0.000000e+00                 1.912036e+06  0.000000e+00   \n",
       "43  0.000000e+00                 2.676850e+07  0.000000e+00   \n",
       "44  0.000000e+00                 2.676850e+07  0.000000e+00   \n",
       "45  0.000000e+00                 1.499036e+07  0.000000e+00   \n",
       "46  0.000000e+00                 6.061154e+06  0.000000e+00   \n",
       "47  0.000000e+00                 3.824072e+06  0.000000e+00   \n",
       "48  0.000000e+00                 4.550646e+06  0.000000e+00   \n",
       "49  0.000000e+00                 1.071796e+07  0.000000e+00   \n",
       "50  0.000000e+00                 1.509764e+07  0.000000e+00   \n",
       "\n",
       "    12 - IMPACTO AMBIENTAL  13 - CANTIDADES  14 - EVALUACIÓN SOCIOECONÓMICA  \\\n",
       "0             0.000000e+00     1.377238e+07                    0.000000e+00   \n",
       "1             0.000000e+00     0.000000e+00                    0.000000e+00   \n",
       "2             0.000000e+00     0.000000e+00                    0.000000e+00   \n",
       "3             0.000000e+00     0.000000e+00                    0.000000e+00   \n",
       "4             0.000000e+00     0.000000e+00                    0.000000e+00   \n",
       "5             0.000000e+00     0.000000e+00                    0.000000e+00   \n",
       "6             0.000000e+00     0.000000e+00                    0.000000e+00   \n",
       "7             0.000000e+00     0.000000e+00                    0.000000e+00   \n",
       "8             0.000000e+00     0.000000e+00                    0.000000e+00   \n",
       "9             0.000000e+00     0.000000e+00                    0.000000e+00   \n",
       "10            0.000000e+00     0.000000e+00                    0.000000e+00   \n",
       "11            0.000000e+00     0.000000e+00                    0.000000e+00   \n",
       "12            0.000000e+00     0.000000e+00                    0.000000e+00   \n",
       "13            0.000000e+00     0.000000e+00                    0.000000e+00   \n",
       "14            0.000000e+00     0.000000e+00                    0.000000e+00   \n",
       "15            0.000000e+00     0.000000e+00                    0.000000e+00   \n",
       "16            0.000000e+00     0.000000e+00                    0.000000e+00   \n",
       "17            0.000000e+00     0.000000e+00                    0.000000e+00   \n",
       "18            0.000000e+00     0.000000e+00                    0.000000e+00   \n",
       "19            0.000000e+00     0.000000e+00                    0.000000e+00   \n",
       "20            0.000000e+00     0.000000e+00                    0.000000e+00   \n",
       "21            0.000000e+00     0.000000e+00                    0.000000e+00   \n",
       "22            0.000000e+00     0.000000e+00                    0.000000e+00   \n",
       "23            1.653386e+06     6.853860e+06                    0.000000e+00   \n",
       "24            0.000000e+00     3.513204e+06                    0.000000e+00   \n",
       "25            1.188530e+08     1.725694e+07                    1.724510e+07   \n",
       "26            0.000000e+00     5.039982e+06                    0.000000e+00   \n",
       "27            0.000000e+00     1.048316e+06                    0.000000e+00   \n",
       "28            0.000000e+00     1.132316e+06                    0.000000e+00   \n",
       "29            0.000000e+00     2.687990e+05                    0.000000e+00   \n",
       "30            0.000000e+00     1.175996e+06                    0.000000e+00   \n",
       "31            0.000000e+00     1.737114e+06                    0.000000e+00   \n",
       "32            0.000000e+00     6.488137e+06                    0.000000e+00   \n",
       "33            0.000000e+00     2.758550e+06                    0.000000e+00   \n",
       "34            0.000000e+00     3.057589e+05                    0.000000e+00   \n",
       "35            0.000000e+00     1.061756e+06                    0.000000e+00   \n",
       "36            0.000000e+00     4.085745e+06                    0.000000e+00   \n",
       "37            0.000000e+00     4.085745e+06                    0.000000e+00   \n",
       "38            0.000000e+00     1.343995e+06                    0.000000e+00   \n",
       "39            0.000000e+00     6.719976e+05                    0.000000e+00   \n",
       "40            0.000000e+00     1.058396e+06                    0.000000e+00   \n",
       "41            0.000000e+00     6.215978e+05                    0.000000e+00   \n",
       "42            0.000000e+00     3.359988e+05                    0.000000e+00   \n",
       "43            0.000000e+00     4.703983e+06                    0.000000e+00   \n",
       "44            0.000000e+00     4.703983e+06                    0.000000e+00   \n",
       "45            0.000000e+00     2.634231e+06                    0.000000e+00   \n",
       "46            0.000000e+00     1.065116e+06                    0.000000e+00   \n",
       "47            0.000000e+00     6.719976e+05                    0.000000e+00   \n",
       "48            0.000000e+00     7.996771e+05                    0.000000e+00   \n",
       "49            0.000000e+00     0.000000e+00                    0.000000e+00   \n",
       "50            0.000000e+00     0.000000e+00                    0.000000e+00   \n",
       "\n",
       "    15 - OTROS - MANEJO DE REDES  16 - DIRECCIÓN Y COORDINACIÓN  \n",
       "0                   5.027965e+07                   1.714043e+08  \n",
       "1                   0.000000e+00                   1.634289e+08  \n",
       "2                   6.825669e+06                   3.505045e+06  \n",
       "3                   9.760706e+06                   5.012214e+06  \n",
       "4                   6.962182e+06                   3.575146e+06  \n",
       "5                   5.801818e+06                   2.979288e+06  \n",
       "6                   9.214653e+06                   4.731811e+06  \n",
       "7                   3.221716e+07                   1.654381e+07  \n",
       "8                   5.187508e+06                   2.663834e+06  \n",
       "9                   2.901125e+07                   6.672842e+06  \n",
       "10                  0.000000e+00                   1.250960e+07  \n",
       "11                  0.000000e+00                   3.775515e+07  \n",
       "12                  0.000000e+00                   4.132408e+07  \n",
       "13                  0.000000e+00                   7.306812e+06  \n",
       "14                  0.000000e+00                   1.704923e+07  \n",
       "15                  0.000000e+00                   1.136615e+07  \n",
       "16                  0.000000e+00                   5.325854e+06  \n",
       "17                  0.000000e+00                   1.536054e+07  \n",
       "18                  0.000000e+00                   1.178832e+07  \n",
       "19                  0.000000e+00                   8.005018e+06  \n",
       "20                  0.000000e+00                   2.006346e+08  \n",
       "21                  0.000000e+00                   2.066416e+08  \n",
       "22                  0.000000e+00                   2.042388e+08  \n",
       "23                  0.000000e+00                   5.695082e+06  \n",
       "24                  0.000000e+00                   2.202194e+07  \n",
       "25                  0.000000e+00                   7.929303e+07  \n",
       "26                  5.407077e+07                   4.228912e+07  \n",
       "27                  1.124672e+07                   8.796137e+06  \n",
       "28                  1.214790e+07                   9.500956e+06  \n",
       "29                  2.883774e+06                   2.255420e+06  \n",
       "30                  1.261651e+07                   9.867462e+06  \n",
       "31                  1.863639e+07                   1.457565e+07  \n",
       "32                  6.960710e+07                   5.444020e+07  \n",
       "33                  2.959473e+07                   2.314625e+07  \n",
       "34                  3.280293e+06                   2.565540e+06  \n",
       "35                  1.139091e+07                   8.908908e+06  \n",
       "36                  4.383337e+07                   3.428238e+07  \n",
       "37                  4.383337e+07                   3.428238e+07  \n",
       "38                  1.441887e+07                   1.127710e+07  \n",
       "39                  7.209436e+06                   5.638550e+06  \n",
       "40                  1.135486e+07                   8.880716e+06  \n",
       "41                  6.668728e+06                   5.215658e+06  \n",
       "42                  3.604718e+06                   2.819275e+06  \n",
       "43                  5.046605e+07                   3.946985e+07  \n",
       "44                  5.046605e+07                   3.946985e+07  \n",
       "45                  2.826099e+07                   2.210311e+07  \n",
       "46                  1.142696e+07                   8.937101e+06  \n",
       "47                  7.209436e+06                   5.638550e+06  \n",
       "48                  8.579228e+06                   6.709874e+06  \n",
       "49                  7.783432e+07                   6.927765e+07  \n",
       "50                  1.096397e+08                   9.758654e+07  \n",
       "\n",
       "[51 rows x 22 columns]"
      ]
     },
     "execution_count": 19,
     "metadata": {},
     "output_type": "execute_result"
    }
   ],
   "source": [
    "# ['LONGITUD KM', 'ALCANCE', '1 - TRANSPORTE', '2.1 - INFORMACIÓN GEOGRÁFICA', '2.2 - TRAZADO Y DISEÑO GEOMÉTRICO',\n",
    "#        '2.3 - SEGURIDAD VIAL', '2.4 - SISTEMAS INTELIGENTES', '3.1 - GEOLOGÍA','3.2 - HIDROGEOLOGÍA', '4 - SUELOS', '5 - TALUDES', '6 - PAVIMENTO',\n",
    "#        '7 - SOCAVACIÓN', '8 - ESTRUCTURAS', '9 - TÚNELES', '10 - URBANISMO Y PAISAJISMO', '11 - PREDIAL', '12 - IMPACTO AMBIENTAL',\n",
    "#        '13 - CANTIDADES', '14 - EVALUACIÓN SOCIOECONÓMICA', '15 - OTROS - MANEJO DE REDES', '16 - DIRECCIÓN Y COORDINACIÓN']\n",
    "\n",
    "df_items = df_vp[['LONGITUD KM', 'ALCANCE']].join(df_vp.loc[:, '1 - TRANSPORTE':])\n",
    "df_items\n",
    "# remove_outliers(df_items, '2.1 - INFORMACIÓN GEOGRÁFICA')"
   ]
  },
  {
   "cell_type": "code",
   "execution_count": null,
   "id": "1e4429c4",
   "metadata": {},
   "outputs": [
    {
     "name": "stdout",
     "output_type": "stream",
     "text": [
      "PREDICTION ACCURACY SUMMARY\n",
      "Mean Absolute Percentage Error (MAPE): 21.41%\n",
      "Median Absolute Percentage Error: 4.19%\n",
      "Mean Accuracy: 78.59%\n",
      "Predictions within ±20%: 25 / 37 (67.6%)\n"
     ]
    },
    {
     "data": {
      "text/html": [
       "<div>\n",
       "<style scoped>\n",
       "    .dataframe tbody tr th:only-of-type {\n",
       "        vertical-align: middle;\n",
       "    }\n",
       "\n",
       "    .dataframe tbody tr th {\n",
       "        vertical-align: top;\n",
       "    }\n",
       "\n",
       "    .dataframe thead th {\n",
       "        text-align: right;\n",
       "    }\n",
       "</style>\n",
       "<table border=\"1\" class=\"dataframe\">\n",
       "  <thead>\n",
       "    <tr style=\"text-align: right;\">\n",
       "      <th></th>\n",
       "      <th>LONGITUD KM</th>\n",
       "      <th>ALCANCE</th>\n",
       "      <th>ACTUAL</th>\n",
       "      <th>PREDICTED</th>\n",
       "      <th>APE (%)</th>\n",
       "      <th>ACCURACY (%)</th>\n",
       "      <th>WITHIN_20%</th>\n",
       "    </tr>\n",
       "  </thead>\n",
       "  <tbody>\n",
       "    <tr>\n",
       "      <th>19</th>\n",
       "      <td>9.86</td>\n",
       "      <td>Mejoramiento</td>\n",
       "      <td>4.078240e+06</td>\n",
       "      <td>8.088686e+06</td>\n",
       "      <td>98.337683</td>\n",
       "      <td>1.662317</td>\n",
       "      <td>False</td>\n",
       "    </tr>\n",
       "    <tr>\n",
       "      <th>9</th>\n",
       "      <td>5.00</td>\n",
       "      <td>Mejoramiento</td>\n",
       "      <td>2.573660e+07</td>\n",
       "      <td>2.072171e+06</td>\n",
       "      <td>91.948543</td>\n",
       "      <td>8.051457</td>\n",
       "      <td>False</td>\n",
       "    </tr>\n",
       "    <tr>\n",
       "      <th>24</th>\n",
       "      <td>10.06</td>\n",
       "      <td>Mejoramiento</td>\n",
       "      <td>4.427665e+07</td>\n",
       "      <td>8.204297e+06</td>\n",
       "      <td>81.470375</td>\n",
       "      <td>18.529625</td>\n",
       "      <td>False</td>\n",
       "    </tr>\n",
       "    <tr>\n",
       "      <th>23</th>\n",
       "      <td>5.00</td>\n",
       "      <td>Mejoramiento</td>\n",
       "      <td>6.931841e+06</td>\n",
       "      <td>2.072171e+06</td>\n",
       "      <td>70.106484</td>\n",
       "      <td>29.893516</td>\n",
       "      <td>False</td>\n",
       "    </tr>\n",
       "    <tr>\n",
       "      <th>20</th>\n",
       "      <td>8.35</td>\n",
       "      <td>Rehabilitación</td>\n",
       "      <td>7.111403e+07</td>\n",
       "      <td>2.171703e+07</td>\n",
       "      <td>69.461685</td>\n",
       "      <td>30.538315</td>\n",
       "      <td>False</td>\n",
       "    </tr>\n",
       "    <tr>\n",
       "      <th>18</th>\n",
       "      <td>14.52</td>\n",
       "      <td>Mejoramiento</td>\n",
       "      <td>6.005683e+06</td>\n",
       "      <td>9.764899e+06</td>\n",
       "      <td>62.594305</td>\n",
       "      <td>37.405695</td>\n",
       "      <td>False</td>\n",
       "    </tr>\n",
       "    <tr>\n",
       "      <th>16</th>\n",
       "      <td>6.56</td>\n",
       "      <td>Mejoramiento</td>\n",
       "      <td>2.713312e+06</td>\n",
       "      <td>4.390557e+06</td>\n",
       "      <td>61.815448</td>\n",
       "      <td>38.184552</td>\n",
       "      <td>False</td>\n",
       "    </tr>\n",
       "    <tr>\n",
       "      <th>29</th>\n",
       "      <td>0.80</td>\n",
       "      <td>Construcción</td>\n",
       "      <td>2.032312e+06</td>\n",
       "      <td>9.285025e+05</td>\n",
       "      <td>54.313000</td>\n",
       "      <td>45.687000</td>\n",
       "      <td>False</td>\n",
       "    </tr>\n",
       "    <tr>\n",
       "      <th>32</th>\n",
       "      <td>19.31</td>\n",
       "      <td>Puesta a punto</td>\n",
       "      <td>4.905494e+07</td>\n",
       "      <td>3.358585e+07</td>\n",
       "      <td>31.534214</td>\n",
       "      <td>68.465786</td>\n",
       "      <td>False</td>\n",
       "    </tr>\n",
       "    <tr>\n",
       "      <th>49</th>\n",
       "      <td>15.76</td>\n",
       "      <td>Segunda calzada</td>\n",
       "      <td>5.242439e+07</td>\n",
       "      <td>3.733342e+07</td>\n",
       "      <td>28.786173</td>\n",
       "      <td>71.213827</td>\n",
       "      <td>False</td>\n",
       "    </tr>\n",
       "    <tr>\n",
       "      <th>13</th>\n",
       "      <td>9.00</td>\n",
       "      <td>Mejoramiento</td>\n",
       "      <td>3.722531e+06</td>\n",
       "      <td>4.745967e+06</td>\n",
       "      <td>27.493006</td>\n",
       "      <td>72.506994</td>\n",
       "      <td>False</td>\n",
       "    </tr>\n",
       "    <tr>\n",
       "      <th>27</th>\n",
       "      <td>3.12</td>\n",
       "      <td>Nuevo</td>\n",
       "      <td>7.926018e+06</td>\n",
       "      <td>6.079837e+06</td>\n",
       "      <td>23.292663</td>\n",
       "      <td>76.707337</td>\n",
       "      <td>False</td>\n",
       "    </tr>\n",
       "    <tr>\n",
       "      <th>34</th>\n",
       "      <td>0.91</td>\n",
       "      <td>Segunda calzada</td>\n",
       "      <td>2.311755e+06</td>\n",
       "      <td>2.771972e+06</td>\n",
       "      <td>19.907678</td>\n",
       "      <td>80.092322</td>\n",
       "      <td>True</td>\n",
       "    </tr>\n",
       "    <tr>\n",
       "      <th>40</th>\n",
       "      <td>3.15</td>\n",
       "      <td>Rehabilitación</td>\n",
       "      <td>8.002230e+06</td>\n",
       "      <td>9.050434e+06</td>\n",
       "      <td>13.098900</td>\n",
       "      <td>86.901100</td>\n",
       "      <td>True</td>\n",
       "    </tr>\n",
       "    <tr>\n",
       "      <th>11</th>\n",
       "      <td>17.00</td>\n",
       "      <td>Segunda calzada</td>\n",
       "      <td>3.548796e+07</td>\n",
       "      <td>3.958139e+07</td>\n",
       "      <td>11.534675</td>\n",
       "      <td>88.465325</td>\n",
       "      <td>True</td>\n",
       "    </tr>\n",
       "    <tr>\n",
       "      <th>14</th>\n",
       "      <td>21.00</td>\n",
       "      <td>Mejoramiento</td>\n",
       "      <td>8.685906e+06</td>\n",
       "      <td>7.995015e+06</td>\n",
       "      <td>7.954158</td>\n",
       "      <td>92.045842</td>\n",
       "      <td>True</td>\n",
       "    </tr>\n",
       "    <tr>\n",
       "      <th>42</th>\n",
       "      <td>1.00</td>\n",
       "      <td>Puesta a punto</td>\n",
       "      <td>2.540390e+06</td>\n",
       "      <td>2.720381e+06</td>\n",
       "      <td>7.085141</td>\n",
       "      <td>92.914859</td>\n",
       "      <td>True</td>\n",
       "    </tr>\n",
       "    <tr>\n",
       "      <th>26</th>\n",
       "      <td>15.00</td>\n",
       "      <td>Rehabilitación</td>\n",
       "      <td>3.810586e+07</td>\n",
       "      <td>3.550881e+07</td>\n",
       "      <td>6.815337</td>\n",
       "      <td>93.184663</td>\n",
       "      <td>True</td>\n",
       "    </tr>\n",
       "    <tr>\n",
       "      <th>45</th>\n",
       "      <td>7.84</td>\n",
       "      <td>Puesta a punto</td>\n",
       "      <td>1.991666e+07</td>\n",
       "      <td>2.075081e+07</td>\n",
       "      <td>4.188175</td>\n",
       "      <td>95.811825</td>\n",
       "      <td>True</td>\n",
       "    </tr>\n",
       "    <tr>\n",
       "      <th>10</th>\n",
       "      <td>2.50</td>\n",
       "      <td>Segunda calzada</td>\n",
       "      <td>6.567226e+06</td>\n",
       "      <td>6.316020e+06</td>\n",
       "      <td>3.825159</td>\n",
       "      <td>96.174841</td>\n",
       "      <td>True</td>\n",
       "    </tr>\n",
       "    <tr>\n",
       "      <th>17</th>\n",
       "      <td>18.92</td>\n",
       "      <td>Mejoramiento</td>\n",
       "      <td>7.825588e+06</td>\n",
       "      <td>7.663043e+06</td>\n",
       "      <td>2.077089</td>\n",
       "      <td>97.922911</td>\n",
       "      <td>True</td>\n",
       "    </tr>\n",
       "    <tr>\n",
       "      <th>41</th>\n",
       "      <td>1.85</td>\n",
       "      <td>Segunda calzada</td>\n",
       "      <td>4.699722e+06</td>\n",
       "      <td>4.785530e+06</td>\n",
       "      <td>1.825814</td>\n",
       "      <td>98.174186</td>\n",
       "      <td>True</td>\n",
       "    </tr>\n",
       "    <tr>\n",
       "      <th>33</th>\n",
       "      <td>8.21</td>\n",
       "      <td>Puesta a punto</td>\n",
       "      <td>2.085661e+07</td>\n",
       "      <td>2.047970e+07</td>\n",
       "      <td>1.807105</td>\n",
       "      <td>98.192895</td>\n",
       "      <td>True</td>\n",
       "    </tr>\n",
       "    <tr>\n",
       "      <th>15</th>\n",
       "      <td>14.00</td>\n",
       "      <td>Mejoramiento</td>\n",
       "      <td>5.790604e+06</td>\n",
       "      <td>5.851069e+06</td>\n",
       "      <td>1.044192</td>\n",
       "      <td>98.955808</td>\n",
       "      <td>True</td>\n",
       "    </tr>\n",
       "    <tr>\n",
       "      <th>37</th>\n",
       "      <td>12.16</td>\n",
       "      <td>Puesta a punto</td>\n",
       "      <td>3.089115e+07</td>\n",
       "      <td>3.056860e+07</td>\n",
       "      <td>1.044156</td>\n",
       "      <td>98.955844</td>\n",
       "      <td>True</td>\n",
       "    </tr>\n",
       "    <tr>\n",
       "      <th>36</th>\n",
       "      <td>12.16</td>\n",
       "      <td>Puesta a punto</td>\n",
       "      <td>3.089115e+07</td>\n",
       "      <td>3.120951e+07</td>\n",
       "      <td>1.030595</td>\n",
       "      <td>98.969405</td>\n",
       "      <td>True</td>\n",
       "    </tr>\n",
       "    <tr>\n",
       "      <th>46</th>\n",
       "      <td>3.17</td>\n",
       "      <td>Segunda calzada</td>\n",
       "      <td>8.053038e+06</td>\n",
       "      <td>7.971740e+06</td>\n",
       "      <td>1.009530</td>\n",
       "      <td>98.990470</td>\n",
       "      <td>True</td>\n",
       "    </tr>\n",
       "    <tr>\n",
       "      <th>35</th>\n",
       "      <td>3.16</td>\n",
       "      <td>Segunda calzada</td>\n",
       "      <td>8.027634e+06</td>\n",
       "      <td>7.947119e+06</td>\n",
       "      <td>1.002970</td>\n",
       "      <td>98.997030</td>\n",
       "      <td>True</td>\n",
       "    </tr>\n",
       "    <tr>\n",
       "      <th>44</th>\n",
       "      <td>14.00</td>\n",
       "      <td>Puesta a punto</td>\n",
       "      <td>3.556547e+07</td>\n",
       "      <td>3.591597e+07</td>\n",
       "      <td>0.985513</td>\n",
       "      <td>99.014487</td>\n",
       "      <td>True</td>\n",
       "    </tr>\n",
       "    <tr>\n",
       "      <th>43</th>\n",
       "      <td>14.00</td>\n",
       "      <td>Puesta a punto</td>\n",
       "      <td>3.556547e+07</td>\n",
       "      <td>3.590662e+07</td>\n",
       "      <td>0.959242</td>\n",
       "      <td>99.040758</td>\n",
       "      <td>True</td>\n",
       "    </tr>\n",
       "    <tr>\n",
       "      <th>30</th>\n",
       "      <td>3.50</td>\n",
       "      <td>Segunda calzada</td>\n",
       "      <td>8.891366e+06</td>\n",
       "      <td>8.808835e+06</td>\n",
       "      <td>0.928215</td>\n",
       "      <td>99.071785</td>\n",
       "      <td>True</td>\n",
       "    </tr>\n",
       "    <tr>\n",
       "      <th>38</th>\n",
       "      <td>4.00</td>\n",
       "      <td>Segunda calzada</td>\n",
       "      <td>1.016156e+07</td>\n",
       "      <td>1.008666e+07</td>\n",
       "      <td>0.737103</td>\n",
       "      <td>99.262897</td>\n",
       "      <td>True</td>\n",
       "    </tr>\n",
       "    <tr>\n",
       "      <th>28</th>\n",
       "      <td>3.37</td>\n",
       "      <td>Segunda calzada</td>\n",
       "      <td>8.561116e+06</td>\n",
       "      <td>8.618394e+06</td>\n",
       "      <td>0.669054</td>\n",
       "      <td>99.330946</td>\n",
       "      <td>True</td>\n",
       "    </tr>\n",
       "    <tr>\n",
       "      <th>48</th>\n",
       "      <td>2.38</td>\n",
       "      <td>Segunda calzada</td>\n",
       "      <td>6.046129e+06</td>\n",
       "      <td>6.011728e+06</td>\n",
       "      <td>0.568975</td>\n",
       "      <td>99.431025</td>\n",
       "      <td>True</td>\n",
       "    </tr>\n",
       "    <tr>\n",
       "      <th>39</th>\n",
       "      <td>2.00</td>\n",
       "      <td>Segunda calzada</td>\n",
       "      <td>5.080781e+06</td>\n",
       "      <td>5.100838e+06</td>\n",
       "      <td>0.394773</td>\n",
       "      <td>99.605227</td>\n",
       "      <td>True</td>\n",
       "    </tr>\n",
       "    <tr>\n",
       "      <th>47</th>\n",
       "      <td>2.00</td>\n",
       "      <td>Segunda calzada</td>\n",
       "      <td>5.080781e+06</td>\n",
       "      <td>5.098434e+06</td>\n",
       "      <td>0.347457</td>\n",
       "      <td>99.652543</td>\n",
       "      <td>True</td>\n",
       "    </tr>\n",
       "    <tr>\n",
       "      <th>31</th>\n",
       "      <td>5.17</td>\n",
       "      <td>Segunda calzada</td>\n",
       "      <td>1.313382e+07</td>\n",
       "      <td>1.314253e+07</td>\n",
       "      <td>0.066360</td>\n",
       "      <td>99.933640</td>\n",
       "      <td>True</td>\n",
       "    </tr>\n",
       "  </tbody>\n",
       "</table>\n",
       "</div>"
      ],
      "text/plain": [
       "    LONGITUD KM          ALCANCE        ACTUAL     PREDICTED    APE (%)  \\\n",
       "19         9.86     Mejoramiento  4.078240e+06  8.088686e+06  98.337683   \n",
       "9          5.00     Mejoramiento  2.573660e+07  2.072171e+06  91.948543   \n",
       "24        10.06     Mejoramiento  4.427665e+07  8.204297e+06  81.470375   \n",
       "23         5.00     Mejoramiento  6.931841e+06  2.072171e+06  70.106484   \n",
       "20         8.35   Rehabilitación  7.111403e+07  2.171703e+07  69.461685   \n",
       "18        14.52     Mejoramiento  6.005683e+06  9.764899e+06  62.594305   \n",
       "16         6.56     Mejoramiento  2.713312e+06  4.390557e+06  61.815448   \n",
       "29         0.80    Construcción   2.032312e+06  9.285025e+05  54.313000   \n",
       "32        19.31   Puesta a punto  4.905494e+07  3.358585e+07  31.534214   \n",
       "49        15.76  Segunda calzada  5.242439e+07  3.733342e+07  28.786173   \n",
       "13         9.00     Mejoramiento  3.722531e+06  4.745967e+06  27.493006   \n",
       "27         3.12            Nuevo  7.926018e+06  6.079837e+06  23.292663   \n",
       "34         0.91  Segunda calzada  2.311755e+06  2.771972e+06  19.907678   \n",
       "40         3.15   Rehabilitación  8.002230e+06  9.050434e+06  13.098900   \n",
       "11        17.00  Segunda calzada  3.548796e+07  3.958139e+07  11.534675   \n",
       "14        21.00     Mejoramiento  8.685906e+06  7.995015e+06   7.954158   \n",
       "42         1.00   Puesta a punto  2.540390e+06  2.720381e+06   7.085141   \n",
       "26        15.00   Rehabilitación  3.810586e+07  3.550881e+07   6.815337   \n",
       "45         7.84   Puesta a punto  1.991666e+07  2.075081e+07   4.188175   \n",
       "10         2.50  Segunda calzada  6.567226e+06  6.316020e+06   3.825159   \n",
       "17        18.92     Mejoramiento  7.825588e+06  7.663043e+06   2.077089   \n",
       "41         1.85  Segunda calzada  4.699722e+06  4.785530e+06   1.825814   \n",
       "33         8.21   Puesta a punto  2.085661e+07  2.047970e+07   1.807105   \n",
       "15        14.00     Mejoramiento  5.790604e+06  5.851069e+06   1.044192   \n",
       "37        12.16   Puesta a punto  3.089115e+07  3.056860e+07   1.044156   \n",
       "36        12.16   Puesta a punto  3.089115e+07  3.120951e+07   1.030595   \n",
       "46         3.17  Segunda calzada  8.053038e+06  7.971740e+06   1.009530   \n",
       "35         3.16  Segunda calzada  8.027634e+06  7.947119e+06   1.002970   \n",
       "44        14.00   Puesta a punto  3.556547e+07  3.591597e+07   0.985513   \n",
       "43        14.00   Puesta a punto  3.556547e+07  3.590662e+07   0.959242   \n",
       "30         3.50  Segunda calzada  8.891366e+06  8.808835e+06   0.928215   \n",
       "38         4.00  Segunda calzada  1.016156e+07  1.008666e+07   0.737103   \n",
       "28         3.37  Segunda calzada  8.561116e+06  8.618394e+06   0.669054   \n",
       "48         2.38  Segunda calzada  6.046129e+06  6.011728e+06   0.568975   \n",
       "39         2.00  Segunda calzada  5.080781e+06  5.100838e+06   0.394773   \n",
       "47         2.00  Segunda calzada  5.080781e+06  5.098434e+06   0.347457   \n",
       "31         5.17  Segunda calzada  1.313382e+07  1.314253e+07   0.066360   \n",
       "\n",
       "    ACCURACY (%)  WITHIN_20%  \n",
       "19      1.662317       False  \n",
       "9       8.051457       False  \n",
       "24     18.529625       False  \n",
       "23     29.893516       False  \n",
       "20     30.538315       False  \n",
       "18     37.405695       False  \n",
       "16     38.184552       False  \n",
       "29     45.687000       False  \n",
       "32     68.465786       False  \n",
       "49     71.213827       False  \n",
       "13     72.506994       False  \n",
       "27     76.707337       False  \n",
       "34     80.092322        True  \n",
       "40     86.901100        True  \n",
       "11     88.465325        True  \n",
       "14     92.045842        True  \n",
       "42     92.914859        True  \n",
       "26     93.184663        True  \n",
       "45     95.811825        True  \n",
       "10     96.174841        True  \n",
       "17     97.922911        True  \n",
       "41     98.174186        True  \n",
       "33     98.192895        True  \n",
       "15     98.955808        True  \n",
       "37     98.955844        True  \n",
       "36     98.969405        True  \n",
       "46     98.990470        True  \n",
       "35     98.997030        True  \n",
       "44     99.014487        True  \n",
       "43     99.040758        True  \n",
       "30     99.071785        True  \n",
       "38     99.262897        True  \n",
       "28     99.330946        True  \n",
       "48     99.431025        True  \n",
       "39     99.605227        True  \n",
       "47     99.652543        True  \n",
       "31     99.933640        True  "
      ]
     },
     "execution_count": 13,
     "metadata": {},
     "output_type": "execute_result"
    }
   ],
   "source": [
    "# Extract the last target's results (16 - DIRECCIÓN Y COORDINACIÓN)\n",
    "last_target = '16 - DIRECCIÓN Y COORDINACIÓN'\n",
    "X = results[last_target]['X']\n",
    "y = results[last_target]['y']\n",
    "y_predicted = results[last_target]['y_predicted']\n",
    "\n",
    "X['ACTUAL'] = y\n",
    "X['PREDICTED'] = y_predicted\n",
    "output = X.drop(columns=['LONGITUD KM LOG'])\n",
    "\n",
    "# Calculate various accuracy metrics for each prediction\n",
    "output['APE (%)'] = (abs(X['ACTUAL'] - X['PREDICTED']) / X['ACTUAL'].replace(0, np.nan)) * 100  # Absolute Percentage Error\n",
    "output['ACCURACY (%)'] = 100 - output['APE (%)']  # Accuracy as percentage\n",
    "\n",
    "# Add quality indicators\n",
    "output['WITHIN_20%'] = output['APE (%)'] <= 20  # Flag for acceptable predictions\n",
    "\n",
    "# Display summary statistics\n",
    "print(\"PREDICTION ACCURACY SUMMARY\")\n",
    "print(f\"Mean Absolute Percentage Error (MAPE): {output['APE (%)'].mean():.2f}%\")\n",
    "print(f\"Median Absolute Percentage Error: {output['APE (%)'].median():.2f}%\")\n",
    "print(f\"Mean Accuracy: {output['ACCURACY (%)'].mean():.2f}%\")\n",
    "print(f\"Predictions within ±20%: {output['WITHIN_20%'].sum()} / {len(output)} ({output['WITHIN_20%'].sum()/len(output)*100:.1f}%)\")\n",
    "\n",
    "# Sort by absolute percentage error (worst predictions first) and display\n",
    "output.sort_values(by='APE (%)', ascending=False)"
   ]
  }
 ],
 "metadata": {
  "kernelspec": {
   "display_name": "practicum",
   "language": "python",
   "name": "python3"
  },
  "language_info": {
   "codemirror_mode": {
    "name": "ipython",
    "version": 3
   },
   "file_extension": ".py",
   "mimetype": "text/x-python",
   "name": "python",
   "nbconvert_exporter": "python",
   "pygments_lexer": "ipython3",
   "version": "3.13.5"
  }
 },
 "nbformat": 4,
 "nbformat_minor": 5
}
