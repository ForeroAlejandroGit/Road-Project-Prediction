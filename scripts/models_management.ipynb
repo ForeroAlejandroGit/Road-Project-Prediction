{
 "cells": [
  {
   "cell_type": "code",
   "execution_count": null,
   "id": "1795d98f",
   "metadata": {},
   "outputs": [
    {
     "name": "stdout",
     "output_type": "stream",
     "text": [
      "The autoreload extension is already loaded. To reload it, use:\n",
      "  %reload_ext autoreload\n"
     ]
    }
   ],
   "source": [
    "\n",
    "import pandas as pd\n",
    "import os\n",
    "import sys\n",
    "\n",
    "# Add project root to path (for Jupyter notebooks)\n",
    "# Get the current directory and navigate to project root\n",
    "current_dir = os.getcwd()\n",
    "project_root = os.path.dirname(current_dir)\n",
    "sys.path.insert(0, project_root)\n",
    "\n",
    "from src.config import Config\n",
    "import src.eda as eda\n",
    "import src.present_value as present_value\n",
    "from src.ml_linear_dependency import train_and_calculate_metrics\n",
    "from src.ml_geotecnia import train_geotecnia_model, prepare_geotecnia_data\n",
    "from src.ml_bridges_structures import train_brindges_structures_model\n",
    "from src.ml_tunnels import train_tunnel_model\n",
    "\n",
    "%load_ext autoreload\n",
    "%autoreload 2\n",
    "%reload_ext autoreload\n"
   ]
  },
  {
   "cell_type": "code",
   "execution_count": 71,
   "id": "dec9ca66",
   "metadata": {},
   "outputs": [
    {
     "name": "stderr",
     "output_type": "stream",
     "text": [
      "c:\\Code\\Road-Project-Prediction\\src\\eda.py:292: FutureWarning: Downcasting object dtype arrays on .fillna, .ffill, .bfill is deprecated and will change in a future version. Call result.infer_objects(copy=False) instead. To opt-in to the future behavior, set `pd.set_option('future.no_silent_downcasting', True)`\n",
      "  w = (df[cols] / totals).fillna(0)\n"
     ]
    }
   ],
   "source": [
    "## FROM DATABASE\n",
    "pv = present_value.PresentValue()\n",
    "anual_increment = pv.fetch_incremento_from_database()\n",
    "\n",
    "fase = \"III\"\n",
    "preproccesing = eda.EDA()\n",
    "df_raw = preproccesing.assemble_projects_from_database(fase)\n",
    "df_vp = preproccesing.create_dataset(pv.present_value_costs, fase=fase)"
   ]
  },
  {
   "cell_type": "code",
   "execution_count": 72,
   "id": "0537b6e6",
   "metadata": {},
   "outputs": [
    {
     "name": "stdout",
     "output_type": "stream",
     "text": [
      "1 - TRANSPORTE\n",
      "  → Warning: Only 2 samples. Skipping outlier detection.\n",
      "{'R2': -3.0, 'MAE': 4643975.471, 'RMSLE': 0.236, 'MAPE%': 23.791}\n",
      "2.1 - INFORMACIÓN GEOGRÁFICA\n",
      "  → Removed 1/10 outliers (10.0%) using ensemble\n",
      "{'R2': 1.0, 'MAE': 199650.365, 'RMSLE': 0.096, 'MAPE%': 5.977}\n",
      "2.2 - TRAZADO Y DISEÑO GEOMÉTRICO\n",
      "  → Removed 5/50 outliers (10.0%) using ensemble\n",
      "{'R2': 0.826, 'MAE': 2270169.486, 'RMSLE': 0.384, 'MAPE%': 22.302}\n",
      "2.3 - SEGURIDAD VIAL\n",
      "  → Removed 4/49 outliers (8.2%) using ensemble\n",
      "{'R2': 0.792, 'MAE': 2511792.659, 'RMSLE': 0.494, 'MAPE%': 35.996}\n",
      "2.4 - SISTEMAS INTELIGENTES\n",
      "  → Removed 5/42 outliers (11.9%) using ensemble\n",
      "{'R2': 0.851, 'MAE': 409025.912, 'RMSLE': 0.127, 'MAPE%': 4.59}\n",
      "5 - TALUDES\n",
      "  → Removed 7/44 outliers (15.9%) using ensemble\n",
      "{'R2': 0.55, 'MAE': 4610935.437, 'RMSLE': 0.617, 'MAPE%': 21.407}\n",
      "6 - PAVIMENTO\n",
      "  → Removed 4/34 outliers (11.8%) using ensemble\n",
      "{'R2': 0.241, 'MAE': 4531609.341, 'RMSLE': 0.652, 'MAPE%': 30.96}\n",
      "7 - SOCAVACIÓN\n",
      "  → Removed 5/50 outliers (10.0%) using ensemble\n",
      "{'R2': 0.919, 'MAE': 3759520.045, 'RMSLE': 0.289, 'MAPE%': 19.058}\n",
      "11 - PREDIAL\n",
      "  → Warning: Only 4 samples. Skipping outlier detection.\n",
      "{'R2': -0.404, 'MAE': 710990.123, 'RMSLE': 0.059, 'MAPE%': 3.892}\n",
      "12 - IMPACTO AMBIENTAL\n",
      "  → Warning: Only 2 samples. Skipping outlier detection.\n",
      "{'R2': -3.0, 'MAE': 117199626.381, 'RMSLE': 4.275, 'MAPE%': 3593.536}\n",
      "15 - OTROS - MANEJO DE REDES\n",
      "  → Removed 4/34 outliers (11.8%) using ensemble\n",
      "{'R2': 0.762, 'MAE': 3693765.648, 'RMSLE': 0.384, 'MAPE%': 20.865}\n"
     ]
    }
   ],
   "source": [
    "predictors = ['LONGITUD KM']\n",
    "hue_name = 'ALCANCE'\n",
    "\n",
    "targets = []\n",
    "\n",
    "if fase == 'II':\n",
    "    targets = ['1 - TRANSPORTE', '2 - TRAZADO Y TOPOGRAFIA (incluye subcomponentes)', \n",
    "                      '3 - GEOLOGÍA (incluye subcomponentes)', '8 - PAVIMENTO', '9 - PREDIAL', '10 - AMBIENTAL Y SOCIAL',\n",
    "                      '11 - COSTOS Y PRESUPUESTOS', '12 - SOCIOECONÓMICA', '13 - DIRECCIÓN Y COORDINACIÓN']\n",
    "elif fase == 'III': \n",
    "    targets = ['1 - TRANSPORTE', '2.1 - INFORMACIÓN GEOGRÁFICA','2.2 - TRAZADO Y DISEÑO GEOMÉTRICO', \n",
    "                      '2.3 - SEGURIDAD VIAL', '2.4 - SISTEMAS INTELIGENTES', '5 - TALUDES', '6 - PAVIMENTO',\n",
    "                      '7 - SOCAVACIÓN', '11 - PREDIAL', '12 - IMPACTO AMBIENTAL', '15 - OTROS - MANEJO DE REDES']\n",
    "\n",
    "df = df_vp[['LONGITUD KM', 'ALCANCE']].join(df_vp.loc[:, '1 - TRANSPORTE':'16 - DIRECCIÓN Y COORDINACIÓN'])\n",
    "results = train_and_calculate_metrics(df, targets, predictors, hue_name)    "
   ]
  },
  {
   "cell_type": "code",
   "execution_count": 73,
   "id": "7ff2989f",
   "metadata": {},
   "outputs": [
    {
     "name": "stdout",
     "output_type": "stream",
     "text": [
      "16 - DIRECCIÓN Y COORDINACIÓN\n",
      "  → Removed 7/51 outliers (13.7%) using ensemble\n",
      "{'R2': 0.95, 'MAE': 1516804.865, 'RMSLE': 0.137, 'MAPE%': 6.552}\n"
     ]
    }
   ],
   "source": [
    "predictors = [\"2.2 - TRAZADO Y DISEÑO GEOMÉTRICO\", \"5 - TALUDES\", \"7 - SOCAVACIÓN\"]\n",
    "targets = ['16 - DIRECCIÓN Y COORDINACIÓN']\n",
    "hue_name = ''\n",
    "results['16 - DIRECCIÓN Y COORDINACIÓN'] = train_and_calculate_metrics(df, targets, predictors)['16 - DIRECCIÓN Y COORDINACIÓN']  "
   ]
  },
  {
   "cell_type": "code",
   "execution_count": 74,
   "id": "3e7a0e8c",
   "metadata": {},
   "outputs": [
    {
     "name": "stdout",
     "output_type": "stream",
     "text": [
      "  → Warning: Only 6 samples. Skipping outlier detection.\n"
     ]
    }
   ],
   "source": [
    "df = prepare_geotecnia_data(df_vp)\n",
    "predictors = [\"2.2 - TRAZADO Y DISEÑO GEOMÉTRICO\", \"5 - TALUDES\", \"7 - SOCAVACIÓN\"]\n",
    "target = \"3 - GEOLOGÍA\"\n",
    "results[target] = train_geotecnia_model(df, predictors, target)\n"
   ]
  },
  {
   "cell_type": "code",
   "execution_count": 75,
   "id": "149e3494",
   "metadata": {},
   "outputs": [
    {
     "name": "stdout",
     "output_type": "stream",
     "text": [
      "  → Warning: Only 7 samples. Skipping outlier detection.\n",
      "{'Model': 'Model', 'R²': 0.931, 'MAE': 58727741.626, 'RMSE': 75610324.783, 'MAPE (%)': 39.004, 'Median AE': 35176571.996, 'Max Error': 132427513.227}\n"
     ]
    }
   ],
   "source": [
    "predictors = ['PUENTES VEHICULARES M2']\n",
    "target= '4 - SUELOS'\n",
    "results[target] = train_brindges_structures_model(df_vp, target, predictors, exclude_codes=['0654801'], use_log_transform=True)\n"
   ]
  },
  {
   "cell_type": "code",
   "execution_count": 76,
   "id": "3ffaf0de",
   "metadata": {},
   "outputs": [
    {
     "name": "stdout",
     "output_type": "stream",
     "text": [
      "  → Warning: Only 6 samples. Skipping outlier detection.\n",
      "{'Model': 'Model', 'R²': 0.911, 'MAE': 106072066.135, 'RMSE': 124728195.953, 'MAPE (%)': 36.056, 'Median AE': 86741275.295, 'Max Error': 233861419.752}\n"
     ]
    }
   ],
   "source": [
    "predictors = ['PUENTES VEHICULARES UND']\n",
    "target= '8 - ESTRUCTURAS'\n",
    "results[target] = train_brindges_structures_model(df_vp, target, predictors, exclude_codes=['0654801'], use_log_transform=False)\n"
   ]
  },
  {
   "cell_type": "code",
   "execution_count": null,
   "id": "947fafca",
   "metadata": {},
   "outputs": [
    {
     "name": "stdout",
     "output_type": "stream",
     "text": [
      "\n",
      "R² = 0.8340 | MAPE = 9.76%\n"
     ]
    }
   ],
   "source": [
    "target = '9 - TÚNELES'\n",
    "predictors = ['TUNELES UND', 'TUNELES KM']\n",
    "results[target] = train_tunnel_model(df_vp, predictors, target)"
   ]
  },
  {
   "cell_type": "code",
   "execution_count": 89,
   "id": "14082915",
   "metadata": {},
   "outputs": [
    {
     "data": {
      "text/plain": [
       "dict_keys(['1 - TRANSPORTE', '2.1 - INFORMACIÓN GEOGRÁFICA', '2.2 - TRAZADO Y DISEÑO GEOMÉTRICO', '2.3 - SEGURIDAD VIAL', '2.4 - SISTEMAS INTELIGENTES', '5 - TALUDES', '6 - PAVIMENTO', '7 - SOCAVACIÓN', '11 - PREDIAL', '12 - IMPACTO AMBIENTAL', '15 - OTROS - MANEJO DE REDES', '16 - DIRECCIÓN Y COORDINACIÓN', '3 - GEOLOGÍA', '4 - SUELOS', '8 - ESTRUCTURAS', '9 - TÚNELES'])"
      ]
     },
     "execution_count": 89,
     "metadata": {},
     "output_type": "execute_result"
    }
   ],
   "source": [
    "results.keys()"
   ]
  },
  {
   "cell_type": "code",
   "execution_count": null,
   "id": "8e441c79",
   "metadata": {},
   "outputs": [],
   "source": []
  }
 ],
 "metadata": {
  "kernelspec": {
   "display_name": "practicum",
   "language": "python",
   "name": "python3"
  },
  "language_info": {
   "codemirror_mode": {
    "name": "ipython",
    "version": 3
   },
   "file_extension": ".py",
   "mimetype": "text/x-python",
   "name": "python",
   "nbconvert_exporter": "python",
   "pygments_lexer": "ipython3",
   "version": "3.13.5"
  }
 },
 "nbformat": 4,
 "nbformat_minor": 5
}
