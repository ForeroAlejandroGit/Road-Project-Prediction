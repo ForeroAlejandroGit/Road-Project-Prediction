{
 "cells": [
  {
   "cell_type": "code",
   "execution_count": 110,
   "id": "1795d98f",
   "metadata": {},
   "outputs": [
    {
     "name": "stdout",
     "output_type": "stream",
     "text": [
      "The autoreload extension is already loaded. To reload it, use:\n",
      "  %reload_ext autoreload\n"
     ]
    }
   ],
   "source": [
    "import pandas as pd\n",
    "import os\n",
    "import sys\n",
    "import warnings\n",
    "\n",
    "warnings.filterwarnings('ignore')\n",
    "current_dir = os.getcwd()\n",
    "project_root = os.path.dirname(current_dir)\n",
    "sys.path.insert(0, project_root)\n",
    "\n",
    "import src.models_management as models_management\n",
    "\n",
    "%load_ext autoreload\n",
    "%autoreload 2\n",
    "%reload_ext autoreload\n"
   ]
  },
  {
   "cell_type": "code",
   "execution_count": 111,
   "id": "3529b1f0",
   "metadata": {},
   "outputs": [
    {
     "name": "stdout",
     "output_type": "stream",
     "text": [
      "1 - TRANSPORTE\n",
      "  → Warning: Only 2 samples. Skipping outlier detection.\n",
      "{'R2': -3.0, 'MAE': 4643975.471, 'RMSLE': 0.236, 'MAPE%': 23.791}\n",
      "2.1 - INFORMACIÓN GEOGRÁFICA\n",
      "  → Removed 1/10 outliers (10.0%) using ensemble\n",
      "{'R2': 1.0, 'MAE': 199650.365, 'RMSLE': 0.096, 'MAPE%': 5.977}\n",
      "2.2 - TRAZADO Y DISEÑO GEOMÉTRICO\n",
      "  → Removed 5/50 outliers (10.0%) using ensemble\n",
      "{'R2': 0.826, 'MAE': 2270169.486, 'RMSLE': 0.384, 'MAPE%': 22.302}\n",
      "2.3 - SEGURIDAD VIAL\n",
      "  → Removed 4/49 outliers (8.2%) using ensemble\n",
      "{'R2': 0.792, 'MAE': 2511792.659, 'RMSLE': 0.494, 'MAPE%': 35.996}\n",
      "2.4 - SISTEMAS INTELIGENTES\n",
      "  → Removed 5/42 outliers (11.9%) using ensemble\n",
      "{'R2': 0.851, 'MAE': 409025.912, 'RMSLE': 0.127, 'MAPE%': 4.59}\n",
      "5 - TALUDES\n",
      "  → Removed 7/44 outliers (15.9%) using ensemble\n",
      "{'R2': 0.55, 'MAE': 4610935.437, 'RMSLE': 0.617, 'MAPE%': 21.407}\n",
      "6 - PAVIMENTO\n",
      "  → Removed 4/34 outliers (11.8%) using ensemble\n",
      "{'R2': 0.241, 'MAE': 4531609.341, 'RMSLE': 0.652, 'MAPE%': 30.96}\n",
      "7 - SOCAVACIÓN\n",
      "  → Removed 5/50 outliers (10.0%) using ensemble\n",
      "{'R2': 0.919, 'MAE': 3759520.045, 'RMSLE': 0.289, 'MAPE%': 19.058}\n",
      "11 - PREDIAL\n",
      "  → Warning: Only 4 samples. Skipping outlier detection.\n",
      "{'R2': -0.404, 'MAE': 710990.123, 'RMSLE': 0.059, 'MAPE%': 3.892}\n",
      "12 - IMPACTO AMBIENTAL\n",
      "  → Warning: Only 2 samples. Skipping outlier detection.\n",
      "{'R2': -3.0, 'MAE': 117199626.381, 'RMSLE': 4.275, 'MAPE%': 3593.536}\n",
      "15 - OTROS - MANEJO DE REDES\n",
      "  → Removed 4/34 outliers (11.8%) using ensemble\n",
      "{'R2': 0.762, 'MAE': 3693765.648, 'RMSLE': 0.384, 'MAPE%': 20.865}\n",
      "16 - DIRECCIÓN Y COORDINACIÓN\n",
      "  → Removed 7/51 outliers (13.7%) using ensemble\n",
      "{'R2': 0.95, 'MAE': 1516804.865, 'RMSLE': 0.137, 'MAPE%': 6.552}\n",
      "  → Warning: Only 6 samples. Skipping outlier detection.\n",
      "{'Model': 'Linear Regression (Log y)', 'R²': 0.875, 'MAE': 10116313.981, 'RMSE': 14989949.03, 'MAPE (%)': 10.369, 'Median AE': 6998272.538, 'Max Error': 33723872.728}\n",
      "  → Warning: Only 7 samples. Skipping outlier detection.\n",
      "{'Model': 'Model', 'R²': 0.931, 'MAE': 58727741.626, 'RMSE': 75610324.783, 'MAPE (%)': 39.004, 'Median AE': 35176571.996, 'Max Error': 132427513.227}\n",
      "  → Warning: Only 6 samples. Skipping outlier detection.\n",
      "{'Model': 'Model', 'R²': 0.911, 'MAE': 106072066.135, 'RMSE': 124728195.953, 'MAPE (%)': 36.056, 'Median AE': 86741275.295, 'Max Error': 233861419.752}\n",
      "\n",
      "R² = 0.8340 | MAPE = 9.76%\n",
      "  → Warning: Only 2 samples. Skipping outlier detection.\n",
      "Warning: Only 2 samples available. Skipping cross-validation.\n",
      "{'Model': 'Linear Regression', 'R²': 1.0, 'MAE': 0.0, 'RMSE': 0.0, 'MAPE (%)': 0.0, 'Median AE': 0.0, 'Max Error': 0.0}\n",
      "  → Warning: Only 5 samples. Skipping outlier detection.\n",
      "{'Model': 'Ridge', 'R²': 0.995, 'MAE': 1021210.421, 'RMSE': 1153118.706, 'MAPE (%)': 9.334, 'Median AE': 717706.14, 'Max Error': 1739110.278}\n"
     ]
    }
   ],
   "source": [
    "fase='III'\n",
    "mm = models_management.ModelsManagement(fase)\n",
    "df_vp = mm.prepare_data()\n",
    "results = mm.train_models(fase)"
   ]
  },
  {
   "cell_type": "code",
   "execution_count": 114,
   "id": "2b8fc8ae",
   "metadata": {},
   "outputs": [
    {
     "data": {
      "text/plain": [
       "{'1 - TRANSPORTE': np.float64(19610132.344956033),\n",
       " '2.1 - INFORMACIÓN GEOGRÁFICA': np.float64(2035032.058805096),\n",
       " '2.2 - TRAZADO Y DISEÑO GEOMÉTRICO': np.float64(10405955.202575333),\n",
       " '2.3 - SEGURIDAD VIAL': np.float64(6946820.4898230415),\n",
       " '2.4 - SISTEMAS INTELIGENTES': np.float64(10734223.21973443),\n",
       " '5 - TALUDES': np.float64(38589187.37838741),\n",
       " '6 - PAVIMENTO': np.float64(18431058.476881627),\n",
       " '7 - SOCAVACIÓN': np.float64(31644377.735177696),\n",
       " '11 - PREDIAL': np.float64(17771028.32451447),\n",
       " '12 - IMPACTO AMBIENTAL': np.float64(14018200.941858964),\n",
       " '15 - OTROS - MANEJO DE REDES': np.float64(21009620.824282356),\n",
       " '16 - DIRECCIÓN Y COORDINACIÓN': np.float64(55955963.93852372),\n",
       " '3 - GEOLOGÍA': np.float64(23642311.979462545),\n",
       " '4 - SUELOS': np.float64(93408893.55550382),\n",
       " '8 - ESTRUCTURAS': np.float64(300337758.65020764),\n",
       " '9 - TÚNELES': np.float64(6336708.233323069),\n",
       " '10 - URBANISMO Y PAISAJISMO': np.float64(-1538910.2467023134),\n",
       " '13 - CANTIDADES': np.float64(-27619334.07806519)}"
      ]
     },
     "execution_count": 114,
     "metadata": {},
     "output_type": "execute_result"
    }
   ],
   "source": [
    "predictions = mm.predict_fase_III(\n",
    "    codigo='6935',\n",
    "    longitud_km=15.76,\n",
    "    puentes_vehiculares_und=4,\n",
    "    puentes_vehiculares_m2=6292.0,\n",
    "    puentes_peatonales_und=0,\n",
    "    puentes_peatonales_m2=0.0,\n",
    "    tuneles_und=0,\n",
    "    tuneles_km=0.0,\n",
    "    alcance='Segunda calzada',\n",
    "    models=results\n",
    ")\n",
    "\n",
    "predictions\n"
   ]
  },
  {
   "cell_type": "code",
   "execution_count": null,
   "id": "14e0e44a",
   "metadata": {},
   "outputs": [],
   "source": []
  }
 ],
 "metadata": {
  "kernelspec": {
   "display_name": "practicum",
   "language": "python",
   "name": "python3"
  },
  "language_info": {
   "codemirror_mode": {
    "name": "ipython",
    "version": 3
   },
   "file_extension": ".py",
   "mimetype": "text/x-python",
   "name": "python",
   "nbconvert_exporter": "python",
   "pygments_lexer": "ipython3",
   "version": "3.13.5"
  }
 },
 "nbformat": 4,
 "nbformat_minor": 5
}
